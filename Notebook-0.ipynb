{
    "metadata": {
        "kernelspec": {
            "name": "SQL",
            "display_name": "SQL",
            "language": "sql"
        },
        "language_info": {
            "name": "sql",
            "version": ""
        },
        "extensions": {
            "azuredatastudio": {
                "version": 1,
                "views": []
            }
        }
    },
    "nbformat_minor": 2,
    "nbformat": 4,
    "cells": [
        {
            "cell_type": "markdown",
            "source": [
                "# SQL Part 4 Studio\n",
                "\n",
                "For this studio, you will be working in small groups and using the BooksDB.  One group member should screen share while fellow group members code along in their own notebooks.  Each group member will submit a link to their studio notebook.\n",
                "\n",
                "You are back at the bookstore helping employees with their inventory of books.   Four employees need your help with finding books to create in-store displays.  Read their requests and decide if you want to use a correlated subquery, nested subquery, UNION operator, EXCEPT operator, or INTERSECT operator.  You may not use any joins or add multiple statements to the WHERE clause unless explicitly asked."
            ],
            "metadata": {
                "azdata_cell_guid": "3ea3f8a2-b444-4354-be8b-eebc139b3c13"
            },
            "attachments": {}
        },
        {
            "cell_type": "markdown",
            "source": [
                "## QUESTION 1:  Willow\n",
                "\n",
                "Willow wants a list of book titles that have multiple authors attributed to them.  Write a query to return her desired results."
            ],
            "metadata": {
                "azdata_cell_guid": "5c8b1c77-0878-4dc6-8e79-7f64e5e1df0d"
            },
            "attachments": {}
        },
        {
            "cell_type": "code",
            "source": [
                "-- Code here:\r\n",
                "\r\n",
                "USE BooksDB\r\n",
                "SELECT Title, authors --, COUNT(*) AS num_duplicates\r\n",
                "FROM books\r\n",
                "WHERE authors LIKE '%,%'\r\n",
                "ORDER BY authors;\r\n",
                "\r\n",
                "-- this is not using a correlated subquery, or a nested subquery or a union operator, or an except or inersecet. \r\n",
                "-- maybe I did it wrong -- wait for class studio"
            ],
            "metadata": {
                "azdata_cell_guid": "46c76d2f-acbc-4fd2-9c2a-367044fda616",
                "tags": [],
                "language": "sql"
            },
            "outputs": [
                {
                    "output_type": "display_data",
                    "data": {
                        "text/html": "(2079 rows affected)"
                    },
                    "metadata": {}
                },
                {
                    "output_type": "display_data",
                    "data": {
                        "text/html": "Total execution time: 00:00:05.060"
                    },
                    "metadata": {}
                },
                {
                    "output_type": "execute_result",
                    "metadata": {},
                    "execution_count": 56,
                    "data": {
                        "application/vnd.dataresource+json": {
                            "schema": {
                                "fields": [
                                    {
                                        "name": "Title"
                                    },
                                    {
                                        "name": "authors"
                                    }
                                ]
                            },
                            "data": [
                                {
                                    "Title": "Winnie-the-Pooh (Winnie-the-Pooh, #1)",
                                    "authors": "A.A. Milne, Ernest H. Shepard"
                                },
                                {
                                    "Title": "The House at Pooh Corner (Winnie-the-Pooh, #2)",
                                    "authors": "A.A. Milne, Ernest H. Shepard"
                                },
                                {
                                    "Title": "The World of Winnie-the-Pooh (Winnie-the-Pooh, #1-2)",
                                    "authors": "A.A. Milne, Ernest H. Shepard"
                                },
                                {
                                    "Title": "The Complete Tales and Poems of Winnie-the-Pooh (Winnie-the-Pooh, #1-4)",
                                    "authors": "A.A. Milne, Ernest H. Shepard"
                                },
                                {
                                    "Title": "When We Were Very Young (Winnie-the-Pooh, #3)",
                                    "authors": "A.A. Milne, Ernest H. Shepard"
                                },
                                {
                                    "Title": "Now We Are Six (Winnie-the-Pooh, #4)",
                                    "authors": "A.A. Milne, Ernest H. Shepard"
                                },
                                {
                                    "Title": "Sleeping Beauty (Disney Princess, 5)",
                                    "authors": "A.L. Singer, Walt Disney Company"
                                },
                                {
                                    "Title": "The Claiming of Sleeping Beauty (Sleeping Beauty, #1)",
                                    "authors": "A.N. Roquelaure, Anne Rice"
                                },
                                {
                                    "Title": "Beauty's Release (Sleeping Beauty, #3)",
                                    "authors": "A.N. Roquelaure, Anne Rice"
                                },
                                {
                                    "Title": "Beauty's Punishment (Sleeping Beauty, #2)",
                                    "authors": "A.N. Roquelaure, Anne Rice"
                                },
                                {
                                    "Title": "Sleeping Beauty Box Set",
                                    "authors": "A.N. Roquelaure, Anne Rice"
                                },
                                {
                                    "Title": "Wings of Fire: An Autobiography",
                                    "authors": "A.P.J. Abdul Kalam, Arun Tiwari"
                                },
                                {
                                    "Title": "Dangerous Girls",
                                    "authors": "Abigail Haas, Abby McDonald"
                                },
                                {
                                    "Title": "A Higher Call: An Incredible True Story of Combat and Chivalry in the War-Torn Skies of World War II",
                                    "authors": "Adam Makos, Larry Alexander"
                                },
                                {
                                    "Title": "Go the Fuck to Sleep",
                                    "authors": "Adam Mansbach, Ricardo Cortés"
                                },
                                {
                                    "Title": "How to Talk So Kids Will Listen & Listen So Kids Will Talk",
                                    "authors": "Adele Faber, Elaine Mazlish, Kimberly Ann Coe"
                                },
                                {
                                    "Title": "The Invention of Morel",
                                    "authors": "Adolfo Bioy Casares, Suzanne Jill Levine, Jorge Luis Borges, Ruth L.C. Simms, Norah Borges de Torre"
                                },
                                {
                                    "Title": "The Exploits of Sherlock Holmes",
                                    "authors": "Adrian Conan Doyle, John Dickson Carr"
                                },
                                {
                                    "Title": "Agamemnon (Oresteia, #1)",
                                    "authors": "Aeschylus, Judith Affleck, Philip de May, Patricia E. Easterling, John     Harrison"
                                },
                                {
                                    "Title": "The Oresteia  (Ορέστεια, #1-3)",
                                    "authors": "Aeschylus, Robert Fagles, William Bedell Stanford"
                                },
                                {
                                    "Title": "Aesop's Fables",
                                    "authors": "Aesop, Laura Harris, Laura Gibbs"
                                },
                                {
                                    "Title": "One, Two, Buckle My Shoe (Hercule Poirot, #22)",
                                    "authors": "Agatha Christie, Hugh Fraser"
                                },
                                {
                                    "Title": "The Clocks (Hercule Poirot, #34)",
                                    "authors": "Agatha Christie, Robin Bailey"
                                },
                                {
                                    "Title": "The Mysterious Affair at Styles (Hercule Poirot, #1)",
                                    "authors": "Agatha Christie, Ροζίτα Σώκου"
                                },
                                {
                                    "Title": "Reborn! Vol. 01: Reborn Arrives! (Reborn!, #1)",
                                    "authors": "Akira Amano, JN Productions, Frances E. Wall"
                                },
                                {
                                    "Title": "The Three Little Pigs (Disney Classic)",
                                    "authors": "Al Dempster, Milt Banta, Golden Books, Walt Disney Company"
                                },
                                {
                                    "Title": "Hand, Hand, Fingers, Thumb",
                                    "authors": "Al Perkins, Eric Gurney"
                                },
                                {
                                    "Title": "The 22 Immutable Laws of Marketing: Violate Them at Your Own Risk",
                                    "authors": "Al Ries, Jack Trout"
                                },
                                {
                                    "Title": "Positioning: The Battle for Your Mind: How to Be Seen and Heard in the Overcrowded Marketplace",
                                    "authors": "Al Ries, Jack Trout"
                                },
                                {
                                    "Title": "نادي السيارات",
                                    "authors": "Alaa Al Aswany, علاء الأسواني"
                                },
                                {
                                    "Title": "The Yacoubian Building",
                                    "authors": "Alaa Al Aswany, علاء الأسواني"
                                },
                                {
                                    "Title": "شيكاجو",
                                    "authors": "Alaa Al Aswany, علاء الأسواني"
                                },
                                {
                                    "Title": "Hello, Cupcake",
                                    "authors": "Alan    Richardson, Karen Tack"
                                },
                                {
                                    "Title": "A New Hope  (Star Wars: Novelizations #4)",
                                    "authors": "Alan Dean Foster, George Lucas"
                                },
                                {
                                    "Title": "The Force Awakens (Star Wars)",
                                    "authors": "Alan Dean Foster, Lawrence Kasdan, J.J. Abrams, Michael Arndt"
                                },
                                {
                                    "Title": "The Lord of the Rings Sketchbook",
                                    "authors": "Alan Lee, Ian McKellen"
                                },
                                {
                                    "Title": "Batman: The Killing Joke",
                                    "authors": "Alan Moore, Brian Bolland, Tim Sale"
                                },
                                {
                                    "Title": "Superman: Whatever Happened to the Man of Tomorrow?",
                                    "authors": "Alan Moore, Curt Swan, George Pérez, Kurt Schaffenberger"
                                },
                                {
                                    "Title": "Watchmen",
                                    "authors": "Alan Moore, Dave Gibbons, John Higgins"
                                },
                                {
                                    "Title": "V for Vendetta",
                                    "authors": "Alan Moore, David   Lloyd"
                                },
                                {
                                    "Title": "From Hell",
                                    "authors": "Alan Moore, Eddie Campbell, Pete Mullins"
                                },
                                {
                                    "Title": "The League of Extraordinary Gentlemen, Vol. 1",
                                    "authors": "Alan Moore, Kevin O'Neill"
                                },
                                {
                                    "Title": "The League of Extraordinary Gentlemen, Vol. 2",
                                    "authors": "Alan Moore, Kevin O'Neill"
                                },
                                {
                                    "Title": "Swamp Thing, Vol. 1: Saga of the Swamp Thing",
                                    "authors": "Alan Moore, Stephen R. Bissette, John Totleben, Rick Veitch, Ramsey Campbell"
                                },
                                {
                                    "Title": "The Myth of Sisyphus and Other Essays",
                                    "authors": "Albert Camus, Justin O'Brien"
                                },
                                {
                                    "Title": "The Fall",
                                    "authors": "Albert Camus, Justin O'Brien"
                                },
                                {
                                    "Title": "The Stranger",
                                    "authors": "Albert Camus, Matthew    Ward"
                                },
                                {
                                    "Title": "The Plague",
                                    "authors": "Albert Camus, Stuart Gilbert"
                                },
                                {
                                    "Title": "Relativity: The Special and the General Theory",
                                    "authors": "Albert Einstein, Nigel Calder, Robert W. Lawson"
                                },
                                {
                                    "Title": "Brave New World / Brave New World Revisited",
                                    "authors": "Aldous Huxley, Christopher Hitchens"
                                },
                                {
                                    "Title": "Горе от ума",
                                    "authors": "Aleksandr Griboyedov, Александр Сергеевич Грибоедов"
                                },
                                {
                                    "Title": "The Gulag Archipelago 1918-1956",
                                    "authors": "Aleksandr Solzhenitsyn, Edward E. Ericson Jr."
                                },
                                {
                                    "Title": "One Day in the Life of Ivan Denisovich",
                                    "authors": "Aleksandr Solzhenitsyn, H.T. Willetts"
                                },
                                {
                                    "Title": "The Federalist Papers",
                                    "authors": "Alexander Hamilton, James Madison, John Jay, Philo-Publius, Clinton Rossiter, Charles R. Kessler"
                                },
                                {
                                    "Title": "Business Model Generation",
                                    "authors": "Alexander Osterwalder, Yves Pigneur"
                                },
                                {
                                    "Title": "Eugene Onegin",
                                    "authors": "Alexander Pushkin, James E. Falen"
                                },
                                {
                                    "Title": "La Dame aux Camélias",
                                    "authors": "Alexandre Dumas fils, David Coward"
                                },
                                {
                                    "Title": "Twenty Years After (The D'Artagnan Romances, #2)",
                                    "authors": "Alexandre Dumas, David Coward, Auguste Maquet"
                                },
                                {
                                    "Title": "The Man in the Iron Mask (The D'Artagnan Romances, #3.3)",
                                    "authors": "Alexandre Dumas, Francine du Plessix Gray, Joachim Neugroschel"
                                },
                                {
                                    "Title": "The Count of Monte Cristo",
                                    "authors": "Alexandre Dumas, Robin Buss"
                                },
                                {
                                    "Title": "Democracy in America ",
                                    "authors": "Alexis de Tocqueville, Isaac Kramnick, Gerald Bevan"
                                },
                                {
                                    "Title": "The Stars My Destination",
                                    "authors": "Alfred Bester, Neil Gaiman"
                                },
                                {
                                    "Title": "The Lady of Shalott",
                                    "authors": "Alfred Tennyson, Charles Keeping"
                                },
                                {
                                    "Title": "My Life with the Walter Boys (My Life with the Walter Boys #1)",
                                    "authors": "Ali Novak, Fallzswimmer"
                                },
                                {
                                    "Title": "The Drama of the Gifted Child: The Search for the True Self",
                                    "authors": "Alice  Miller, Ruth Ward"
                                },
                                {
                                    "Title": "The Sandman: King of Dreams",
                                    "authors": "Alisa Kwitney, Neil Gaiman"
                                },
                                {
                                    "Title": "The Dirty Girls Social Club (Dirty Girls, #1)",
                                    "authors": "Alisa Valdes, Alisa Valdes-Rodriguez"
                                },
                                {
                                    "Title": "Where Eagles Dare ",
                                    "authors": "Alistair MacLean, Clint Willis"
                                },
                                {
                                    "Title": "The Definitive Book of Body Language",
                                    "authors": "Allan Pease, Barbara Pease"
                                },
                                {
                                    "Title": "Howl and Other Poems",
                                    "authors": "Allen Ginsberg, William Carlos Williams"
                                },
                                {
                                    "Title": "Scary Stories to Tell in the Dark (Scary Stories, #1)",
                                    "authors": "Alvin Schwartz, Stephen Gammell"
                                },
                                {
                                    "Title": "Hope: A Memoir of Survival in Cleveland",
                                    "authors": "Amanda Berry, Gina DeJesus, Mary Jordan, Kevin Sullivan"
                                },
                                {
                                    "Title": "A House in the Sky",
                                    "authors": "Amanda Lindhout, Sara Corbett"
                                },
                                {
                                    "Title": "The America's Test Kitchen Family Cookbook",
                                    "authors": "America's Test Kitchen, Carl Tremblay, Daniel J. Van Ackere"
                                },
                                {
                                    "Title": "Illuminae (The Illuminae Files, #1)",
                                    "authors": "Amie Kaufman, Jay Kristoff"
                                },
                                {
                                    "Title": "Gemina (The Illuminae Files, #2)",
                                    "authors": "Amie Kaufman, Jay Kristoff, Marie Lu"
                                },
                                {
                                    "Title": "These Broken Stars (Starbound, #1)",
                                    "authors": "Amie Kaufman, Meagan Spooner"
                                },
                                {
                                    "Title": "Samarkand",
                                    "authors": "Amin Maalouf, Russell Harris"
                                },
                                {
                                    "Title": "The Art of Amy Brown",
                                    "authors": "Amy Brown, Charles  de Lint"
                                },
                                {
                                    "Title": "Take This Regret (Take This Regret, #1)",
                                    "authors": "Amy Lichtenhan, A.L. Jackson"
                                },
                                {
                                    "Title": "The Climb: Tragic Ambitions on Everest",
                                    "authors": "Anatoli Boukreev, G. Weston DeWalt"
                                },
                                {
                                    "Title": "The Rainbow Comes and Goes: A Mother and Son On Life, Love, and Loss",
                                    "authors": "Anderson Cooper, Gloria Vanderbilt"
                                },
                                {
                                    "Title": "Open",
                                    "authors": "Andre Agassi, J.R. Moehringer"
                                },
                                {
                                    "Title": "The Elvenbane (Halfblood Chronicles, #1)",
                                    "authors": "Andre Norton, Mercedes Lackey"
                                },
                                {
                                    "Title": "Frindle",
                                    "authors": "Andrew Clements, Brian Selznick"
                                },
                                {
                                    "Title": "The Pragmatic Programmer: From Journeyman to Master",
                                    "authors": "Andrew Hunt, Dave Thomas"
                                },
                                {
                                    "Title": "Finding Nemo",
                                    "authors": "Andrew Stanton, Walt Disney Company"
                                },
                                {
                                    "Title": "Harry Potter: A Pop-Up Book: Based on the Film Phenomenon",
                                    "authors": "Andrew Williamson, Andrew Williamson"
                                },
                                {
                                    "Title": "The Tale of Three Trees",
                                    "authors": "Angela Elwell Hunt, Tim Jonke"
                                },
                                {
                                    "Title": "Darke (Septimus Heap, #6)",
                                    "authors": "Angie Sage, Mark Zug"
                                },
                                {
                                    "Title": "Queste (Septimus Heap, #4)",
                                    "authors": "Angie Sage, Mark Zug"
                                },
                                {
                                    "Title": "Flyte (Septimus Heap, #2)",
                                    "authors": "Angie Sage, Mark Zug"
                                },
                                {
                                    "Title": "Physik (Septimus Heap, #3)",
                                    "authors": "Angie Sage, Mark Zug"
                                },
                                {
                                    "Title": "Stone Soup",
                                    "authors": "Ann McGovern, Winslow Pinney Pels, Winslow Pinn, Ey Pels"
                                },
                                {
                                    "Title": "Hunting and Gathering",
                                    "authors": "Anna Gavalda, Alison Anderson"
                                },
                                {
                                    "Title": "Agnes Grey",
                                    "authors": "Anne Brontë, Angeline Goreau"
                                },
                                {
                                    "Title": "The Tenant of Wildfell Hall",
                                    "authors": "Anne Brontë, Stevie Davies"
                                },
                                {
                                    "Title": "The Cake Mix Doctor",
                                    "authors": "Anne Byrn, Anthony Loew"
                                },
                                {
                                    "Title": "The Diary of a Young Girl",
                                    "authors": "Anne Frank, Eleanor Roosevelt, B.M. Mooyaart-Doubleday"
                                },
                                {
                                    "Title": "Anne Frank's Tales from the Secret Annex",
                                    "authors": "Anne Frank, Susan Massotty"
                                },
                                {
                                    "Title": "Some Assembly Required: A Journal of My Son's First Son",
                                    "authors": "Anne Lamott, Sam Lamott"
                                },
                                {
                                    "Title": "Dragonflight (Dragonriders of Pern, #1)",
                                    "authors": "Anne McCaffrey, Teodor Panasiński"
                                },
                                {
                                    "Title": "Exit to Eden",
                                    "authors": "Anne Rampling, Anne Rice"
                                },
                                {
                                    "Title": "Belinda",
                                    "authors": "Anne Rice, Anne Rampling"
                                },
                                {
                                    "Title": "Vampire Chronicles: Interview with the Vampire, The Vampire Lestat, The Queen of the Damned (Anne Rice)",
                                    "authors": "Anne Rice, Robert O'Keefe, F. Murray Abraham, Michael York, Kate Nelligan, David Purdham"
                                },
                                {
                                    "Title": "Taltos (Lives of the Mayfair Witches, #3)",
                                    "authors": "Anne Rice, Tim Curry"
                                },
                                {
                                    "Title": "The Complete Poems",
                                    "authors": "Anne Sexton, Maxine Kumin"
                                },
                                {
                                    "Title": "The Accidental Tourist",
                                    "authors": "Anne Tyler, Jennifer Bassett"
                                },
                                {
                                    "Title": "Night World: The Ultimate Fan Guide",
                                    "authors": "Annette Pollert, L.J. Smith"
                                },
                                {
                                    "Title": "The Dhammapada",
                                    "authors": "Anonymous, Ananda Maitreya, Thich Nhat Hanh, Balangoda Ananda Maitreya Maitreya"
                                },
                                {
                                    "Title": "The Book of Mormon: Another Testament of Jesus Christ",
                                    "authors": "Anonymous, Joseph Smith Jr."
                                },
                                {
                                    "Title": "The Upanishads: Translations from the Sanskrit",
                                    "authors": "Anonymous, Juan Mascaró"
                                },
                                {
                                    "Title": "ESV Study Bible",
                                    "authors": "Anonymous, Lane T. Dennis, Wayne A. Grudem"
                                },
                                {
                                    "Title": "The Epic of Gilgamesh",
                                    "authors": "Anonymous, N.K. Sandars"
                                },
                                {
                                    "Title": "The Arabian Nights",
                                    "authors": "Anonymous, Richard Francis Burton, A.S. Byatt"
                                },
                                {
                                    "Title": "The I Ching or Book of Changes",
                                    "authors": "Anonymous, Richard Wilhelm, Cary F. Baynes, C.G. Jung"
                                },
                                {
                                    "Title": "Life Application Study Bible: NIV",
                                    "authors": "Anonymous, Ronald A. Beers, Ronald A. Beers"
                                },
                                {
                                    "Title": "Scar Tissue",
                                    "authors": "Anthony Kiedis, Larry Sloman"
                                },
                                {
                                    "Title": "Unlimited Power : The New Science Of Personal Achievement",
                                    "authors": "Anthony Robbins, Kenneth H. Blanchard, Jason Winters"
                                },
                                {
                                    "Title": "Awaken the Giant Within: How to Take Immediate Control of Your Mental, Emotional, Physical and Financial Destiny!",
                                    "authors": "Anthony Robbins, Tony Robbins, Frederick L. Covan"
                                },
                                {
                                    "Title": "The Little Prince",
                                    "authors": "Antoine de Saint-Exupéry, Richard Howard, Dom Marcos Barbosa, Melina Karakosta"
                                },
                                {
                                    "Title": "The Seagull",
                                    "authors": "Anton Chekhov, Michael Frayn"
                                },
                                {
                                    "Title": "The Complete Short Novels",
                                    "authors": "Anton Chekhov, Richard Pevear, Larissa Volokhonsky"
                                },
                                {
                                    "Title": "Selected Stories",
                                    "authors": "Anton Chekhov, Richard Pevear, Larissa Volokhonsky"
                                },
                                {
                                    "Title": "The Cherry Orchard",
                                    "authors": "Anton Chekhov, Tom    Murphy"
                                },
                                {
                                    "Title": "Katherine",
                                    "authors": "Anya Seton, Philippa Gregory"
                                },
                                {
                                    "Title": "Logicomix: An epic search for truth",
                                    "authors": "Apostolos Doxiadis, Christos H. Papadimitriou, Alecos Papadatos, Annie Di Donna"
                                },
                                {
                                    "Title": "Full Moon o Sagashite, Vol. 1",
                                    "authors": "Arina Tanemura, Tomo Kimura"
                                },
                                {
                                    "Title": "Lysistrata",
                                    "authors": "Aristophanes, Sarah Ruden"
                                },
                                {
                                    "Title": "The Nicomachean Ethics",
                                    "authors": "Aristotle, J.A.K. Thomson, Jonathan Barnes, Hugh Tredennick"
                                },
                                {
                                    "Title": "Metaphysics",
                                    "authors": "Aristotle, Joe Sachs"
                                },
                                {
                                    "Title": "Poetics",
                                    "authors": "Aristotle, Malcolm Heath"
                                },
                                {
                                    "Title": "Roadside Picnic",
                                    "authors": "Arkady Strugatsky, Boris Strugatsky, Antonina W. Bouis, Antonina W. Bouis, Theodore Sturgeon"
                                },
                                {
                                    "Title": "Tikki Tikki Tembo",
                                    "authors": "Arlene Mosel, Blair Lent"
                                },
                                {
                                    "Title": "Silence of the Grave (Inspector Erlendur #4)",
                                    "authors": "Arnaldur Indriðason, Bernard Scudder"
                                },
                                {
                                    "Title": "Jar City (Inspector Erlendur, #3)",
                                    "authors": "Arnaldur Indriðason, Bernard Scudder"
                                },
                                {
                                    "Title": "Rama II (Rama, #2)",
                                    "authors": "Arthur C. Clarke, Gentry Lee"
                                },
                                {
                                    "Title": "The Garden of Rama (Rama, #3)",
                                    "authors": "Arthur C. Clarke, Gentry Lee"
                                },
                                {
                                    "Title": "Rama Revealed (Rama, #4)",
                                    "authors": "Arthur C. Clarke, Gentry Lee"
                                },
                                {
                                    "Title": "The Hound of the Baskervilles",
                                    "authors": "Arthur Conan Doyle, Anne Perry"
                                },
                                {
                                    "Title": "The Valley of Fear",
                                    "authors": "Arthur Conan Doyle, David Timson"
                                },
                                {
                                    "Title": "The Complete Sherlock Holmes, Vol 2",
                                    "authors": "Arthur Conan Doyle, Kyle Freeman"
                                },
                                {
                                    "Title": "The Sign of Four",
                                    "authors": "Arthur Conan Doyle, Peter Ackroyd, Ed Glinert"
                                },
                                {
                                    "Title": "The Annotated Sherlock Holmes: The Four Novels and the Fifty-Six Short Stories Complete (2 Volume Set)",
                                    "authors": "Arthur Conan Doyle, William S. Baring-Gould"
                                },
                                {
                                    "Title": "Darkness at Noon",
                                    "authors": "Arthur Koestler, Daphne Hardy"
                                },
                                {
                                    "Title": "All My Sons",
                                    "authors": "Arthur Miller, Christopher Bigsby"
                                },
                                {
                                    "Title": "The Crucible",
                                    "authors": "Arthur Miller, Christopher Bigsby"
                                },
                                {
                                    "Title": "The Flanders Panel",
                                    "authors": "Arturo Pérez-Reverte, Margaret Jull Costa"
                                },
                                {
                                    "Title": "The Club Dumas",
                                    "authors": "Arturo Pérez-Reverte, Sonia Soto"
                                },
                                {
                                    "Title": "The Bookseller of Kabul",
                                    "authors": "Åsne Seierstad, Ingrid Christopherson"
                                },
                                {
                                    "Title": "Assata: An Autobiography",
                                    "authors": "Assata Shakur, Angela Y. Davis, Lennox S. Hinds"
                                },
                                {
                                    "Title": "Pippi in the South Seas",
                                    "authors": "Astrid Lindgren, Gerry Bothmer"
                                },
                                {
                                    "Title": "The Brothers Lionheart",
                                    "authors": "Astrid Lindgren, Ilon Wikland, Jill M. Morgan"
                                },
                                {
                                    "Title": "Pippi Longstocking",
                                    "authors": "Astrid Lindgren, Lauren Child, Florence Lamborn, Nancy Seligsohn"
                                },
                                {
                                    "Title": "Ronia, the Robber's Daughter",
                                    "authors": "Astrid Lindgren, Patricia Crampton, Trina Schart Hyman"
                                },
                                {
                                    "Title": "Complications: A Surgeon's Notes on an Imperfect Science",
                                    "authors": "Atul Gawande, Susanne Kuhlmann-Krieg"
                                },
                                {
                                    "Title": "The Kissing Hand",
                                    "authors": "Audrey Penn, Ruth E. Harper, Nancy M. Leak"
                                },
                                {
                                    "Title": "The Napping House",
                                    "authors": "Audrey Wood, Don    Wood"
                                },
                                {
                                    "Title": "Confessions",
                                    "authors": "Augustine of Hippo, Henry Chadwick, Albert Cook Outler"
                                },
                                {
                                    "Title": "All My Friends Are Dead",
                                    "authors": "Avery Monsen, Jory John"
                                },
                                {
                                    "Title": "Love★Com, Vol. 1",
                                    "authors": "Aya Nakahara, Pookie Rolf"
                                },
                                {
                                    "Title": "We the Living",
                                    "authors": "Ayn Rand, Leonard Peikoff"
                                },
                                {
                                    "Title": "Atlas Shrugged",
                                    "authors": "Ayn Rand, Leonard Peikoff"
                                },
                                {
                                    "Title": "The Fountainhead",
                                    "authors": "Ayn Rand, Leonard Peikoff"
                                },
                                {
                                    "Title": "The Virtue of Selfishness: A New Concept of Egoism",
                                    "authors": "Ayn Rand, Nathaniel Branden"
                                },
                                {
                                    "Title": "Last Train to Istanbul",
                                    "authors": "Ayşe Kulin, John W. Baker"
                                },
                                {
                                    "Title": "Modern Romance",
                                    "authors": "Aziz Ansari, Eric Klinenberg"
                                },
                                {
                                    "Title": "Kitchen",
                                    "authors": "Banana Yoshimoto, Megan Backus"
                                },
                                {
                                    "Title": "Hands Of Light",
                                    "authors": "Barbara Ann Brennan, Jos. A. Smith"
                                },
                                {
                                    "Title": "Animal, Vegetable, Miracle: A Year of Food Life",
                                    "authors": "Barbara Kingsolver, Steven L. Hopp, Camille Kingsolver, Richard A. Houser"
                                },
                                {
                                    "Title": "Junie B. Jones and the  Stupid Smelly Bus (Junie B. Jones, #1)",
                                    "authors": "Barbara Park, Denise Brunkus"
                                },
                                {
                                    "Title": "Rudolph the Red-Nosed Reindeer",
                                    "authors": "Barbara Shook Hazen, Robert Lewis May, Richard Scarry"
                                },
                                {
                                    "Title": "The Guns of August",
                                    "authors": "Barbara W. Tuchman, Robert K. Massie"
                                },
                                {
                                    "Title": "Ethics",
                                    "authors": "Baruch Spinoza, Edwin M. Curley, Stuart Hampshire, Edwin Curley"
                                },
                                {
                                    "Title": "Go Ask Alice",
                                    "authors": "Beatrice Sparks, Anonymous"
                                },
                                {
                                    "Title": "The Hedge Knight (The Hedge Knight Graphic Novels, #1)",
                                    "authors": "Ben Avery, Mike S. Miller, George R.R. Martin"
                                },
                                {
                                    "Title": "Gifted Hands: The Ben Carson Story",
                                    "authors": "Ben Carson, Cecil Murphey"
                                },
                                {
                                    "Title": "Mrs. Mike (Mrs. Mike, #1)",
                                    "authors": "Benedict Freedman, Nancy Freedman"
                                },
                                {
                                    "Title": "The Autobiography of Benjamin Franklin",
                                    "authors": "Benjamin Franklin, Lewis Leary"
                                },
                                {
                                    "Title": "The Intelligent Investor (Collins Business Essentials)",
                                    "authors": "Benjamin Graham, Jason Zweig, Warren Buffett"
                                },
                                {
                                    "Title": "The Tao of Pooh",
                                    "authors": "Benjamin Hoff, Ernest H. Shepard"
                                },
                                {
                                    "Title": "I Love You Through and Through",
                                    "authors": "Bernadette Rossetti-Shustak, Caroline Jayne Church"
                                },
                                {
                                    "Title": "The Reader",
                                    "authors": "Bernhard Schlink, Carol Brown Janeway"
                                },
                                {
                                    "Title": "Mother Courage and Her Children",
                                    "authors": "Bertolt Brecht, David Hare"
                                },
                                {
                                    "Title": "Why I Am Not a Christian and Other Essays on Religion and Related Subjects",
                                    "authors": "Bertrand Russell, Paul  Edwards"
                                },
                                {
                                    "Title": "Saving CeeCee Honeycutt",
                                    "authors": "Beth Hoffman, Jenna Lamia"
                                },
                                {
                                    "Title": "The Smartest Guys in the Room: The Amazing Rise and Scandalous Fall of Enron",
                                    "authors": "Bethany McLean, Peter Elkind"
                                },
                                {
                                    "Title": "The Feminine Mystique",
                                    "authors": "Betty Friedan, Anna Quindlen"
                                },
                                {
                                    "Title": "Mrs. Piggle-Wiggle's Magic (Mrs. Piggle Wiggle, #2)",
                                    "authors": "Betty MacDonald, Alexandra Boiger"
                                },
                                {
                                    "Title": "Hello, Mrs. Piggle-Wiggle (Mrs. Piggle Wiggle, #4)",
                                    "authors": "Betty MacDonald, Alexandra Boiger"
                                },
                                {
                                    "Title": "Mrs. Piggle-Wiggle (Mrs. Piggle Wiggle, #1)",
                                    "authors": "Betty MacDonald, Alexandra Boiger"
                                },
                                {
                                    "Title": "Ramona the Brave (Ramona, #3)",
                                    "authors": "Beverly Cleary, Alan Tiegreen"
                                },
                                {
                                    "Title": "Ramona and Her Father (Ramona, #4)",
                                    "authors": "Beverly Cleary, Alan Tiegreen"
                                },
                                {
                                    "Title": "The Mouse and the Motorcycle (Ralph S. Mouse, #1)",
                                    "authors": "Beverly Cleary, Louis Darling, Tracy Dockray"
                                },
                                {
                                    "Title": "Dear Mr. Henshaw (Leigh Botts, #1)",
                                    "authors": "Beverly Cleary, Paul O. Zelinsky"
                                },
                                {
                                    "Title": "Henry Huggins (Henry Huggins, #1)",
                                    "authors": "Beverly Cleary, Tracy Dockray"
                                },
                                {
                                    "Title": "Empty Mansions: The Mysterious Life of Huguette Clark and the Spending of a Great American Fortune",
                                    "authors": "Bill Dedman, Paul Clark Newell Jr."
                                },
                                {
                                    "Title": "The Batman Chronicles, Vol. 1",
                                    "authors": "Bill Finger, Gardner F. Fox, Bob Kane, Jerry Robinson, Sheldon Moldoff"
                                },
                                {
                                    "Title": "Too Busy Not to Pray: Slowing Down to Be With God",
                                    "authors": "Bill Hybels, Lavonne Neff"
                                },
                                {
                                    "Title": "Panda Bear, Panda Bear, What Do You See?",
                                    "authors": "Bill Martin Jr., Eric Carle"
                                },
                                {
                                    "Title": "Polar Bear, Polar Bear, What Do You Hear?",
                                    "authors": "Bill Martin Jr., Eric Carle"
                                },
                                {
                                    "Title": "Brown Bear, Brown Bear, What Do You See?",
                                    "authors": "Bill Martin Jr., Eric Carle"
                                },
                                {
                                    "Title": "Chicka Chicka Boom Boom",
                                    "authors": "Bill Martin Jr., John Archambault, Lois Ehlert"
                                },
                                {
                                    "Title": "Killing Kennedy: The End of Camelot",
                                    "authors": "Bill O'Reilly, Martin Dugard"
                                },
                                {
                                    "Title": "Killing Lincoln: The Shocking Assassination that Changed America Forever",
                                    "authors": "Bill O'Reilly, Martin Dugard"
                                },
                                {
                                    "Title": "Killing Jesus: A History",
                                    "authors": "Bill O'Reilly, Martin Dugard"
                                },
                                {
                                    "Title": "Killing Reagan: The Violent Assault That Changed a Presidency",
                                    "authors": "Bill O'Reilly, Martin Dugard"
                                },
                                {
                                    "Title": "Killing Patton: The Strange Death of World War II's Most Audacious General",
                                    "authors": "Bill O'Reilly, Martin Dugard"
                                },
                                {
                                    "Title": "Calvin and Hobbes",
                                    "authors": "Bill Watterson, G.B. Trudeau"
                                },
                                {
                                    "Title": "Fables, Vol. 1: Legends in Exile",
                                    "authors": "Bill Willingham, Lan Medina, Steve Leialoha, Craig Hamilton, James Jean"
                                },
                                {
                                    "Title": "Fables, Vol. 4: March of the Wooden Soldiers",
                                    "authors": "Bill Willingham, Mark Buckingham, Craig Hamilton, Steve Leialoha, P. Craig Russell"
                                },
                                {
                                    "Title": "Fables, Vol. 6: Homelands",
                                    "authors": "Bill Willingham, Mark Buckingham, David Hahn, Steve Leialoha"
                                },
                                {
                                    "Title": "Fables, Vol. 10: The Good Prince",
                                    "authors": "Bill Willingham, Mark Buckingham, Steve Leialoha, Aaron Alexovich, Andrew Pepoy"
                                },
                                {
                                    "Title": "Fables, Vol. 9: Sons of Empire",
                                    "authors": "Bill Willingham, Mark Buckingham, Steve Leialoha, Andrew Pepoy, Gene Ha, Joshua Middleton, Iñaki Miranda, Mike Allred"
                                },
                                {
                                    "Title": "Fables, Vol. 2: Animal Farm",
                                    "authors": "Bill Willingham, Mark Buckingham, Steve Leialoha, James Jean"
                                },
                                {
                                    "Title": "Fables, Vol. 3: Storybook Love",
                                    "authors": "Bill Willingham, Mark Buckingham, Steve Leialoha, James Jean"
                                },
                                {
                                    "Title": "Fables, Vol. 7: Arabian Nights [and Days] (Fables, #7)",
                                    "authors": "Bill Willingham, Mark Buckingham, Steve Leialoha, Jim Fern, Jimmy Palmiotti, Andrew Pepoy"
                                },
                                {
                                    "Title": "Fables, Vol. 8: Wolves",
                                    "authors": "Bill Willingham, Mark Buckingham, Steve Leialoha, Shawn McManus, Andrew Pepoy"
                                },
                                {
                                    "Title": "Fables, Vol. 5: The Mean Seasons",
                                    "authors": "Bill Willingham, Mark Buckingham, Steve Leialoha, Tony Akins, Jimmy Palmiotti"
                                },
                                {
                                    "Title": "Black Elk Speaks: Being the Life Story of a Holy Man of the Oglala Sioux",
                                    "authors": "Black Elk, John G. Neihardt"
                                },
                                {
                                    "Title": "Chasing Vermeer (Chasing Vermeer, #1)",
                                    "authors": "Blue Balliett, Brett Helquist"
                                },
                                {
                                    "Title": "The Legend of Sleepy Hollow (Graphic Novel)",
                                    "authors": "Bo Hampton, Tracey Hampton, Washington Irving"
                                },
                                {
                                    "Title": "Batman: No Man's Land, Vol. 1",
                                    "authors": "Bob Gale, Devin Grayson, Alex Maleev, Dale Eaglesham"
                                },
                                {
                                    "Title": "Up from Slavery",
                                    "authors": "Booker T. Washington, Ishmael Reed"
                                },
                                {
                                    "Title": "Doctor Zhivago",
                                    "authors": "Boris Pasternak, Max Hayward, Manya Harari, John Bayley"
                                },
                                {
                                    "Title": "Identity Crisis",
                                    "authors": "Brad Meltzer, Rags Morales, Michael Bair, Joss Whedon"
                                },
                                {
                                    "Title": "Dracula",
                                    "authors": "Bram Stoker, Nina Auerbach, David J. Skal"
                                },
                                {
                                    "Title": "Skin Deep (Legion, #2)",
                                    "authors": "Brandon Sanderson, Jon Foster"
                                },
                                {
                                    "Title": "The Ragamuffin Gospel: Good News for the Bedraggled, Beat-Up, and Burnt Out",
                                    "authors": "Brennan Manning, Michael W. Smith, Rich Mullins"
                                },
                                {
                                    "Title": "Wonder Woman, Volume 1: Blood",
                                    "authors": "Brian Azzarello, Cliff Chiang, Tony Akins, Dan Green, Matthew Wilson, Jared K. Fletcher"
                                },
                                {
                                    "Title": "100 Bullets, Vol. 1: First Shot, Last Call",
                                    "authors": "Brian Azzarello, Eduardo Risso"
                                },
                                {
                                    "Title": "The Joker",
                                    "authors": "Brian Azzarello, Lee Bermejo"
                                },
                                {
                                    "Title": "The Face of Fear",
                                    "authors": "Brian Coffey, Dean Koontz"
                                },
                                {
                                    "Title": "The Voice of the Night",
                                    "authors": "Brian Coffey, Dean Koontz"
                                },
                                {
                                    "Title": "Faeries",
                                    "authors": "Brian Froud, Alan Lee"
                                },
                                {
                                    "Title": "Good Faeries/Bad Faeries",
                                    "authors": "Brian Froud, Terry Windling"
                                },
                                {
                                    "Title": "The Machine Crusade (Legends of Dune, #2)",
                                    "authors": "Brian Herbert, Kevin J. Anderson"
                                },
                                {
                                    "Title": "House Corrino (Prelude to Dune #3)",
                                    "authors": "Brian Herbert, Kevin J. Anderson"
                                },
                                {
                                    "Title": "Hunters of Dune (Dune Chronicles #7)",
                                    "authors": "Brian Herbert, Kevin J. Anderson"
                                },
                                {
                                    "Title": "House Harkonnen (Prelude to Dune #2)",
                                    "authors": "Brian Herbert, Kevin J. Anderson"
                                },
                                {
                                    "Title": "The Butlerian Jihad (Legends of Dune, #1)",
                                    "authors": "Brian Herbert, Kevin J. Anderson"
                                },
                                {
                                    "Title": "House Atreides (Prelude to Dune #1)",
                                    "authors": "Brian Herbert, Kevin J. Anderson"
                                },
                                {
                                    "Title": "The Long Patrol (Redwall, #10)",
                                    "authors": "Brian Jacques, Allan Curless"
                                },
                                {
                                    "Title": "Mariel of Redwall (Redwall, #4)",
                                    "authors": "Brian Jacques, Gary Chalk"
                                },
                                {
                                    "Title": "Salamandastron (Redwall, #5)",
                                    "authors": "Brian Jacques, Gary Chalk"
                                },
                                {
                                    "Title": "Runaways, Vol. 1: Pride and Joy (Runaways, #1)",
                                    "authors": "Brian K. Vaughan, Adrian Alphona"
                                },
                                {
                                    "Title": "Paper Girls, Vol. 1 (Paper Girls, #1)",
                                    "authors": "Brian K. Vaughan, Cliff Chiang, Matthew Wilson"
                                },
                                {
                                    "Title": "Saga, Vol. 6 (Saga, #6)",
                                    "authors": "Brian K. Vaughan, Fiona Staples"
                                },
                                {
                                    "Title": "Saga, Vol. 5 (Saga, #5)",
                                    "authors": "Brian K. Vaughan, Fiona Staples"
                                },
                                {
                                    "Title": "Saga, Vol. 4 (Saga, #4)",
                                    "authors": "Brian K. Vaughan, Fiona Staples"
                                },
                                {
                                    "Title": "Saga, Vol. 3 (Saga, #3)",
                                    "authors": "Brian K. Vaughan, Fiona Staples"
                                },
                                {
                                    "Title": "Saga, Vol. 2 (Saga, #2)",
                                    "authors": "Brian K. Vaughan, Fiona Staples"
                                },
                                {
                                    "Title": "Saga #1",
                                    "authors": "Brian K. Vaughan, Fiona Staples"
                                },
                                {
                                    "Title": "Saga, Vol. 1 (Saga, #1)",
                                    "authors": "Brian K. Vaughan, Fiona Staples"
                                },
                                {
                                    "Title": "Pride of Baghdad",
                                    "authors": "Brian K. Vaughan, Niko Henrichon"
                                },
                                {
                                    "Title": "Y: The Last Man, Vol. 4: Safeword (Y: The Last Man, #4)",
                                    "authors": "Brian K. Vaughan, Pia Guerra, Goran Parlov, José Marzán Jr."
                                },
                                {
                                    "Title": "Y: The Last Man, Vol. 7: Paper Dolls (Y: The Last Man, #7)",
                                    "authors": "Brian K. Vaughan, Pia Guerra, Goran Sudžuka, José Marzán Jr."
                                },
                                {
                                    "Title": "Y: The Last Man, Vol. 9: Motherland (Y: The Last Man, #9)",
                                    "authors": "Brian K. Vaughan, Pia Guerra, Goran Sudžuka, José Marzán Jr."
                                },
                                {
                                    "Title": "Y: The Last Man, Vol. 8: Kimono Dragons (Y: The Last Man, #8)",
                                    "authors": "Brian K. Vaughan, Pia Guerra, Goran Sudžuka, José Marzán Jr."
                                },
                                {
                                    "Title": "Y: The Last Man, Vol. 6: Girl on Girl (Y: The Last Man, #6)",
                                    "authors": "Brian K. Vaughan, Pia Guerra, Goran Sudžuka, José Marzán Jr."
                                },
                                {
                                    "Title": "Y: The Last Man, Vol. 5: Ring of Truth (Y: The Last Man, #5)",
                                    "authors": "Brian K. Vaughan, Pia Guerra, José Marzán Jr."
                                },
                                {
                                    "Title": "Y: The Last Man, Vol. 10: Whys and Wherefores (Y: The Last Man, #10)",
                                    "authors": "Brian K. Vaughan, Pia Guerra, José Marzán Jr."
                                },
                                {
                                    "Title": "Y: The Last Man, Vol. 2: Cycles (Y: The Last Man, #2)",
                                    "authors": "Brian K. Vaughan, Pia Guerra, José Marzán Jr."
                                },
                                {
                                    "Title": "Y: The Last Man, Vol. 1: Unmanned",
                                    "authors": "Brian K. Vaughan, Pia Guerra, José Marzán Jr."
                                },
                                {
                                    "Title": "Y: The Last Man - The Deluxe Edition Book One",
                                    "authors": "Brian K. Vaughan, Pia Guerra, José Marzán Jr., Pamela Rambo, Clem Robins, J.G. Jones"
                                },
                                {
                                    "Title": "Y: The Last Man, Vol. 3: One Small Step (Y: The Last Man, #3)",
                                    "authors": "Brian K. Vaughan, Pia Guerra, José Marzán Jr., Paul Chadwick"
                                },
                                {
                                    "Title": "George Washington's Secret Six: The Spy Ring That Saved the American Revolution",
                                    "authors": "Brian Kilmeade, Don Yaeger"
                                },
                                {
                                    "Title": "Ultimate Spider-Man, Volume 1: Power and Responsibility",
                                    "authors": "Brian Michael Bendis, Mark Bagley"
                                },
                                {
                                    "Title": "House of M",
                                    "authors": "Brian Michael Bendis, Olivier Coipel, Tim Townsend, Rick Magyar, John Dell, Scott Hanna, Frank D'Armata, Chris Eliopoulos, James Taveras, Omar Otieku, Tom Valente, Esad Ribic"
                                },
                                {
                                    "Title": "God's Smuggler",
                                    "authors": "Brother Andrew, Elizabeth Sherrill, John Sherrill"
                                },
                                {
                                    "Title": "Secrets of the Vine: Breaking Through to Abundance",
                                    "authors": "Bruce H. Wilkinson, David Kopp"
                                },
                                {
                                    "Title": "The Magic Mirror of M.C. Escher",
                                    "authors": "Bruno Ernst, M.C. Escher, John E. Brigham"
                                },
                                {
                                    "Title": "Barbarians at the Gate: The Fall of RJR Nabisco",
                                    "authors": "Bryan Burrough, John Helyar"
                                },
                                {
                                    "Title": "Raymond E. Feist's Magician Master",
                                    "authors": "Bryan J.L. Glass, Tim Seeley, Hugo Petrus, Raymond E. Feist"
                                },
                                {
                                    "Title": "Avatar: The Last Airbender: The Lost Adventures",
                                    "authors": "Bryan Konietzko, Michael Dante DiMartino, Aaron Ehasz, Alison Wilgus, Amy Kim Ganter, Brian Ralph, Corey Lewis, Dave Roman, Elsa Garagarza, Ethan Spaulding, Frank Pittarese, Gurihiru, J. Torres, Joaquim Dos Santos, Johane Matte, John O'Bryan, Joshua Hamilton, Justin Ridge, Kaite Mattila, May Chan, Rawles Marie Lumumba, Reagan Lodge, Tim Hedrick, Tom McWeeney"
                                },
                                {
                                    "Title": "Seconds",
                                    "authors": "Bryan Lee O'Malley, Nathan Fairbairn"
                                },
                                {
                                    "Title": "Scott Pilgrim, Volume 4: Scott Pilgrim Gets It Together",
                                    "authors": "Bryan Lee O'Malley, Steve Buccellato"
                                },
                                {
                                    "Title": "Anne McCaffrey's Dragonflight #1",
                                    "authors": "Brynne Stephens, Lela Dowling, Cynthia Martin, Anne McCaffrey"
                                },
                                {
                                    "Title": "Loving What Is: Four Questions That Can Change Your Life",
                                    "authors": "Byron Katie, Stephen Mitchell"
                                },
                                {
                                    "Title": "Memories, Dreams, Reflections",
                                    "authors": "C.G. Jung, Aniela Jaffé, Richard Winston, Clara Winston"
                                },
                                {
                                    "Title": "Man and His Symbols",
                                    "authors": "C.G. Jung, Joseph L. Henderson, Aniela Jaffé, Jolande Jacobi, John Freeman, Marie-Louise von Franz"
                                },
                                {
                                    "Title": "The Voyage of the Dawn Treader (Chronicles of Narnia, #3)",
                                    "authors": "C.S. Lewis, Pauline Baynes"
                                },
                                {
                                    "Title": "The Chronicles of Narnia (Chronicles of Narnia, #1-7)",
                                    "authors": "C.S. Lewis, Pauline Baynes"
                                },
                                {
                                    "Title": "The Silver Chair (Chronicles of Narnia, #4)",
                                    "authors": "C.S. Lewis, Pauline Baynes"
                                },
                                {
                                    "Title": "The Preacher (Patrik Hedström, #2)",
                                    "authors": "Camilla Läckberg, Steven T. Murray"
                                },
                                {
                                    "Title": "The Ice Princess (Patrik Hedström, #1)",
                                    "authors": "Camilla Läckberg, Steven T. Murray"
                                },
                                {
                                    "Title": "The Hidden Child (Patrik Hedström, #5)",
                                    "authors": "Camilla Läckberg, Tiina Nunnally"
                                },
                                {
                                    "Title": "One Fifth Avenue",
                                    "authors": "Candace Bushnell, Donna Murphy"
                                },
                                {
                                    "Title": "Snowmen at Night",
                                    "authors": "Caralyn Buehner, Mark Buehner"
                                },
                                {
                                    "Title": "All the President's Men",
                                    "authors": "Carl Bernstein, Bob Woodward"
                                },
                                {
                                    "Title": "On Becoming a Person: A Therapist's View of Psychotherapy",
                                    "authors": "Carl R. Rogers, Peter D. Kramer"
                                },
                                {
                                    "Title": "Billions & Billions: Thoughts on Life and Death at the Brink of the Millennium",
                                    "authors": "Carl Sagan, Ann Druyan"
                                },
                                {
                                    "Title": "Pale Blue Dot: A Vision of the Human Future in Space",
                                    "authors": "Carl Sagan, Ann Druyan"
                                },
                                {
                                    "Title": "The Demon-Haunted World: Science as a Candle in the Dark",
                                    "authors": "Carl Sagan, Ann Druyan"
                                },
                                {
                                    "Title": "Pinocchio",
                                    "authors": "Carlo Collodi, John Boyne, Monteiro Lobato, Unknown"
                                },
                                {
                                    "Title": "The Angel's Game (The Cemetery of Forgotten Books, #2)",
                                    "authors": "Carlos Ruiz Zafón, Lucia Graves"
                                },
                                {
                                    "Title": "The Shadow of the Wind (The Cemetery of Forgotten Books,  #1)",
                                    "authors": "Carlos Ruiz Zafón, Lucia Graves"
                                },
                                {
                                    "Title": "The Midnight Palace (Niebla, #2)",
                                    "authors": "Carlos Ruiz Zafón, Lucia Graves"
                                },
                                {
                                    "Title": "The Prince of Mist (Niebla, #1)",
                                    "authors": "Carlos Ruiz Zafón, Lucia Graves"
                                },
                                {
                                    "Title": "Mistakes Were Made (But Not by Me): Why We Justify Foolish Beliefs, Bad Decisions, and Hurtful Acts",
                                    "authors": "Carol Tavris, Elliot Aronson"
                                },
                                {
                                    "Title": "Escape",
                                    "authors": "Carolyn Jessop, Laura Palmer"
                                },
                                {
                                    "Title": "The Hidden Staircase (Nancy Drew #2)",
                                    "authors": "Carolyn Keene, Mildred Benson"
                                },
                                {
                                    "Title": "The Secret of the Old Clock (Nancy Drew, #1)",
                                    "authors": "Carolyn Keene, Russell H. Tandy, Sara Paretsky"
                                },
                                {
                                    "Title": "As You Wish: Inconceivable Tales from the Making of The Princess Bride",
                                    "authors": "Cary Elwes, Joe Layden, Various, Rob Reiner"
                                },
                                {
                                    "Title": "The Infernal Devices: Clockwork Angel (The Infernal Devices: Manga, #1)",
                                    "authors": "Cassandra Clare, Hye-Kyung Baek"
                                },
                                {
                                    "Title": "The Shadowhunter's Codex",
                                    "authors": "Cassandra Clare, Joshua Lewis"
                                },
                                {
                                    "Title": "What Really Happened in Peru (The Bane Chronicles, #1)",
                                    "authors": "Cassandra Clare, Sarah Rees Brennan"
                                },
                                {
                                    "Title": "Welcome to Shadowhunter Academy (Tales from the Shadowhunter Academy, #1)",
                                    "authors": "Cassandra Clare, Sarah Rees Brennan"
                                },
                                {
                                    "Title": "The Bane Chronicles",
                                    "authors": "Cassandra Clare, Sarah Rees Brennan, Maureen Johnson, Cassandra Jean"
                                },
                                {
                                    "Title": "The Girl Who Circumnavigated Fairyland in a Ship of Her Own Making (Fairyland, #1)",
                                    "authors": "Catherynne M. Valente, Ana Juan"
                                },
                                {
                                    "Title": "El Deafo",
                                    "authors": "Cece Bell, David Lasky"
                                },
                                {
                                    "Title": "Les Fleurs du Mal",
                                    "authors": "Charles Baudelaire, Richard Howard"
                                },
                                {
                                    "Title": "Mutiny on the Bounty (The Bounty Trilogy, #1)",
                                    "authors": "Charles Bernard Nordhoff, James Norman Hall"
                                },
                                {
                                    "Title": "Oliver Twist",
                                    "authors": "Charles Dickens, George Cruikshank, Philip Horne"
                                },
                                {
                                    "Title": "Little Dorrit",
                                    "authors": "Charles Dickens, Helen Small, Stephen Wall"
                                },
                                {
                                    "Title": "David Copperfield",
                                    "authors": "Charles Dickens, Jeremy Tambling"
                                },
                                {
                                    "Title": "A Christmas Carol, The Chimes and The Cricket on the Hearth",
                                    "authors": "Charles Dickens, Katharine Kroeber Wiley"
                                },
                                {
                                    "Title": "Nicholas Nickleby",
                                    "authors": "Charles Dickens, Mark Ford"
                                },
                                {
                                    "Title": "A Christmas Carol and Other Christmas Writings",
                                    "authors": "Charles Dickens, Michael Slater"
                                },
                                {
                                    "Title": "Bleak House",
                                    "authors": "Charles Dickens, Nicola Bradbury, Hablot Knight Browne"
                                },
                                {
                                    "Title": "The Old Curiosity Shop",
                                    "authors": "Charles Dickens, Norman Page"
                                },
                                {
                                    "Title": "Martin Chuzzlewit",
                                    "authors": "Charles Dickens, Patricia Ingham, Hablot Knight Browne"
                                },
                                {
                                    "Title": "A Tale of Two Cities",
                                    "authors": "Charles Dickens, Richard Maxwell, Hablot Knight Browne"
                                },
                                {
                                    "Title": "Art in Theory 1900 - 2000: An Anthology of Changing Ideas",
                                    "authors": "Charles Harrison, Paul Wood"
                                },
                                {
                                    "Title": "Villette",
                                    "authors": "Charlotte Brontë, A.S. Byatt, Μαρία Λαϊνά, Ignes Sodre"
                                },
                                {
                                    "Title": "Shirley",
                                    "authors": "Charlotte Brontë, Lucasta Miller, collaborative, Jessica Cox"
                                },
                                {
                                    "Title": "Jane Eyre",
                                    "authors": "Charlotte Brontë, Michael Mason"
                                },
                                {
                                    "Title": "The Yellow Wall-Paper",
                                    "authors": "Charlotte Perkins Gilman, Elaine Hedges"
                                },
                                {
                                    "Title": "Lies That Chelsea Handler Told Me",
                                    "authors": "Chelsea Handler, Johnny Kansas, Stephanie Stehling, Heather McDonald, Roy Handler, Brad Wollack, Amber Mazzola, Josh Wolf, Shoshanna Handler, Eva Magdalenski, Amy Meyer, Glen Handler, Dave Mallow, Sarah Colonna"
                                },
                                {
                                    "Title": "Made to Stick: Why Some Ideas Survive and Others Die",
                                    "authors": "Chip Heath, Dan Heath"
                                },
                                {
                                    "Title": "Switch: How to Change Things When Change Is Hard",
                                    "authors": "Chip Heath, Dan Heath"
                                },
                                {
                                    "Title": "The Lord of the Rings: Weapons and Warfare",
                                    "authors": "Chris   Smith, Christopher Lee, Richard Taylor"
                                },
                                {
                                    "Title": "X-Men: The Dark Phoenix Saga",
                                    "authors": "Chris Claremont, John Byrne"
                                },
                                {
                                    "Title": "The Enchantress Returns (The Land of Stories, #2)",
                                    "authors": "Chris Colfer, Brandon Dorman"
                                },
                                {
                                    "Title": "A Grimm Warning (The Land of Stories, #3)",
                                    "authors": "Chris Colfer, Brandon Dorman"
                                },
                                {
                                    "Title": "The Wishing Spell (The Land of Stories, #1)",
                                    "authors": "Chris Colfer, Brandon Dorman"
                                },
                                {
                                    "Title": "American Sniper: The Autobiography of the Most Lethal Sniper in U.S. Military History",
                                    "authors": "Chris Kyle, Scott McEwen, Jim DeFelice"
                                },
                                {
                                    "Title": "The Complete Clive Barker's The Great And Secret Show",
                                    "authors": "Chris Ryall, Gabriel Rodríguez, Clive Barker"
                                },
                                {
                                    "Title": "The Chronicles of Harris Burdick: 14 Amazing Authors Tell the Tales",
                                    "authors": "Chris Van Allsburg, Lois Lowry, Kate DiCamillo, M.T. Anderson, Louis Sachar, Stephen King, Tabitha King, Jon Scieszka, Sherman Alexie, Gregory Maguire, Cory Doctorow, Jules Feiffer, Linda Sue Park, Walter Dean Myers, Lemony Snicket"
                                },
                                {
                                    "Title": "Wir Kinder vom Bahnhof Zoo",
                                    "authors": "Christiane F., Kai Hermann, Horst Rieck"
                                },
                                {
                                    "Title": "Sex at Dawn: The Prehistoric Origins of Modern Sexuality",
                                    "authors": "Christopher  Ryan, Cacilda Jethá"
                                },
                                {
                                    "Title": "The Invisible Gorilla: And Other Ways Our Intuitions Deceive Us",
                                    "authors": "Christopher Chabris, Daniel Simons"
                                },
                                {
                                    "Title": "The Portable Atheist: Essential Readings for the Nonbeliever",
                                    "authors": "Christopher Hitchens, Titus Lucretius Carus, Omar Khayyám, Thomas Hobbes, Baruch Spinoza, David Hume, James Boswell, Percy Bysshe Shelley, George Eliot, Charles Darwin, Leslie Stephen, Anatole France, Mark Twain, Joseph Conrad, Thomas Hardy, Emma Goldman, H.P. Lovecraft, Carl Van Doren, H.L. Mencken, Sigmund Freud, Albert Einstein, George Orwell, John Betjeman, Chapman Cohen, Bertrand Russell, Philip Larkin, Martin Gardner, Carl Sagan, John Updike, John Leslie Mackie, Michael Shermer, A.J. Ayer, Daniel C. Dennett, Charles Templeton, Richard Dawkins, Victor J. Stenger, Elizabeth S.  Anderson, Penn Jillette, Ian McEwan, Steven Weinberg, Salman Rushdie, Ibn Warraq, Sam Harris, A.C. Grayling, Ayaan Hirsi Ali, John Stuart Mill, Karl Marx"
                                },
                                {
                                    "Title": "Island of the Sequined Love Nun",
                                    "authors": "Christopher Moore, Oliver Wyman"
                                },
                                {
                                    "Title": "Ender's Game, Volume 1: Battle School (Ender's Saga)",
                                    "authors": "Christopher Yost, Orson Scott Card, Pasqual Ferry, Frank D'Armata"
                                },
                                {
                                    "Title": "Ender's Game, Volume 2: Command School",
                                    "authors": "Christopher Yost, Pasqual Ferry, Orson Scott Card"
                                },
                                {
                                    "Title": "The Hobbit: Graphic Novel",
                                    "authors": "Chuck Dixon, J.R.R. Tolkien, David Wenzel, Sean Deming"
                                },
                                {
                                    "Title": "The Five Chinese Brothers",
                                    "authors": "Claire Huchet Bishop, Kurt Wiese"
                                },
                                {
                                    "Title": "Cardcaptor Sakura: Master of the Clow, Vol. 1 (Cardcaptor Sakura, #7)",
                                    "authors": "CLAMP, Anita Sengupta"
                                },
                                {
                                    "Title": "Tsubasa: RESERVoir CHRoNiCLE, Vol. 01",
                                    "authors": "CLAMP, Anthony Gerard"
                                },
                                {
                                    "Title": "Cardcaptor Sakura, Vol. 1 (Cardcaptor Sakura, #1)",
                                    "authors": "CLAMP, Maria Simpson"
                                },
                                {
                                    "Title": "Chobits, Vol. 1",
                                    "authors": "CLAMP, Shirley Kubo"
                                },
                                {
                                    "Title": "xxxHolic, Vol. 1 (xxxHOLiC, #1)",
                                    "authors": "CLAMP, William Flanagan"
                                },
                                {
                                    "Title": "The Second Assistant: A Tale from the Bottom of the Hollywood Ladder",
                                    "authors": "Clare Naylor, Mimi Hare"
                                },
                                {
                                    "Title": "How Will You Measure Your Life?",
                                    "authors": "Clayton M. Christensen, James Allworth, Karen Dillon"
                                },
                                {
                                    "Title": "The Night Before Christmas",
                                    "authors": "Clement C. Moore, Jan Brett"
                                },
                                {
                                    "Title": "Mrs. Kennedy and Me: An Intimate Memoir",
                                    "authors": "Clint Hill, Lisa McCubbin"
                                },
                                {
                                    "Title": "Pacific Vortex! (Dirk Pitt, #1)",
                                    "authors": "Clive Cussler, Michael Pritchard"
                                },
                                {
                                    "Title": "Wildwood (Wildwood Chronicles, #1)",
                                    "authors": "Colin Meloy, Carson Ellis"
                                },
                                {
                                    "Title": "Never Never (Never Never, #1)",
                                    "authors": "Colleen Hoover, Tarryn Fisher"
                                },
                                {
                                    "Title": "Never Never: Part Three (Never Never, #3)",
                                    "authors": "Colleen Hoover, Tarryn Fisher"
                                },
                                {
                                    "Title": "Never Never: Part Two (Never Never, #2)",
                                    "authors": "Colleen Hoover, Tarryn Fisher"
                                },
                                {
                                    "Title": "The Analects",
                                    "authors": "Confucius, D.C. Lau"
                                },
                                {
                                    "Title": "The New Best Recipe",
                                    "authors": "Cook's Illustrated Magazine, John Burgoyne, Carl Tremblay"
                                },
                                {
                                    "Title": "The Moonlit Garden",
                                    "authors": "Corina Bomann, Alison Layland"
                                },
                                {
                                    "Title": "Inkspell (Inkworld, #2)",
                                    "authors": "Cornelia Funke, Anthea Bell"
                                },
                                {
                                    "Title": "Inkheart (Inkworld, #1)",
                                    "authors": "Cornelia Funke, Anthea Bell"
                                },
                                {
                                    "Title": "The Hiding Place: The Triumphant True Story of Corrie Ten Boom",
                                    "authors": "Corrie ten Boom, John Sherrill, Elizabeth Sherrill"
                                },
                                {
                                    "Title": "In Real Life",
                                    "authors": "Cory Doctorow, Jen Wang"
                                },
                                {
                                    "Title": "My Lady Jane (The Lady Janies, #1)",
                                    "authors": "Cynthia Hand, Brodi Ashton, Jodi Meadows"
                                },
                                {
                                    "Title": "The Relatives Came",
                                    "authors": "Cynthia Rylant, Stephen Gammell"
                                },
                                {
                                    "Title": "Jesus Freaks: Stories of Those Who Stood for Jesus, the Ultimate Jesus Freaks (Jesus Freaks, #1)",
                                    "authors": "D.C. Talk, The Voice of the Martyrs"
                                },
                                {
                                    "Title": "The Rainbow",
                                    "authors": "D.H. Lawrence, Daphne Merkin"
                                },
                                {
                                    "Title": "Lady Chatterley's Lover",
                                    "authors": "D.H. Lawrence, Doris Lessing, Chester Brown"
                                },
                                {
                                    "Title": "Sons and Lovers",
                                    "authors": "D.H. Lawrence, Geoff Dyer"
                                },
                                {
                                    "Title": "Balzac and the Little Chinese Seamstress",
                                    "authors": "Dai Sijie, Ina Rilke"
                                },
                                {
                                    "Title": "The Art of Happiness",
                                    "authors": "Dalai Lama XIV, Howard C. Cutler"
                                },
                                {
                                    "Title": "It Starts with Food: Discover the Whole30 and Change Your Life in Unexpected Ways",
                                    "authors": "Dallas Hartwig, Melissa Hartwig"
                                },
                                {
                                    "Title": "The Death of Superman",
                                    "authors": "Dan Jurgens, Jerry Ordway, Louise Simonson, Roger Stern, Jon Bogdanove, Tom Grummett, Jackson Butch Guice, Brett Breeding, Rick Burchett, Doug Hazlewood, Dennis Janke, Denis Rodier"
                                },
                                {
                                    "Title": "A Game of Thrones: The Graphic Novel, Vol. 1",
                                    "authors": "Daniel Abraham, George R.R. Martin, Tommy Patterson"
                                },
                                {
                                    "Title": "A Game of Thrones: Comic Book, Issue 1",
                                    "authors": "Daniel Abraham, George R.R. Martin, Tommy Patterson"
                                },
                                {
                                    "Title": "The Talent Code: Unlocking the Secret of Skill in Sports, Art, Music, Math, and Just About Everything Else",
                                    "authors": "Daniel Coyle, John Farrell"
                                },
                                {
                                    "Title": "Robinson Crusoe",
                                    "authors": "Daniel Defoe, Gerald McCann, Virginia Woolf"
                                },
                                {
                                    "Title": "Why We Broke Up",
                                    "authors": "Daniel Handler, Maira Kalman"
                                },
                                {
                                    "Title": "No One Here Gets Out Alive",
                                    "authors": "Danny Sugerman, Jerry Hopkins"
                                },
                                {
                                    "Title": "The Divine Comedy",
                                    "authors": "Dante Alighieri, Allen Mandelbaum, Eugenio Montale"
                                },
                                {
                                    "Title": "Inferno (The Divine Comedy #1)",
                                    "authors": "Dante Alighieri, Anthony M. Esolen"
                                },
                                {
                                    "Title": "Paradiso (The Divine Comedy, #3)",
                                    "authors": "Dante Alighieri, Dorothy L. Sayers, Barbara Reynolds"
                                },
                                {
                                    "Title": "Purgatorio (The Divine Comedy, #2)",
                                    "authors": "Dante Alighieri, Robert M. Durling"
                                },
                                {
                                    "Title": "Rebecca",
                                    "authors": "Daphne du Maurier, Sally Beauman"
                                },
                                {
                                    "Title": "Why Nations Fail: The Origins of Power, Prosperity, and Poverty",
                                    "authors": "Daron Acemoğlu, James A. Robinson"
                                },
                                {
                                    "Title": "DC: The New Frontier, Volume 1",
                                    "authors": "Darwyn Cooke, Dave Stewart, Jared K. Fletcher"
                                },
                                {
                                    "Title": "The Adventures of Ook and Gluk, Kung-Fu Cavemen from the Future",
                                    "authors": "Dav Pilkey, George Beard, Harold Hutchins"
                                },
                                {
                                    "Title": "Longitude: The True Story of a Lone Genius Who Solved the Greatest Scientific Problem of His Time",
                                    "authors": "Dava Sobel, Neil Armstrong"
                                },
                                {
                                    "Title": "Peter and the Starcatchers (Peter and the Starcatchers, #1)",
                                    "authors": "Dave Barry, Ridley Pearson, Greg Call"
                                },
                                {
                                    "Title": "Peter and the Shadow Thieves (Peter and the Starcatchers, #2)",
                                    "authors": "Dave Barry, Ridley Pearson, Greg Call"
                                },
                                {
                                    "Title": "Peter and the Secret of Rundoon (Peter and the Starcatchers, #3)",
                                    "authors": "Dave Barry, Ridley Pearson, Greg Call"
                                },
                                {
                                    "Title": "Grain Brain: The Surprising Truth about Wheat, Carbs,  and Sugar--Your Brain's Silent Killers",
                                    "authors": "David  Perlmutter, Kristin Loberg"
                                },
                                {
                                    "Title": "Icebound",
                                    "authors": "David Axton, Dean Koontz"
                                },
                                {
                                    "Title": "Harry Potter and Philosophy: If Aristotle Ran Hogwarts",
                                    "authors": "David Baggett, Shawn E. Klein"
                                },
                                {
                                    "Title": "Art and Fear: Observations on the Perils (and Rewards) of Artmaking",
                                    "authors": "David Bayles, Ted Orland"
                                },
                                {
                                    "Title": "Wicked: The Grimmerie",
                                    "authors": "David Cote, Stephen Schwartz, Joan Marcus, Winnie Holzman"
                                },
                                {
                                    "Title": "Belgarath the Sorcerer",
                                    "authors": "David Eddings, Leigh Eddings"
                                },
                                {
                                    "Title": "Polgara the Sorceress (Malloreon)",
                                    "authors": "David Eddings, Leigh Eddings"
                                },
                                {
                                    "Title": "The Redemption of Althalus",
                                    "authors": "David Eddings, Leigh Eddings"
                                },
                                {
                                    "Title": "Franz Kafka's The Castle (Dramatization)",
                                    "authors": "David Fishelson, Aaron Leichter, Max Brod, Franz Kafka"
                                },
                                {
                                    "Title": "The Pale King",
                                    "authors": "David Foster Wallace, Michael Pietsch"
                                },
                                {
                                    "Title": "The Girl in the Spider's Web (Millennium, #4)",
                                    "authors": "David Lagercrantz, Stieg Larsson, George Goulding"
                                },
                                {
                                    "Title": "Squirrel Seeks Chipmunk: A Modest Bestiary",
                                    "authors": "David Sedaris, Ian Falconer"
                                },
                                {
                                    "Title": "The Cross and the Switchblade",
                                    "authors": "David Wilkerson, John Sherrill, Elizabeth Sherrill"
                                },
                                {
                                    "Title": "Fix-It and Forget-It Cookbook: Feasting with Your Slow Cooker",
                                    "authors": "Dawn J. Ranck, Phyllis Pellman Good"
                                },
                                {
                                    "Title": "City of Night (Dean Koontz's Frankenstein, #2)",
                                    "authors": "Dean Koontz, Ed Gorman, John Bedford Lloyd"
                                },
                                {
                                    "Title": "Seize the Night (Moonlight Bay, #2)",
                                    "authors": "Dean Koontz, Keith Szarabajka"
                                },
                                {
                                    "Title": "Dean Koontz's Frankenstein, Volume 1: Prodigal Son",
                                    "authors": "Dean Koontz, Kevin J. Anderson, Chuck Dixon, Brett Booth"
                                },
                                {
                                    "Title": "Prodigal Son (Dean Koontz's Frankenstein, #1)",
                                    "authors": "Dean Koontz, Kevin J. Anderson, Scott Brick"
                                },
                                {
                                    "Title": "Cold Fire / Hideaway / The Key to Midnight",
                                    "authors": "Dean Koontz, Leigh Nichols"
                                },
                                {
                                    "Title": "Is Your Mama a Llama?",
                                    "authors": "Deborah Guarino, Steven Kellogg"
                                },
                                {
                                    "Title": "Train Dreams",
                                    "authors": "Denis Johnson, Bettina Abarbanell"
                                },
                                {
                                    "Title": "Skulduggery Pleasant (Skulduggery Pleasant, #1)",
                                    "authors": "Derek Landy, Tom Percival"
                                },
                                {
                                    "Title": "Ancestors of Avalon (Avalon, #5)",
                                    "authors": "Diana L. Paxson, Marion Zimmer Bradley"
                                },
                                {
                                    "Title": "Diane Arbus: Monograph",
                                    "authors": "Diane Arbus, Stan Grossfeld, Doon Arbus, Marvin Israel"
                                },
                                {
                                    "Title": "The Monkey's Paw (Oxford Bookworms)",
                                    "authors": "Diane Mowat, W.W. Jacobs"
                                },
                                {
                                    "Title": "The Little Red Hen (Little Golden Book)",
                                    "authors": "Diane Muldrow, J.P. Miller"
                                },
                                {
                                    "Title": "Babe: The Gallant Pig",
                                    "authors": "Dick King-Smith, Maggie Kneen"
                                },
                                {
                                    "Title": "The New Bedside, Bathtub and Armchair Companion to Agatha Christie",
                                    "authors": "Dick Riley, Pam McAllister, Bruce Cassiday"
                                },
                                {
                                    "Title": "Beyond Band of Brothers: The War Memoirs of Major Dick Winters",
                                    "authors": "Dick Winters, Cole C. Kingseed"
                                },
                                {
                                    "Title": "Metro 2033 (METRO, #1)",
                                    "authors": "Dmitry Glukhovsky, M. David Drevs"
                                },
                                {
                                    "Title": "The 101 Dalmatians (The Hundred and One Dalmatians, #1)",
                                    "authors": "Dodie Smith, Michael Dooling"
                                },
                                {
                                    "Title": "The Little Mouse, the Red Ripe Strawberry, and the Big Hungry Bear",
                                    "authors": "Don    Wood, Audrey Wood"
                                },
                                {
                                    "Title": "Falling Man",
                                    "authors": "Don DeLillo, محمدصادق رئیسی"
                                },
                                {
                                    "Title": "90 Minutes in Heaven: A True Story of Death and Life",
                                    "authors": "Don Piper, Cecil Murphey"
                                },
                                {
                                    "Title": "Ox-Cart Man (Picture Puffin)",
                                    "authors": "Donald Hall, Barbara Cooney"
                                },
                                {
                                    "Title": "Trump: The Art of the Deal",
                                    "authors": "Donald J. Trump, Tony Schwartz"
                                },
                                {
                                    "Title": "Click, Clack, Moo: Cows That Type",
                                    "authors": "Doreen Cronin, Betsy Lewin"
                                },
                                {
                                    "Title": "Giggle, Giggle, Quack",
                                    "authors": "Doreen Cronin, Betsy Lewin"
                                },
                                {
                                    "Title": "Diary of a Worm",
                                    "authors": "Doreen Cronin, Harry Bliss"
                                },
                                {
                                    "Title": "Baking: From My Home to Yours",
                                    "authors": "Dorie Greenspan, Alan    Richardson"
                                },
                                {
                                    "Title": "Team of Rivals: The Political Genius of Abraham Lincoln",
                                    "authors": "Doris Kearns Goodwin, Suzanne Toren"
                                },
                                {
                                    "Title": "Batman: Knightfall, Vol. 1: Broken Bat",
                                    "authors": "Doug Moench, Chuck Dixon, Jim Aparo, Norm Breyfogle, Graham Nolan, Jim Balent"
                                },
                                {
                                    "Title": "Last Chance to See",
                                    "authors": "Douglas Adams, Mark Carwardine"
                                },
                                {
                                    "Title": "The Ice Limit (Ice Limit #1)",
                                    "authors": "Douglas Preston, Lincoln Child"
                                },
                                {
                                    "Title": "Cold Vengeance (Pendergast, #11)",
                                    "authors": "Douglas Preston, Lincoln Child"
                                },
                                {
                                    "Title": "Two Graves (Pendergast, #12)",
                                    "authors": "Douglas Preston, Lincoln Child"
                                },
                                {
                                    "Title": "Riptide",
                                    "authors": "Douglas Preston, Lincoln Child"
                                },
                                {
                                    "Title": "Mount Dragon",
                                    "authors": "Douglas Preston, Lincoln Child"
                                },
                                {
                                    "Title": "Thunderhead",
                                    "authors": "Douglas Preston, Lincoln Child"
                                },
                                {
                                    "Title": "The Wheel of Darkness (Pendergast, #8)",
                                    "authors": "Douglas Preston, Lincoln Child"
                                },
                                {
                                    "Title": "Cemetery Dance (Pendergast, #9)",
                                    "authors": "Douglas Preston, Lincoln Child"
                                },
                                {
                                    "Title": "White Fire (Pendergast, #13)",
                                    "authors": "Douglas Preston, Lincoln Child"
                                },
                                {
                                    "Title": "Crimson Shore (Pendergast, #15)",
                                    "authors": "Douglas Preston, Lincoln Child"
                                },
                                {
                                    "Title": "Gideon's Sword (Gideon Crew, #1)",
                                    "authors": "Douglas Preston, Lincoln Child"
                                },
                                {
                                    "Title": "Blue Labyrinth (Pendergast, #14)",
                                    "authors": "Douglas Preston, Lincoln Child"
                                },
                                {
                                    "Title": "The Book of the Dead (Pendergast, #7; Diogenes, #3)",
                                    "authors": "Douglas Preston, Lincoln Child"
                                },
                                {
                                    "Title": "Brimstone (Pendergast, #5; Diogenes, #1)",
                                    "authors": "Douglas Preston, Lincoln Child"
                                },
                                {
                                    "Title": "Fever Dream (Pendergast, #10)",
                                    "authors": "Douglas Preston, Lincoln Child"
                                },
                                {
                                    "Title": "Still Life With Crows (Pendergast, #4)",
                                    "authors": "Douglas Preston, Lincoln Child"
                                },
                                {
                                    "Title": "Dance of Death (Pendergast, #6; Diogenes, #2)",
                                    "authors": "Douglas Preston, Lincoln Child"
                                },
                                {
                                    "Title": "The Cabinet of Curiosities (Pendergast, #3)",
                                    "authors": "Douglas Preston, Lincoln Child"
                                },
                                {
                                    "Title": "Reliquary (Pendergast, #2)",
                                    "authors": "Douglas Preston, Lincoln Child"
                                },
                                {
                                    "Title": "Relic (Pendergast, #1)",
                                    "authors": "Douglas Preston, Lincoln Child"
                                },
                                {
                                    "Title": "The Monster of Florence",
                                    "authors": "Douglas Preston, Mario Spezi"
                                },
                                {
                                    "Title": "The Secret Art of Dr. Seuss",
                                    "authors": "Dr. Seuss, Maurice Sendak, Audrey Geisel"
                                },
                                {
                                    "Title": "In a People House",
                                    "authors": "Dr. Seuss, Theo LeSieg, Roy McKie"
                                },
                                {
                                    "Title": "The Cat in the Hat and Other Dr. Seuss Favorites",
                                    "authors": "Dr. Seuss, Various"
                                },
                                {
                                    "Title": "Green Eggs and Ham",
                                    "authors": "Dr. Seuss, לאה נאור"
                                },
                                {
                                    "Title": "The Day the Crayons Quit",
                                    "authors": "Drew Daywalt, Oliver Jeffers"
                                },
                                {
                                    "Title": "Of Course I Love You...! Till I Find Someone Better...",
                                    "authors": "Durjoy Datta, Maanvi Ahuja"
                                },
                                {
                                    "Title": "The Trumpet of the Swan",
                                    "authors": "E.B. White, Fred Marcellino"
                                },
                                {
                                    "Title": "Stuart Little",
                                    "authors": "E.B. White, Garth Williams"
                                },
                                {
                                    "Title": "Charlotte's Web",
                                    "authors": "E.B. White, Garth Williams, Rosemary Wells"
                                },
                                {
                                    "Title": "Selected Poems",
                                    "authors": "E.E. Cummings, Richard S. Kennedy"
                                },
                                {
                                    "Title": "A Little History of the World",
                                    "authors": "E.H. Gombrich, Caroline Mustill, Clifford Harper"
                                },
                                {
                                    "Title": "A Passage to India",
                                    "authors": "E.M. Forster, Oliver Stallybrass, Pankaj Mishra"
                                },
                                {
                                    "Title": "Batman: The Man Who Laughs",
                                    "authors": "Ed Brubaker, Doug Mahnke, Patrick Zircher, Aaron Sowd, Steve Bird"
                                },
                                {
                                    "Title": "Creativity, Inc.: Overcoming the Unseen Forces That Stand in the Way of True Inspiration",
                                    "authors": "Ed Catmull, Amy Wallace"
                                },
                                {
                                    "Title": "Essential Tales and Poems",
                                    "authors": "Edgar Allan Poe, Benjamin F. Fisher"
                                },
                                {
                                    "Title": "The Tell-Tale Heart",
                                    "authors": "Edgar Allan Poe, Byron Glaser, Bill D. Fountain"
                                },
                                {
                                    "Title": "The Raven",
                                    "authors": "Edgar Allan Poe, Gustave Doré"
                                },
                                {
                                    "Title": "The Raven and other poems",
                                    "authors": "Edgar Allan Poe, Philip Pullman"
                                },
                                {
                                    "Title": "The Fall of the House of Usher and Other Tales ",
                                    "authors": "Edgar Allan Poe, Stephen Marlowe"
                                },
                                {
                                    "Title": "A Princess of Mars (Barsoom, #1)",
                                    "authors": "Edgar Rice Burroughs, John Seelye"
                                },
                                {
                                    "Title": "The Nazi Officer's Wife: How One Jewish Woman Survived the Holocaust",
                                    "authors": "Edith Hahn Beer, Susan Dworkin, Susan Sarandon, Julia Ormond, Rory Kennedy"
                                },
                                {
                                    "Title": "Mythology: Timeless Tales of Gods and Heroes",
                                    "authors": "Edith Hamilton, Steele Savage"
                                },
                                {
                                    "Title": "Ethan Frome and Other Short Fiction",
                                    "authors": "Edith Wharton, Mary Gordon"
                                },
                                {
                                    "Title": "The Age of Innocence",
                                    "authors": "Edith Wharton, Maureen Howard"
                                },
                                {
                                    "Title": "The House of Mirth",
                                    "authors": "Edith Wharton, Nina Bawden"
                                },
                                {
                                    "Title": "Cyrano de Bergerac",
                                    "authors": "Edmond Rostand, Eteel Lawson, Lowell Bair"
                                },
                                {
                                    "Title": "The Faerie Queene ",
                                    "authors": "Edmund Spenser, Thomas P. Roche, C. Patrick O'Donnell"
                                },
                                {
                                    "Title": "Tangerine",
                                    "authors": "Edward Bloor, Danny De Vito"
                                },
                                {
                                    "Title": "Half Magic (Tales of Magic, #1)",
                                    "authors": "Edward Eager, N.M. Bodecker"
                                },
                                {
                                    "Title": "The Decline and Fall of the Roman Empire",
                                    "authors": "Edward Gibbon, Daniel J. Boorstin, Gian Battista Piranesi, Hans-Friedrich Mueller"
                                },
                                {
                                    "Title": "Flatland: A Romance of Many Dimensions",
                                    "authors": "Edwin A. Abbott, Banesh Hoffmann"
                                },
                                {
                                    "Title": "One Piece, Volume 01: Romance Dawn (One Piece, #1)",
                                    "authors": "Eiichirō Oda, Andy Nakatani"
                                },
                                {
                                    "Title": "Musashi",
                                    "authors": "Eiji Yoshikawa, Charles Terry, Edwin O. Reischauer"
                                },
                                {
                                    "Title": "Sadako and the Thousand Paper Cranes",
                                    "authors": "Eleanor Coerr, Ronald Himler"
                                },
                                {
                                    "Title": "The Hundred Dresses",
                                    "authors": "Eleanor Estes, Louis Slobodkin"
                                },
                                {
                                    "Title": "Those Who Leave and Those Who Stay (The Neapolitan Novels #3)",
                                    "authors": "Elena Ferrante, Ann Goldstein"
                                },
                                {
                                    "Title": "The Story of the Lost Child (The Neapolitan Novels, #4)",
                                    "authors": "Elena Ferrante, Ann Goldstein"
                                },
                                {
                                    "Title": "My Brilliant Friend (The Neapolitan Novels #1)",
                                    "authors": "Elena Ferrante, Ann Goldstein"
                                },
                                {
                                    "Title": "The Story of a New Name (The Neapolitan Novels #2)",
                                    "authors": "Elena Ferrante, Ann Goldstein"
                                },
                                {
                                    "Title": "Night (The Night Trilogy #1)",
                                    "authors": "Elie Wiesel, Marion Wiesel"
                                },
                                {
                                    "Title": "The Forty Rules of Love",
                                    "authors": "Elif Shafak, إليف شافاق, ارسلان فصیحی, محمد درويش"
                                },
                                {
                                    "Title": "Stolen Innocence: My Story of Growing Up in a Polygamous Sect, Becoming a Teenage Bride, and Breaking Free of Warren Jeffs",
                                    "authors": "Elissa Wall, Lisa Pulitzer"
                                },
                                {
                                    "Title": "The Goal: A Process of Ongoing Improvement",
                                    "authors": "Eliyahu M. Goldratt, Jeff Cox"
                                },
                                {
                                    "Title": "My Story",
                                    "authors": "Elizabeth  Smart, Chris Stewart"
                                },
                                {
                                    "Title": "North and South",
                                    "authors": "Elizabeth Gaskell, Alan Shelston"
                                },
                                {
                                    "Title": "Wives and Daughters",
                                    "authors": "Elizabeth Gaskell, Pam Morris"
                                },
                                {
                                    "Title": "Mary Barton",
                                    "authors": "Elizabeth Gaskell, Shirley Foster"
                                },
                                {
                                    "Title": "The Three Little Pigs",
                                    "authors": "Elizabeth Ross, ROFry"
                                },
                                {
                                    "Title": "My Name Is Lucy Barton",
                                    "authors": "Elizabeth Strout, Goran Skrobonja"
                                },
                                {
                                    "Title": "Henry's Freedom Box: A True Story from the Underground Railroad",
                                    "authors": "Ellen Levine, Kadir Nelson"
                                },
                                {
                                    "Title": "A Kiss for Little Bear (An I Can Read Book) by Minarik, Else Holmelund [1984]",
                                    "authors": "Else Holmelund Minarik, Maurice Sendak"
                                },
                                {
                                    "Title": "Little Bear's Friend",
                                    "authors": "Else Holmelund Minarik, Maurice Sendak"
                                },
                                {
                                    "Title": "Little Bear",
                                    "authors": "Else Holmelund Minarik, Maurice Sendak"
                                },
                                {
                                    "Title": "Thérèse Raquin",
                                    "authors": "Émile Zola, Robin Buss"
                                },
                                {
                                    "Title": "Germinal (Les Rougon-Macquart, #13)",
                                    "authors": "Émile Zola, Roger Pearson"
                                },
                                {
                                    "Title": "When I'm Gone",
                                    "authors": "Emily Bleeker, Dan John Miller"
                                },
                                {
                                    "Title": "Wuthering Heights",
                                    "authors": "Emily Brontë, Richard J. Dunn"
                                },
                                {
                                    "Title": "The Complete Poems of Emily Dickinson",
                                    "authors": "Emily Dickinson, Thomas H. Johnson"
                                },
                                {
                                    "Title": "The Nanny Diaries (Nanny, #1)",
                                    "authors": "Emma McLaughlin, Nicola Kraus"
                                },
                                {
                                    "Title": "Lassie Come-Home",
                                    "authors": "Eric Knight, Marguerite Kirmse"
                                },
                                {
                                    "Title": "Pete the Cat: I Love My White Shoes",
                                    "authors": "Eric Litwin, James Dean"
                                },
                                {
                                    "Title": "How Google Works",
                                    "authors": "Eric Schmidt, Jonathan Rosenberg"
                                },
                                {
                                    "Title": "Oz: The Wonderful Wizard of Oz",
                                    "authors": "Eric Shanower, Skottie Young, L. Frank Baum"
                                },
                                {
                                    "Title": "The Bourne Objective (Jason Bourne, #8)",
                                    "authors": "Eric Van Lustbader, Robert Ludlum"
                                },
                                {
                                    "Title": "The Art of Loving",
                                    "authors": "Erich Fromm, Peter D. Kramer, Rainer Funk"
                                },
                                {
                                    "Title": "All Quiet on the Western Front",
                                    "authors": "Erich Maria Remarque, A.W. Wheen"
                                },
                                {
                                    "Title": "The Devil in the White City: Murder, Magic, and Madness at the Fair That Changed America",
                                    "authors": "Erik Larson, Tony Goldwyn"
                                },
                                {
                                    "Title": "The Freedom Writers Diary",
                                    "authors": "Erin Gruwell, Zlata Filipović, The Freedom Writers"
                                },
                                {
                                    "Title": "Paper Princess (The Royals, #1)",
                                    "authors": "Erin Watt, Elle Kennedy, Jen Frederick"
                                },
                                {
                                    "Title": "Naïve. Super",
                                    "authors": "Erlend Loe, Tor Ketil Solberg"
                                },
                                {
                                    "Title": "The Motorcycle Diaries: Notes on a Latin American Journey",
                                    "authors": "Ernesto Che Guevara, Aleida Guevara March"
                                },
                                {
                                    "Title": "Tobacco Road (Brown Thrasher Books)",
                                    "authors": "Erskine Caldwell, Lewis Nordan"
                                },
                                {
                                    "Title": "This Star Won't Go Out: The Life and Words of Esther Grace Earl",
                                    "authors": "Esther Earl, Lori Earl, Wayne Earl, John Green"
                                },
                                {
                                    "Title": "Johnny Tremain",
                                    "authors": "Esther Forbes, Lynd Ward"
                                },
                                {
                                    "Title": "The Law of Attraction: The Basics of the Teachings of Abraham",
                                    "authors": "Esther Hicks, Jerry Hicks"
                                },
                                {
                                    "Title": "Money, and the Law of Attraction: Learning to Attract Wealth, Health, and Happiness",
                                    "authors": "Esther Hicks, Jerry Hicks"
                                },
                                {
                                    "Title": "Ask and It Is Given: Learning to Manifest Your Desires",
                                    "authors": "Esther Hicks, Jerry Hicks, Wayne W. Dyer"
                                },
                                {
                                    "Title": "With the Old Breed: At Peleliu and Okinawa",
                                    "authors": "Eugene B. Sledge, Paul Fussell"
                                },
                                {
                                    "Title": "Pinocchio",
                                    "authors": "Eugene Bradley Coco, Ron Dias"
                                },
                                {
                                    "Title": "Peter Pan (A Little Golden Book)",
                                    "authors": "Eugene Bradley Coco, Ron Dias, Walt Disney Company"
                                },
                                {
                                    "Title": "Medea",
                                    "authors": "Euripides, Rex Warner"
                                },
                                {
                                    "Title": "The Vagina Monologues",
                                    "authors": "Eve Ensler, Gloria Steinem"
                                },
                                {
                                    "Title": "The Short Stories",
                                    "authors": "F. Scott Fitzgerald, Matthew J. Bruccoli"
                                },
                                {
                                    "Title": "Daytripper",
                                    "authors": "Fábio Moon, Gabriel Bá, Craig Thompson, Dave Stewart, Sean Konot"
                                },
                                {
                                    "Title": "Anne Rice's The Vampire Lestat: A Graphic Novel",
                                    "authors": "Faye Perozich, Anne Rice, John Bolton, Daerick Gröss"
                                },
                                {
                                    "Title": "Anne Rice's The Tale of the Body Thief (A Graphic Novel)",
                                    "authors": "Faye Perozich, Travis Moore, Michael Halbleib, Daerick Gröss, Anne Rice"
                                },
                                {
                                    "Title": "La casa de Bernarda Alba",
                                    "authors": "Federico García Lorca, Antonio Sobejano-Moran, Paola Bianco"
                                },
                                {
                                    "Title": "You're Never Weird on the Internet (Almost)",
                                    "authors": "Felicia Day, Joss Whedon"
                                },
                                {
                                    "Title": "Bambi",
                                    "authors": "Felix Salten, Barbara Cooney"
                                },
                                {
                                    "Title": "The Book of Disquiet",
                                    "authors": "Fernando Pessoa, Richard Zenith"
                                },
                                {
                                    "Title": "Everything That Rises Must Converge: Stories",
                                    "authors": "Flannery O'Connor, Robert Fitzgerald"
                                },
                                {
                                    "Title": "The Good Soldier",
                                    "authors": "Ford Madox Ford, Kenneth Womack, William Baker"
                                },
                                {
                                    "Title": "A Little Princess",
                                    "authors": "Frances Hodgson Burnett, Nancy Bond"
                                },
                                {
                                    "Title": "A Voice in the Wind (Mark of the Lion, #1)",
                                    "authors": "Francine Rivers, Richard Ferrone"
                                },
                                {
                                    "Title": "Forgotten God: Reversing Our Tragic Neglect of the Holy Spirit",
                                    "authors": "Francis Chan, Danae Yankoski"
                                },
                                {
                                    "Title": "Crazy Love: Overwhelmed by a Relentless God",
                                    "authors": "Francis Chan, Danae Yankoski, Chris Tomlin"
                                },
                                {
                                    "Title": "Hector and the Search for Happiness",
                                    "authors": "François Lelord, Lorenza García"
                                },
                                {
                                    "Title": "Gargantua and Pantagruel",
                                    "authors": "François Rabelais, M.A. Screech"
                                },
                                {
                                    "Title": "Cheaper by the Dozen",
                                    "authors": "Frank B. Gilbreth Jr., Ernestine Gilbreth Carey"
                                },
                                {
                                    "Title": "House",
                                    "authors": "Frank E. Peretti, Ted Dekker"
                                },
                                {
                                    "Title": "Batman: Year One",
                                    "authors": "Frank Miller, David Mazzucchelli, Richmond Lewis, Dennis O'Neil"
                                },
                                {
                                    "Title": "Batman: The Dark Knight Returns (The Dark Knight Saga, #1)",
                                    "authors": "Frank Miller, Klaus Janson, Lynn Varley"
                                },
                                {
                                    "Title": "300",
                                    "authors": "Frank Miller, Lynn Varley"
                                },
                                {
                                    "Title": "Batman: The Dark Knight Strikes Again (The Dark Knight Saga, #2)",
                                    "authors": "Frank Miller, Lynn Varley"
                                },
                                {
                                    "Title": "Catch Me If You Can: The True Story of a Real Fake",
                                    "authors": "Frank W. Abagnale, Stan Redding"
                                },
                                {
                                    "Title": "The Wretched of the Earth",
                                    "authors": "Frantz Fanon, Jean-Paul Sartre, Richard Philcox, Homi K. Bhabha"
                                },
                                {
                                    "Title": "The Trial",
                                    "authors": "Franz Kafka, Edwin Muir, Willa Muir, Max Brod"
                                },
                                {
                                    "Title": "The Metamorphosis and Other Stories",
                                    "authors": "Franz Kafka, Jason Baker, Donna Freed"
                                },
                                {
                                    "Title": "The Castle",
                                    "authors": "Franz Kafka, Mark Harman, Regaip Minareci, Şerif Yeşilbucak"
                                },
                                {
                                    "Title": "The Complete Stories",
                                    "authors": "Franz Kafka, Nahum N. Glatzer, John Updike, Willa Muir, Edwin Muir, Tania Stern, James Stern, Ernst Kaiser, Eithne Wilkins"
                                },
                                {
                                    "Title": "The Metamorphosis",
                                    "authors": "Franz Kafka, Stanley Corngold"
                                },
                                {
                                    "Title": "Amerika",
                                    "authors": "Franz Kafka, بهرام مقدادی"
                                },
                                {
                                    "Title": "A Man Called Ove",
                                    "authors": "Fredrik Backman, Henning Koch"
                                },
                                {
                                    "Title": "My Grandmother Asked Me to Tell You She's Sorry",
                                    "authors": "Fredrik Backman, Henning Koch"
                                },
                                {
                                    "Title": "Britt-Marie Was Here",
                                    "authors": "Fredrik Backman, Henning Koch, سمانه پرهیزکاری"
                                },
                                {
                                    "Title": "The Diary of Frida Kahlo: An Intimate Self-Portrait",
                                    "authors": "Frida Kahlo, Carlos Fuentes, Sarah M. Lowe"
                                },
                                {
                                    "Title": "On the Genealogy of Morals",
                                    "authors": "Friedrich Nietzsche, Douglas Smith"
                                },
                                {
                                    "Title": "The Anti-Christ",
                                    "authors": "Friedrich Nietzsche, H.L. Mencken"
                                },
                                {
                                    "Title": "Beyond Good and Evil",
                                    "authors": "Friedrich Nietzsche, R.J. Hollingdale, Michael Tanner"
                                },
                                {
                                    "Title": "Thus Spoke Zarathustra",
                                    "authors": "Friedrich Nietzsche, Walter Kaufmann"
                                },
                                {
                                    "Title": "The Gay Science",
                                    "authors": "Friedrich Nietzsche, Walter Kaufmann"
                                },
                                {
                                    "Title": "On the Genealogy of Morals/Ecce Homo",
                                    "authors": "Friedrich Nietzsche, Walter Kaufmann, R.J. Hollingdale"
                                },
                                {
                                    "Title": "Notes from Underground, White Nights, The Dream of a Ridiculous Man, and Selections from The House of the Dead",
                                    "authors": "Fyodor Dostoyevsky, Andrew R. MacAndrew, Ben Marcus"
                                },
                                {
                                    "Title": "Notes from Underground",
                                    "authors": "Fyodor Dostoyevsky, Christian Redl, Philip Dossick, Emanuela Guercetti, Michelle-Irène Brudny, Richard Pevear, Norman Dietz, Donald Fanger, coderati, Boris de Schlœzer, Larissa Volokhonsky"
                                },
                                {
                                    "Title": "The Idiot",
                                    "authors": "Fyodor Dostoyevsky, Constance Garnett, Alan Myers, Joseph Frank, Anna Brailovsky"
                                },
                                {
                                    "Title": "The Gambler",
                                    "authors": "Fyodor Dostoyevsky, Constance Garnett, Gary Saul Morson"
                                },
                                {
                                    "Title": "Crime and Punishment",
                                    "authors": "Fyodor Dostoyevsky, David McDuff"
                                },
                                {
                                    "Title": "The House of the Dead",
                                    "authors": "Fyodor Dostoyevsky, Ergin Altay"
                                },
                                {
                                    "Title": "The Brothers Karamazov",
                                    "authors": "Fyodor Dostoyevsky, Richard Pevear, Larissa Volokhonsky"
                                },
                                {
                                    "Title": "Demons",
                                    "authors": "Fyodor Dostoyevsky, Richard Pevear, Larissa Volokhonsky"
                                },
                                {
                                    "Title": "Ms. Marvel, Vol. 1: No Normal",
                                    "authors": "G. Willow Wilson, Adrian Alphona"
                                },
                                {
                                    "Title": "Ms. Marvel, Vol. 2: Generation Why",
                                    "authors": "G. Willow Wilson, Adrian Alphona, Jacob Wyatt"
                                },
                                {
                                    "Title": "The Man Who Was Thursday: A Nightmare",
                                    "authors": "G.K. Chesterton, Jonathan Lethem"
                                },
                                {
                                    "Title": "Love in the Time of Cholera",
                                    "authors": "Gabriel García Márquez, Edith Grossman"
                                },
                                {
                                    "Title": "Memories of My Melancholy Whores",
                                    "authors": "Gabriel García Márquez, Edith Grossman"
                                },
                                {
                                    "Title": "The General in His Labyrinth",
                                    "authors": "Gabriel García Márquez, Edith Grossman"
                                },
                                {
                                    "Title": "The Autumn of the Patriarch",
                                    "authors": "Gabriel García Márquez, Gregory Rabassa"
                                },
                                {
                                    "Title": "Innocent Erendira and Other Stories",
                                    "authors": "Gabriel García Márquez, Gregory Rabassa"
                                },
                                {
                                    "Title": "One Hundred Years of Solitude",
                                    "authors": "Gabriel García Márquez, Gregory Rabassa"
                                },
                                {
                                    "Title": "Chronicle of a Death Foretold",
                                    "authors": "Gabriel García Márquez, Gregory Rabassa"
                                },
                                {
                                    "Title": "No One Writes to the Colonel and Other Stories",
                                    "authors": "Gabriel García Márquez, J.S. Bernstein"
                                },
                                {
                                    "Title": "The Story of a Shipwrecked Sailor",
                                    "authors": "Gabriel García Márquez, Randolph Hogan"
                                },
                                {
                                    "Title": "Preacher, Volume 7: Salvation",
                                    "authors": "Garth Ennis, Steve Dillon"
                                },
                                {
                                    "Title": "Preacher, Volume 5: Dixie Fried",
                                    "authors": "Garth Ennis, Steve Dillon"
                                },
                                {
                                    "Title": "Preacher, Volume 9: Alamo",
                                    "authors": "Garth Ennis, Steve Dillon"
                                },
                                {
                                    "Title": "Preacher, Volume 2: Until the End of the World",
                                    "authors": "Garth Ennis, Steve Dillon"
                                },
                                {
                                    "Title": "Preacher, Volume 1: Gone to Texas",
                                    "authors": "Garth Ennis, Steve Dillon, Joe R. Lansdale"
                                },
                                {
                                    "Title": "Preacher, Volume 8: All Hell's a-Coming",
                                    "authors": "Garth Ennis, Steve Dillon, John McCrea"
                                },
                                {
                                    "Title": "Preacher, Volume 3: Proud Americans",
                                    "authors": "Garth Ennis, Steve Dillon, Penn Jillette"
                                },
                                {
                                    "Title": "Preacher, Volume 6: War in the Sun",
                                    "authors": "Garth Ennis, Steve Dillon, Peter Snejbjerg"
                                },
                                {
                                    "Title": "Preacher, Volume 4: Ancient History",
                                    "authors": "Garth Ennis, Steve Dillon, Steve Pugh, Matt Hollingsworth, Carlos Ezquerra, Richard Case"
                                },
                                {
                                    "Title": "The Five Love Languages of Children",
                                    "authors": "Gary Chapman, D. Ross Campbell"
                                },
                                {
                                    "Title": "The One Thing: The Surprisingly Simple Truth Behind Extraordinary Results",
                                    "authors": "Gary Keller, Jay Papasan"
                                },
                                {
                                    "Title": "The Phantom of the Opera",
                                    "authors": "Gaston Leroux, Alexander Teixeira de Mattos"
                                },
                                {
                                    "Title": "The Phoenix Project: A Novel About IT, DevOps, and Helping Your Business Win",
                                    "authors": "Gene Kim, Kevin Behr, George Spafford"
                                },
                                {
                                    "Title": "Avatar: The Last Airbender (The Search, #1)",
                                    "authors": "Gene Luen Yang, Bryan Konietzko, Michael Dante DiMartino, Dave Marshall, Gurihiru"
                                },
                                {
                                    "Title": "Avatar: The Last Airbender (The Promise, #1)",
                                    "authors": "Gene Luen Yang, Bryan Konietzko, Michael Dante DiMartino, Gurihiru"
                                },
                                {
                                    "Title": "Avatar: The Last Airbender (The Rift, #1)",
                                    "authors": "Gene Luen Yang, Michael Dante DiMartino, Bryan Konietzko, Gurihiru"
                                },
                                {
                                    "Title": "Avatar: The Last Airbender (The Promise, #2)",
                                    "authors": "Gene Luen Yang, Michael Dante DiMartino, Gurihiru, Bryan Konietzko"
                                },
                                {
                                    "Title": "Harry the Dirty Dog",
                                    "authors": "Gene Zion, Margaret Bloy Graham"
                                },
                                {
                                    "Title": "Batman: Earth One, Volume 1",
                                    "authors": "Geoff Johns, Gary Frank, Jon Sibal, Brad Anderson, Rob Leigh"
                                },
                                {
                                    "Title": "Crossing the Chasm: Marketing and Selling High-Tech Products to Mainstream Customers",
                                    "authors": "Geoffrey A. Moore, Regis McKenna"
                                },
                                {
                                    "Title": "The Canterbury Tales",
                                    "authors": "Geoffrey Chaucer, Nevill Coghill"
                                },
                                {
                                    "Title": "The Legend of Sleepy Hollow and Other Stories",
                                    "authors": "Geoffrey Crayon, Washington Irving, William L. Hedges"
                                },
                                {
                                    "Title": "Phenomenology of Spirit",
                                    "authors": "Georg Wilhelm Friedrich Hegel, A.V. Miller, John Niemeyer Findlay"
                                },
                                {
                                    "Title": "Pygmalion & My Fair Lady",
                                    "authors": "George Bernard Shaw, Alan Jay Lerner"
                                },
                                {
                                    "Title": "Pygmalion and Three Other Plays",
                                    "authors": "George Bernard Shaw, John A. Bertolini"
                                },
                                {
                                    "Title": "The Complete Phantom of the Opera",
                                    "authors": "George C. Perry, Clive Barda, Jane Rice, Andrew Lloyd Webber"
                                },
                                {
                                    "Title": "Last Words",
                                    "authors": "George Carlin, Tony Hendra"
                                },
                                {
                                    "Title": "The Mill on the Floss",
                                    "authors": "George Eliot, A.S. Byatt"
                                },
                                {
                                    "Title": "Daniel Deronda",
                                    "authors": "George Eliot, Edmund White"
                                },
                                {
                                    "Title": "Adam Bede",
                                    "authors": "George Eliot, Joanna Trollope, Hugh Osborne"
                                },
                                {
                                    "Title": "Middlemarch",
                                    "authors": "George Eliot, Michel Faber"
                                },
                                {
                                    "Title": "Selected Poems",
                                    "authors": "George Gordon Byron, Peter J. Manning, Susan J. Wolfson"
                                },
                                {
                                    "Title": "The Princess and the Goblin  (Princess Irene and Curdie, #1)",
                                    "authors": "George MacDonald, Arthur Hughes"
                                },
                                {
                                    "Title": "Animal Farm / 1984",
                                    "authors": "George Orwell, Christopher Hitchens"
                                },
                                {
                                    "Title": "1984",
                                    "authors": "George Orwell, Erich Fromm, Celâl Üster"
                                },
                                {
                                    "Title": "Homage to Catalonia",
                                    "authors": "George Orwell, Lionel Trilling"
                                },
                                {
                                    "Title": "The World of Ice & Fire: The Untold History of Westeros and the Game of Thrones",
                                    "authors": "George R.R. Martin, Elio M. García Jr., Linda Antonsson"
                                },
                                {
                                    "Title": "Rogues",
                                    "authors": "George R.R. Martin, Gardner R. Dozois, Joe Abercrombie, Gillian Flynn, Matthew Hughes, Joe R. Lansdale, Michael Swanwick, David  Ball, Carrie Vaughn, Scott Lynch, Bradley Denton, Cherie Priest, Daniel Abraham, Paul Cornell, Steven Saylor, Garth Nix, Walter Jon Williams, Phyllis Eisenstein, Lisa Tuttle, Neil Gaiman, Connie Willis, Patrick Rothfuss"
                                },
                                {
                                    "Title": "A Knight of the Seven Kingdoms (The Tales of Dunk and Egg, #1-3)",
                                    "authors": "George R.R. Martin, Gary Gianni"
                                },
                                {
                                    "Title": "The Cricket in Times Square",
                                    "authors": "George Selden, Garth Williams"
                                },
                                {
                                    "Title": "Story of the Eye",
                                    "authors": "Georges Bataille, Joachim Neugroschel, Dovid Bergelson"
                                },
                                {
                                    "Title": "My Family and Other Animals (Corfu Trilogy, #1)",
                                    "authors": "Gerald Durrell, Helma Lapiņa"
                                },
                                {
                                    "Title": "The Umbrella Academy, Vol. 1: The Apocalypse Suite",
                                    "authors": "Gerard Way, Gabriel Bá, Dave Stewart, Nate Piekos, Tony Ong"
                                },
                                {
                                    "Title": "The Boxcar Children (The Boxcar Children, #1)",
                                    "authors": "Gertrude Chandler Warner, L. Kate Deal"
                                },
                                {
                                    "Title": "Giada's Family Dinners",
                                    "authors": "Giada De Laurentiis, Victoria Pearson"
                                },
                                {
                                    "Title": "Giraffes Can't Dance",
                                    "authors": "Giles Andreae, Guy Parker-Rees"
                                },
                                {
                                    "Title": "Just Me in the Tub (Mercer Mayer's Little Critter)",
                                    "authors": "Gina Mayer, Mercer Mayer"
                                },
                                {
                                    "Title": "The Lives of the Artists",
                                    "authors": "Giorgio Vasari, Julia Conway Bondanella, Peter Bondanella"
                                },
                                {
                                    "Title": "The Decameron",
                                    "authors": "Giovanni Boccaccio, G.H. McWilliam"
                                },
                                {
                                    "Title": "Gut: The Inside Story of Our Body’s Most Underrated Organ",
                                    "authors": "Giulia Enders, Jill Enders"
                                },
                                {
                                    "Title": "The Leopard",
                                    "authors": "Giuseppe Tomasi di Lampedusa, Archibald Colquhoun"
                                },
                                {
                                    "Title": "Horrorstör",
                                    "authors": "Grady Hendrix, Michael Rogalski"
                                },
                                {
                                    "Title": "Brighton Rock",
                                    "authors": "Graham Greene, J.M. Coetzee"
                                },
                                {
                                    "Title": "The Power and the Glory",
                                    "authors": "Graham Greene, John Updike"
                                },
                                {
                                    "Title": "The End of the Affair",
                                    "authors": "Graham Greene, Monica Ali"
                                },
                                {
                                    "Title": "The Quiet American",
                                    "authors": "Graham Greene, Robert  Stone"
                                },
                                {
                                    "Title": "Batman and Son",
                                    "authors": "Grant Morrison, Andy Kubert, John Van Fleet, Jesse Delperdang"
                                },
                                {
                                    "Title": "Batman: Arkham Asylum - A Serious House on Serious Earth",
                                    "authors": "Grant Morrison, Dave McKean"
                                },
                                {
                                    "Title": "All-Star Superman, Vol. 1",
                                    "authors": "Grant Morrison, Frank Quitely"
                                },
                                {
                                    "Title": "All-Star Superman, Vol. 2",
                                    "authors": "Grant Morrison, Frank Quitely"
                                },
                                {
                                    "Title": "We3",
                                    "authors": "Grant Morrison, Frank Quitely"
                                },
                                {
                                    "Title": "Batman & Robin: Batman Reborn",
                                    "authors": "Grant Morrison, Frank Quitely, Philip Tan, Jonathan Glapion, Alex Sinclair"
                                },
                                {
                                    "Title": "He's Just Not That Into You: The No-Excuses Truth to Understanding Guys",
                                    "authors": "Greg Behrendt, Liz Tuccillo"
                                },
                                {
                                    "Title": "Three Cups of Tea: One Man's Mission to Promote Peace ... One School at a Time",
                                    "authors": "Greg Mortenson, David Oliver Relin"
                                },
                                {
                                    "Title": "Stones Into Schools: Promoting Peace With Books, Not Bombs, in Afghanistan and Pakistan",
                                    "authors": "Greg Mortenson, Khaled Hosseini"
                                },
                                {
                                    "Title": "The Incredible Hulk: Planet Hulk",
                                    "authors": "Greg Pak, Aaron Lopresti, Carlo Pagulayan, Juan Santacruz, Gary Frank, Takeshi Miyazawa"
                                },
                                {
                                    "Title": "Batwoman: Elegy",
                                    "authors": "Greg Rucka, J.H. Williams III, Rachel Maddow"
                                },
                                {
                                    "Title": "Lost",
                                    "authors": "Gregory Maguire, Douglas Smith"
                                },
                                {
                                    "Title": "Out of Oz (The Wicked Years, #4)",
                                    "authors": "Gregory Maguire, Douglas Smith"
                                },
                                {
                                    "Title": "Wicked: The Life and Times of the Wicked Witch of the West (The Wicked Years, #1)",
                                    "authors": "Gregory Maguire, Douglas Smith"
                                },
                                {
                                    "Title": "Son of a Witch (The Wicked Years, #2)",
                                    "authors": "Gregory Maguire, Douglas Smith"
                                },
                                {
                                    "Title": "A Lion Among Men (The Wicked Years, #3)",
                                    "authors": "Gregory Maguire, Douglas Smith"
                                },
                                {
                                    "Title": "Happier at Home: Kiss More, Jump More, Abandon a Project, Read Samuel Johnson, and My Other Experiments in the Practice of Everyday Life",
                                    "authors": "Gretchen Rubin, Käthe Mazur"
                                },
                                {
                                    "Title": "The Night Eternal (The Strain Trilogy, #3)",
                                    "authors": "Guillermo del Toro, Chuck Hogan"
                                },
                                {
                                    "Title": "The Fall (The Strain Trilogy, #2)",
                                    "authors": "Guillermo del Toro, Chuck Hogan"
                                },
                                {
                                    "Title": "The Strain (The Strain Trilogy, #1)",
                                    "authors": "Guillermo del Toro, Chuck Hogan"
                                },
                                {
                                    "Title": "Madame Bovary",
                                    "authors": "Gustave Flaubert, Margaret Mauldon, Malcolm Bowie, Mark Overstall"
                                },
                                {
                                    "Title": "Sentimental Education",
                                    "authors": "Gustave Flaubert, Robert Baldick, Geoffrey Wall"
                                },
                                {
                                    "Title": "Bel-Ami",
                                    "authors": "Guy de Maupassant, Douglas Parmée"
                                },
                                {
                                    "Title": "The Society of the Spectacle",
                                    "authors": "Guy Debord, Donald Nicholson-Smith"
                                },
                                {
                                    "Title": "The Time Machine/The Invisible Man",
                                    "authors": "H.G. Wells, Alfred MacAdam"
                                },
                                {
                                    "Title": "The War of the Worlds",
                                    "authors": "H.G. Wells, Arthur C. Clarke"
                                },
                                {
                                    "Title": "The Time Machine",
                                    "authors": "H.G. Wells, Greg Bear, Carlo Pagetti"
                                },
                                {
                                    "Title": "The Best of H.P. Lovecraft: Bloodcurdling Tales of Horror and the Macabre",
                                    "authors": "H.P. Lovecraft, August Derleth, Robert Bloch"
                                },
                                {
                                    "Title": "At the Mountains of Madness",
                                    "authors": "H.P. Lovecraft, China Miéville, S.T. Joshi"
                                },
                                {
                                    "Title": "Necronomicon: The Best Weird Tales",
                                    "authors": "H.P. Lovecraft, Les Edwards, Stephen Jones"
                                },
                                {
                                    "Title": "The Call of Cthulhu and Other Weird Stories",
                                    "authors": "H.P. Lovecraft, S.T. Joshi"
                                },
                                {
                                    "Title": "History of Art",
                                    "authors": "H.W. Janson, Anthony F. Janson"
                                },
                                {
                                    "Title": "Attack on Titan: No Regrets, Volume 01",
                                    "authors": "Hajime Isayama, Hikaru Suruga, Gan Sunaaku"
                                },
                                {
                                    "Title": "Attack on Titan, Vol. 1 (Attack on Titan, #1)",
                                    "authors": "Hajime Isayama, Sheldon Drzka"
                                },
                                {
                                    "Title": "The Vegetarian",
                                    "authors": "Han Kang, Deborah     Smith"
                                },
                                {
                                    "Title": "I Never Promised You a Rose Garden",
                                    "authors": "Hannah  Green, Joanne Greenberg"
                                },
                                {
                                    "Title": "The Ugly Duckling",
                                    "authors": "Hans Christian Andersen, Jerry Pinkney"
                                },
                                {
                                    "Title": "The Complete Fairy Tales",
                                    "authors": "Hans Christian Andersen, Lily Owens, Arthur Rackham, Hans Richter"
                                },
                                {
                                    "Title": "The Little Mermaid",
                                    "authors": "Hans Christian Andersen, Lisbeth Zwerger, Anthea Bell"
                                },
                                {
                                    "Title": "The Little Match Girl",
                                    "authors": "Hans Christian Andersen, Rachel Isadora"
                                },
                                {
                                    "Title": "Every Man Dies Alone",
                                    "authors": "Hans Fallada, Michael Hofmann, Geoff Wilkes"
                                },
                                {
                                    "Title": "Kurt Vonnegut's Cat's Cradle (Modern Critical Interpretations)",
                                    "authors": "Harold Bloom, Terry Southern, David H. Goldsmith, James Lundquist, Lawrence R. Broer, Peter J. Reed, Loree Rackstraw, William S. Doxey, Jerome Klinkowitz, Richard Giannone, John L. Simons, Leonard Mustazza, Zoltan Ab di-Nagy, Peter Freese, Wendy B. Faris"
                                },
                                {
                                    "Title": "We Were Soldiers Once... and Young: Ia Drang - The Battle that Changed the War in Vietnam",
                                    "authors": "Harold G. Moore, Joseph L. Galloway"
                                },
                                {
                                    "Title": "Miss Nelson Is Back (Miss Nelson, #2)",
                                    "authors": "Harry Allard, James  Marshall"
                                },
                                {
                                    "Title": "Miss Nelson Is Missing! (Miss Nelson, #1)",
                                    "authors": "Harry Allard, James  Marshall"
                                },
                                {
                                    "Title": "A Wild Sheep Chase (The Rat, #3)",
                                    "authors": "Haruki Murakami, Alfred Birnbaum"
                                },
                                {
                                    "Title": "Hard-Boiled Wonderland and the End of the World",
                                    "authors": "Haruki Murakami, Alfred Birnbaum"
                                },
                                {
                                    "Title": "Underground: The Tokyo Gas Attack and the Japanese Psyche",
                                    "authors": "Haruki Murakami, Alfred Birnbaum, Philip Gabriel"
                                },
                                {
                                    "Title": "1Q84 #1-2 (1Q84, #1-2)",
                                    "authors": "Haruki Murakami, Jay Rubin"
                                },
                                {
                                    "Title": "The Wind-Up Bird Chronicle",
                                    "authors": "Haruki Murakami, Jay Rubin"
                                },
                                {
                                    "Title": "Norwegian Wood",
                                    "authors": "Haruki Murakami, Jay Rubin"
                                },
                                {
                                    "Title": "After Dark",
                                    "authors": "Haruki Murakami, Jay Rubin"
                                },
                                {
                                    "Title": "After the Quake",
                                    "authors": "Haruki Murakami, Jay Rubin"
                                },
                                {
                                    "Title": "The Elephant Vanishes",
                                    "authors": "Haruki Murakami, Jay Rubin, Alfred Birnbaum"
                                },
                                {
                                    "Title": "1Q84",
                                    "authors": "Haruki Murakami, Jay Rubin, Philip Gabriel"
                                },
                                {
                                    "Title": "Colorless Tsukuru Tazaki and His Years of Pilgrimage",
                                    "authors": "Haruki Murakami, Philip Gabriel"
                                },
                                {
                                    "Title": "Kafka on the Shore",
                                    "authors": "Haruki Murakami, Philip Gabriel"
                                },
                                {
                                    "Title": "Sputnik Sweetheart",
                                    "authors": "Haruki Murakami, Philip Gabriel"
                                },
                                {
                                    "Title": "South of the Border, West of the Sun",
                                    "authors": "Haruki Murakami, Philip Gabriel"
                                },
                                {
                                    "Title": "What I Talk About When I Talk About Running",
                                    "authors": "Haruki Murakami, Philip Gabriel"
                                },
                                {
                                    "Title": "Blind Willow, Sleeping Woman",
                                    "authors": "Haruki Murakami, Philip Gabriel, Jay Rubin"
                                },
                                {
                                    "Title": "The Strange Library",
                                    "authors": "Haruki Murakami, Ted Goossen"
                                },
                                {
                                    "Title": "1Q84 BOOK 1 (1Q84, #1)",
                                    "authors": "Haruki Murakami, 村上 春樹"
                                },
                                {
                                    "Title": "1Q84 BOOK 3 (1Q84, #3)",
                                    "authors": "Haruki Murakami, 村上 春樹"
                                },
                                {
                                    "Title": "Diary ng Panget",
                                    "authors": "HaveYouSeenThisGirL, Jan Irene Villar"
                                },
                                {
                                    "Title": "The Royal We",
                                    "authors": "Heather Cocks, Jessica  Morgan"
                                },
                                {
                                    "Title": "What to Expect When You're Expecting",
                                    "authors": "Heidi Murkoff, Arlene Eisenberg, Sandee Hathaway"
                                },
                                {
                                    "Title": "What to Expect the First Year (What to Expect)",
                                    "authors": "Heidi Murkoff, Sharon Mazel, Heidi Murkoff, Arlene Eisenberg, Sandee Hathaway, Mark D. Widome"
                                },
                                {
                                    "Title": "عقاید یک دلقک",
                                    "authors": "Heinrich Böll, محمد اسماعیل‌زاده"
                                },
                                {
                                    "Title": "Art Through the Ages ",
                                    "authors": "Helen Gardner, Fred S. Kleiner, Christin J. Mamiya"
                                },
                                {
                                    "Title": "A Fish Out of Water",
                                    "authors": "Helen Marion Palmer, P.D. Eastman"
                                },
                                {
                                    "Title": "One Step Behind  (Kurt Wallander, #7)",
                                    "authors": "Henning Mankell, Ebba Segerberg"
                                },
                                {
                                    "Title": "Firewall (Wallander, #8)",
                                    "authors": "Henning Mankell, Ebba Segerberg"
                                },
                                {
                                    "Title": "The White Lioness (Kurt Wallander, #3)",
                                    "authors": "Henning Mankell, Laurie Thompson"
                                },
                                {
                                    "Title": "The Troubled Man (Kurt Wallander, #10)",
                                    "authors": "Henning Mankell, Laurie Thompson"
                                },
                                {
                                    "Title": "The Man from Beijing",
                                    "authors": "Henning Mankell, Laurie Thompson"
                                },
                                {
                                    "Title": "The Dogs of Riga (Kurt Wallander, #2)",
                                    "authors": "Henning Mankell, Laurie Thompson"
                                },
                                {
                                    "Title": "The Man Who Smiled (Kurt Wallander, #4)",
                                    "authors": "Henning Mankell, Laurie Thompson"
                                },
                                {
                                    "Title": "Sidetracked (Kurt Wallander, #5)",
                                    "authors": "Henning Mankell, Steven T. Murray"
                                },
                                {
                                    "Title": "The Fifth Woman (Kurt Wallander, #6)",
                                    "authors": "Henning Mankell, Steven T. Murray"
                                },
                                {
                                    "Title": "Faceless Killers (Kurt Wallander, #1)",
                                    "authors": "Henning Mankell, Steven T. Murray"
                                },
                                {
                                    "Title": "A Doll's House",
                                    "authors": "Henrik Ibsen, Michael   Meyer"
                                },
                                {
                                    "Title": "Hedda Gabler",
                                    "authors": "Henrik Ibsen, William Archer"
                                },
                                {
                                    "Title": "Boundaries: When to Say Yes, How to Say No to Take Control of Your Life",
                                    "authors": "Henry Cloud, John Townsend"
                                },
                                {
                                    "Title": "Walden & Civil Disobedience",
                                    "authors": "Henry David Thoreau, W.S. Merwin"
                                },
                                {
                                    "Title": "The History of Tom Jones, a Foundling",
                                    "authors": "Henry Fielding, Thomas Keymer, Alice Wakely"
                                },
                                {
                                    "Title": "The Wings of the Dove",
                                    "authors": "Henry James, Amy Bloom, Pierre A. Walker"
                                },
                                {
                                    "Title": "Washington Square",
                                    "authors": "Henry James, Michael Cunningham"
                                },
                                {
                                    "Title": "The Portrait of a Lady",
                                    "authors": "Henry James, Patricia Crick"
                                },
                                {
                                    "Title": "Experiencing God: Knowing and Doing the Will of God, Workbook",
                                    "authors": "Henry T. Blackaby, Claude V. King, Richard Blackaby"
                                },
                                {
                                    "Title": "Quo Vadis",
                                    "authors": "Henryk Sienkiewicz, W.S. Kuniczak"
                                },
                                {
                                    "Title": "Tintin in the Land of the Soviets (Tintin #1)",
                                    "authors": "Hergé, Leslie Lonsdale-Cooper, Michael Turner"
                                },
                                {
                                    "Title": "Tintin in Tibet (Tintin, #20)",
                                    "authors": "Hergé, Leslie Lonsdale-Cooper, Michael Turner"
                                },
                                {
                                    "Title": "The Dinner",
                                    "authors": "Herman Koch, Sam Garrett"
                                },
                                {
                                    "Title": "Moby-Dick or, The Whale",
                                    "authors": "Herman Melville, Andrew Delbanco, Tom Quirk"
                                },
                                {
                                    "Title": "Calling Doctor Amelia Bedelia",
                                    "authors": "Herman Parish, Lynn Sweat"
                                },
                                {
                                    "Title": "Steppenwolf",
                                    "authors": "Hermann Hesse, Basil Creighton"
                                },
                                {
                                    "Title": "Siddhartha",
                                    "authors": "Hermann Hesse, Hilda Rosner"
                                },
                                {
                                    "Title": "The Glass Bead Game",
                                    "authors": "Hermann Hesse, Richard Winston, Clara Winston, Theodore Ziolkowski"
                                },
                                {
                                    "Title": "Narcissus and Goldmund",
                                    "authors": "Hermann Hesse, Ursule Molinaro"
                                },
                                {
                                    "Title": "The Histories",
                                    "authors": "Herodotus, Aubrey de Sélincourt, John M. Marincola"
                                },
                                {
                                    "Title": "Press Here",
                                    "authors": "Hervé Tullet, Christopher Franceschelli"
                                },
                                {
                                    "Title": "Fairy Tail, Vol. 1 (Fairy Tail, #1)",
                                    "authors": "Hiro Mashima, William Flanagan"
                                },
                                {
                                    "Title": "Fullmetal Alchemist, Vol. 1 (Fullmetal Alchemist, #1)",
                                    "authors": "Hiromu Arakawa, Akira Watanabe"
                                },
                                {
                                    "Title": "All You Need Is Kill",
                                    "authors": "Hiroshi Sakurazaka, 桜坂洋, Alexander O. Smith, Joseph Reeder"
                                },
                                {
                                    "Title": "Hana-Kimi, Vol. 1 (Hana-Kimi, #1)",
                                    "authors": "Hisaya Nakajo, David Ury"
                                },
                                {
                                    "Title": "The Iron Trial (Magisterium, #1)",
                                    "authors": "Holly Black, Cassandra Clare"
                                },
                                {
                                    "Title": "Doll Bones",
                                    "authors": "Holly Black, Eliza Wheeler"
                                },
                                {
                                    "Title": "Lucinda's Secret (The Spiderwick Chronicles, #3)",
                                    "authors": "Holly Black, Tony DiTerlizzi"
                                },
                                {
                                    "Title": "The Wrath of Mulgarath (The Spiderwick Chronicles, #5)",
                                    "authors": "Holly Black, Tony DiTerlizzi"
                                },
                                {
                                    "Title": "The Seeing Stone (The Spiderwick Chronicles, #2)",
                                    "authors": "Holly Black, Tony DiTerlizzi"
                                },
                                {
                                    "Title": "The Ironwood Tree (The Spiderwick Chronicles, #4)",
                                    "authors": "Holly Black, Tony DiTerlizzi"
                                },
                                {
                                    "Title": "The Field Guide (The Spiderwick Chronicles, #1)",
                                    "authors": "Holly Black, Tony DiTerlizzi"
                                },
                                {
                                    "Title": "The Iliad/The Odyssey",
                                    "authors": "Homer, Robert Fagles, Bernard Knox"
                                },
                                {
                                    "Title": "The Odyssey",
                                    "authors": "Homer, Robert Fagles, E.V. Rieu, Frédéric Mugler, Bernard Knox"
                                },
                                {
                                    "Title": "The Iliad",
                                    "authors": "Homer, Robert Fagles, Frédéric Mugler, Bernard Knox"
                                },
                                {
                                    "Title": "Eugénie Grandet",
                                    "authors": "Honoré de Balzac, Sylvia Raphael, Christopher Prendergast"
                                },
                                {
                                    "Title": "A Wrinkle in Time: The Graphic Novel",
                                    "authors": "Hope Larson, Madeleine L'Engle"
                                },
                                {
                                    "Title": "My Lobotomy",
                                    "authors": "Howard Dully, Charles Fleming"
                                },
                                {
                                    "Title": "SEAL Team Six: Memoirs of an Elite Navy SEAL Sniper",
                                    "authors": "Howard E. Wasdin, Stephen Templin"
                                },
                                {
                                    "Title": "Onward: How Starbucks Fought for Its Life without Losing Its Soul",
                                    "authors": "Howard Schultz, Joanne Gordon"
                                },
                                {
                                    "Title": "Requiem for a Dream",
                                    "authors": "Hubert Selby Jr., Darren Aronofsky, Richard Price"
                                },
                                {
                                    "Title": "Last Exit to Brooklyn",
                                    "authors": "Hubert Selby Jr., Gilbert Sorrentino"
                                },
                                {
                                    "Title": "The Voyages of Doctor Dolittle (Doctor Dolittle, #2)",
                                    "authors": "Hugh Lofting, Michael Hague"
                                },
                                {
                                    "Title": "The Story of Doctor Dolittle (Doctor Dolittle, #1)",
                                    "authors": "Hugh Lofting, Michael Hague"
                                },
                                {
                                    "Title": "Fear and Loathing in Las Vegas",
                                    "authors": "Hunter S. Thompson, Ralph Steadman"
                                },
                                {
                                    "Title": "The Rule of Four",
                                    "authors": "Ian Caldwell, Dustin Thomason"
                                },
                                {
                                    "Title": "The Picture of Dorian Gray: A Graphic Novel",
                                    "authors": "Ian Edginton, Oscar Wilde, I.N.J. Culbard"
                                },
                                {
                                    "Title": "Knots and Crosses (Inspector Rebus, #1)",
                                    "authors": "Ian Rankin, Mircea Pricăjan"
                                },
                                {
                                    "Title": "حوجن [Ḥawjan]",
                                    "authors": "Ibraheem Abbas, إبراهيم عباس, Yasser Bahjatt"
                                },
                                {
                                    "Title": "The Twelve Chairs",
                                    "authors": "Ilya Ilf, Eugene Petrov, Maurice Friedberg, John H.C. Richardson"
                                },
                                {
                                    "Title": "Left to Tell: Discovering God Amidst the Rwandan Holocaust",
                                    "authors": "Immaculée Ilibagiza, Steve Erwin"
                                },
                                {
                                    "Title": "Groundwork of the Metaphysics of Morals",
                                    "authors": "Immanuel Kant, Mary J. Gregor, Christine M. Korsgaard"
                                },
                                {
                                    "Title": "Critique of Pure Reason",
                                    "authors": "Immanuel Kant, Paul Guyer, Allen W. Wood"
                                },
                                {
                                    "Title": "Barefoot Contessa Family Style: Easy Ideas and Recipes That Make Everyone Feel Like Family",
                                    "authors": "Ina Garten, Maura McEvoy"
                                },
                                {
                                    "Title": "The Barefoot Contessa Cookbook",
                                    "authors": "Ina Garten, Melanie Acevedo"
                                },
                                {
                                    "Title": "Barefoot Contessa at Home: Everyday Recipes You'll Make Over and Over Again",
                                    "authors": "Ina Garten, Quentin Bacon"
                                },
                                {
                                    "Title": "Barefoot Contessa Back to Basics",
                                    "authors": "Ina Garten, Quentin Bacon"
                                },
                                {
                                    "Title": "Barefoot in Paris",
                                    "authors": "Ina Garten, Quentin Bacon"
                                },
                                {
                                    "Title": "Cunt: A Declaration of Independence",
                                    "authors": "Inga Muscio, Betty Dodson"
                                },
                                {
                                    "Title": "Suite Française",
                                    "authors": "Irène Némirovsky, Sandra Smith"
                                },
                                {
                                    "Title": "Notorious RBG: The Life and Times of Ruth Bader Ginsburg",
                                    "authors": "Irin Carmon, Shana Knizhnik"
                                },
                                {
                                    "Title": "The Sea, the Sea",
                                    "authors": "Iris Murdoch, Mary Kinzie"
                                },
                                {
                                    "Title": "The Joy of Cooking",
                                    "authors": "Irma S. Rombauer, Marion Rombauer Becker, Ethan Becker"
                                },
                                {
                                    "Title": "The Gift of Therapy: An Open Letter to a New Generation of Therapists and Their Patients",
                                    "authors": "Irvin D. Yalom, Nicola Ferguson"
                                },
                                {
                                    "Title": "Trainspotting",
                                    "authors": "Irvine Welsh, Eric Lindor Fall"
                                },
                                {
                                    "Title": "The Agony and the Ecstasy",
                                    "authors": "Irving Stone, שמואל שניצר"
                                },
                                {
                                    "Title": "Veganomicon: The Ultimate Vegan Cookbook",
                                    "authors": "Isa Chandra Moskowitz, Terry Hope Romero"
                                },
                                {
                                    "Title": "Vegan Cupcakes Take Over the World: 75 Dairy-Free Recipes for Cupcakes that Rule",
                                    "authors": "Isa Chandra Moskowitz, Terry Hope Romero, Sara Quin"
                                },
                                {
                                    "Title": "The Last Question",
                                    "authors": "Isaac Asimov, Bob E. Flick, Jim Gallant"
                                },
                                {
                                    "Title": "Nightfall",
                                    "authors": "Isaac Asimov, Robert Silverberg"
                                },
                                {
                                    "Title": "Maya's Notebook",
                                    "authors": "Isabel Allende, Anne McLean"
                                },
                                {
                                    "Title": "The House of the Spirits",
                                    "authors": "Isabel Allende, Magda Bogin"
                                },
                                {
                                    "Title": "Daughter of Fortune",
                                    "authors": "Isabel Allende, Margaret Sayers Peden"
                                },
                                {
                                    "Title": "City of the Beasts (Eagle and Jaguar, #1)",
                                    "authors": "Isabel Allende, Margaret Sayers Peden"
                                },
                                {
                                    "Title": "Of Love and Shadows",
                                    "authors": "Isabel Allende, Margaret Sayers Peden"
                                },
                                {
                                    "Title": "Island Beneath the Sea",
                                    "authors": "Isabel Allende, Margaret Sayers Peden"
                                },
                                {
                                    "Title": "Portrait in Sepia",
                                    "authors": "Isabel Allende, Margaret Sayers Peden"
                                },
                                {
                                    "Title": "Eva Luna",
                                    "authors": "Isabel Allende, Margaret Sayers Peden"
                                },
                                {
                                    "Title": "Inés of My Soul",
                                    "authors": "Isabel Allende, Margaret Sayers Peden"
                                },
                                {
                                    "Title": "Zorro",
                                    "authors": "Isabel Allende, Margaret Sayers Peden"
                                },
                                {
                                    "Title": "The Japanese Lover",
                                    "authors": "Isabel Allende, Nick Caistor, Amanda Hopkinson"
                                },
                                {
                                    "Title": "Ripper",
                                    "authors": "Isabel Allende, Oliver Brock, Frank Wynne"
                                },
                                {
                                    "Title": "Out of Africa",
                                    "authors": "Isak Dinesen, Karen Blixen"
                                },
                                {
                                    "Title": "The Baron in the Trees",
                                    "authors": "Italo Calvino, Archibald Colquhoun"
                                },
                                {
                                    "Title": "Invisible Cities",
                                    "authors": "Italo Calvino, William Weaver"
                                },
                                {
                                    "Title": "If on a Winter's Night a Traveler",
                                    "authors": "Italo Calvino, William Weaver"
                                },
                                {
                                    "Title": "Cosmicomics",
                                    "authors": "Italo Calvino, William Weaver, Ανταίος Χρυσοστομίδης, Ελευθερία Κοψιδά"
                                },
                                {
                                    "Title": "Oblomov",
                                    "authors": "Ivan Goncharov, Stephen Pearl, Galya Diment"
                                },
                                {
                                    "Title": "Fathers and Sons",
                                    "authors": "Ivan Turgenev, George Reavy, Jane Costlow"
                                },
                                {
                                    "Title": "Wait for You (Wait for You, #1)",
                                    "authors": "J. Lynn, Jennifer L. Armentrout"
                                },
                                {
                                    "Title": "Frigid (Frigid, #1)",
                                    "authors": "J. Lynn, Jennifer L. Armentrout"
                                },
                                {
                                    "Title": "Stay with Me (Wait for You, #3)",
                                    "authors": "J. Lynn, Jennifer L. Armentrout"
                                },
                                {
                                    "Title": "Tempting the Best Man (Gamble Brothers, #1)",
                                    "authors": "J. Lynn, Jennifer L. Armentrout"
                                },
                                {
                                    "Title": "Be with Me (Wait for You, #2)",
                                    "authors": "J. Lynn, Jennifer L. Armentrout"
                                },
                                {
                                    "Title": "Trust in Me (Wait for You, #1.5)",
                                    "authors": "J. Lynn, Jennifer L. Armentrout"
                                },
                                {
                                    "Title": "Tempting the Player (Gamble Brothers, #2)",
                                    "authors": "J. Lynn, Jennifer L. Armentrout"
                                },
                                {
                                    "Title": "Superman: Earth One, Volume 1",
                                    "authors": "J. Michael Straczynski, Shane Davis, Sandra Hope, Barbara Ciardo, Rob Leigh"
                                },
                                {
                                    "Title": "Betrayal in Death (In Death, #12)",
                                    "authors": "J.D. Robb, Nora Roberts"
                                },
                                {
                                    "Title": "Treachery in Death (In Death, #32)",
                                    "authors": "J.D. Robb, Nora Roberts"
                                },
                                {
                                    "Title": "Judgment in Death (In Death, #11)",
                                    "authors": "J.D. Robb, Nora Roberts"
                                },
                                {
                                    "Title": "New York to Dallas (In Death, #33)",
                                    "authors": "J.D. Robb, Susan Ericksen"
                                },
                                {
                                    "Title": "Witness in Death (In Death, #10)",
                                    "authors": "J.D. Robb, Susan Ericksen"
                                },
                                {
                                    "Title": "Loyalty in Death (In Death, #9)",
                                    "authors": "J.D. Robb, Susan Ericksen"
                                },
                                {
                                    "Title": "Born in Death (In Death, #23)",
                                    "authors": "J.D. Robb, Susan Ericksen"
                                },
                                {
                                    "Title": "Rapture in Death (In Death, #4)",
                                    "authors": "J.D. Robb, Susan Ericksen"
                                },
                                {
                                    "Title": "S.",
                                    "authors": "J.J. Abrams, Doug Dorst"
                                },
                                {
                                    "Title": "Very Good Lives: The Fringe Benefits of Failure and the Importance of Imagination",
                                    "authors": "J.K. Rowling, Joel Holland"
                                },
                                {
                                    "Title": "Harry Potter Boxed Set, Books 1-5 (Harry Potter, #1-5)",
                                    "authors": "J.K. Rowling, Mary GrandPré"
                                },
                                {
                                    "Title": "Harry Potter and the Sorcerer's Stone (Harry Potter, #1)",
                                    "authors": "J.K. Rowling, Mary GrandPré"
                                },
                                {
                                    "Title": "Harry Potter and the Order of the Phoenix (Harry Potter, #5)",
                                    "authors": "J.K. Rowling, Mary GrandPré"
                                },
                                {
                                    "Title": "Harry Potter and the Chamber of Secrets (Harry Potter, #2)",
                                    "authors": "J.K. Rowling, Mary GrandPré"
                                },
                                {
                                    "Title": "Harry Potter and the Goblet of Fire (Harry Potter, #4)",
                                    "authors": "J.K. Rowling, Mary GrandPré"
                                },
                                {
                                    "Title": "Harry Potter and the Deathly Hallows (Harry Potter, #7)",
                                    "authors": "J.K. Rowling, Mary GrandPré"
                                },
                                {
                                    "Title": "Harry Potter and the Half-Blood Prince (Harry Potter, #6)",
                                    "authors": "J.K. Rowling, Mary GrandPré"
                                },
                                {
                                    "Title": "The Harry Potter Collection 1-4 (Harry Potter, #1-4)",
                                    "authors": "J.K. Rowling, Mary GrandPré"
                                },
                                {
                                    "Title": "Harry Potter and the Prisoner of Azkaban (Harry Potter, #3)",
                                    "authors": "J.K. Rowling, Mary GrandPré, Rufus Beck"
                                },
                                {
                                    "Title": "Short Stories from Hogwarts of Power, Politics and Pesky Poltergeists (Pottermore Presents, #2)",
                                    "authors": "J.K. Rowling, MinaLima"
                                },
                                {
                                    "Title": "Short Stories from Hogwarts of Heroism, Hardship and Dangerous Hobbies (Pottermore Presents, #1)",
                                    "authors": "J.K. Rowling, MinaLima"
                                },
                                {
                                    "Title": "Peter Pan",
                                    "authors": "J.M. Barrie, Michael Hague"
                                },
                                {
                                    "Title": "Unfinished Tales of Númenor and Middle-Earth",
                                    "authors": "J.R.R. Tolkien, Christopher Tolkien"
                                },
                                {
                                    "Title": "The Children of Húrin",
                                    "authors": "J.R.R. Tolkien, Christopher Tolkien, Alan Lee"
                                },
                                {
                                    "Title": "The Silmarillion (Middle-Earth Universe)",
                                    "authors": "J.R.R. Tolkien, Christopher Tolkien, Ted Nasmith"
                                },
                                {
                                    "Title": "The Success Principles: How to Get from Where You Are to Where You Want to Be",
                                    "authors": "Jack Canfield, Janet Switzer"
                                },
                                {
                                    "Title": "Chicken Soup for the Soul",
                                    "authors": "Jack Canfield, Mark Victor Hansen"
                                },
                                {
                                    "Title": "Chicken Soup for the Teenage Soul: 101 Stories of Life, Love and Learning (Chicken Soup for the Soul)",
                                    "authors": "Jack Canfield, Mark Victor Hansen, Kimberly Kirberger"
                                },
                                {
                                    "Title": "Big Sur",
                                    "authors": "Jack Kerouac, Aram Saroyan"
                                },
                                {
                                    "Title": "Desolation Angels",
                                    "authors": "Jack Kerouac, Joyce Johnson"
                                },
                                {
                                    "Title": "Martin Eden",
                                    "authors": "Jack London, Andrew Sinclair"
                                },
                                {
                                    "Title": "Jack: Straight from the Gut",
                                    "authors": "Jack Welch, John A. Byrne, Mike Barnicle"
                                },
                                {
                                    "Title": "Winning",
                                    "authors": "Jack Welch, Suzy Welch"
                                },
                                {
                                    "Title": "The Complete Grimm's Fairy Tales",
                                    "authors": "Jacob Grimm, Wilhelm Grimm, Josef Scharl, Padraic Colum, Joseph Campbell, Margaret Raine Hunt, James Stern"
                                },
                                {
                                    "Title": "Grimm's Fairy Tales",
                                    "authors": "Jacob Grimm, Wilhelm Grimm, منى الخميسي"
                                },
                                {
                                    "Title": "Snowflake Bentley",
                                    "authors": "Jacqueline Briggs Martin, Mary Azarian"
                                },
                                {
                                    "Title": "The Illustrated Mum",
                                    "authors": "Jacqueline Wilson, Nick Sharratt"
                                },
                                {
                                    "Title": "The Story of Tracy Beaker",
                                    "authors": "Jacqueline Wilson, Nick Sharratt"
                                },
                                {
                                    "Title": "Double Act",
                                    "authors": "Jacqueline Wilson, Nick Sharratt, Sue Heap"
                                },
                                {
                                    "Title": "Among the Mad (Maisie Dobbs, #6)",
                                    "authors": "Jacqueline Winspear, Orlagh Cassidy"
                                },
                                {
                                    "Title": "The Essential Rumi",
                                    "authors": "Jalaluddin Rumi, Coleman Barks"
                                },
                                {
                                    "Title": "The Fire Next Time",
                                    "authors": "James     Baldwin, Kıvanç Güney"
                                },
                                {
                                    "Title": "Live from New York: An Uncensored History of Saturday Night Live",
                                    "authors": "James Andrew Miller, Tom Shales"
                                },
                                {
                                    "Title": "Those Guys Have All the Fun: Inside the World of ESPN",
                                    "authors": "James Andrew Miller, Tom Shales"
                                },
                                {
                                    "Title": "Built to Last: Successful Habits of Visionary Companies",
                                    "authors": "James C. Collins, Jerry I. Porras"
                                },
                                {
                                    "Title": "Great by Choice: Uncertainty, Chaos, and Luck--Why Some Thrive Despite Them All",
                                    "authors": "James C. Collins, Morten T. Hansen"
                                },
                                {
                                    "Title": "Flags of Our Fathers",
                                    "authors": "James D. Bradley, Ron Powers"
                                },
                                {
                                    "Title": "The Calling (Endgame, #1)",
                                    "authors": "James Frey, Nils Johnson-Shelton"
                                },
                                {
                                    "Title": "Bunnicula (Bunnicula, #1)",
                                    "authors": "James Howe, Deborah Howe, Alan Daniel"
                                },
                                {
                                    "Title": "Dubliners",
                                    "authors": "James Joyce, Jeri Johnson"
                                },
                                {
                                    "Title": "A Portrait of the Artist as a Young Man",
                                    "authors": "James Joyce, Seamus Deane"
                                },
                                {
                                    "Title": "My Brother Sam Is Dead",
                                    "authors": "James Lincoln Collier, Christopher Collier"
                                },
                                {
                                    "Title": "The Jester",
                                    "authors": "James Patterson, Andrew Gross"
                                },
                                {
                                    "Title": "Judge & Jury",
                                    "authors": "James Patterson, Andrew Gross"
                                },
                                {
                                    "Title": "2nd Chance (Women's Murder Club, #2)",
                                    "authors": "James Patterson, Andrew Gross"
                                },
                                {
                                    "Title": "3rd Degree (Women's Murder Club, #3)",
                                    "authors": "James Patterson, Andrew Gross"
                                },
                                {
                                    "Title": "Lifeguard",
                                    "authors": "James Patterson, Andrew Gross"
                                },
                                {
                                    "Title": "Middle School: The Worst Years of My Life (Midde School, #1)",
                                    "authors": "James Patterson, Chris Tebbetts, Laura Park"
                                },
                                {
                                    "Title": "Mistress",
                                    "authors": "James Patterson, David Ellis"
                                },
                                {
                                    "Title": "Invisible",
                                    "authors": "James Patterson, David Ellis"
                                },
                                {
                                    "Title": "The Murder House",
                                    "authors": "James Patterson, David Ellis"
                                },
                                {
                                    "Title": "Guilty Wives",
                                    "authors": "James Patterson, David Ellis"
                                },
                                {
                                    "Title": "First Love",
                                    "authors": "James Patterson, Emily Raymond"
                                },
                                {
                                    "Title": "Witch & Wizard (Witch & Wizard, #1)",
                                    "authors": "James Patterson, Gabrielle Charbonnet"
                                },
                                {
                                    "Title": "Sundays at Tiffany's",
                                    "authors": "James Patterson, Gabrielle Charbonnet"
                                },
                                {
                                    "Title": "Honeymoon (Honeymoon, #1)",
                                    "authors": "James Patterson, Howard Roughan"
                                },
                                {
                                    "Title": "Sail",
                                    "authors": "James Patterson, Howard Roughan"
                                },
                                {
                                    "Title": "Second Honeymoon (Honeymoon, #2)",
                                    "authors": "James Patterson, Howard Roughan"
                                },
                                {
                                    "Title": "You've Been Warned",
                                    "authors": "James Patterson, Howard Roughan"
                                },
                                {
                                    "Title": "Don't Blink",
                                    "authors": "James Patterson, Howard Roughan"
                                },
                                {
                                    "Title": "The Fire (Witch & Wizard, #3)",
                                    "authors": "James Patterson, Jill Dembowski, Elijah Wood, Spencer Locke"
                                },
                                {
                                    "Title": "Cat and Mouse (Alex Cross, #4)",
                                    "authors": "James Patterson, Keith David, Anthony Heald"
                                },
                                {
                                    "Title": "The Postcard Killers",
                                    "authors": "James Patterson, Liza Marklund"
                                },
                                {
                                    "Title": "Private London (Private #4)",
                                    "authors": "James Patterson, Mark Pearson"
                                },
                                {
                                    "Title": "Private Berlin (Private #5)",
                                    "authors": "James Patterson, Mark T. Sullivan"
                                },
                                {
                                    "Title": "Private Games (Private #3)",
                                    "authors": "James Patterson, Mark T. Sullivan"
                                },
                                {
                                    "Title": "Kill Me If You Can",
                                    "authors": "James Patterson, Marshall Karp"
                                },
                                {
                                    "Title": "NYPD Red 2 (NYPD Red, #2)",
                                    "authors": "James Patterson, Marshall Karp"
                                },
                                {
                                    "Title": "NYPD Red 3 (NYPD Red, #3)",
                                    "authors": "James Patterson, Marshall Karp"
                                },
                                {
                                    "Title": "NYPD Red (NYPD Red, #1)",
                                    "authors": "James Patterson, Marshall Karp"
                                },
                                {
                                    "Title": "11th Hour (Women's Murder Club, #11)",
                                    "authors": "James Patterson, Maxine Paetro"
                                },
                                {
                                    "Title": "12th of Never (Women's Murder Club, #12)",
                                    "authors": "James Patterson, Maxine Paetro"
                                },
                                {
                                    "Title": "Unlucky 13 (Women’s Murder Club, #13)",
                                    "authors": "James Patterson, Maxine Paetro"
                                },
                                {
                                    "Title": "14th Deadly Sin (Women’s Murder Club, #14)",
                                    "authors": "James Patterson, Maxine Paetro"
                                },
                                {
                                    "Title": "Private (Private, #1)",
                                    "authors": "James Patterson, Maxine Paetro"
                                },
                                {
                                    "Title": "7th Heaven (Women's Murder Club, #7)",
                                    "authors": "James Patterson, Maxine Paetro"
                                },
                                {
                                    "Title": "10th Anniversary (Women's Murder Club, #10)",
                                    "authors": "James Patterson, Maxine Paetro"
                                },
                                {
                                    "Title": "The 8th Confession (Women's Murder Club, #8)",
                                    "authors": "James Patterson, Maxine Paetro"
                                },
                                {
                                    "Title": "The 9th Judgment  (Women's Murder Club, #9)",
                                    "authors": "James Patterson, Maxine Paetro"
                                },
                                {
                                    "Title": "The 5th Horseman (Women's Murder Club, #5)",
                                    "authors": "James Patterson, Maxine Paetro"
                                },
                                {
                                    "Title": "The 6th Target (Women's Murder Club, #6)",
                                    "authors": "James Patterson, Maxine Paetro"
                                },
                                {
                                    "Title": "4th of July (Women's Murder Club, #4)",
                                    "authors": "James Patterson, Maxine Paetro"
                                },
                                {
                                    "Title": "Private #1 Suspect (Private, #2)",
                                    "authors": "James Patterson, Maxine Paetro"
                                },
                                {
                                    "Title": "Confessions of a Murder Suspect (Confessions, #1)",
                                    "authors": "James Patterson, Maxine Paetro"
                                },
                                {
                                    "Title": "Swimsuit",
                                    "authors": "James Patterson, Maxine Paetro"
                                },
                                {
                                    "Title": "15th Affair (Women's Murder Club #15)",
                                    "authors": "James Patterson, Maxine Paetro"
                                },
                                {
                                    "Title": "Worst Case (Michael Bennett, #3)",
                                    "authors": "James Patterson, Michael Ledwidge"
                                },
                                {
                                    "Title": "Tick Tock (Michael Bennett, #4)",
                                    "authors": "James Patterson, Michael Ledwidge"
                                },
                                {
                                    "Title": "I, Michael Bennett (Michael Bennett, #5)",
                                    "authors": "James Patterson, Michael Ledwidge"
                                },
                                {
                                    "Title": "Gone (Michael Bennett, #6)",
                                    "authors": "James Patterson, Michael Ledwidge"
                                },
                                {
                                    "Title": "Alert (Michael Bennett, #8)",
                                    "authors": "James Patterson, Michael Ledwidge"
                                },
                                {
                                    "Title": "Burn (Michael Bennett, #7)",
                                    "authors": "James Patterson, Michael Ledwidge"
                                },
                                {
                                    "Title": "The Dangerous Days of Daniel X (Daniel X, #1)",
                                    "authors": "James Patterson, Michael Ledwidge"
                                },
                                {
                                    "Title": "Zoo",
                                    "authors": "James Patterson, Michael Ledwidge"
                                },
                                {
                                    "Title": "Now You See Her",
                                    "authors": "James Patterson, Michael Ledwidge"
                                },
                                {
                                    "Title": "The Quickie",
                                    "authors": "James Patterson, Michael Ledwidge"
                                },
                                {
                                    "Title": "Step on a Crack (Michael Bennett, #1)",
                                    "authors": "James Patterson, Michael Ledwidge"
                                },
                                {
                                    "Title": "Run for Your Life (Michael Bennett, #2)",
                                    "authors": "James Patterson, Michael Ledwidge"
                                },
                                {
                                    "Title": "Maximum Ride, Vol. 1 (Maximum Ride: The Manga, #1)",
                                    "authors": "James Patterson, NaRae Lee"
                                },
                                {
                                    "Title": "The Gift (Witch & Wizard, #2)",
                                    "authors": "James Patterson, Ned Rust"
                                },
                                {
                                    "Title": "Beach Road",
                                    "authors": "James Patterson, Peter de Jonge"
                                },
                                {
                                    "Title": "The Beach House",
                                    "authors": "James Patterson, Peter de Jonge"
                                },
                                {
                                    "Title": "The Christmas Wedding",
                                    "authors": "James Patterson, Richard DiLallo"
                                },
                                {
                                    "Title": "Alex Cross's Trial (Alex Cross, #15)",
                                    "authors": "James Patterson, Richard DiLallo"
                                },
                                {
                                    "Title": "The Blood Gospel (The Order of the Sanguines, #1)",
                                    "authors": "James Rollins, Rebecca Cantrell"
                                },
                                {
                                    "Title": "Hellblazer: Original Sins",
                                    "authors": "Jamie Delano, John Ridgway, Alfredo Alcalá"
                                },
                                {
                                    "Title": "Northanger Abbey",
                                    "authors": "Jane Austen, Alfred MacAdam"
                                },
                                {
                                    "Title": "Emma",
                                    "authors": "Jane Austen, Fiona Stafford"
                                },
                                {
                                    "Title": "Persuasion",
                                    "authors": "Jane Austen, James Kinsley, Deidre Shauna Lynch"
                                },
                                {
                                    "Title": "Mansfield Park",
                                    "authors": "Jane Austen, Kathryn Sutherland, Tony Tanner, Claire Lamont"
                                },
                                {
                                    "Title": "Lady Susan",
                                    "authors": "Jane Austen, Robert William Chapman"
                                },
                                {
                                    "Title": "Sense and Sensibility",
                                    "authors": "Jane Austen, Tony Tanner, Ros Ballaster"
                                },
                                {
                                    "Title": "Alice in Wonderland",
                                    "authors": "Jane Carruth, Lewis Carroll, Rene Cloke"
                                },
                                {
                                    "Title": "A Map of the World",
                                    "authors": "Jane Hamilton, Frank  Muller, C.J. Critt"
                                },
                                {
                                    "Title": "Happy Accidents: A Memoir",
                                    "authors": "Jane Lynch, Lisa Dickey"
                                },
                                {
                                    "Title": "Fancy Nancy",
                                    "authors": "Jane O'Connor, Robin Preiss Glasser"
                                },
                                {
                                    "Title": "Frosty the Snow Man",
                                    "authors": "Jane Werner Watson, Corinne Malvern"
                                },
                                {
                                    "Title": "Owl Moon",
                                    "authors": "Jane Yolen, John Schoenherr"
                                },
                                {
                                    "Title": "How Do Dinosaurs Say Good Night?",
                                    "authors": "Jane Yolen, Mark Teague"
                                },
                                {
                                    "Title": "Each Peach Pear Plum",
                                    "authors": "Janet Ahlberg, Allan Ahlberg"
                                },
                                {
                                    "Title": "The Taste of Home Cookbook",
                                    "authors": "Janet Briggs, Beth Wittlinger"
                                },
                                {
                                    "Title": "Full House (Full #1)",
                                    "authors": "Janet Evanovich, Charlotte Hughes"
                                },
                                {
                                    "Title": "Full Tilt (Full #2)",
                                    "authors": "Janet Evanovich, Charlotte Hughes"
                                },
                                {
                                    "Title": "The Job (Fox and O'Hare, #3)",
                                    "authors": "Janet Evanovich, Lee Goldberg"
                                },
                                {
                                    "Title": "The Chase (Fox and O'Hare, #2)",
                                    "authors": "Janet Evanovich, Lee Goldberg"
                                },
                                {
                                    "Title": "The Heist (Fox and O'Hare, #1)",
                                    "authors": "Janet Evanovich, Lee Goldberg"
                                },
                                {
                                    "Title": "Smokin' Seventeen (Stephanie Plum, #17)",
                                    "authors": "Janet Evanovich, Lorelei King"
                                },
                                {
                                    "Title": "Hard Eight (Stephanie Plum, #8)",
                                    "authors": "Janet Evanovich, Lorelei King"
                                },
                                {
                                    "Title": "The Princess and the Pea",
                                    "authors": "Janet Stevens, Hans Christian Andersen"
                                },
                                {
                                    "Title": "The Poky Little Puppy (A Little Golden Book)",
                                    "authors": "Janette Sebring Lowrey, Gustaf Tenggren"
                                },
                                {
                                    "Title": "Gonzo: The Life of Hunter S. Thompson",
                                    "authors": "Jann S. Wenner, Corey Seymour"
                                },
                                {
                                    "Title": "Nothing",
                                    "authors": "Janne Teller, Martin Aitken"
                                },
                                {
                                    "Title": "The Art of Hearing Heartbeats",
                                    "authors": "Jan-Philipp Sendker, Kevin Wiliarty"
                                },
                                {
                                    "Title": "Rework",
                                    "authors": "Jason Fried, David Heinemeier Hansson"
                                },
                                {
                                    "Title": "The Future of Us",
                                    "authors": "Jay Asher, Carolyn Mackler"
                                },
                                {
                                    "Title": "Rule (Marked Men, #1)",
                                    "authors": "Jay Crownover, Charlotte Connan de vries"
                                },
                                {
                                    "Title": "Rome (Marked Men, #3)",
                                    "authors": "Jay Crownover, Charlotte Connan de vries"
                                },
                                {
                                    "Title": "Julie of the Wolves (Julie of the Wolves, #1)",
                                    "authors": "Jean Craighead George, John Schoenherr"
                                },
                                {
                                    "Title": "The Story of Babar",
                                    "authors": "Jean de Brunhoff, Merle S. Haas"
                                },
                                {
                                    "Title": "The Diving Bell and the Butterfly",
                                    "authors": "Jean-Dominique Bauby, Jeremy Leggatt"
                                },
                                {
                                    "Title": "The Social Contract",
                                    "authors": "Jean-Jacques Rousseau, Maurice Cranston"
                                },
                                {
                                    "Title": "Existentialism Is a Humanism",
                                    "authors": "Jean-Paul Sartre, Arlette Elkaïm-Sartre, Annie Cohen-Solal, Carol Macomber"
                                },
                                {
                                    "Title": "Being and Nothingness",
                                    "authors": "Jean-Paul Sartre, Hazel E. Barnes, Mary Warnock, Richard Eyre"
                                },
                                {
                                    "Title": "Nausea",
                                    "authors": "Jean-Paul Sartre, Lloyd Alexander, Hayden Carruth"
                                },
                                {
                                    "Title": "No Exit and Three Other Plays",
                                    "authors": "Jean-Paul Sartre, Stuart Gilbert, Lionel Abel"
                                },
                                {
                                    "Title": "Flat Stanley (Flat Stanley, #1)",
                                    "authors": "Jeff Brown, Scott Nash, Macky Pamintuan"
                                },
                                {
                                    "Title": "Artisan Bread in Five Minutes a Day: The Discovery That Revolutionizes Home Baking",
                                    "authors": "Jeff Hertzberg, Zoë François, Mark Luinenburg"
                                },
                                {
                                    "Title": "Sweet Tooth, Volume 1: Out of the Deep Woods",
                                    "authors": "Jeff Lemire, José Villarrubia, Carlos M. Mangual"
                                },
                                {
                                    "Title": "The Dragonslayer (Bone, #4)",
                                    "authors": "Jeff Smith, Steve Hamaker"
                                },
                                {
                                    "Title": "Out from Boneville (Bone, #1)",
                                    "authors": "Jeff Smith, Steve Hamaker"
                                },
                                {
                                    "Title": "Bone: Tall Tales",
                                    "authors": "Jeff Smith, Thomas E. Sniegoski, Steve Hamaker"
                                },
                                {
                                    "Title": "A Case of Need",
                                    "authors": "Jeffery Hudson, Michael Crichton"
                                },
                                {
                                    "Title": "The End of Poverty",
                                    "authors": "Jeffrey D. Sachs, Bono"
                                },
                                {
                                    "Title": "How to Make Love Like a Porn Star: A Cautionary Tale",
                                    "authors": "Jenna Jameson, Neil Strauss"
                                },
                                {
                                    "Title": "Beyond Belief: My Secret Life Inside Scientology and My Harrowing Escape",
                                    "authors": "Jenna Miscavige Hill, Lisa Pulitzer"
                                },
                                {
                                    "Title": "Agnes and the Hitman",
                                    "authors": "Jennifer Crusie, Bob Mayer"
                                },
                                {
                                    "Title": "The Fourteenth Goldfish",
                                    "authors": "Jennifer L. Holm, Tad Carpenter"
                                },
                                {
                                    "Title": "All the Bright Places",
                                    "authors": "Jennifer Niven, فرانک معنوی"
                                },
                                {
                                    "Title": "Burn for Burn (Burn for Burn, #1)",
                                    "authors": "Jenny Han, Siobhan Vivian"
                                },
                                {
                                    "Title": "Batman: Hush, Vol. 2",
                                    "authors": "Jeph Loeb, Jim Lee, Scott Williams"
                                },
                                {
                                    "Title": "Batman: Hush, Vol. 1",
                                    "authors": "Jeph Loeb, Jim Lee, Scott Williams"
                                },
                                {
                                    "Title": "Batman: Hush",
                                    "authors": "Jeph Loeb, Jim Lee, Scott Williams, Alex Sinclair, Richard Starkings"
                                },
                                {
                                    "Title": "Batman: Dark Victory",
                                    "authors": "Jeph Loeb, Tim Sale"
                                },
                                {
                                    "Title": "Superman for All Seasons",
                                    "authors": "Jeph Loeb, Tim Sale, Bjarne Hansen"
                                },
                                {
                                    "Title": "Batman: The Long Halloween",
                                    "authors": "Jeph Loeb, Tim Sale, Gregory Wright, Richard Starkings"
                                },
                                {
                                    "Title": "Inherit the Wind",
                                    "authors": "Jerome Lawrence, Robert E.  Lee"
                                },
                                {
                                    "Title": "The Pursuit of Holiness",
                                    "authors": "Jerry Bridges, Foster W. Cline, Jim Fay"
                                },
                                {
                                    "Title": "Chopsticks",
                                    "authors": "Jessica Anthony, Rodrigo Corral"
                                },
                                {
                                    "Title": "The Dresden Files:  Storm Front, Volume 1-  The Gathering Storm",
                                    "authors": "Jim Butcher, Mark Powers, Ardian Syaf"
                                },
                                {
                                    "Title": "Fresh Wind, Fresh Fire: What Happens When God's Spirit Invades the Heart of His People",
                                    "authors": "Jim Cymbala, Dean Merrill"
                                },
                                {
                                    "Title": "Big Red (Big Red, #1)",
                                    "authors": "Jim Kjelgaard, Carl Pfeuffer"
                                },
                                {
                                    "Title": "Justice, Volume 1",
                                    "authors": "Jim Krueger, Alex Ross, Doug Braithwaite"
                                },
                                {
                                    "Title": "The Power of Full Engagement: Managing Energy, Not Time, Is the Key to High Performance and Personal Renewal",
                                    "authors": "Jim Loehr, Tony Schwartz"
                                },
                                {
                                    "Title": "Batman: A Death in the Family",
                                    "authors": "Jim Starlin, Jim Aparo, Mike DeCarlo"
                                },
                                {
                                    "Title": "Deadman Wonderland, Volume 1 (Deadman Wonderland, #1)",
                                    "authors": "Jinsei Kataoka, Kazuma Kondou"
                                },
                                {
                                    "Title": "The Son",
                                    "authors": "Jo Nesbø, Charlotte Barslund"
                                },
                                {
                                    "Title": "Phantom (Harry Hole, #9)",
                                    "authors": "Jo Nesbø, Don Bartlett"
                                },
                                {
                                    "Title": "Cockroaches (Harry Hole, #2)",
                                    "authors": "Jo Nesbø, Don Bartlett"
                                },
                                {
                                    "Title": "Headhunters",
                                    "authors": "Jo Nesbø, Don Bartlett"
                                },
                                {
                                    "Title": "Police (Harry Hole, #10)",
                                    "authors": "Jo Nesbø, Don Bartlett"
                                },
                                {
                                    "Title": "Nemesis (Harry Hole, #4)",
                                    "authors": "Jo Nesbø, Don Bartlett"
                                },
                                {
                                    "Title": "The Redbreast (Harry Hole, #3)",
                                    "authors": "Jo Nesbø, Don Bartlett"
                                },
                                {
                                    "Title": "The Snowman (Harry Hole, #7)",
                                    "authors": "Jo Nesbø, Don Bartlett"
                                },
                                {
                                    "Title": "Flaggermusmannen (Harry Hole, #1)",
                                    "authors": "Jo Nesbø, Don Bartlett"
                                },
                                {
                                    "Title": "Blood on Snow (Blood on Snow, #1)",
                                    "authors": "Jo Nesbø, Neil Smith"
                                },
                                {
                                    "Title": "The Wolves of Willoughby Chase (The Wolves Chronicles, #1)",
                                    "authors": "Joan Aiken, Pat Marriott"
                                },
                                {
                                    "Title": "Play It as It Lays",
                                    "authors": "Joan Didion, David Thomson"
                                },
                                {
                                    "Title": "Inside the Human Body (The Magic School Bus, #3)",
                                    "authors": "Joanna Cole, Bruce Degen"
                                },
                                {
                                    "Title": "Between the Lines (Between the Lines, #1)",
                                    "authors": "Jodi Picoult, Samantha van Leer"
                                },
                                {
                                    "Title": "20th Century Ghosts",
                                    "authors": "Joe Hill, Christopher Golden"
                                },
                                {
                                    "Title": "Locke & Key, Vol. 2: Head Games",
                                    "authors": "Joe Hill, Gabriel Rodríguez"
                                },
                                {
                                    "Title": "Locke & Key, Vol. 1: Welcome to Lovecraft",
                                    "authors": "Joe Hill, Gabriel Rodríguez"
                                },
                                {
                                    "Title": "Locke & Key, Vol. 6: Alpha & Omega",
                                    "authors": "Joe Hill, Gabriel Rodríguez"
                                },
                                {
                                    "Title": "Locke & Key, Vol. 5: Clockworks",
                                    "authors": "Joe Hill, Gabriel Rodríguez"
                                },
                                {
                                    "Title": "Locke & Key, Vol. 4: Keys to the Kingdom",
                                    "authors": "Joe Hill, Gabriel Rodríguez"
                                },
                                {
                                    "Title": "Locke & Key, Vol. 3: Crown of Shadows",
                                    "authors": "Joe Hill, Gabriel Rodríguez"
                                },
                                {
                                    "Title": "What Every Body is Saying: An Ex-FBI Agent's Guide to Speed-Reading People",
                                    "authors": "Joe Navarro, Marvin Karlins"
                                },
                                {
                                    "Title": "Palestine",
                                    "authors": "Joe Sacco, Edward Said"
                                },
                                {
                                    "Title": "The Swiss Family Robinson  ",
                                    "authors": "Johann David Wyss, Scott McKowen, Arthur Pober"
                                },
                                {
                                    "Title": "The Sorrows of Young Werther",
                                    "authors": "Johann Wolfgang von Goethe, Burton Pike"
                                },
                                {
                                    "Title": "Faust: First Part",
                                    "authors": "Johann Wolfgang von Goethe, Peter Salm"
                                },
                                {
                                    "Title": "Faust",
                                    "authors": "Johann Wolfgang von Goethe, Walter Kaufmann"
                                },
                                {
                                    "Title": "Heidi",
                                    "authors": "Johanna Spyri, Angelo  Rinaldi, Beverly Cleary"
                                },
                                {
                                    "Title": "March: Book One (March, #1)",
                                    "authors": "John             Lewis, Andrew Aydin, Nate Powell"
                                },
                                {
                                    "Title": "Stoner",
                                    "authors": "John  Williams, John McGahern"
                                },
                                {
                                    "Title": "The 21 Irrefutable Laws of Leadership: Follow Them and People Will Follow You",
                                    "authors": "John C. Maxwell, Zig Ziglar"
                                },
                                {
                                    "Title": "The Great Brain (Great Brain #1)",
                                    "authors": "John D. Fitzgerald, Mercer Mayer"
                                },
                                {
                                    "Title": "The History of the Hobbit, Part One: Mr. Baggins",
                                    "authors": "John D. Rateliff, J.R.R. Tolkien"
                                },
                                {
                                    "Title": "The Sacred Romance Drawing Closer To The Heart Of God",
                                    "authors": "John Eldredge, Brent Curtis"
                                },
                                {
                                    "Title": "Captivating: Unveiling the Mystery of a Woman's Soul",
                                    "authors": "John Eldredge, Stasi Eldredge"
                                },
                                {
                                    "Title": "Ask the Dust (Arturo Bandini, #3)",
                                    "authors": "John Fante, Charles Bukowski"
                                },
                                {
                                    "Title": "Foxe's Book of Martyrs",
                                    "authors": "John Foxe, W. Grinton Berry"
                                },
                                {
                                    "Title": "Will Grayson, Will Grayson",
                                    "authors": "John Green, David Levithan"
                                },
                                {
                                    "Title": "Let It Snow: Three Holiday Romances",
                                    "authors": "John Green, Maureen Johnson, Lauren Myracle"
                                },
                                {
                                    "Title": "Theodore Boone: Kid Lawyer (Theodore Boone, #1)",
                                    "authors": "John Grisham, Richard Thomas"
                                },
                                {
                                    "Title": "Game Change: Obama and the Clintons, McCain and Palin, and the Race of a Lifetime",
                                    "authors": "John Heilemann, Mark Halperin"
                                },
                                {
                                    "Title": "The Improbable Adventures of Sherlock Holmes",
                                    "authors": "John Joseph Adams, Robert J. Sawyer, Stephen King, Michael Moorcock, Sharyn McCrumb, Stephen Baxter, Anne Perry, Barbara Hambly, Tanith Lee, Neil Gaiman, Rob Rogers, Naomi Novik, Anthony Burgess, Dominic Green, Laurie R. King, Barbara Roden, Peter Tremayne, Tim Lebbon, Bradley H. Sinor, Edward D. Hoch, Vonda N. McIntyre, Darrell Schweitzer, Mary Robinette Kowal, H.Paul Jeffers, Geoffrey A. Landis, Amy Myers, Tony Pi, Chris Roberson, Mark Valentine"
                                },
                                {
                                    "Title": "A Confederacy of Dunces",
                                    "authors": "John Kennedy Toole, Walker Percy"
                                },
                                {
                                    "Title": "The Littles",
                                    "authors": "John Lawrence Peterson, Roberta Carter Clark"
                                },
                                {
                                    "Title": "Chew, Vol. 2: International Flavor",
                                    "authors": "John Layman, Rob Guillory"
                                },
                                {
                                    "Title": "Chew, Vol. 1: Taster's Choice",
                                    "authors": "John Layman, Rob Guillory"
                                },
                                {
                                    "Title": "Second Treatise of Government",
                                    "authors": "John Locke, C.B. Macpherson"
                                },
                                {
                                    "Title": "Two Treatises of Government",
                                    "authors": "John Locke, Peter Laslett, Raymond Geuss"
                                },
                                {
                                    "Title": "The Seven Principles for Making Marriage Work: A Practical Guide from the Country's Foremost Relationship Expert",
                                    "authors": "John M. Gottman, Nan Silver"
                                },
                                {
                                    "Title": "Paradise Lost",
                                    "authors": "John Milton, John      Leonard"
                                },
                                {
                                    "Title": "The Winter of Our Discontent",
                                    "authors": "John Steinbeck, Susan Shillinglaw"
                                },
                                {
                                    "Title": "Utilitarianism",
                                    "authors": "John Stuart Mill, George Sher"
                                },
                                {
                                    "Title": "Harry Potter and the Cursed Child - Parts One and Two (Harry Potter, #8)",
                                    "authors": "John Tiffany, Jack Thorne, J.K. Rowling"
                                },
                                {
                                    "Title": "Cash",
                                    "authors": "Johnny Cash, Patrick   Carr"
                                },
                                {
                                    "Title": "The True Story of the 3 Little Pigs",
                                    "authors": "Jon Scieszka, Lane Smith"
                                },
                                {
                                    "Title": "The Stinky Cheese Man and Other Fairly Stupid Tales",
                                    "authors": "Jon Scieszka, Lane Smith"
                                },
                                {
                                    "Title": "America (The Book): A Citizen's Guide to Democracy Inaction",
                                    "authors": "Jon Stewart, Ben Karlin, David Javerbaum, Rich Bloomquist, Steve Bodow, Tim Carvell, Eric Drysdale, J.R. Havlan, Scott Jacobson, Tom Johnson, Rob Kutner, Chris Regan, Jason Reich, Jason Ross, Stephen Colbert, Samantha Bee, Rob Corddry, Brendan Hay, Ed Helms"
                                },
                                {
                                    "Title": "Earth (The Book): A Visitor's Guide to the Human Race",
                                    "authors": "Jon Stewart, Rory Albanese, Kevin Bleyer, Rich Bloomquist, Steve Bodow, Tim Carvell, Wyatt Cenac, Hallie Haglund, J.R. Havlan, David Javerbaum, Elliott Kalan, Josh Lieb, Sam Means, Jo Miller, John Oliver, Daniel Radosh, Jason Ross"
                                },
                                {
                                    "Title": "The Monster at the End of this Book",
                                    "authors": "Jon Stone, Michael J. Smollin"
                                },
                                {
                                    "Title": "The Girl Who Saved the King of Sweden",
                                    "authors": "Jonas Jonasson, Rachel Willson-Broyles"
                                },
                                {
                                    "Title": "The Hundred-Year-Old Man Who Climbed Out of the Window and Disappeared",
                                    "authors": "Jonas Jonasson, Rod Bradbury"
                                },
                                {
                                    "Title": "The Ring of Solomon (Bartimaeus, #0.5)",
                                    "authors": "Jonathan Stroud, Simon  Jones"
                                },
                                {
                                    "Title": "Gulliver's Travels",
                                    "authors": "Jonathan Swift, Robert DeMaria Jr."
                                },
                                {
                                    "Title": "Joni: An Unforgettable Story",
                                    "authors": "Joni Eareckson Tada, Joe Musser"
                                },
                                {
                                    "Title": "The Aleph and Other Stories ",
                                    "authors": "Jorge Luis Borges, Andrew Hurley"
                                },
                                {
                                    "Title": "Collected Fictions",
                                    "authors": "Jorge Luis Borges, Andrew Hurley"
                                },
                                {
                                    "Title": "Ficciones",
                                    "authors": "Jorge Luis Borges, Anthony Kerrigan, Anthony Bonner"
                                },
                                {
                                    "Title": "Labyrinths:  Selected Stories and Other Writings",
                                    "authors": "Jorge Luis Borges, Donald A. Yates, James E. Irby, André Maurois"
                                },
                                {
                                    "Title": "Os Maias",
                                    "authors": "José Maria de Eça de Queirós, Ester de Lemos"
                                },
                                {
                                    "Title": "درخت زیبای من",
                                    "authors": "José Mauro de Vasconcelos, قاسم صنعوی"
                                },
                                {
                                    "Title": "Baltasar and Blimunda",
                                    "authors": "José Saramago, Giovanni Pontiero"
                                },
                                {
                                    "Title": "Blindness",
                                    "authors": "José Saramago, Giovanni Pontiero"
                                },
                                {
                                    "Title": "Death With Interruptions",
                                    "authors": "José Saramago, Margaret Jull Costa"
                                },
                                {
                                    "Title": "The Double",
                                    "authors": "José Saramago, Margaret Jull Costa"
                                },
                                {
                                    "Title": "All the Names",
                                    "authors": "José Saramago, Margaret Jull Costa"
                                },
                                {
                                    "Title": "Seeing",
                                    "authors": "José Saramago, Margaret Jull Costa"
                                },
                                {
                                    "Title": "The Power of Myth",
                                    "authors": "Joseph Campbell, Bill Moyers"
                                },
                                {
                                    "Title": "Heart of Darkness and Selected Short Fiction",
                                    "authors": "Joseph Conrad, A. Michael Matin"
                                },
                                {
                                    "Title": "Attack of the Fiend (The Last Apprentice / Wardstone Chronicles, #4)",
                                    "authors": "Joseph Delaney, Patrick  Arrasmith"
                                },
                                {
                                    "Title": "Night of the Soul Stealer (The Last Apprentice / Wardstone Chronicles, #3)",
                                    "authors": "Joseph Delaney, Patrick  Arrasmith"
                                },
                                {
                                    "Title": "Revenge of the Witch (The Last Apprentice / Wardstone Chronicles, #1)",
                                    "authors": "Joseph Delaney, Patrick  Arrasmith"
                                },
                                {
                                    "Title": "Curse of the Bane (The Last Apprentice / Wardstone Chronicles, #2)",
                                    "authors": "Joseph Delaney, Patrick  Arrasmith"
                                },
                                {
                                    "Title": "Welcome to Night Vale",
                                    "authors": "Joseph Fink, Jeffrey Cranor"
                                },
                                {
                                    "Title": "The Power of Your Subconscious Mind",
                                    "authors": "Joseph Murphy, Ian McMahan"
                                },
                                {
                                    "Title": "Fiddler on the Roof",
                                    "authors": "Joseph Stein, Jerry Bock, Sheldon Harnick"
                                },
                                {
                                    "Title": "Those Left Behind (Serenity, #1)",
                                    "authors": "Joss Whedon, Brett Matthews, Will Conrad"
                                },
                                {
                                    "Title": "Buffy the Vampire Slayer: The Long Way Home (Season 8, #1)",
                                    "authors": "Joss Whedon, Georges Jeanty"
                                },
                                {
                                    "Title": "Astonishing X-Men, Volume 1: Gifted",
                                    "authors": "Joss Whedon, John Cassaday"
                                },
                                {
                                    "Title": "Astonishing X-Men, Volume 2: Dangerous",
                                    "authors": "Joss Whedon, John Cassaday"
                                },
                                {
                                    "Title": "The Orange Girl",
                                    "authors": "Jostein Gaarder, James Anderson"
                                },
                                {
                                    "Title": "Sophie's World",
                                    "authors": "Jostein Gaarder, Paulette Møller"
                                },
                                {
                                    "Title": "The Solitaire Mystery: A Novel About Family and Destiny",
                                    "authors": "Jostein Gaarder, Sarah Jane Hails"
                                },
                                {
                                    "Title": "The Sound of Things Falling",
                                    "authors": "Juan Gabriel Vásquez, Anne McLean"
                                },
                                {
                                    "Title": "Pedro Páramo",
                                    "authors": "Juan Rulfo, Margaret Sayers Peden, Susan Sontag"
                                },
                                {
                                    "Title": "Cloudy With a Chance of Meatballs",
                                    "authors": "Judi Barrett, Ron Barrett"
                                },
                                {
                                    "Title": "Alexander and the Terrible, Horrible, No Good, Very Bad Day",
                                    "authors": "Judith Viorst, Ray Cruz"
                                },
                                {
                                    "Title": "The Silver Palate Cookbook",
                                    "authors": "Julee Rosso, Sheila Lukins, Michael McLaughlin"
                                },
                                {
                                    "Title": "Twenty Thousand Leagues Under the Sea",
                                    "authors": "Jules Verne, Anthony Bonner"
                                },
                                {
                                    "Title": "The Mysterious Island (Extraordinary Voyages, #12)",
                                    "authors": "Jules Verne, Caleb Carr, Jordan Stump"
                                },
                                {
                                    "Title": "Around the World in Eighty Days",
                                    "authors": "Jules Verne, Michael Glencross, Brian W. Aldiss"
                                },
                                {
                                    "Title": "My Life in France",
                                    "authors": "Julia Child, Alex Prud'Homme"
                                },
                                {
                                    "Title": "Mastering the Art of French Cooking",
                                    "authors": "Julia Child, Simone Beck, Louisette Bertholle"
                                },
                                {
                                    "Title": "The Gruffalo",
                                    "authors": "Julia Donaldson, Axel Scheffler"
                                },
                                {
                                    "Title": "By the Time You Read This, I'll Be Dead",
                                    "authors": "Julie Anne Peters, C.J. Bott"
                                },
                                {
                                    "Title": "The Invisible Bridge",
                                    "authors": "Julie Orringer, Arthur Morey"
                                },
                                {
                                    "Title": "Kamisama Kiss, Vol. 1",
                                    "authors": "Julietta Suzuki, Tomo Kimura"
                                },
                                {
                                    "Title": "Hopscotch",
                                    "authors": "Julio Cortázar, Gregory Rabassa"
                                },
                                {
                                    "Title": "Pandora Hearts 1巻",
                                    "authors": "Jun Mochizuki, 望月淳"
                                },
                                {
                                    "Title": "The Absent One (Department Q, #2)",
                                    "authors": "Jussi Adler-Olsen, K.E. Semmel"
                                },
                                {
                                    "Title": "The Keeper of Lost Causes (Department Q, #1)",
                                    "authors": "Jussi Adler-Olsen, Lisa Hartford"
                                },
                                {
                                    "Title": "The Lion King: A little Golden Book",
                                    "authors": "Justine Korman Fontes, Don Williams, Walt Disney Company"
                                },
                                {
                                    "Title": "Shattered",
                                    "authors": "K.R. Dwyer, Dean Koontz"
                                },
                                {
                                    "Title": "The Broken Wings",
                                    "authors": "Kahlil Gibran, Anthony R. Ferris"
                                },
                                {
                                    "Title": "Dream Dark (Caster Chronicles, #2.5)",
                                    "authors": "Kami Garcia, Margaret Stohl"
                                },
                                {
                                    "Title": "Beautiful Redemption (Caster Chronicles, #4)",
                                    "authors": "Kami Garcia, Margaret Stohl"
                                },
                                {
                                    "Title": "Beautiful Darkness (Caster Chronicles, #2)",
                                    "authors": "Kami Garcia, Margaret Stohl"
                                },
                                {
                                    "Title": "Beautiful Creatures (Caster Chronicles, #1)",
                                    "authors": "Kami Garcia, Margaret Stohl"
                                },
                                {
                                    "Title": "Beautiful Chaos (Caster Chronicles, #3)",
                                    "authors": "Kami Garcia, Margaret Stohl, Paz Pruneda"
                                },
                                {
                                    "Title": "Black Bird, Vol. 01 (Black Bird, #1)",
                                    "authors": "Kanoko Sakurakouji, JN Productions, Pancha Diaz"
                                },
                                {
                                    "Title": "Redemption (Redemption, #1)",
                                    "authors": "Karen Kingsbury, Gary Smalley"
                                },
                                {
                                    "Title": "Rejoice (Redemption, #4)",
                                    "authors": "Karen Kingsbury, Gary Smalley"
                                },
                                {
                                    "Title": "Reunion (Redemption, #5)",
                                    "authors": "Karen Kingsbury, Gary Smalley"
                                },
                                {
                                    "Title": "Return (Redemption, #3)",
                                    "authors": "Karen Kingsbury, Gary Smalley"
                                },
                                {
                                    "Title": "Remember (Redemption, #2)",
                                    "authors": "Karen Kingsbury, Gary Smalley"
                                },
                                {
                                    "Title": "The Communist Manifesto",
                                    "authors": "Karl Marx, Friedrich Engels, Gareth Stedman Jones"
                                },
                                {
                                    "Title": "Bear Snores On",
                                    "authors": "Karma Wilson, Jane Chapman"
                                },
                                {
                                    "Title": "Kimi ni Todoke: From Me to You, Vol. 1",
                                    "authors": "Karuho Shiina, Tomo Kimura"
                                },
                                {
                                    "Title": "The Readers of Broken Wheel Recommend",
                                    "authors": "Katarina Bivald, Alice Menzies"
                                },
                                {
                                    "Title": "The Awakening and Selected Stories",
                                    "authors": "Kate Chopin, Cynthia Brantley Johnson, Alyssa  Harad"
                                },
                                {
                                    "Title": "The Miraculous Journey of Edward Tulane",
                                    "authors": "Kate DiCamillo, Bagram Ibatoulline"
                                },
                                {
                                    "Title": "Because of Winn-Dixie",
                                    "authors": "Kate DiCamillo, Chris Sheban"
                                },
                                {
                                    "Title": "Flora and Ulysses: The Illuminated Adventures",
                                    "authors": "Kate DiCamillo, K.G. Campbell"
                                },
                                {
                                    "Title": "The Tale of Despereaux",
                                    "authors": "Kate DiCamillo, Timothy Basil Ering"
                                },
                                {
                                    "Title": "The Magician's Elephant",
                                    "authors": "Kate DiCamillo, Yoko Tanaka"
                                },
                                {
                                    "Title": "The One and Only Ivan",
                                    "authors": "Katherine Applegate, Patricia Castelao"
                                },
                                {
                                    "Title": "The Saggy Baggy Elephant (A Little Golden Book)",
                                    "authors": "Kathryn Jackson, Byron Jackson, Gustav Tenggren"
                                },
                                {
                                    "Title": "Tawny Scrawny Lion",
                                    "authors": "Kathryn Jackson, Gustav Tenggren"
                                },
                                {
                                    "Title": "Virals (Virals, #1)",
                                    "authors": "Kathy Reichs, Brendan Reichs"
                                },
                                {
                                    "Title": "Kisses from Katie: A Story of Relentless Love and Redemption",
                                    "authors": "Katie J. Davis, Beth Clark"
                                },
                                {
                                    "Title": "Akira, Vol. 1",
                                    "authors": "Katsuhiro Otomo, Yoko Umezawa, Linda M. York, Jo Duffy"
                                },
                                {
                                    "Title": "D.Gray-man, Volume 01",
                                    "authors": "Katsura Hoshino, Mayumi Kobayashi"
                                },
                                {
                                    "Title": "Eloise ",
                                    "authors": "Kay Thompson, Hilary Knight"
                                },
                                {
                                    "Title": "Blue Exorcist, Vol. 1  (Blue Exorcist, #1)",
                                    "authors": "Kazue Kato, John Werry"
                                },
                                {
                                    "Title": "The Devotion of Suspect X",
                                    "authors": "Keigo Higashino, Alexander O. Smith"
                                },
                                {
                                    "Title": "The Element: How Finding Your Passion Changes Everything",
                                    "authors": "Ken Robinson, Lou Aronica"
                                },
                                {
                                    "Title": "Hamlet: Screenplay, Introduction And Film Diary",
                                    "authors": "Kenneth Branagh, William Shakespeare"
                                },
                                {
                                    "Title": "The Wind in the Willows",
                                    "authors": "Kenneth Grahame, Gillian Avery"
                                },
                                {
                                    "Title": "The One Minute Manager",
                                    "authors": "Kenneth H. Blanchard, Spencer Johnson"
                                },
                                {
                                    "Title": "Quidditch Through the Ages",
                                    "authors": "Kennilworthy Whisp, J.K. Rowling"
                                },
                                {
                                    "Title": "Berserk, Vol. 1 (Berserk, #1)",
                                    "authors": "Kentaro Miura, Jason DeAngelis"
                                },
                                {
                                    "Title": "Influencer: The Power to Change Anything",
                                    "authors": "Kerry Patterson, Joseph Grenny, David Maxfield, Ron McMillan, Al Switzler"
                                },
                                {
                                    "Title": "Crucial Conversations: Tools for Talking When Stakes Are High",
                                    "authors": "Kerry Patterson, Joseph Grenny, Ron McMillan, Al Switzler, Stephen R. Covey"
                                },
                                {
                                    "Title": "Ruby Red (Precious Stone Trilogy, #1)",
                                    "authors": "Kerstin Gier, Anthea Bell"
                                },
                                {
                                    "Title": "Ghost in the Wires: My Adventures as the World's Most Wanted Hacker",
                                    "authors": "Kevin D. Mitnick, William L. Simon, Steve Wozniak"
                                },
                                {
                                    "Title": "The Boy Who Came Back from Heaven: A Remarkable Account of Miracles, Angels, and Life beyond This World",
                                    "authors": "Kevin Malarkey, Alex Malarkey"
                                },
                                {
                                    "Title": "The Wicked + The Divine, Vol. 1: The Faust Act",
                                    "authors": "Kieron Gillen, Jamie McKelvie, Matt Wilson, Clayton Cowles"
                                },
                                {
                                    "Title": "The Vow: The Kim & Krickitt Carpenter Story",
                                    "authors": "Kim Carpenter, John R. Perry, Krickitt Carpenter"
                                },
                                {
                                    "Title": "The War that Saved My Life (The War That Saved My Life #1)",
                                    "authors": "Kimberly Brubaker Bradley, مرضیه ورشوساز"
                                },
                                {
                                    "Title": "The Natural Way to Draw",
                                    "authors": "Kimon Nicolaides, Mamie Harmon"
                                },
                                {
                                    "Title": "Lucky Jim",
                                    "authors": "Kingsley Amis, David Lodge"
                                },
                                {
                                    "Title": "Yotsuba&!, Vol. 01 (Yotsuba&! #1)",
                                    "authors": "Kiyohiko Azuma, あずま きよひこ"
                                },
                                {
                                    "Title": "Hunger",
                                    "authors": "Knut Hamsun, George Egerton"
                                },
                                {
                                    "Title": "The Woman in the Dunes",
                                    "authors": "Kōbō Abe, E. Dale Saunders"
                                },
                                {
                                    "Title": "Hellsing, Vol. 01 (Hellsing, #1)",
                                    "authors": "Kohta Hirano, Duane Johnson"
                                },
                                {
                                    "Title": "Battle Royale",
                                    "authors": "Koushun Takami, Yuji Oniki"
                                },
                                {
                                    "Title": "Deep Kiss of Winter (Includes: Immortals After Dark, #8; Alien Huntress, #3.5)",
                                    "authors": "Kresley Cole, Gena Showalter"
                                },
                                {
                                    "Title": "The Bhagavad Gita",
                                    "authors": "Krishna-Dwaipayana Vyasa, Simon Brodbeck, Juan Mascaró"
                                },
                                {
                                    "Title": "Addicted to You (Addicted, #1)",
                                    "authors": "Krista Ritchie, Becca Ritchie"
                                },
                                {
                                    "Title": "Marvels",
                                    "authors": "Kurt Busiek, Alex Ross"
                                },
                                {
                                    "Title": "Rat Queens, Vol. 1: Sass & Sorcery",
                                    "authors": "Kurtis J. Wiebe, Roc Upchurch"
                                },
                                {
                                    "Title": "Please Look After Mom",
                                    "authors": "Kyung-Sook Shin, 신경숙, Chi-Young Kim"
                                },
                                {
                                    "Title": "The Marvelous Land of Oz (Oz, #2)",
                                    "authors": "L. Frank Baum, David McKee"
                                },
                                {
                                    "Title": "The Wonderful Wizard of Oz (Oz, #1)",
                                    "authors": "L. Frank Baum, W.W. Denslow"
                                },
                                {
                                    "Title": "Origins (The Vampire Diaries: Stefan's Diaries, #1)",
                                    "authors": "L.J. Smith, Kevin Williamson, Julie Plec"
                                },
                                {
                                    "Title": "The Ripper (The Vampire Diaries: Stefan's Diaries, #4)",
                                    "authors": "L.J. Smith, Kevin Williamson, Julie Plec"
                                },
                                {
                                    "Title": "Bloodlust (The Vampire Diaries: Stefan's Diaries, #2)",
                                    "authors": "L.J. Smith, Kevin Williamson, Julie Plec"
                                },
                                {
                                    "Title": "It's Not About the Bike: My Journey Back to Life",
                                    "authors": "Lance Armstrong, Sally Jenkins"
                                },
                                {
                                    "Title": "Tao Te Ching",
                                    "authors": "Lao Tzu, Gia-Fu Feng, Jane English, Chungliang Al Huang, Rowena Pattee Kryder, Toinette Lippe"
                                },
                                {
                                    "Title": "When the Game Was Ours",
                                    "authors": "Larry Bird, Earvin Johnson, Jackie MacMullan"
                                },
                                {
                                    "Title": "Red Phoenix (Red Phoenix #1)",
                                    "authors": "Larry Bond, Patrick Larkin"
                                },
                                {
                                    "Title": "Execution: The Discipline of Getting Things Done",
                                    "authors": "Larry Bossidy, Ram Charan, Charles Burck"
                                },
                                {
                                    "Title": "Lucifer's Hammer",
                                    "authors": "Larry Niven, Jerry Pournelle"
                                },
                                {
                                    "Title": "The Mote in God's Eye",
                                    "authors": "Larry Niven, Jerry Pournelle"
                                },
                                {
                                    "Title": "Footfall",
                                    "authors": "Larry Niven, Jerry Pournelle"
                                },
                                {
                                    "Title": "The Hypnotist (Joona Linna, #1)",
                                    "authors": "Lars Kepler, Ann Long"
                                },
                                {
                                    "Title": "The Nightmare (Joona Linna, #2)",
                                    "authors": "Lars Kepler, Laura A. Wideburg"
                                },
                                {
                                    "Title": "Like Water for Chocolate",
                                    "authors": "Laura Esquivel, Thomas  Christensen, Carol Christensen"
                                },
                                {
                                    "Title": "Little House on the Prairie (Little House, #2)",
                                    "authors": "Laura Ingalls Wilder, Garth Williams"
                                },
                                {
                                    "Title": "The Little House Collection (Little House, #1-9)",
                                    "authors": "Laura Ingalls Wilder, Garth Williams"
                                },
                                {
                                    "Title": "Little House in the Big Woods (Little House, #1)",
                                    "authors": "Laura Ingalls Wilder, Garth Williams"
                                },
                                {
                                    "Title": "On the Banks of Plum Creek  (Little House, #4)",
                                    "authors": "Laura Ingalls Wilder, Garth Williams"
                                },
                                {
                                    "Title": "By the Shores of Silver Lake  (Little House, #5)",
                                    "authors": "Laura Ingalls Wilder, Garth Williams"
                                },
                                {
                                    "Title": "These Happy Golden Years (Little House, #8)",
                                    "authors": "Laura Ingalls Wilder, Garth Williams"
                                },
                                {
                                    "Title": "The Long Winter (Little House, #6)",
                                    "authors": "Laura Ingalls Wilder, Garth Williams"
                                },
                                {
                                    "Title": "Little Town on the Prairie  (Little House, #7)",
                                    "authors": "Laura Ingalls Wilder, Garth Williams"
                                },
                                {
                                    "Title": "Farmer Boy (Little House, #3)",
                                    "authors": "Laura Ingalls Wilder, Garth Williams"
                                },
                                {
                                    "Title": "The First Four Years  (Little House, #9)",
                                    "authors": "Laura Ingalls Wilder, Garth Williams"
                                },
                                {
                                    "Title": "If You Take a Mouse to the Movies",
                                    "authors": "Laura Joffe Numeroff, Felicia Bond"
                                },
                                {
                                    "Title": "If You Give a Pig a Party",
                                    "authors": "Laura Joffe Numeroff, Felicia Bond"
                                },
                                {
                                    "Title": "If You Give a Cat a Cupcake",
                                    "authors": "Laura Joffe Numeroff, Felicia Bond"
                                },
                                {
                                    "Title": "If You Take a Mouse to School",
                                    "authors": "Laura Joffe Numeroff, Felicia Bond"
                                },
                                {
                                    "Title": "If You Give a Pig a Pancake ",
                                    "authors": "Laura Joffe Numeroff, Felicia Bond"
                                },
                                {
                                    "Title": "If You Give a Moose a Muffin",
                                    "authors": "Laura Joffe Numeroff, Felicia Bond"
                                },
                                {
                                    "Title": "If You Give a Mouse a Cookie",
                                    "authors": "Laura Joffe Numeroff, Felicia Bond"
                                },
                                {
                                    "Title": "An Invisible Thread: The True Story of an 11-Year-Old Panhandler, a Busy Sales Executive, and an Unlikely Meeting with Destiny",
                                    "authors": "Laura Schroff, Alex Tresniowski, Valerie Salembier"
                                },
                                {
                                    "Title": "A Lick of Frost (Merry Gentry, #6)",
                                    "authors": "Laurell K. Hamilton, Laural Merlington"
                                },
                                {
                                    "Title": "Girls' Night In",
                                    "authors": "Lauren Henderson, Chris Manby, Sarah Mlynowski, Jill A. Davis, Stella Duffy, Lisa Jewell, Marian Keyes, Sophie Kinsella, Adèle Lang, Carole Matthews, Anna Maxted, Megan McCafferty, Alisa Valdes, Isabel Wolff, Meg Cabot, Jessica Adams, Louise Bagshawe, Emily Barr, Jenny Colgan, Lynda Curnyn, Jennifer Weiner"
                                },
                                {
                                    "Title": "The Life and Opinions of Tristram Shandy, Gentleman",
                                    "authors": "Laurence Sterne, Melvyn New"
                                },
                                {
                                    "Title": "A Universe from Nothing: Why There Is Something Rather Than Nothing",
                                    "authors": "Lawrence M. Krauss, Richard Dawkins"
                                },
                                {
                                    "Title": "Troublemaker: Surviving Hollywood and Scientology",
                                    "authors": "Leah Remini, Rebecca Paley"
                                },
                                {
                                    "Title": "The Girl Who Was on Fire: Your Favorite Authors on Suzanne Collins' Hunger Games Trilogy",
                                    "authors": "Leah Wilson, Jennifer Lynn Barnes, Mary Borsellino, Sarah Rees Brennan, Terri  Clark, Bree Despain, Adrienne Kress, Sarah Darer Littman, Cara Lockwood, Elizabeth M. Rees, Carrie Ryan, Ned Vizzini, Lili Wilkinson, Blythe Woolston"
                                },
                                {
                                    "Title": "Night School",
                                    "authors": "Lee Child, Dick Hill"
                                },
                                {
                                    "Title": "Without Fail (Jack Reacher, #6)",
                                    "authors": "Lee Child, Dick Hill"
                                },
                                {
                                    "Title": "A Wanted Man (Jack Reacher, #17)",
                                    "authors": "Lee Child, Dick Hill"
                                },
                                {
                                    "Title": "Please Kill Me: The Uncensored Oral History of Punk",
                                    "authors": "Legs McNeil, Gillian McCain"
                                },
                                {
                                    "Title": "The Key to Midnight",
                                    "authors": "Leigh Nichols, Dean Koontz"
                                },
                                {
                                    "Title": "Shadow Fires",
                                    "authors": "Leigh Nichols, Dean Koontz"
                                },
                                {
                                    "Title": "The House of Thunder",
                                    "authors": "Leigh Nichols, Dean Koontz"
                                },
                                {
                                    "Title": "The Servants of Twilight",
                                    "authors": "Leigh Nichols, Dean Koontz"
                                },
                                {
                                    "Title": "The Eyes of Darkness",
                                    "authors": "Leigh Nichols, Dean Koontz"
                                },
                                {
                                    "Title": "A Series of Unfortunate Events Box: The Complete Wreck (Books 1-13)",
                                    "authors": "Lemony Snicket, Brett Helquist"
                                },
                                {
                                    "Title": "The Penultimate Peril (A Series of Unfortunate Events, #12)",
                                    "authors": "Lemony Snicket, Brett Helquist"
                                },
                                {
                                    "Title": "The End (A Series of Unfortunate Events, #13)",
                                    "authors": "Lemony Snicket, Brett Helquist"
                                },
                                {
                                    "Title": "The Grim Grotto (A Series of Unfortunate Events, #11)",
                                    "authors": "Lemony Snicket, Brett Helquist"
                                },
                                {
                                    "Title": "The Hostile Hospital (A Series of Unfortunate Events, #8)",
                                    "authors": "Lemony Snicket, Brett Helquist"
                                },
                                {
                                    "Title": "The Slippery Slope (A Series of Unfortunate Events, #10)",
                                    "authors": "Lemony Snicket, Brett Helquist"
                                },
                                {
                                    "Title": "The Carnivorous Carnival (A Series of Unfortunate Events, #9)",
                                    "authors": "Lemony Snicket, Brett Helquist"
                                },
                                {
                                    "Title": "The Ersatz Elevator (A Series of Unfortunate Events, #6)",
                                    "authors": "Lemony Snicket, Brett Helquist"
                                },
                                {
                                    "Title": "The Bad Beginning (A Series of Unfortunate Events, #1)",
                                    "authors": "Lemony Snicket, Brett Helquist"
                                },
                                {
                                    "Title": "The Reptile Room (A Series of Unfortunate Events, #2)",
                                    "authors": "Lemony Snicket, Brett Helquist"
                                },
                                {
                                    "Title": "The Miserable Mill (A Series of Unfortunate Events, #4)",
                                    "authors": "Lemony Snicket, Brett Helquist"
                                },
                                {
                                    "Title": "The Austere Academy (A Series of Unfortunate Events, #5)",
                                    "authors": "Lemony Snicket, Brett Helquist"
                                },
                                {
                                    "Title": "The Vile Village (A Series of Unfortunate Events, #7)",
                                    "authors": "Lemony Snicket, Brett Helquist"
                                },
                                {
                                    "Title": "The Wide Window (A Series of Unfortunate Events, #3)",
                                    "authors": "Lemony Snicket, Brett Helquist"
                                },
                                {
                                    "Title": "Who Could That Be at This Hour? (All the Wrong Questions, #1)",
                                    "authors": "Lemony Snicket, Seth"
                                },
                                {
                                    "Title": "Not That Kind of Girl: A Young Woman Tells You What She's \"Learned\"",
                                    "authors": "Lena Dunham, Joana Avillez"
                                },
                                {
                                    "Title": "The Boy in the Suitcase (Nina Borg, #1)",
                                    "authors": "Lene Kaaberbøl, Agnete Friis"
                                },
                                {
                                    "Title": "The Death of Ivan Ilych",
                                    "authors": "Leo Tolstoy, Aylmer Maude"
                                },
                                {
                                    "Title": "War and Peace",
                                    "authors": "Leo Tolstoy, Henry Gifford, Aylmer Maude, Louise Maude"
                                },
                                {
                                    "Title": "The Kreutzer Sonata",
                                    "authors": "Leo Tolstoy, Isai Kamen, Doris Lessing"
                                },
                                {
                                    "Title": "Resurrection",
                                    "authors": "Leo Tolstoy, Louise Maude, Aylmer Maude"
                                },
                                {
                                    "Title": "Anna Karenina",
                                    "authors": "Leo Tolstoy, Louise Maude, Leo Tolstoj, Aylmer Maude"
                                },
                                {
                                    "Title": "Leonardo's Notebooks",
                                    "authors": "Leonardo da Vinci, H. Anna Suh"
                                },
                                {
                                    "Title": "Streams in the Desert",
                                    "authors": "Lettie B. Cowman, James Reimann"
                                },
                                {
                                    "Title": "Alice's Adventures in Wonderland & Other Stories",
                                    "authors": "Lewis Carroll, John Tenniel"
                                },
                                {
                                    "Title": "Alice's Adventures in Wonderland",
                                    "authors": "Lewis Carroll, John Tenniel"
                                },
                                {
                                    "Title": "Alice's Adventures in Wonderland & Through the Looking-Glass",
                                    "authors": "Lewis Carroll, John Tenniel, Martin Gardner"
                                },
                                {
                                    "Title": "Through the Looking-Glass, and What Alice Found There",
                                    "authors": "Lewis Carroll, John Tenniel, Peter Glassman"
                                },
                                {
                                    "Title": "Strange Angels (Strange Angels, #1)",
                                    "authors": "Lili St. Crow, Lilith Saintcrow"
                                },
                                {
                                    "Title": "Defiance (Strange Angels, #4)",
                                    "authors": "Lili St. Crow, Lilith Saintcrow"
                                },
                                {
                                    "Title": "Betrayals (Strange Angels, #2)",
                                    "authors": "Lili St. Crow, Lilith Saintcrow"
                                },
                                {
                                    "Title": "Jealousy (Strange Angels, #3)",
                                    "authors": "Lili St. Crow, Lilith Saintcrow"
                                },
                                {
                                    "Title": "The Little Old Lady Who Was Not Afraid of Anything",
                                    "authors": "Linda Williams, Megan Lloyd"
                                },
                                {
                                    "Title": "Hamilton: The Revolution",
                                    "authors": "Lin-Manuel Miranda, Jeremy McCarter"
                                },
                                {
                                    "Title": "Tempt Me at Twilight (The Hathaways, #3)",
                                    "authors": "Lisa Kleypas, Rosalyn Landor"
                                },
                                {
                                    "Title": "The Dark Forest (Remembrance of Earth’s Past, #2)",
                                    "authors": "Liu Cixin, Joel Martinsen"
                                },
                                {
                                    "Title": "The Three-Body Problem (Remembrance of Earth’s Past, #1)",
                                    "authors": "Liu Cixin, Ken Liu"
                                },
                                {
                                    "Title": "The Tail of Emily Windsnap (Emily Windsnap, #1)",
                                    "authors": "Liz Kessler, Sarah Gibb"
                                },
                                {
                                    "Title": "Cinderella",
                                    "authors": "Loek Koopmans, Charles Perrault, Anthea Bell"
                                },
                                {
                                    "Title": "Sideways Stories from Wayside School (Wayside School #1)",
                                    "authors": "Louis Sachar, Adam McCauley"
                                },
                                {
                                    "Title": "Wayside School Is Falling Down (Wayside School #2)",
                                    "authors": "Louis Sachar, Joel Schick"
                                },
                                {
                                    "Title": "Holes (Holes, #1)",
                                    "authors": "Louis Sachar, Louis Sachar"
                                },
                                {
                                    "Title": "Journey to the End of the Night",
                                    "authors": "Louis-Ferdinand Céline, Ralph Manheim, William T. Vollmann"
                                },
                                {
                                    "Title": "The Knockoff",
                                    "authors": "Lucy Sykes, Jo Piazza"
                                },
                                {
                                    "Title": "Philosophical Investigations",
                                    "authors": "Ludwig Wittgenstein, G.E.M. Anscombe"
                                },
                                {
                                    "Title": "The Bite Before Christmas (Argeneau, #15.5; Night Huntress, #6.5)",
                                    "authors": "Lynsay Sands, Jeaniene Frost"
                                },
                                {
                                    "Title": "M.C. Escher: The Graphic Work",
                                    "authors": "M.C. Escher, Bruce Brooks Pfeiffer"
                                },
                                {
                                    "Title": "Extra Yarn (E. B. White Read-Aloud Award. Picture Books)",
                                    "authors": "Mac Barnett, Jon Klassen"
                                },
                                {
                                    "Title": "I Am Malala: The Story of the Girl Who Stood Up for Education and Was Shot by the Taliban",
                                    "authors": "Malala Yousafzai, Christina Lamb"
                                },
                                {
                                    "Title": "The Autobiography of Malcolm X",
                                    "authors": "Malcolm X, Alex Haley"
                                },
                                {
                                    "Title": "Stolen Lives: Twenty Years in a Desert Jail",
                                    "authors": "Malika Oufkir, Michèle Fitoussi"
                                },
                                {
                                    "Title": "Sherlock Holmes and the Case of the Hound of the Baskervilles (Illustrated Classic Editions)",
                                    "authors": "Malvina G. Vogel, Arthur Conan Doyle"
                                },
                                {
                                    "Title": "Stephen King's N.",
                                    "authors": "Marc Guggenheim, Alex Maleev, Stephen King"
                                },
                                {
                                    "Title": "Swann's Way (In Search of Lost Time, #1)",
                                    "authors": "Marcel Proust, Simon Vance, Lydia Davis"
                                },
                                {
                                    "Title": "Essentials of Classic Italian Cooking",
                                    "authors": "Marcella Hazan, Karin Kretschmann"
                                },
                                {
                                    "Title": "Meditations",
                                    "authors": "Marcus Aurelius, Martin Hammond, Diskin Clay"
                                },
                                {
                                    "Title": "First, Break All the Rules: What the World's Greatest Managers Do Differently",
                                    "authors": "Marcus Buckingham, Curt Coffman"
                                },
                                {
                                    "Title": "Now, Discover Your Strengths",
                                    "authors": "Marcus Buckingham, Donald O. Clifton"
                                },
                                {
                                    "Title": "Lone Survivor: The Eyewitness Account of Operation Redwing and the Lost Heroes of SEAL Team 10",
                                    "authors": "Marcus Luttrell, Patrick Robinson"
                                },
                                {
                                    "Title": "The Rainbow Fish",
                                    "authors": "Marcus Pfister, J. Alison James"
                                },
                                {
                                    "Title": "Alias Grace",
                                    "authors": "Margaret Atwood, Brigitte Walitzek"
                                },
                                {
                                    "Title": "Dragons of Autumn Twilight  (Dragonlance: Chronicles, #1)",
                                    "authors": "Margaret Weis, Tracy Hickman"
                                },
                                {
                                    "Title": "Dragons of Spring Dawning (Dragonlance: Chronicles, #3)",
                                    "authors": "Margaret Weis, Tracy Hickman"
                                },
                                {
                                    "Title": "Time of the Twins (Dragonlance: Legends, #1)",
                                    "authors": "Margaret Weis, Tracy Hickman"
                                },
                                {
                                    "Title": "War of the Twins (Dragonlance: Legends, #2)",
                                    "authors": "Margaret Weis, Tracy Hickman"
                                },
                                {
                                    "Title": "Test of the Twins (Dragonlance: Legends, #3)",
                                    "authors": "Margaret Weis, Tracy Hickman"
                                },
                                {
                                    "Title": "Dragon Wing (The Death Gate Cycle, #1)",
                                    "authors": "Margaret Weis, Tracy Hickman"
                                },
                                {
                                    "Title": "Dragons of Winter Night (Dragonlance: Chronicles, #2)",
                                    "authors": "Margaret Weis, Tracy Hickman"
                                },
                                {
                                    "Title": "Elven Star (The Death Gate Cycle, #2)",
                                    "authors": "Margaret Weis, Tracy Hickman"
                                },
                                {
                                    "Title": "Dragons of Summer Flame (Dragonlance: The Second Generation, #2)",
                                    "authors": "Margaret Weis, Tracy Hickman"
                                },
                                {
                                    "Title": "The Hand of Chaos (The Death Gate Cycle, #5)",
                                    "authors": "Margaret Weis, Tracy Hickman"
                                },
                                {
                                    "Title": "Fire Sea (The Death Gate Cycle, #3)",
                                    "authors": "Margaret Weis, Tracy Hickman"
                                },
                                {
                                    "Title": "The Seventh Gate (The Death Gate Cycle, #7)",
                                    "authors": "Margaret Weis, Tracy Hickman"
                                },
                                {
                                    "Title": "Into the Labyrinth (The Death Gate Cycle, #6)",
                                    "authors": "Margaret Weis, Tracy Hickman"
                                },
                                {
                                    "Title": "Dragonlance Chronicles (Dragonlance #1-3)",
                                    "authors": "Margaret Weis, Tracy Hickman"
                                },
                                {
                                    "Title": "Serpent Mage (The Death Gate Cycle, #4)",
                                    "authors": "Margaret Weis, Tracy Hickman"
                                },
                                {
                                    "Title": "The Runaway Bunny",
                                    "authors": "Margaret Wise Brown, Clement Hurd"
                                },
                                {
                                    "Title": "Goodnight Moon",
                                    "authors": "Margaret Wise Brown, Clement Hurd"
                                },
                                {
                                    "Title": "The Velveteen Rabbit",
                                    "authors": "Margery Williams Bianco, William   Nicholson"
                                },
                                {
                                    "Title": "The Complete Adventures of Curious George",
                                    "authors": "Margret Rey, H.A. Rey"
                                },
                                {
                                    "Title": "Curious George Goes to the Hospital",
                                    "authors": "Margret Rey, H.A. Rey"
                                },
                                {
                                    "Title": "Curious George Visits the Library",
                                    "authors": "Margret Rey, H.A. Rey, Martha Weston"
                                },
                                {
                                    "Title": "The Lover",
                                    "authors": "Marguerite Duras, Barbara Bray, Maxine Hong Kingston"
                                },
                                {
                                    "Title": "Misty of Chincoteague (Misty, #1)",
                                    "authors": "Marguerite Henry, Wesley Dennis"
                                },
                                {
                                    "Title": "King of the Wind: The Story of the Godolphin Arabian",
                                    "authors": "Marguerite Henry, Wesley Dennis"
                                },
                                {
                                    "Title": "The Time in Between",
                                    "authors": "María Dueñas, Daniel Hahn"
                                },
                                {
                                    "Title": "The Life-Changing Magic of Tidying Up: The Japanese Art of Decluttering and Organizing",
                                    "authors": "Marie Kondō, Cathy Hirano"
                                },
                                {
                                    "Title": "This One Summer",
                                    "authors": "Mariko Tamaki, Jillian Tamaki"
                                },
                                {
                                    "Title": "The Long Hard Road Out of Hell",
                                    "authors": "Marilyn Manson, Neil Strauss"
                                },
                                {
                                    "Title": "The Godfather",
                                    "authors": "Mario Puzo, Robert Thompson, Peter Bart"
                                },
                                {
                                    "Title": "The Feast of the Goat",
                                    "authors": "Mario Vargas Llosa, Edith Grossman"
                                },
                                {
                                    "Title": "Aunt Julia and the Scriptwriter",
                                    "authors": "Mario Vargas Llosa, Helen R. Lane"
                                },
                                {
                                    "Title": "The Fannie Farmer Cookbook: Anniversary",
                                    "authors": "Marion Cunningham, Fannie Merritt Farmer, Archibald Candy Corporation"
                                },
                                {
                                    "Title": "Lady of Avalon (Avalon, #3)",
                                    "authors": "Marion Zimmer Bradley, Diana L. Paxson"
                                },
                                {
                                    "Title": "The Forest House (Avalon, #2)",
                                    "authors": "Marion Zimmer Bradley, Diana L. Paxson"
                                },
                                {
                                    "Title": "Priestess of Avalon (Avalon, #4)",
                                    "authors": "Marion Zimmer Bradley, Diana L. Paxson"
                                },
                                {
                                    "Title": "Embroideries",
                                    "authors": "Marjane Satrapi, Anjali Singh"
                                },
                                {
                                    "Title": "Persepolis 2: The Story of a Return (Persepolis, #2)",
                                    "authors": "Marjane Satrapi, Anjali Singh"
                                },
                                {
                                    "Title": "Persepolis: The Story of a Childhood (Persepolis, #1)",
                                    "authors": "Marjane Satrapi, Mattias Ripa"
                                },
                                {
                                    "Title": "The Complete Persepolis",
                                    "authors": "Marjane Satrapi, Mattias Ripa, Blake Ferris, Anjali Singh"
                                },
                                {
                                    "Title": "The Story About Ping",
                                    "authors": "Marjorie Flack, Kurt Wiese"
                                },
                                {
                                    "Title": "Wanted",
                                    "authors": "Mark Millar, J.G. Jones, Brian K. Vaughan"
                                },
                                {
                                    "Title": "Kick-Ass (Kick-Ass, #1)",
                                    "authors": "Mark Millar, John Romita Jr., Rob Liefeld"
                                },
                                {
                                    "Title": "Superman: Red Son",
                                    "authors": "Mark Millar, Kilian Plunkett, Andrew Robinson, Walden Wong, Dave Johnson"
                                },
                                {
                                    "Title": "Civil War: A Marvel Comics Event",
                                    "authors": "Mark Millar, Steve McNiven, Dexter Vines, Morry Hollowell"
                                },
                                {
                                    "Title": "No Easy Day: The Firsthand Account of the Mission That Killed Osama Bin Laden",
                                    "authors": "Mark Owen, Kevin Maurer"
                                },
                                {
                                    "Title": "The Prince and the Pauper",
                                    "authors": "Mark Twain, Everett H. Emerson"
                                },
                                {
                                    "Title": "The Adventures of Tom Sawyer",
                                    "authors": "Mark Twain, Guy Cardwell, John Seelye"
                                },
                                {
                                    "Title": "The Adventures of Huckleberry Finn",
                                    "authors": "Mark Twain, John Seelye, Guy Cardwell"
                                },
                                {
                                    "Title": "Kingdom Come",
                                    "authors": "Mark Waid, Alex Ross, Elliot S. Maggin"
                                },
                                {
                                    "Title": "Superman: Birthright",
                                    "authors": "Mark Waid, Alfred Gough, Miles Millar, Dave McCaig, Gerry Alanguilan, Leinil Francis Yu"
                                },
                                {
                                    "Title": "What Got You Here Won't Get You There: How Successful People Become Even More Successful",
                                    "authors": "Marshall Goldsmith, Mark Reiter"
                                },
                                {
                                    "Title": "The Medium is the Massage",
                                    "authors": "Marshall McLuhan, Quentin Fiore, Jerome Agel"
                                },
                                {
                                    "Title": "Martha Stewart's Cookies: The Very Best Treats to Bake and to Share",
                                    "authors": "Martha Stewart, Victor Schrager"
                                },
                                {
                                    "Title": "The Autobiography of Martin Luther King, Jr.",
                                    "authors": "Martin Luther King Jr., Clayborne Carson"
                                },
                                {
                                    "Title": "Ghost Boy",
                                    "authors": "Martin Pistorius, Megan Lloyd Davies"
                                },
                                {
                                    "Title": "Owl Babies",
                                    "authors": "Martin Waddell, Patrick Benson"
                                },
                                {
                                    "Title": "Crisis on Infinite Earths",
                                    "authors": "Marv Wolfman, George Pérez"
                                },
                                {
                                    "Title": "The Guernsey Literary and Potato Peel Pie Society",
                                    "authors": "Mary Ann Shaffer, Annie Barrows"
                                },
                                {
                                    "Title": "Choosing to SEE",
                                    "authors": "Mary Beth Chapman, Steven Curtis Chapman"
                                },
                                {
                                    "Title": "The Cinderella Murder (Under Suspicion, #2)",
                                    "authors": "Mary Higgins Clark, Alafair Burke"
                                },
                                {
                                    "Title": "I've Got You Under My Skin (Under Suspicion, #1)",
                                    "authors": "Mary Higgins Clark, Alafair Burke"
                                },
                                {
                                    "Title": "Amazing Grace",
                                    "authors": "Mary Hoffman, Caroline Binch"
                                },
                                {
                                    "Title": "The Borrowers (The Borrowers, #1)",
                                    "authors": "Mary Norton, Beth Krush, Joe Krush"
                                },
                                {
                                    "Title": "My Friend Flicka (Flicka, #1)",
                                    "authors": "Mary O'Hara, Dave Blossom"
                                },
                                {
                                    "Title": "Dinosaurs Before Dark (Magic Tree House, #1)",
                                    "authors": "Mary Pope Osborne, Salvatore Murdocca"
                                },
                                {
                                    "Title": "The Knight at Dawn (Magic Tree House, #2)",
                                    "authors": "Mary Pope Osborne, Salvatore Murdocca"
                                },
                                {
                                    "Title": "Mummies in the Morning (Magic Tree House, #3)",
                                    "authors": "Mary Pope Osborne, Salvatore Murdocca"
                                },
                                {
                                    "Title": "Absent In The Spring",
                                    "authors": "Mary Westmacott, Agatha Christie"
                                },
                                {
                                    "Title": "Frankenstein",
                                    "authors": "Mary Wollstonecraft Shelley, Percy Bysshe Shelley, Maurice Hindle"
                                },
                                {
                                    "Title": "Percy Jackson & the Olympians:  The Ultimate Guide",
                                    "authors": "Mary-Jane Knight, Rick Riordan"
                                },
                                {
                                    "Title": "Kare Kano: His and Her Circumstances, Vol. 1",
                                    "authors": "Masami Tsuda, Darcy Lockman, Jack Niida"
                                },
                                {
                                    "Title": "The Hidden Messages in Water",
                                    "authors": "Masaru Emoto, David A. Thayne"
                                },
                                {
                                    "Title": "Naruto, Vol. 11: Impassioned Efforts (Naruto, #11)",
                                    "authors": "Masashi Kishimoto, Frances Wall"
                                },
                                {
                                    "Title": "Naruto, Vol. 01: The Tests of the Ninja (Naruto, #1)",
                                    "authors": "Masashi Kishimoto, Katy Bridges"
                                },
                                {
                                    "Title": "Three Little Kittens",
                                    "authors": "Masha, Marie Simchow Stern"
                                },
                                {
                                    "Title": "Vampire Knight, Vol. 9",
                                    "authors": "Matsuri Hino, Tomo Kimura"
                                },
                                {
                                    "Title": "Vampire Knight, Vol. 4 (Vampire Knight, #4)",
                                    "authors": "Matsuri Hino, Tomo Kimura"
                                },
                                {
                                    "Title": "Vampire Knight, Vol. 2 (Vampire Knight, #2)",
                                    "authors": "Matsuri Hino, Tomo Kimura"
                                },
                                {
                                    "Title": "Vampire Knight, Vol. 3 (Vampire Knight, #3)",
                                    "authors": "Matsuri Hino, Tomo Kimura"
                                },
                                {
                                    "Title": "Vampire Knight, Vol. 1 (Vampire Knight, #1)",
                                    "authors": "Matsuri Hino, Tomo Kimura"
                                },
                                {
                                    "Title": "Sex Criminals, Vol. 1: One Weird Trick",
                                    "authors": "Matt Fraction, Chip Zdarsky"
                                },
                                {
                                    "Title": "Hawkeye, Volume 2: Little Hits",
                                    "authors": "Matt Fraction, David Aja, Francesco Francavilla, Steve Lieber, Jesse Hamm, Annie Wu, Matt Hollingsworth, Chris Eliopoulos"
                                },
                                {
                                    "Title": "Hawkeye, Volume 1: My Life as a Weapon",
                                    "authors": "Matt Fraction, David Aja, Javier Pulido, Matt Hollingsworth, Chris Eliopoulos, Alan Davis"
                                },
                                {
                                    "Title": "How to Tell If Your Cat Is Plotting to Kill You",
                                    "authors": "Matthew Inman, The Oatmeal"
                                },
                                {
                                    "Title": "Betsy-Tacy (Betsy-Tacy, #1)",
                                    "authors": "Maud Hart Lovelace, Lois Lenski"
                                },
                                {
                                    "Title": "キスよりも早く1 [Kisu Yorimo Hayaku 1] (Faster than a Kiss #1)",
                                    "authors": "Meca Tanaka, 田中メカ"
                                },
                                {
                                    "Title": "Judy Moody (Judy Moody, # 1)",
                                    "authors": "Megan McDonald, Peter H. Reynolds"
                                },
                                {
                                    "Title": "How I Became a Pirate",
                                    "authors": "Melinda Long, David Shannon"
                                },
                                {
                                    "Title": "Harry, a History: The True Story of a Boy Wizard, His Fans, and Life Inside the Harry Potter Phenomenon",
                                    "authors": "Melissa Anelli, J.K. Rowling"
                                },
                                {
                                    "Title": "Anne Frank : The Biography",
                                    "authors": "Melissa Müller, Rita Kimber, Robert Kimber"
                                },
                                {
                                    "Title": "Time for Bed",
                                    "authors": "Mem Fox, Jane Dyer"
                                },
                                {
                                    "Title": "Tokyo Mew Mew, Vol. 1 (Tokyo Mew Mew, #1)",
                                    "authors": "Mia Ikumi, Reiko Yoshida"
                                },
                                {
                                    "Title": "Holy Blood, Holy Grail",
                                    "authors": "Michael Baigent, Richard Leigh, Henry Lincoln"
                                },
                                {
                                    "Title": "A Bear Called Paddington (Paddington, #1)",
                                    "authors": "Michael Bond, Peggy Fortnum"
                                },
                                {
                                    "Title": "The Fairy-Tale Detectives (The Sisters Grimm, #1)",
                                    "authors": "Michael Buckley, Peter Ferguson"
                                },
                                {
                                    "Title": "The Everafter War (The Sisters Grimm, #7)",
                                    "authors": "Michael Buckley, Peter Ferguson"
                                },
                                {
                                    "Title": "Magic and Other Misdemeanors (The Sisters Grimm, #5)",
                                    "authors": "Michael Buckley, Peter Ferguson"
                                },
                                {
                                    "Title": "Once Upon a Crime (The Sisters Grimm, #4)",
                                    "authors": "Michael Buckley, Peter Ferguson"
                                },
                                {
                                    "Title": "Tales From the Hood (The Sisters Grimm, #6)",
                                    "authors": "Michael Buckley, Peter Ferguson"
                                },
                                {
                                    "Title": "The Unusual Suspects (The Sisters Grimm, #2)",
                                    "authors": "Michael Buckley, Peter Ferguson"
                                },
                                {
                                    "Title": "The Problem Child (The Sisters Grimm, #3)",
                                    "authors": "Michael Buckley, Peter Ferguson"
                                },
                                {
                                    "Title": "Gentlemen of the Road",
                                    "authors": "Michael Chabon, Gary Gianni"
                                },
                                {
                                    "Title": "Wonder Boys",
                                    "authors": "Michael Chabon, Hans Hermann"
                                },
                                {
                                    "Title": "The Final Solution",
                                    "authors": "Michael Chabon, Jay Ryan"
                                },
                                {
                                    "Title": "Micro",
                                    "authors": "Michael Crichton, Richard   Preston"
                                },
                                {
                                    "Title": "Avatar Volume 1: The Last Airbender (Avatar #1)",
                                    "authors": "Michael Dante DiMartino, Bryan Konietzko"
                                },
                                {
                                    "Title": "The Neverending Story",
                                    "authors": "Michael Ende, Ralph Manheim, Roswitha Quadflieg"
                                },
                                {
                                    "Title": "We're Going on a Bear Hunt",
                                    "authors": "Michael Rosen, Helen Oxenbury"
                                },
                                {
                                    "Title": "Shakespeare's Romeo and Juliet",
                                    "authors": "Michael Rosen, Jane Ray"
                                },
                                {
                                    "Title": "The Little Mermaid",
                                    "authors": "Michael Teitelbaum, Sue DiCicco"
                                },
                                {
                                    "Title": "Sleeping Beauty: a Little Golden Book (Disney Princess)",
                                    "authors": "Michael Teitelbaum, Walt Disney Company"
                                },
                                {
                                    "Title": "Discipline and Punish: The Birth of the Prison",
                                    "authors": "Michel Foucault, Alan Sheridan, Thomas Mathiesen, Walter Seitter, Drago Braco Rotar"
                                },
                                {
                                    "Title": "The History of Sexuality, Volume 1: An Introduction",
                                    "authors": "Michel Foucault, Robert Hurley"
                                },
                                {
                                    "Title": "The Elementary Particles",
                                    "authors": "Michel Houellebecq, Frank Wynne"
                                },
                                {
                                    "Title": "Finding Me: A Decade of Darkness, a Life Reclaimed - A Memoir of the Cleveland Kidnappings",
                                    "authors": "Michelle Knight, Michelle Burford"
                                },
                                {
                                    "Title": "Wolf Brother (Chronicles of Ancient Darkness, #1)",
                                    "authors": "Michelle Paver, Geoff Taylor"
                                },
                                {
                                    "Title": "Vampire Academy: The Ultimate Guide (Vampire Academy)",
                                    "authors": "Michelle Rowen, Richelle Mead"
                                },
                                {
                                    "Title": "Anne Frank Remembered: The Story of the Woman Who Helped to Hide the Frank Family",
                                    "authors": "Miep Gies, Alison Leslie Gold"
                                },
                                {
                                    "Title": "Don Quixote",
                                    "authors": "Miguel de Cervantes Saavedra, Roberto González Echevarría, John Rutherford"
                                },
                                {
                                    "Title": "سینوهه",
                                    "authors": "Mika Waltari, ذبیح‌الله منصوری"
                                },
                                {
                                    "Title": "The Unwritten, Vol. 1: Tommy Taylor and the Bogus Identity",
                                    "authors": "Mike Carey, Bill Willingham, Peter Gross"
                                },
                                {
                                    "Title": "Neil Gaiman's Neverwhere",
                                    "authors": "Mike Carey, Glenn Fabry, Neil Gaiman"
                                },
                                {
                                    "Title": "Hellboy, Vol. 1: Seed of Destruction (Hellboy, #1)",
                                    "authors": "Mike Mignola, John Byrne"
                                },
                                {
                                    "Title": "The Master and Margarita",
                                    "authors": "Mikhail Bulgakov, Katherine Tiernan O'Connor, Diana Burgin, Ellendea Proffer"
                                },
                                {
                                    "Title": "Heart of a Dog",
                                    "authors": "Mikhail Bulgakov, Mirra Ginsburg, Mikhail Bulgakov"
                                },
                                {
                                    "Title": "A Hero of Our Time",
                                    "authors": "Mikhail Lermontov, Paul Foote"
                                },
                                {
                                    "Title": "Auschwitz: A Doctor's Eyewitness Account",
                                    "authors": "Miklós Nyiszli, Tibère Kremer, Bruno Bettelheim, Richard Seaver"
                                },
                                {
                                    "Title": "Life is Elsewhere",
                                    "authors": "Milan Kundera, Aaron Asher"
                                },
                                {
                                    "Title": "The Book of Laughter and Forgetting",
                                    "authors": "Milan Kundera, Aaron Asher"
                                },
                                {
                                    "Title": "Slowness",
                                    "authors": "Milan Kundera, Linda Asher"
                                },
                                {
                                    "Title": "Ignorance",
                                    "authors": "Milan Kundera, Linda Asher"
                                },
                                {
                                    "Title": "Identity",
                                    "authors": "Milan Kundera, Linda Asher"
                                },
                                {
                                    "Title": "The Unbearable Lightness of Being",
                                    "authors": "Milan Kundera, Michael Henry Heim"
                                },
                                {
                                    "Title": "Laughable Loves",
                                    "authors": "Milan Kundera, Suzanne Rappaport"
                                },
                                {
                                    "Title": "Miles: The Autobiography",
                                    "authors": "Miles Davis, Quincy Troupe"
                                },
                                {
                                    "Title": "Geisha, a Life",
                                    "authors": "Mineko Iwasaki, Rande Brown"
                                },
                                {
                                    "Title": "It Chooses You",
                                    "authors": "Miranda July, Brigitte Sire"
                                },
                                {
                                    "Title": "Tuesdays with Morrie",
                                    "authors": "Mitch Albom, Saulius Dagys"
                                },
                                {
                                    "Title": "A Book of Five Rings: The Classic Guide to Strategy",
                                    "authors": "Miyamoto Musashi, Victor Harris"
                                },
                                {
                                    "Title": "Tartuffe",
                                    "authors": "Molière, Martin Sorrell"
                                },
                                {
                                    "Title": "The Man Who Listens to Horses",
                                    "authors": "Monty Roberts, Lucy Grealy, Lawrence Scanlan"
                                },
                                {
                                    "Title": "Gathering Darkness (Falling Kingdoms, #3)",
                                    "authors": "Morgan Rhodes, Michelle Rowen"
                                },
                                {
                                    "Title": "Rebel Spring (Falling Kingdoms, #2)",
                                    "authors": "Morgan Rhodes, Michelle Rowen"
                                },
                                {
                                    "Title": "Falling Kingdoms (Falling Kingdoms, #1)",
                                    "authors": "Morgan Rhodes, Michelle Rowen"
                                },
                                {
                                    "Title": "The Wave",
                                    "authors": "Morton Rhue, Todd Strasser"
                                },
                                {
                                    "Title": "رأيت رام الله",
                                    "authors": "Mourid Barghouti, مريد البرغوثي"
                                },
                                {
                                    "Title": "The Story of Ferdinand",
                                    "authors": "Munro Leaf, Robert Lawson"
                                },
                                {
                                    "Title": "The Elegance of the Hedgehog",
                                    "authors": "Muriel Barbery, Alison Anderson"
                                },
                                {
                                    "Title": "Palace Walk (The Cairo Trilogy #1)",
                                    "authors": "Naguib Mahfouz, William M. Hutchins, Olive E. Kenny"
                                },
                                {
                                    "Title": "الحرافيش",
                                    "authors": "Naguib Mahfouz, نجيب محفوظ"
                                },
                                {
                                    "Title": "أولاد حارتنا",
                                    "authors": "Naguib Mahfouz, نجيب محفوظ"
                                },
                                {
                                    "Title": "Sheep in a Jeep",
                                    "authors": "Nancy E. Shaw, Margot Apple"
                                },
                                {
                                    "Title": "Lies Women Believe: And the Truth that Sets Them Free",
                                    "authors": "Nancy Leigh DeMoss, Elisabeth Elliot"
                                },
                                {
                                    "Title": "Miracle in the Andes",
                                    "authors": "Nando Parrado, Vince Rause"
                                },
                                {
                                    "Title": "The Reason I Jump: The Inner Voice of a Thirteen-Year-Old Boy with Autism",
                                    "authors": "Naoki Higashida, K.A. Yoshida, David Mitchell"
                                },
                                {
                                    "Title": "美少女戦士セーラームーン新装版 1 [Bishōjo Senshi Sailor Moon Shinsōban 1]",
                                    "authors": "Naoko Takeuchi, 武内 直子"
                                },
                                {
                                    "Title": "The Day of the Locust",
                                    "authors": "Nathanael West, Alfred Kazin"
                                },
                                {
                                    "Title": "The House of the Seven Gables",
                                    "authors": "Nathaniel Hawthorne, Robert S. Levine"
                                },
                                {
                                    "Title": "The Scarlet Letter",
                                    "authors": "Nathaniel Hawthorne, Thomas E. Connolly, Nina Baym"
                                },
                                {
                                    "Title": "Fruits Basket, Vol. 1",
                                    "authors": "Natsuki Takaya, Alethea Nibley, Athena Nibley"
                                },
                                {
                                    "Title": "Fruits Basket, Vol. 7",
                                    "authors": "Natsuki Takaya, Alethea Nibley, Athena Nibley"
                                },
                                {
                                    "Title": "Fruits Basket, Vol. 4",
                                    "authors": "Natsuki Takaya, Alethea Nibley, Athena Nibley"
                                },
                                {
                                    "Title": "Fruits Basket, Vol. 14",
                                    "authors": "Natsuki Takaya, Alethea Nibley, Athena Nibley"
                                },
                                {
                                    "Title": "Fruits Basket, Vol. 15",
                                    "authors": "Natsuki Takaya, Alethea Nibley, Athena Nibley"
                                },
                                {
                                    "Title": "Fruits Basket, Vol. 2",
                                    "authors": "Natsuki Takaya, Alethea Nibley, Athena Nibley"
                                },
                                {
                                    "Title": "Fruits Basket, Vol. 3",
                                    "authors": "Natsuki Takaya, Alethea Nibley, Athena Nibley"
                                },
                                {
                                    "Title": "Kitchen Princess, Vol. 01 (Kitchen Princess, #1)",
                                    "authors": "Natsumi Ando, Miyuki Kobayashi"
                                },
                                {
                                    "Title": "Out",
                                    "authors": "Natsuo Kirino, Stephen Snyder"
                                },
                                {
                                    "Title": "Batman: Whatever Happened to the Caped Crusader?",
                                    "authors": "Neil Gaiman, Andy Kubert, Matt Wagner, Simon Bisley, Bernie Mireault, Mark Buckingham"
                                },
                                {
                                    "Title": "Marvel 1602",
                                    "authors": "Neil Gaiman, Andy Kubert, Richard Isanove, Peter Sanderson"
                                },
                                {
                                    "Title": "The Sandman: Endless Nights",
                                    "authors": "Neil Gaiman, Barron Storey, Bill Sienkiewicz, Glenn Fabry, Dave McKean, P. Craig Russell, Milo Manara, Miguelanxo Prado, Frank Quitely, Todd Klein"
                                },
                                {
                                    "Title": "Fables and Reflections (The Sandman #6)",
                                    "authors": "Neil Gaiman, Bryan Talbot, Stan Woch, P. Craig Russell, Shawn McManus, John Watkiss, Jill Thompson, Duncan Eagleson, Kent Williams, Todd Klein"
                                },
                                {
                                    "Title": "Death: The High Cost of Living Collected",
                                    "authors": "Neil Gaiman, Chris Bachalo, Mark Buckingham, Tori Amos"
                                },
                                {
                                    "Title": "The Sleeper and the Spindle",
                                    "authors": "Neil Gaiman, Chris Riddell"
                                },
                                {
                                    "Title": "The Graveyard Book",
                                    "authors": "Neil Gaiman, Dave McKean"
                                },
                                {
                                    "Title": "The Sandman: Overture",
                                    "authors": "Neil Gaiman, J.H. Williams III, Dave Stewart, Todd Klein"
                                },
                                {
                                    "Title": "Brief Lives (The Sandman #7)",
                                    "authors": "Neil Gaiman, Jill Thompson, Vince Locke, Peter Straub"
                                },
                                {
                                    "Title": "Dream Country (The Sandman #3)",
                                    "authors": "Neil Gaiman, Kelley Jones, Charles Vess, Colleen Doran, Malcolm Jones III, Steve Erickson"
                                },
                                {
                                    "Title": "The Kindly Ones (The Sandman #9)",
                                    "authors": "Neil Gaiman, Marc Hempel, Richard Case, D'Israeli, Teddy Kristiansen, Glyn Dillon, Charles Vess, Dean Ormston, Kevin Nowlan, Todd Klein, Frank McConnell"
                                },
                                {
                                    "Title": "Odd and the Frost Giants",
                                    "authors": "Neil Gaiman, Mark Buckingham"
                                },
                                {
                                    "Title": "Season of Mists (The Sandman #4)",
                                    "authors": "Neil Gaiman, Matt Wagner, George Pratt, Dick Giordano, Kelley Jones, P. Craig Russell, Mike Dringenberg, Malcolm Jones III, Todd Klein, Harlan Ellison"
                                },
                                {
                                    "Title": "InterWorld (InterWorld, #1)",
                                    "authors": "Neil Gaiman, Michael Reaves"
                                },
                                {
                                    "Title": "The Wake (The Sandman #10)",
                                    "authors": "Neil Gaiman, Michael Zulli, Jon J. Muth, Charles Vess, Mikal Gilmore"
                                },
                                {
                                    "Title": "Worlds' End (The Sandman #8)",
                                    "authors": "Neil Gaiman, Mike Allred, Gary Amaro, Mark Buckingham, David Giordano, Tony Harris, Steve Leialoha, Vince Locke, Shea Anton Pensa, Alec Stevens, Bryan Talbot, John Watkiss, Todd Klein, Michael Zulli, Stephen King"
                                },
                                {
                                    "Title": "The Absolute Sandman, Volume One",
                                    "authors": "Neil Gaiman, Mike Dringenberg, Chris Bachalo, Michael Zulli, Kelly Jones, Charles Vess, Colleen Doran, Malcolm Jones III, Steve Parkhouse, Daniel Vozzo, Lee Loughridge, Steve Oliff, Todd Klein, Dave McKean, Sam Kieth"
                                },
                                {
                                    "Title": "Coraline (Illustrated/Graphic Novel Edition)",
                                    "authors": "Neil Gaiman, P. Craig Russell"
                                },
                                {
                                    "Title": "Preludes & Nocturnes (The Sandman #1)",
                                    "authors": "Neil Gaiman, Sam Kieth, Mike Dringenberg, Malcolm Jones III, Todd Klein, Karen  Berger"
                                },
                                {
                                    "Title": "A Game of You (The Sandman #5)",
                                    "authors": "Neil Gaiman, Shawn McManus, Colleen Doran, Bryan Talbot, George Pratt, Stan Woch, Dick Giordano, Todd Klein"
                                },
                                {
                                    "Title": "Fortunately, the Milk",
                                    "authors": "Neil Gaiman, Skottie Young"
                                },
                                {
                                    "Title": "The Doll's House (The Sandman #2)",
                                    "authors": "Neil Gaiman, Steve Parkhouse, Chris Bachalo, Michael Zulli, Mike Dringenberg, Malcolm Jones III, Todd Klein, Clive Barker"
                                },
                                {
                                    "Title": "The Sandman: The Dream Hunters",
                                    "authors": "Neil Gaiman, Yoshitaka Amano"
                                },
                                {
                                    "Title": "Neil Patrick Harris: Choose Your Own Autobiography",
                                    "authors": "Neil Patrick Harris, David Javerbaum, Antony Hare"
                                },
                                {
                                    "Title": "Amusing Ourselves to Death: Public Discourse in the Age of Show Business",
                                    "authors": "Neil Postman, Andrew Postman"
                                },
                                {
                                    "Title": "Passing",
                                    "authors": "Nella Larsen, Ntozake Shange, Thadious M. Davis"
                                },
                                {
                                    "Title": "Fantastic Beasts and Where to Find Them",
                                    "authors": "Newt Scamander, J.K. Rowling, Albus Dumbledore"
                                },
                                {
                                    "Title": "The Prince",
                                    "authors": "Niccolò Machiavelli, Adolph Caso, Rufus Goodwin, Benjamin Martinez"
                                },
                                {
                                    "Title": "Half the Sky: Turning Oppression into Opportunity for Women Worldwide",
                                    "authors": "Nicholas D. Kristof, Sheryl WuDunn"
                                },
                                {
                                    "Title": "Graffiti World: Street Art from Five Continents",
                                    "authors": "Nicholas Ganz, Tristan Manco"
                                },
                                {
                                    "Title": "Three Weeks With My Brother",
                                    "authors": "Nicholas Sparks, Micah Sparks"
                                },
                                {
                                    "Title": "Run Baby Run",
                                    "authors": "Nicky Cruz, Jamie Buckingham"
                                },
                                {
                                    "Title": "Everything, Everything",
                                    "authors": "Nicola Yoon, David Yoon"
                                },
                                {
                                    "Title": "The Nose",
                                    "authors": "Nikolai Gogol, Kevin Hawkes"
                                },
                                {
                                    "Title": "Dead Souls",
                                    "authors": "Nikolai Gogol, Robert A. Maguire"
                                },
                                {
                                    "Title": "Zorba the Greek",
                                    "authors": "Nikos Kazantzakis, Νίκος Καζαντζάκης"
                                },
                                {
                                    "Title": "The Little Paris Bookshop",
                                    "authors": "Nina George, Simon Pare"
                                },
                                {
                                    "Title": "Manufacturing Consent: The Political Economy of the Mass Media",
                                    "authors": "Noam Chomsky, Edward S. Herman"
                                },
                                {
                                    "Title": "Rurouni Kenshin, Vol. 1: Meiji Swordsman Romantic Story (Rurouni Kenshin, #1)",
                                    "authors": "Nobuhiro Watsuki, Kenichiro Yagi"
                                },
                                {
                                    "Title": "Ballet Shoes (Shoes, #1)",
                                    "authors": "Noel Streatfeild, Diane Goode"
                                },
                                {
                                    "Title": "Lumberjanes, Vol. 1: Beware the Kitten Holy",
                                    "authors": "Noelle Stevenson, Grace Ellis, Shannon Waters, Shannon Watters, Brooke A. Allen, Faith Hicks, Kat Leyh, Brooke Allen, Carolyn Nowak, Various, Carey Pietsch"
                                },
                                {
                                    "Title": "Savor the Moment (Bride Quartet, #3)",
                                    "authors": "Nora Roberts, Angela Dawe"
                                },
                                {
                                    "Title": "The Last Boyfriend (Inn BoonsBoro, #2)",
                                    "authors": "Nora Roberts, MacLeod Andrews"
                                },
                                {
                                    "Title": "The Next Always (Inn BoonsBoro, #1)",
                                    "authors": "Nora Roberts, MacLeod Andrews"
                                },
                                {
                                    "Title": "The Phantom Tollbooth",
                                    "authors": "Norton Juster, Jules Feiffer"
                                },
                                {
                                    "Title": "I Am Nujood, Age 10 and Divorced",
                                    "authors": "Nujood Ali, Delphine Minoui, Linda Coverdale"
                                },
                                {
                                    "Title": "The Gift of the Magi",
                                    "authors": "O. Henry, Lisbeth Zwerger"
                                },
                                {
                                    "Title": "Selected Stories",
                                    "authors": "O. Henry, Victoria Blake"
                                },
                                {
                                    "Title": "The Dark Monk (The Hangman's Daughter, #2)",
                                    "authors": "Oliver Pötzsch, Lee Chadeayne"
                                },
                                {
                                    "Title": "The Beggar King (The Hangman's Daughter, #3)",
                                    "authors": "Oliver Pötzsch, Lee Chadeayne"
                                },
                                {
                                    "Title": "The Hangman's Daughter (The Hangman's Daughter, #1)",
                                    "authors": "Oliver Pötzsch, Lee Chadeayne"
                                },
                                {
                                    "Title": "رباعيات خيام",
                                    "authors": "Omar Khayyám, محمدعلی فروغی, قاسم غنی"
                                },
                                {
                                    "Title": "My Name is Red",
                                    "authors": "Orhan Pamuk, Erdağ M. Göknar"
                                },
                                {
                                    "Title": "Snow",
                                    "authors": "Orhan Pamuk, Maureen Freely"
                                },
                                {
                                    "Title": "The Museum of Innocence",
                                    "authors": "Orhan Pamuk, Maureen Freely"
                                },
                                {
                                    "Title": "Sway: The Irresistible Pull of Irrational Behavior",
                                    "authors": "Ori Brafman, Rom Brafman"
                                },
                                {
                                    "Title": "Earth Unaware (The First Formic War, #1)",
                                    "authors": "Orson Scott Card, Aaron Johnston"
                                },
                                {
                                    "Title": "The Abyss",
                                    "authors": "Orson Scott Card, James Cameron"
                                },
                                {
                                    "Title": "The Canterville Ghost",
                                    "authors": "Oscar Wilde, Inga Moore"
                                },
                                {
                                    "Title": "The Picture of Dorian Gray",
                                    "authors": "Oscar Wilde, Jeffrey Eugenides"
                                },
                                {
                                    "Title": "Complete Works of Oscar Wilde",
                                    "authors": "Oscar Wilde, Merlin Holland"
                                },
                                {
                                    "Title": "The Importance of Being Earnest and Other Plays",
                                    "authors": "Oscar Wilde, Richard Allen Cave"
                                },
                                {
                                    "Title": "Metamorphoses",
                                    "authors": "Ovid, David Raeburn, Denis Feeney"
                                },
                                {
                                    "Title": "The Funhouse",
                                    "authors": "Owen  West, Dean Koontz"
                                },
                                {
                                    "Title": "The Mask",
                                    "authors": "Owen  West, Dean Koontz"
                                },
                                {
                                    "Title": "I Am Ozzy",
                                    "authors": "Ozzy Osbourne, Chris Ayres"
                                },
                                {
                                    "Title": "Marked / Betrayed / Chosen / Untamed / Hunted (House of Night #1-5)",
                                    "authors": "P.C. Cast, Kristin Cast"
                                },
                                {
                                    "Title": "Hidden (House of Night, #10)",
                                    "authors": "P.C. Cast, Kristin Cast"
                                },
                                {
                                    "Title": "Marked / Betrayed / Chosen / Untamed (House of Night, #1-4)",
                                    "authors": "P.C. Cast, Kristin Cast"
                                },
                                {
                                    "Title": "Destined (House of Night, #9)",
                                    "authors": "P.C. Cast, Kristin Cast"
                                },
                                {
                                    "Title": "Marked (House of Night, #1)",
                                    "authors": "P.C. Cast, Kristin Cast"
                                },
                                {
                                    "Title": "Untamed (House of Night, #4)",
                                    "authors": "P.C. Cast, Kristin Cast"
                                },
                                {
                                    "Title": "Betrayed (House of Night, #2)",
                                    "authors": "P.C. Cast, Kristin Cast"
                                },
                                {
                                    "Title": "Hunted (House of Night, #5)",
                                    "authors": "P.C. Cast, Kristin Cast"
                                },
                                {
                                    "Title": "Chosen (House of Night, #3)",
                                    "authors": "P.C. Cast, Kristin Cast"
                                },
                                {
                                    "Title": "Burned (House of Night, #7)",
                                    "authors": "P.C. Cast, Kristin Cast"
                                },
                                {
                                    "Title": "Tempted (House of Night, #6)",
                                    "authors": "P.C. Cast, Kristin Cast"
                                },
                                {
                                    "Title": "Awakened (House of Night, #8)",
                                    "authors": "P.C. Cast, Kristin Cast"
                                },
                                {
                                    "Title": "Dragon's Oath (House of Night Novellas, #1)",
                                    "authors": "P.C. Cast, Kristin Cast"
                                },
                                {
                                    "Title": "Revealed (House of Night, #11)",
                                    "authors": "P.C. Cast, Kristin Cast"
                                },
                                {
                                    "Title": "Lenobia's Vow (House of Night Novellas, #2)",
                                    "authors": "P.C. Cast, Kristin Cast"
                                },
                                {
                                    "Title": "Redeemed (House of Night, #12)",
                                    "authors": "P.C. Cast, Kristin Cast"
                                },
                                {
                                    "Title": "Mary Poppins (Mary Poppins, #1)",
                                    "authors": "P.L. Travers, Mary Shepard"
                                },
                                {
                                    "Title": "The Poetry of Pablo Neruda",
                                    "authors": "Pablo Neruda, Ilan Stavans"
                                },
                                {
                                    "Title": "100 Love Sonnets",
                                    "authors": "Pablo Neruda, Stephen Tapscott"
                                },
                                {
                                    "Title": "Twenty Love Poems and a Song of Despair",
                                    "authors": "Pablo Neruda, W.S. Merwin, Cristina García"
                                },
                                {
                                    "Title": "I'm with the Band: Confessions of a Groupie",
                                    "authors": "Pamela Des Barres, Dave Navarro"
                                },
                                {
                                    "Title": "Bringing Up Bébé: One American Mother Discovers the Wisdom of French Parenting",
                                    "authors": "Pamela Druckerman, Abby Craden"
                                },
                                {
                                    "Title": "The Solitude of Prime Numbers",
                                    "authors": "Paolo Giordano, Shaun Whiteside"
                                },
                                {
                                    "Title": "Night Train to Lisbon",
                                    "authors": "Pascal Mercier, Barbara Harshav"
                                },
                                {
                                    "Title": "On the Prowl (Alpha & Omega, #0.5)",
                                    "authors": "Patricia Briggs, Eileen Wilks, Karen Chance, Sunny"
                                },
                                {
                                    "Title": "Searching for Dragons (Enchanted Forest Chronicles, #2)",
                                    "authors": "Patricia C. Wrede, Peter de Sève"
                                },
                                {
                                    "Title": "Calling on Dragons (Enchanted Forest Chronicles, #3)",
                                    "authors": "Patricia C. Wrede, Peter de Sève"
                                },
                                {
                                    "Title": "Talking to Dragons (Enchanted Forest Chronicles, #4)",
                                    "authors": "Patricia C. Wrede, Peter de Sève"
                                },
                                {
                                    "Title": "Dealing with Dragons (Enchanted Forest Chronicles, #1)",
                                    "authors": "Patricia C. Wrede, Peter de Sève"
                                },
                                {
                                    "Title": "The Country Mouse and the City Mouse; The Fox and the Crow; The Dog and His Bone",
                                    "authors": "Patricia M. Scarry, Richard Scarry"
                                },
                                {
                                    "Title": "The Sisters Brothers",
                                    "authors": "Patrick deWitt, Marcelo Barbão"
                                },
                                {
                                    "Title": "A Monster Calls",
                                    "authors": "Patrick Ness, Jim Kay, Siobhan Dowd"
                                },
                                {
                                    "Title": "The Slow Regard of Silent Things (The Kingkiller Chronicle #2.5)",
                                    "authors": "Patrick Rothfuss, Nate  Taylor"
                                },
                                {
                                    "Title": "Perfume: The Story of a Murderer",
                                    "authors": "Patrick Süskind, John E. Woods"
                                },
                                {
                                    "Title": "Wonderful Tonight",
                                    "authors": "Pattie Boyd, Penny Junor"
                                },
                                {
                                    "Title": "Stand Tall, Molly Lou Melon",
                                    "authors": "Patty Lovell, David Catrow"
                                },
                                {
                                    "Title": "The New York Trilogy",
                                    "authors": "Paul Auster, Art Spiegelman"
                                },
                                {
                                    "Title": "The Three Billy Goats Gruff",
                                    "authors": "Paul Galdone, Peter Christen Asbjørnsen"
                                },
                                {
                                    "Title": "The Heavenly Man: The Remarkable True Story of Chinese Christian Brother Yun",
                                    "authors": "Paul Hattaway, Brother Yun"
                                },
                                {
                                    "Title": "Wolverine: Origin",
                                    "authors": "Paul Jenkins, Andy Kubert, Richard Isanove, Joe Quesada, Bill Jemas"
                                },
                                {
                                    "Title": "When Breath Becomes Air",
                                    "authors": "Paul Kalanithi, Abraham Verghese"
                                },
                                {
                                    "Title": "The Light of the Fireflies",
                                    "authors": "Paul Pen, Simon Bruni"
                                },
                                {
                                    "Title": "The Lady & Sons Savannah Country Cookbook",
                                    "authors": "Paula H. Deen, John Berendt"
                                },
                                {
                                    "Title": "Story of O (Story of O #1)",
                                    "authors": "Pauline Réage, Sabine d'Estree"
                                },
                                {
                                    "Title": "By the River Piedra I Sat Down and Wept",
                                    "authors": "Paulo Coelho, Alan R. Clarke"
                                },
                                {
                                    "Title": "The Alchemist",
                                    "authors": "Paulo Coelho, Alan R. Clarke"
                                },
                                {
                                    "Title": "The Pilgrimage",
                                    "authors": "Paulo Coelho, Alan R. Clarke"
                                },
                                {
                                    "Title": "The Valkyries",
                                    "authors": "Paulo Coelho, Alan R. Clarke"
                                },
                                {
                                    "Title": "The Devil and Miss Prym (On the Seventh Day, #3)",
                                    "authors": "Paulo Coelho, Amanda Hopkinson, Nick Caistor"
                                },
                                {
                                    "Title": "The Zahir",
                                    "authors": "Paulo Coelho, Margaret Jull Costa"
                                },
                                {
                                    "Title": "Veronika Decides to Die",
                                    "authors": "Paulo Coelho, Margaret Jull Costa"
                                },
                                {
                                    "Title": "Eleven Minutes",
                                    "authors": "Paulo Coelho, Margaret Jull Costa"
                                },
                                {
                                    "Title": "Manuscript Found in Accra",
                                    "authors": "Paulo Coelho, Margaret Jull Costa"
                                },
                                {
                                    "Title": "Brida",
                                    "authors": "Paulo Coelho, Montserrat Mira"
                                },
                                {
                                    "Title": "Pedagogy of the Oppressed",
                                    "authors": "Paulo Freire, Myra Bergman Ramos, Donaldo Macedo, Richard Shaull"
                                },
                                {
                                    "Title": "Amelia Bedelia and the Surprise Shower",
                                    "authors": "Peggy Parish, Barbara Siebel Thomas"
                                },
                                {
                                    "Title": "Amelia Bedelia  (Amelia Bedelia #1)",
                                    "authors": "Peggy Parish, Fritz Siebel"
                                },
                                {
                                    "Title": "Come Back, Amelia Bedelia",
                                    "authors": "Peggy Parish, Wallace Tripp"
                                },
                                {
                                    "Title": "Rival (Fall Away, #2)",
                                    "authors": "Penelope Douglas, Abby Craden, Nelson Hobbs"
                                },
                                {
                                    "Title": "Corrupt (Devil's Night, #1)",
                                    "authors": "Penelope Douglas, Jeremy York, Tatiana Sokolov"
                                },
                                {
                                    "Title": "Until You (Fall Away, #1.5)",
                                    "authors": "Penelope Douglas, Nelson Hobbs"
                                },
                                {
                                    "Title": "Cocky Bastard",
                                    "authors": "Penelope Ward, Vi Keeland"
                                },
                                {
                                    "Title": "Out Stealing Horses",
                                    "authors": "Per Petterson, Anne Born"
                                },
                                {
                                    "Title": "The Chronicles of Narnia - The Lion, the Witch, and the Wardrobe Official Illustrated Movie Companion",
                                    "authors": "Perry Moore, Andrew Adamson, C.S. Lewis"
                                },
                                {
                                    "Title": "The Dark Tower: The Gunslinger Born",
                                    "authors": "Peter David, Robin Furth, Jae Lee, Richard Isanove, Stephen King"
                                },
                                {
                                    "Title": "Smilla's Sense of Snow",
                                    "authors": "Peter Høeg, Tiina Nunnally"
                                },
                                {
                                    "Title": "One Up On Wall Street: How To Use What You Already Know To Make Money In The Market",
                                    "authors": "Peter Lynch, John Rothchild"
                                },
                                {
                                    "Title": "Zero to One: Notes on Startups, or How to Build the Future",
                                    "authors": "Peter Thiel, Blake  Masters"
                                },
                                {
                                    "Title": "The Glassblower",
                                    "authors": "Petra Durst-Benning, Samuel Willcocks"
                                },
                                {
                                    "Title": "Happy, Happy, Happy",
                                    "authors": "Phil Robertson, Mark Schlabach"
                                },
                                {
                                    "Title": "A Sick Day for Amos McGee",
                                    "authors": "Philip C. Stead, Erin E. Stead"
                                },
                                {
                                    "Title": "Ubik",
                                    "authors": "Philip K. Dick, David Alabort, Manuel Espín"
                                },
                                {
                                    "Title": "Do Androids Dream of Electric Sheep?",
                                    "authors": "Philip K. Dick, Roger Zelazny"
                                },
                                {
                                    "Title": "Fairy Tales from the Brothers Grimm: A New English Version",
                                    "authors": "Philip Pullman, Jacob Grimm, Wilhelm Grimm"
                                },
                                {
                                    "Title": "Lyra's Oxford (His Dark Materials, #3.5)",
                                    "authors": "Philip Pullman, John Lawrence"
                                },
                                {
                                    "Title": "Portnoy's Complaint",
                                    "authors": "Philip Roth, Luca Marinelli"
                                },
                                {
                                    "Title": "The Kingmaker's Daughter (The Plantagenet and Tudor Novels, #4)",
                                    "authors": "Philippa Gregory, Mirjana Valent"
                                },
                                {
                                    "Title": "Tom's Midnight Garden",
                                    "authors": "Philippa Pearce, Susan Einzig"
                                },
                                {
                                    "Title": "Planet of the Apes",
                                    "authors": "Pierre Boulle, Xan Fielding"
                                },
                                {
                                    "Title": "Les Liaisons dangereuses",
                                    "authors": "Pierre-Ambroise Choderlos de Laclos, Douglas Parmée"
                                },
                                {
                                    "Title": "The Symposium",
                                    "authors": "Plato, Christopher Gill"
                                },
                                {
                                    "Title": "The Republic",
                                    "authors": "Plato, Desmond Lee"
                                },
                                {
                                    "Title": "The Trial and Death of Socrates",
                                    "authors": "Plato, G.M.A. Grube, John M. Cooper"
                                },
                                {
                                    "Title": "Five Dialogues: Euthyphro, Apology, Crito, Meno, Phaedo",
                                    "authors": "Plato, G.M.A. Grube, John M. Cooper"
                                },
                                {
                                    "Title": "Apology",
                                    "authors": "Plato, James J. Helm"
                                },
                                {
                                    "Title": "I Wrote This For You",
                                    "authors": "pleasefindthis, Iain S. Thomas, Jon Ellis"
                                },
                                {
                                    "Title": "NurtureShock: New Thinking About Children",
                                    "authors": "Po Bronson, Ashley Merryman"
                                },
                                {
                                    "Title": "Survival in Auschwitz",
                                    "authors": "Primo Levi, Stuart J. Woolf, Philip Roth"
                                },
                                {
                                    "Title": "The Name of This Book Is Secret (Secret, #1)",
                                    "authors": "Pseudonymous Bosch, Gilbert Ford"
                                },
                                {
                                    "Title": "This Book Is Not Good for You (Secret, #3)",
                                    "authors": "Pseudonymous Bosch, Gilbert Ford"
                                },
                                {
                                    "Title": "If You're Reading This, It's Too Late (Secret, #2)",
                                    "authors": "Pseudonymous Bosch, Gilbert Ford"
                                },
                                {
                                    "Title": "Alice in the Country of Hearts, Vol. 01 (Alice in the Country of Hearts, #1)",
                                    "authors": "QuinRose, Soumei Hoshino"
                                },
                                {
                                    "Title": "Lorna Doone",
                                    "authors": "R.D. Blackmore, Michelle Allen"
                                },
                                {
                                    "Title": "Malgudi Days",
                                    "authors": "R.K. Narayan, Jhumpa Lahiri"
                                },
                                {
                                    "Title": "Kiss of Death (The Morganville Vampires, #8)",
                                    "authors": "Rachel Caine, Cynthia Holloway"
                                },
                                {
                                    "Title": "Silent Spring",
                                    "authors": "Rachel Carson, Linda Lear, Edward O. Wilson"
                                },
                                {
                                    "Title": "Dash & Lily's Book of Dares (Dash & Lily, #1)",
                                    "authors": "Rachel Cohn, David Levithan"
                                },
                                {
                                    "Title": "Nick & Norah's Infinite Playlist",
                                    "authors": "Rachel Cohn, David Levithan"
                                },
                                {
                                    "Title": "ثلاثية غرناطة",
                                    "authors": "Radwa Ashour, رضوى عاشور"
                                },
                                {
                                    "Title": "الطنطورية",
                                    "authors": "Radwa Ashour, رضوى عاشور"
                                },
                                {
                                    "Title": "Drama",
                                    "authors": "Raina Telgemeier, Gurihiru"
                                },
                                {
                                    "Title": "Letters to a Young Poet",
                                    "authors": "Rainer Maria Rilke, Reginald Snell, Franz Xaver Kappus"
                                },
                                {
                                    "Title": "The Selected Poetry of Rainer Maria Rilke",
                                    "authors": "Rainer Maria Rilke, Stephen Mitchell, Robert Hass"
                                },
                                {
                                    "Title": "Vincent Van Gogh: The Complete Paintings",
                                    "authors": "Rainer Metzger, Ingo F. Walther"
                                },
                                {
                                    "Title": "Essays and Poems",
                                    "authors": "Ralph Waldo Emerson, Peter Norberg"
                                },
                                {
                                    "Title": "Be Here Now",
                                    "authors": "Ram Dass, Richard Alpert"
                                },
                                {
                                    "Title": "Courageous",
                                    "authors": "Randy Alcorn, Alex Kendrick, Stephen Kendrick"
                                },
                                {
                                    "Title": "The Last Lecture",
                                    "authors": "Randy Pausch, Jeffrey Zaslow"
                                },
                                {
                                    "Title": "And the Band Played On: Politics, People, and the AIDS Epidemic",
                                    "authors": "Randy Shilts, William Greider"
                                },
                                {
                                    "Title": "Servant of the Empire (The Empire Trilogy, #2)",
                                    "authors": "Raymond E. Feist, Janny Wurts"
                                },
                                {
                                    "Title": "Mistress of the Empire (The Empire Trilogy, #3)",
                                    "authors": "Raymond E. Feist, Janny Wurts"
                                },
                                {
                                    "Title": "Daughter of the Empire (The Empire Trilogy, #1)",
                                    "authors": "Raymond E. Feist, Janny Wurts"
                                },
                                {
                                    "Title": "Magician: Apprentice  (Raymond E. Feist's Magician: Apprentice #1)",
                                    "authors": "Raymond E. Feist, Michael Avon Oeming, Bryan J.L. Glass, Ryan Stegman"
                                },
                                {
                                    "Title": "Twilight and Philosophy: Vampires, Vegetarians, and the Pursuit of Immortality",
                                    "authors": "Rebecca Housel, J. Jeremy Wisnewski, William Irwin"
                                },
                                {
                                    "Title": "Twelve Angry Men",
                                    "authors": "Reginald Rose, David Mamet"
                                },
                                {
                                    "Title": "Meditations on First Philosophy",
                                    "authors": "René Descartes, Donald A. Cress"
                                },
                                {
                                    "Title": "Discourse on Method",
                                    "authors": "René Descartes, Donald A. Cress"
                                },
                                {
                                    "Title": "Discourse on Method and Meditations on First Philosophy",
                                    "authors": "René Descartes, Donald A. Cress"
                                },
                                {
                                    "Title": "Asterix the Gaul (Asterix, #1)",
                                    "authors": "René Goscinny, Albert Uderzo, Anthea Bell, Derek Hockridge"
                                },
                                {
                                    "Title": "Le Petit Nicolas (Le petit Nicolas, #1)",
                                    "authors": "René Goscinny, Jean-Jacques Sempé"
                                },
                                {
                                    "Title": "Mr. Popper's Penguins",
                                    "authors": "Richard Atwater, Florence Atwater, Robert Lawson"
                                },
                                {
                                    "Title": "Jonathan Livingston Seagull",
                                    "authors": "Richard Bach, Russell Munson"
                                },
                                {
                                    "Title": "Thinner",
                                    "authors": "Richard Bachman, Stephen King"
                                },
                                {
                                    "Title": "The Regulators",
                                    "authors": "Richard Bachman, Stephen King"
                                },
                                {
                                    "Title": "The Bachman Books",
                                    "authors": "Richard Bachman, Stephen King"
                                },
                                {
                                    "Title": "The Running Man",
                                    "authors": "Richard Bachman, Stephen King"
                                },
                                {
                                    "Title": "The Long Walk",
                                    "authors": "Richard Bachman, Stephen King"
                                },
                                {
                                    "Title": "Rage",
                                    "authors": "Richard Bachman, Stephen King"
                                },
                                {
                                    "Title": "Blaze",
                                    "authors": "Richard Bachman, Stephen King"
                                },
                                {
                                    "Title": "Roadwork",
                                    "authors": "Richard Bachman, Stephen King"
                                },
                                {
                                    "Title": "The Magic of Reality: How We Know What's Really True",
                                    "authors": "Richard Dawkins, Dave McKean"
                                },
                                {
                                    "Title": "Nudge: Improving Decisions About Health, Wealth, and Happiness",
                                    "authors": "Richard H. Thaler, Cass R. Sunstein"
                                },
                                {
                                    "Title": "The Further Adventures of Sherlock Holmes: After Sir Arthur Conan Doyle (Classic Crime)",
                                    "authors": "Richard Lancelyn Green, Ronald Knox, Julian Symons, Various"
                                },
                                {
                                    "Title": "The Door to December",
                                    "authors": "Richard Paige, Dean Koontz"
                                },
                                {
                                    "Title": "That Old Cape Magic",
                                    "authors": "Richard Russo, Arthur Morey"
                                },
                                {
                                    "Title": "Black Boy",
                                    "authors": "Richard Wright, Jerry W. Ward Jr."
                                },
                                {
                                    "Title": "Vampire Academy: The Graphic Novel (Vampire Academy: The Graphic Novel, #1)",
                                    "authors": "Richelle Mead, Emma Vieceli, Leigh Dragoon"
                                },
                                {
                                    "Title": "Vespers Rising (The 39 Clues, #11)",
                                    "authors": "Rick Riordan, Gordon Korman, Peter Lerangis, Jude Watson"
                                },
                                {
                                    "Title": "The Demigod Diaries",
                                    "authors": "Rick Riordan, Haley Riordan"
                                },
                                {
                                    "Title": "Percy Jackson's Greek Gods (A Percy Jackson and the Olympians Guide)",
                                    "authors": "Rick Riordan, John Rocco"
                                },
                                {
                                    "Title": "The Lightning Thief: The Graphic Novel (Percy Jackson and the Olympians, #1)",
                                    "authors": "Rick Riordan, Robert Venditti, José Villarrubia, Attila Futaki"
                                },
                                {
                                    "Title": "Percy Jackson and the Olympians Boxed Set (Percy Jackson and the Olympians, #1-5)",
                                    "authors": "Rick Riordan, Tk"
                                },
                                {
                                    "Title": "Disney after Dark (Kingdom Keepers, #1)",
                                    "authors": "Ridley Pearson, David Frankland"
                                },
                                {
                                    "Title": "Gnomes",
                                    "authors": "Rien Poortvliet, Wil Huygen"
                                },
                                {
                                    "Title": "Esio Trot",
                                    "authors": "Roald Dahl, Quentin Blake"
                                },
                                {
                                    "Title": "Danny the Champion of the World",
                                    "authors": "Roald Dahl, Quentin Blake"
                                },
                                {
                                    "Title": "Boy: Tales of Childhood",
                                    "authors": "Roald Dahl, Quentin Blake"
                                },
                                {
                                    "Title": "Charlie and the Great Glass Elevator (Charlie Bucket, #2)",
                                    "authors": "Roald Dahl, Quentin Blake"
                                },
                                {
                                    "Title": "George's Marvellous Medicine",
                                    "authors": "Roald Dahl, Quentin Blake"
                                },
                                {
                                    "Title": "The Twits",
                                    "authors": "Roald Dahl, Quentin Blake"
                                },
                                {
                                    "Title": "Fantastic Mr. Fox",
                                    "authors": "Roald Dahl, Quentin Blake"
                                },
                                {
                                    "Title": "James and the Giant Peach",
                                    "authors": "Roald Dahl, Quentin Blake"
                                },
                                {
                                    "Title": "The BFG",
                                    "authors": "Roald Dahl, Quentin Blake"
                                },
                                {
                                    "Title": "The Witches",
                                    "authors": "Roald Dahl, Quentin Blake"
                                },
                                {
                                    "Title": "Charlie and the Chocolate Factory (Charlie Bucket, #1)",
                                    "authors": "Roald Dahl, Quentin Blake"
                                },
                                {
                                    "Title": "Matilda",
                                    "authors": "Roald Dahl, Quentin Blake"
                                },
                                {
                                    "Title": "The Magic Finger (Young Puffin Developing Reader)",
                                    "authors": "Roald Dahl, Quentin Blake"
                                },
                                {
                                    "Title": "The Giraffe and the Pelly and Me",
                                    "authors": "Roald Dahl, Quentin Blake"
                                },
                                {
                                    "Title": "Going Solo",
                                    "authors": "Roald Dahl, Quentin Blake"
                                },
                                {
                                    "Title": "Revolting Rhymes",
                                    "authors": "Roald Dahl, Quentin Blake"
                                },
                                {
                                    "Title": "Mr. Kiss and Tell (Veronica Mars, #2)",
                                    "authors": "Rob Thomas, Jennifer Graham"
                                },
                                {
                                    "Title": "The Thousand-Dollar Tan Line (Veronica Mars, #1)",
                                    "authors": "Rob Thomas, Jennifer Graham"
                                },
                                {
                                    "Title": "The Past Through Tomorrow (Future History, #1-21)",
                                    "authors": "Robert A. Heinlein, Damon Knight"
                                },
                                {
                                    "Title": "The Story of Ruby Bridges",
                                    "authors": "Robert Coles, George Ford"
                                },
                                {
                                    "Title": "Dali: The Paintings",
                                    "authors": "Robert Descharnes, Gilles Néret"
                                },
                                {
                                    "Title": "The Complete Guide to Middle-Earth",
                                    "authors": "Robert Foster, J.R.R. Tolkien"
                                },
                                {
                                    "Title": "The Poetry of Robert Frost (Collected Poems, Complete & Unabridged)",
                                    "authors": "Robert Frost, Edward Connery Lathem"
                                },
                                {
                                    "Title": "The Cuckoo's Calling (Cormoran Strike, #1)",
                                    "authors": "Robert Galbraith, J.K. Rowling"
                                },
                                {
                                    "Title": "The Silkworm (Cormoran Strike, #2)",
                                    "authors": "Robert Galbraith, J.K. Rowling"
                                },
                                {
                                    "Title": "Career of Evil (Cormoran Strike, #3)",
                                    "authors": "Robert Galbraith, J.K. Rowling"
                                },
                                {
                                    "Title": "The 48 Laws of Power",
                                    "authors": "Robert Greene, Joost Elffers"
                                },
                                {
                                    "Title": "The Art Spirit: Notes, Articles, Fragments of Letters and Talks to Students, Bearing on the Concept and Technique of Picture Making, the Study of Art (Icon Editions)",
                                    "authors": "Robert Henri, Forbes Watson, Margery A. Ryerson"
                                },
                                {
                                    "Title": "A Memory of Light (Wheel of Time, #14)",
                                    "authors": "Robert Jordan, Brandon Sanderson"
                                },
                                {
                                    "Title": "Towers of Midnight (Wheel of Time, #13)",
                                    "authors": "Robert Jordan, Brandon Sanderson"
                                },
                                {
                                    "Title": "The Gathering Storm (Wheel of Time, #12)",
                                    "authors": "Robert Jordan, Brandon Sanderson"
                                },
                                {
                                    "Title": "Dr. Seuss's Green Eggs and Ham: For Soprano, Boy Soprano, and Orchestra",
                                    "authors": "Robert Kapilow, Dr. Seuss"
                                },
                                {
                                    "Title": "The Walking Dead, Vol. 03: Safety Behind Bars",
                                    "authors": "Robert Kirkman, Charlie Adlard"
                                },
                                {
                                    "Title": "The Walking Dead, Vol. 02: Miles Behind Us",
                                    "authors": "Robert Kirkman, Charlie Adlard"
                                },
                                {
                                    "Title": "The Walking Dead, Vol. 12: Life Among Them",
                                    "authors": "Robert Kirkman, Charlie Adlard"
                                },
                                {
                                    "Title": "The Walking Dead, Book Two (The Walking Dead #13-24)",
                                    "authors": "Robert Kirkman, Charlie Adlard"
                                },
                                {
                                    "Title": "The Walking Dead, Compendium 2",
                                    "authors": "Robert Kirkman, Charlie Adlard"
                                },
                                {
                                    "Title": "The Walking Dead, Vol. 11: Fear the Hunters",
                                    "authors": "Robert Kirkman, Charlie Adlard, Cliff Rathburn"
                                },
                                {
                                    "Title": "The Walking Dead, Vol. 09: Here We Remain",
                                    "authors": "Robert Kirkman, Charlie Adlard, Cliff Rathburn"
                                },
                                {
                                    "Title": "The Walking Dead, Vol. 14: No Way Out",
                                    "authors": "Robert Kirkman, Charlie Adlard, Cliff Rathburn"
                                },
                                {
                                    "Title": "The Walking Dead, Vol. 07: The Calm Before",
                                    "authors": "Robert Kirkman, Charlie Adlard, Cliff Rathburn"
                                },
                                {
                                    "Title": "The Walking Dead, Vol. 06: This Sorrowful Life",
                                    "authors": "Robert Kirkman, Charlie Adlard, Cliff Rathburn"
                                },
                                {
                                    "Title": "The Walking Dead, Vol. 05: The Best Defense",
                                    "authors": "Robert Kirkman, Charlie Adlard, Cliff Rathburn"
                                },
                                {
                                    "Title": "The Walking Dead, Vol. 13: Too Far Gone",
                                    "authors": "Robert Kirkman, Charlie Adlard, Cliff Rathburn"
                                },
                                {
                                    "Title": "The Walking Dead, Vol. 04: The Heart's Desire",
                                    "authors": "Robert Kirkman, Charlie Adlard, Cliff Rathburn"
                                },
                                {
                                    "Title": "The Walking Dead, Book Three (The Walking Dead #25-36)",
                                    "authors": "Robert Kirkman, Charlie Adlard, Cliff Rathburn, Rus Wooton"
                                },
                                {
                                    "Title": "Rise of the Governor (The Walking Dead #1)",
                                    "authors": "Robert Kirkman, Jay Bonansinga"
                                },
                                {
                                    "Title": "The Walking Dead, Vol. 01: Days Gone Bye",
                                    "authors": "Robert Kirkman, Tony Moore"
                                },
                                {
                                    "Title": "The Walking Dead, Book One (The Walking Dead #1-12)",
                                    "authors": "Robert Kirkman, Tony Moore, Charlie Adlard, Cliff Rathburn"
                                },
                                {
                                    "Title": "The Strange Case of Dr. Jekyll and Mr. Hyde and Other Stories ",
                                    "authors": "Robert Louis Stevenson, Jenny Davidson"
                                },
                                {
                                    "Title": "The Strange Case of Dr. Jekyll and Mr. Hyde and Other Tales of Terror",
                                    "authors": "Robert Louis Stevenson, Robert Mighall"
                                },
                                {
                                    "Title": "A Child's Garden of Verses",
                                    "authors": "Robert Louis Stevenson, Tasha Tudor"
                                },
                                {
                                    "Title": "The Strange Case of Dr. Jekyll and Mr. Hyde",
                                    "authors": "Robert Louis Stevenson, Vladimir Nabokov, Mervyn Peake, Dan Chaon"
                                },
                                {
                                    "Title": "The Monuments Men: Allied Heroes, Nazi Thieves, and the Greatest Treasure Hunt in History",
                                    "authors": "Robert M. Edsel, Bret Witter"
                                },
                                {
                                    "Title": "The Paper Bag Princess",
                                    "authors": "Robert Munsch, Michael Martchenko"
                                },
                                {
                                    "Title": "Love You Forever",
                                    "authors": "Robert Munsch, Sheila McGraw"
                                },
                                {
                                    "Title": "Alice's Adventures in Wonderland: A Pop-Up Adaptation",
                                    "authors": "Robert Sabuda, Lewis Carroll"
                                },
                                {
                                    "Title": "The Illuminatus! Trilogy",
                                    "authors": "Robert Shea, Robert Anton Wilson"
                                },
                                {
                                    "Title": "Rich Dad's Guide to Investing: What the Rich Invest in That the Poor and Middle Class Do Not!",
                                    "authors": "Robert T. Kiyosaki, Sharon L. Lechter"
                                },
                                {
                                    "Title": "Rich Dad's Cashflow Quadrant: Rich Dad's Guide to Financial Freedom",
                                    "authors": "Robert T. Kiyosaki, Sharon L. Lechter"
                                },
                                {
                                    "Title": "The King in Yellow and Other Horror Stories",
                                    "authors": "Robert W. Chambers, E.F. Bleiler"
                                },
                                {
                                    "Title": "The Stand: Soul Survivors",
                                    "authors": "Roberto Aguirre-Sacasa, Mike Perkins, Laura       Martin, Stephen King"
                                },
                                {
                                    "Title": "The Stand: Captain Trips",
                                    "authors": "Roberto Aguirre-Sacasa, Stephen King, Mike Perkins, Laura       Martin"
                                },
                                {
                                    "Title": "The Savage Detectives",
                                    "authors": "Roberto Bolaño, Natasha Wimmer"
                                },
                                {
                                    "Title": "The Talisman (Volume 1): The Road of Trials",
                                    "authors": "Robin Furth, Stephen King, Peter Straub, Tony Shasteen, Nei Ruffino"
                                },
                                {
                                    "Title": "Tunnels (Tunnels, #1)",
                                    "authors": "Roderick Gordon, Brian  Williams"
                                },
                                {
                                    "Title": "Getting to Yes: Negotiating an Agreement Without Giving In",
                                    "authors": "Roger Fisher, William Ury, Bruce Patton"
                                },
                                {
                                    "Title": "Little House on Rocky Ridge (Little House: The Rocky Ridge Years, #1)",
                                    "authors": "Roger Lea MacBride, David Gilleece"
                                },
                                {
                                    "Title": "Lord of Light",
                                    "authors": "Roger Zelazny, Sönmez Güven"
                                },
                                {
                                    "Title": "Mythologies",
                                    "authors": "Roland Barthes, Annette Lavers"
                                },
                                {
                                    "Title": "Camera Lucida: Reflections on Photography",
                                    "authors": "Roland Barthes, Richard Howard"
                                },
                                {
                                    "Title": "Same Kind of Different as Me",
                                    "authors": "Ron Hall, Denver Moore, Lynn Vincent"
                                },
                                {
                                    "Title": "A Scandal in Bohemia (The Adventures of Sherlock Holmes, #1)",
                                    "authors": "Ronald Holt, Arthur Conan Doyle"
                                },
                                {
                                    "Title": "Skinny Bitch",
                                    "authors": "Rory Freedman, Kim Barnouin"
                                },
                                {
                                    "Title": "The Cake Bible",
                                    "authors": "Rose Levy Beranbaum, Maria Guarnaschelli, Vincent Lee, Manuela Paul, Dean G. Bornstein"
                                },
                                {
                                    "Title": "Willpower: Rediscovering the Greatest Human Strength",
                                    "authors": "Roy F. Baumeister, John Tierney"
                                },
                                {
                                    "Title": "Dracula (Marvel Illustrated)",
                                    "authors": "Roy Thomas, Dick Giordano, Mark D. Beazley, Bram Stoker"
                                },
                                {
                                    "Title": "The Jungle Books",
                                    "authors": "Rudyard Kipling, Alev Lytle Croutier"
                                },
                                {
                                    "Title": "Kim",
                                    "authors": "Rudyard Kipling, Edward Said"
                                },
                                {
                                    "Title": "Rikki-Tikki-Tavi",
                                    "authors": "Rudyard Kipling, Jerry Pinkney"
                                },
                                {
                                    "Title": "Bedtime for Frances",
                                    "authors": "Russell Hoban, Garth Williams"
                                },
                                {
                                    "Title": "A Bargain for Frances",
                                    "authors": "Russell Hoban, Lillian Hoban"
                                },
                                {
                                    "Title": "Bread and Jam for Frances",
                                    "authors": "Russell Hoban, Lillian Hoban"
                                },
                                {
                                    "Title": "Marching Powder: A True Story of Friendship, Cocaine, and South America's Strangest Jail",
                                    "authors": "Rusty Young, Thomas McFadden"
                                },
                                {
                                    "Title": "The Carrot Seed",
                                    "authors": "Ruth Krauss, Crockett Johnson"
                                },
                                {
                                    "Title": "Anne Frank: Beyond the Diary - A Photographic Remembrance",
                                    "authors": "Ruud van der Rol, Rian Verhoeven, Anna Quindlen, Anne Frank, Tony Langham, Plym Peters"
                                },
                                {
                                    "Title": "In the Miso Soup",
                                    "authors": "Ryū Murakami, Ralph McCarthy"
                                },
                                {
                                    "Title": "The Blind Owl",
                                    "authors": "Sadegh Hedayat, D.P. Costello"
                                },
                                {
                                    "Title": "Haroun and the Sea of Stories (Khalifa Brothers, #1)",
                                    "authors": "Salman Rushdie, Paul Birkbeck"
                                },
                                {
                                    "Title": "Guess How Much I Love You",
                                    "authors": "Sam McBratney, Anita Jeram"
                                },
                                {
                                    "Title": "The Jordan Rules",
                                    "authors": "Sam Smith, Doug Grud"
                                },
                                {
                                    "Title": "The House of God",
                                    "authors": "Samuel Shem, John Updike"
                                },
                                {
                                    "Title": "The Rime of the Ancient Mariner",
                                    "authors": "Samuel Taylor Coleridge, Gustave Doré"
                                },
                                {
                                    "Title": "Low Pressure",
                                    "authors": "Sandra Brown, Stephen Lang"
                                },
                                {
                                    "Title": "Clementine (Clementine, #1)",
                                    "authors": "Sara Pennypacker, Marla Frazee"
                                },
                                {
                                    "Title": "The Postmistress",
                                    "authors": "Sarah Blake, Orlagh Cassidy"
                                },
                                {
                                    "Title": "Red Riding Hood",
                                    "authors": "Sarah Blakley-Cartwright, David Leslie Johnson, Catherine Hardwicke"
                                },
                                {
                                    "Title": "Having Our Say: The Delany Sisters' First 100 Years",
                                    "authors": "Sarah L. Delany, A. Elizabeth Delany, Amy Hill Hearth"
                                },
                                {
                                    "Title": "Going Rogue: An American Life",
                                    "authors": "Sarah Palin, Lynn Vincent, Dewey Whetsell"
                                },
                                {
                                    "Title": "The Magic Thief (Magic Thief, #1)",
                                    "authors": "Sarah Prineas, Antonio Javier Caparo"
                                },
                                {
                                    "Title": "The Partly Cloudy Patriot",
                                    "authors": "Sarah Vowell, Katherine Streeter"
                                },
                                {
                                    "Title": "The Adventures of Augie March",
                                    "authors": "Saul Bellow, Christopher Hitchens"
                                },
                                {
                                    "Title": "Henderson the Rain King",
                                    "authors": "Saul Bellow, Luciano Bianciardi"
                                },
                                {
                                    "Title": "Herzog",
                                    "authors": "Saul Bellow, Philip Roth"
                                },
                                {
                                    "Title": "Our Dumb Century: The Onion Presents 100 Years of Headlines from America's Finest News Source",
                                    "authors": "Scott Dikkers, Maria Schneider, John Krewson, Robert Siegel, David Javerbaum, Todd Hanson, Carol Kolb, Mike Loew, Tim Harrod"
                                },
                                {
                                    "Title": "Eat and Run: My Unlikely Journey to Ultramarathon Greatness",
                                    "authors": "Scott Jurek, Steve Friedman"
                                },
                                {
                                    "Title": "Batman, Volume 1: The Court of Owls",
                                    "authors": "Scott Snyder, Greg Capullo, Jonathan Glapion"
                                },
                                {
                                    "Title": "Batman, Volume 3: Death of the Family",
                                    "authors": "Scott Snyder, Greg Capullo, Jonathan Glapion"
                                },
                                {
                                    "Title": "Batman, Volume 2: The City of Owls",
                                    "authors": "Scott Snyder, Greg Capullo, Jonathan Glapion, James Tynion IV, Rafael Albuquerque, Jason Fabok, Becky Cloonan, Andy Clarke, Sandu Florea"
                                },
                                {
                                    "Title": "Batman: The Black Mirror",
                                    "authors": "Scott Snyder, Jock, Francesco Francavilla, Jared K. Fletcher, Sal Cipriano, David   Baron"
                                },
                                {
                                    "Title": "American Vampire, Vol. 1",
                                    "authors": "Scott Snyder, Stephen King, Rafael Albuquerque"
                                },
                                {
                                    "Title": "Goliath (Leviathan, #3)",
                                    "authors": "Scott Westerfeld, Keith Thompson"
                                },
                                {
                                    "Title": "Behemoth (Leviathan, #2)",
                                    "authors": "Scott Westerfeld, Keith Thompson"
                                },
                                {
                                    "Title": "Night Watch (Watch #1)",
                                    "authors": "Sergei Lukyanenko, Andrew Bromfield"
                                },
                                {
                                    "Title": "Day Watch (Watch #2)",
                                    "authors": "Sergei Lukyanenko, Andrew Bromfield"
                                },
                                {
                                    "Title": "Twilight Watch (Watch #3)",
                                    "authors": "Sergei Lukyanenko, Andrew Bromfield"
                                },
                                {
                                    "Title": "Pride and Prejudice and Zombies (Pride and Prejudice and Zombies, #1)",
                                    "authors": "Seth Grahame-Smith, Jane Austen"
                                },
                                {
                                    "Title": "Book of a Thousand Days",
                                    "authors": "Shannon Hale, James Noel Smith"
                                },
                                {
                                    "Title": "A Severe Mercy: A Story of Faith, Tragedy and Triumph",
                                    "authors": "Sheldon Vanauken, C.S. Lewis"
                                },
                                {
                                    "Title": "The Absolutely True Diary of a Part-Time Indian",
                                    "authors": "Sherman Alexie, Ellen Forney"
                                },
                                {
                                    "Title": "Lean In: Women, Work, and the Will to Lead",
                                    "authors": "Sheryl Sandberg, Nell Scovell"
                                },
                                {
                                    "Title": "We Have Always Lived in the Castle",
                                    "authors": "Shirley Jackson, Jonathan Lethem"
                                },
                                {
                                    "Title": "The Haunting of Hill House",
                                    "authors": "Shirley Jackson, Laura   Miller"
                                },
                                {
                                    "Title": "FRUiTS",
                                    "authors": "Shoichi Aoki, Mark Sanders, Shoich Aoki"
                                },
                                {
                                    "Title": "Silence",
                                    "authors": "Shūsaku Endō, William Johnston"
                                },
                                {
                                    "Title": "Si-cology 1: Tales and Wisdom from Duck Dynasty’s Favorite Uncle",
                                    "authors": "Si Robertson, Mark Schlabach"
                                },
                                {
                                    "Title": "The Whipping Boy",
                                    "authors": "Sid Fleischman, Peter Sís"
                                },
                                {
                                    "Title": "Civilization and Its Discontents",
                                    "authors": "Sigmund Freud, James Strachey, Peter Gay"
                                },
                                {
                                    "Title": "Soccernomics: Why England Loses, Why Germany and Brazil Win, and Why the U.S., Japan, Australia, Turkey--and Even Iraq--Are Destined to Become the Kings of the World's Most Popular Sport",
                                    "authors": "Simon Kuper, Stefan Szymanski"
                                },
                                {
                                    "Title": "The Second Sex",
                                    "authors": "Simone de Beauvoir, H.M. Parshley, Deirdre Bair"
                                },
                                {
                                    "Title": "Slash",
                                    "authors": "Slash, Anthony Bozza"
                                },
                                {
                                    "Title": "The Tibetan Book of Living and Dying",
                                    "authors": "Sogyal Rinpoche, Andrew Harvey"
                                },
                                {
                                    "Title": "The Oedipus Cycle: Oedipus Rex/Oedipus at Colonus/Antigone (The Theban Plays, #1–3)",
                                    "authors": "Sophocles, Dudley Fitts, Elena Bono, Robert Fitzgerald"
                                },
                                {
                                    "Title": "Antigone (The Theban Plays, #3)",
                                    "authors": "Sophocles, J.E. Thomas"
                                },
                                {
                                    "Title": "Oedipus Rex  (The Theban Plays, #1)",
                                    "authors": "Sophocles, J.E. Thomas"
                                },
                                {
                                    "Title": "Fear and Trembling",
                                    "authors": "Søren Kierkegaard, Alastair Hannay"
                                },
                                {
                                    "Title": "Who Moved My Cheese?",
                                    "authors": "Spencer Johnson, Kenneth H. Blanchard"
                                },
                                {
                                    "Title": "Manga Classics: Les Misérables",
                                    "authors": "Stacy King, SunNeko Lee, Crystal S. Chan, Victor Hugo"
                                },
                                {
                                    "Title": "The Berenstain Bears Forget Their Manners",
                                    "authors": "Stan Berenstain, Jan Berenstain"
                                },
                                {
                                    "Title": "The Berenstain Bears Go to School",
                                    "authors": "Stan Berenstain, Jan Berenstain"
                                },
                                {
                                    "Title": "The Berenstain Bears and Too Much TV",
                                    "authors": "Stan Berenstain, Jan Berenstain"
                                },
                                {
                                    "Title": "Inside, Outside, Upside Down (Berenstain Bears Bright and Early Board Book)",
                                    "authors": "Stan Berenstain, Jan Berenstain"
                                },
                                {
                                    "Title": "The Berenstain Bears' Trouble at School",
                                    "authors": "Stan Berenstain, Jan Berenstain"
                                },
                                {
                                    "Title": "The Berenstain Bears and the Messy Room",
                                    "authors": "Stan Berenstain, Jan Berenstain"
                                },
                                {
                                    "Title": "Chess Story",
                                    "authors": "Stefan Zweig, Joel Rotenberg, Hans Hausmann, Dirk Muller, Peter Gay, Willy Trenk-Trebitsch, Mario Adorf, Gert Westphal"
                                },
                                {
                                    "Title": "Cold Comfort Farm",
                                    "authors": "Stella Gibbons, Lynne Truss, Roz Chast"
                                },
                                {
                                    "Title": "The Charterhouse of Parma",
                                    "authors": "Stendhal, Richard Howard, Robert Andrew Parker"
                                },
                                {
                                    "Title": "The Red and the Black",
                                    "authors": "Stendhal, Roger Gard"
                                },
                                {
                                    "Title": "America's First Daughter",
                                    "authors": "Stephanie Dray, Laura Kamoie"
                                },
                                {
                                    "Title": "My True Love Gave to Me: Twelve Holiday Stories",
                                    "authors": "Stephanie Perkins, Holly Black, Ally Carter, Matt de la Pena, Gayle Forman, Jenny Han, David Levithan, Kelly Link, Myra McEntire, Rainbow Rowell, Laini Taylor, Kiersten White"
                                },
                                {
                                    "Title": "Interesting Times: The Play",
                                    "authors": "Stephen Briggs, Terry Pratchett"
                                },
                                {
                                    "Title": "Guards! Guards!: The Play",
                                    "authors": "Stephen Briggs, Terry Pratchett"
                                },
                                {
                                    "Title": "Fish: A Proven Way to Boost Morale and Improve Results",
                                    "authors": "Stephen C. Lundin, Harry Paul, John Christensen, Kenneth H. Blanchard"
                                },
                                {
                                    "Title": "I Am America (And So Can You!)",
                                    "authors": "Stephen Colbert, Richard Dahm, Paul Dinello, Allison Silverman, Michael Brumm, Eric Drydale, Rob Dubbin, Glenn Eichler, Peter Grosz, Peter Gwinn, Jay Katsir, Laura Krafft, Frank Lesser, Tom Purcell"
                                },
                                {
                                    "Title": "The Red Badge of Courage and Selected Short Fiction  ",
                                    "authors": "Stephen Crane, George Stade, Richard Fusco"
                                },
                                {
                                    "Title": "A Brief History of Time",
                                    "authors": "Stephen Hawking, Cao Chi, Phạm Văn Thiều"
                                },
                                {
                                    "Title": "The Grand Design",
                                    "authors": "Stephen Hawking, Leonard Mlodinow"
                                },
                                {
                                    "Title": "A Briefer History of Time",
                                    "authors": "Stephen Hawking, Leonard Mlodinow"
                                },
                                {
                                    "Title": "Shadows over Innsmouth",
                                    "authors": "Stephen Jones, H.P. Lovecraft, Kim Newman, Brian Mooney, Nicholas Royle, David Langford, Michael Marshall Smith, Brian Lumley, Neil Gaiman, Basil Copper, Jack Yeovil, Guy N. Smith, Adrian Cole, D.F. Lewis, Ramsey Campbell, David Sutton, Peter Tremayne"
                                },
                                {
                                    "Title": "The Love Dare",
                                    "authors": "Stephen Kendrick, Alex Kendrick"
                                },
                                {
                                    "Title": "The Stand",
                                    "authors": "Stephen King, Bernie Wrightson"
                                },
                                {
                                    "Title": "Wolves of the Calla (The Dark Tower, #5)",
                                    "authors": "Stephen King, Bernie Wrightson"
                                },
                                {
                                    "Title": "Cycle of the Werewolf",
                                    "authors": "Stephen King, Bernie Wrightson"
                                },
                                {
                                    "Title": "Creepshow",
                                    "authors": "Stephen King, Bernie Wrightson, Michele Wrightson"
                                },
                                {
                                    "Title": "Insomnia",
                                    "authors": "Stephen King, Bettina Blanch Tyroller"
                                },
                                {
                                    "Title": "Song of Susannah (The Dark Tower, #6)",
                                    "authors": "Stephen King, Darrel Anderson"
                                },
                                {
                                    "Title": "Wizard and Glass (The Dark Tower, #4)",
                                    "authors": "Stephen King, Dave McKean"
                                },
                                {
                                    "Title": "Dolores Claiborne",
                                    "authors": "Stephen King, Dominique Dill"
                                },
                                {
                                    "Title": "The Wind Through the Keyhole (The Dark Tower, #4.5)",
                                    "authors": "Stephen King, Jae Lee"
                                },
                                {
                                    "Title": "'Salem's Lot",
                                    "authors": "Stephen King, Jerry N. Uelsmann"
                                },
                                {
                                    "Title": "Night Shift",
                                    "authors": "Stephen King, John D. MacDonald"
                                },
                                {
                                    "Title": "Riding the Bullet",
                                    "authors": "Stephen King, Josh Hamilton"
                                },
                                {
                                    "Title": "Christine",
                                    "authors": "Stephen King, Marie Milpois"
                                },
                                {
                                    "Title": "The Little Sisters of Eluria (The Dark Tower, #0.5)",
                                    "authors": "Stephen King, Michael Whelan"
                                },
                                {
                                    "Title": "The Waste Lands (The Dark Tower, #3)",
                                    "authors": "Stephen King, Ned Dameron"
                                },
                                {
                                    "Title": "The Talisman (The Talisman, #1)",
                                    "authors": "Stephen King, Peter Straub"
                                },
                                {
                                    "Title": "Black House (The Talisman, #2)",
                                    "authors": "Stephen King, Peter Straub"
                                },
                                {
                                    "Title": "The Body",
                                    "authors": "Stephen King, Robin A.H. Waterfield"
                                },
                                {
                                    "Title": "One Past Midnight: The Langoliers",
                                    "authors": "Stephen King, Willem Dafoe"
                                },
                                {
                                    "Title": "Dreamcatcher",
                                    "authors": "Stephen King, William Olivier Desmond"
                                },
                                {
                                    "Title": "First Things First",
                                    "authors": "Stephen R. Covey, A. Roger Merrill, Rebecca R. Merrill"
                                },
                                {
                                    "Title": "Wicked - Piano/Vocal Arrangement",
                                    "authors": "Stephen Schwartz, Gregory Maguire"
                                },
                                {
                                    "Title": "Sweeney Todd: The Demon Barber of Fleet Street",
                                    "authors": "Stephen Sondheim, Hugh Wheeler, Christopher Godfrey Bond"
                                },
                                {
                                    "Title": "The Twilight Saga (Twilight, #1-4)",
                                    "authors": "Stephenie Meyer, Ilyana Kadushin, Matt Walters"
                                },
                                {
                                    "Title": "Twilight: The Graphic Novel, Vol. 2  (Twilight: The Graphic Novel, #2)",
                                    "authors": "Stephenie Meyer, Young Kim"
                                },
                                {
                                    "Title": "The Paris Vendetta (Cotton Malone, #5)",
                                    "authors": "Steve Berry, Scott Brick"
                                },
                                {
                                    "Title": "Dawn of the Dreadfuls (Pride and Prejudice and Zombies, #0.5)",
                                    "authors": "Steve Hockensmith, Jane Austen, Patrick Arrasmith"
                                },
                                {
                                    "Title": "30 Days of Night, Vol. 1",
                                    "authors": "Steve Niles, Ben Templesmith"
                                },
                                {
                                    "Title": "Breaking Point (Tom Clancy's Net Force, #4)",
                                    "authors": "Steve Perry, Tom Clancy, Steve Pieczenik"
                                },
                                {
                                    "Title": "Think Like a Freak",
                                    "authors": "Steven D. Levitt, Stephen J. Dubner"
                                },
                                {
                                    "Title": "SuperFreakonomics: Global Cooling, Patriotic Prostitutes And Why Suicide Bombers Should Buy Life Insurance",
                                    "authors": "Steven D. Levitt, Stephen J. Dubner"
                                },
                                {
                                    "Title": "Freakonomics: A Rogue Economist Explores the Hidden Side of Everything (Freakonomics, #1)",
                                    "authors": "Steven D. Levitt, Stephen J. Dubner"
                                },
                                {
                                    "Title": "Van Gogh: The Life",
                                    "authors": "Steven Naifeh, Gregory White Smith"
                                },
                                {
                                    "Title": "The War of Art: Break Through the Blocks & Win Your Inner Creative Battles",
                                    "authors": "Steven Pressfield, Robert McKee"
                                },
                                {
                                    "Title": "The Girl Who Played with Fire (Millennium, #2)",
                                    "authors": "Stieg Larsson, Reg Keeland"
                                },
                                {
                                    "Title": "The Girl with the Dragon Tattoo (Millennium, #1)",
                                    "authors": "Stieg Larsson, Reg Keeland"
                                },
                                {
                                    "Title": "The Girl Who Kicked the Hornet's Nest (Millennium, #3)",
                                    "authors": "Stieg Larsson, Reg Keeland"
                                },
                                {
                                    "Title": "The Millennium Trilogy (Millennium Trilogy, #1-3)",
                                    "authors": "Stieg Larsson, Reg Keeland"
                                },
                                {
                                    "Title": "The Twelve Caesars",
                                    "authors": "Suetonius, Michael Grant, Robert Graves"
                                },
                                {
                                    "Title": "Tokyo Ghoul, tome 1 (Tokyo Ghoul, #1)",
                                    "authors": "Sui Ishida, 石田 スイ"
                                },
                                {
                                    "Title": "The Art of War",
                                    "authors": "Sun Tzu, Thomas Cleary"
                                },
                                {
                                    "Title": "The Woman in Black",
                                    "authors": "Susan Hill, John Lawrence"
                                },
                                {
                                    "Title": "Meet Samantha: An American Girl (American Girls: Samantha, #1)",
                                    "authors": "Susan S. Adler, Renée Graef, Nancy Niles"
                                },
                                {
                                    "Title": "The Ladies of Grace Adieu and Other Stories",
                                    "authors": "Susanna Clarke, Charles Vess"
                                },
                                {
                                    "Title": "The Winter Sea (Slains, #1)",
                                    "authors": "Susanna Kearsley, Rosalyn Landor"
                                },
                                {
                                    "Title": "The Unabridged Journals of Sylvia Plath",
                                    "authors": "Sylvia Plath, Karen V. Kukil"
                                },
                                {
                                    "Title": "The Collected Poems",
                                    "authors": "Sylvia Plath, Ted Hughes"
                                },
                                {
                                    "Title": "The China Study: The Most Comprehensive Study of Nutrition Ever Conducted And the Startling Implications for Diet, Weight Loss, And Long-term Health",
                                    "authors": "T. Colin Campbell, Thomas M. Campbell II"
                                },
                                {
                                    "Title": "Drop City",
                                    "authors": "T.C. Boyle, Richard Poe"
                                },
                                {
                                    "Title": "Old Possum's Book of Practical Cats",
                                    "authors": "T.S. Eliot, Edward Gorey"
                                },
                                {
                                    "Title": "The Waste Land",
                                    "authors": "T.S. Eliot, Michael North"
                                },
                                {
                                    "Title": "Gakuen Alice, Vol. 01 (Gakuen Alice, #1)",
                                    "authors": "Tachibana Higuchi, 樋口 橘"
                                },
                                {
                                    "Title": "Season of Migration to the North",
                                    "authors": "Tayeb Salih, Denys Johnson-Davies"
                                },
                                {
                                    "Title": "Animal-Speak: The Spiritual & Magical Powers of Creatures Great & Small",
                                    "authors": "Ted Andrews, Winston Allen, Margaret K. Andrews"
                                },
                                {
                                    "Title": "Lady and the Tramp",
                                    "authors": "Teddy Slater, Bill Langley, Ron Dias, Walt Disney Company"
                                },
                                {
                                    "Title": "Beauty and the Beast (Disney)",
                                    "authors": "Teddy Slater, Ron Dias, Ric González"
                                },
                                {
                                    "Title": "Star Wars - Episode I: The Phantom Menace",
                                    "authors": "Terry Brooks, George Lucas"
                                },
                                {
                                    "Title": "Temple of the Winds (Sword of Truth, #4)",
                                    "authors": "Terry Goodkind, Dick Hill"
                                },
                                {
                                    "Title": "Lady Cottington's Pressed Fairy Book",
                                    "authors": "Terry Jones, Brian Froud"
                                },
                                {
                                    "Title": "Good Omens: The Nice and Accurate Prophecies of Agnes Nutter, Witch",
                                    "authors": "Terry Pratchett, Neil Gaiman"
                                },
                                {
                                    "Title": "The Last Hero (Discworld, #27; Rincewind #7)",
                                    "authors": "Terry Pratchett, Paul Kidby"
                                },
                                {
                                    "Title": "The Long Earth (The Long Earth, #1)",
                                    "authors": "Terry Pratchett, Stephen Baxter"
                                },
                                {
                                    "Title": "The Long War (The Long Earth, #2)",
                                    "authors": "Terry Pratchett, Stephen Baxter"
                                },
                                {
                                    "Title": "Mort: The Play",
                                    "authors": "Terry Pratchett, Stephen Briggs"
                                },
                                {
                                    "Title": "Men at Arms: The Play",
                                    "authors": "Terry Pratchett, Stephen Briggs"
                                },
                                {
                                    "Title": "Totto-chan: The Little Girl at the Window",
                                    "authors": "Tetsuko Kuroyanagi, Chihiro Iwasaki, Dorothy Britton"
                                },
                                {
                                    "Title": "The Beatles Anthology",
                                    "authors": "The Beatles, Paul McCartney, Ringo Starr, John Lennon, George Harrison"
                                },
                                {
                                    "Title": "Waiter Rant: Thanks for the Tip-Confessions of a Cynical Waiter",
                                    "authors": "The Waiter, Steve Dublanica"
                                },
                                {
                                    "Title": "Ten Apples Up On Top!",
                                    "authors": "Theo LeSieg, Roy McKie"
                                },
                                {
                                    "Title": "An American Tragedy",
                                    "authors": "Theodore Dreiser, Richard R. Lingeman"
                                },
                                {
                                    "Title": "Peace Is Every Step: The Path of Mindfulness in Everyday Life",
                                    "authors": "Thich Nhat Hanh, Arnold Kotler, Dalai Lama XIV"
                                },
                                {
                                    "Title": "The Imitation of Christ",
                                    "authors": "Thomas à Kempis, William Benham"
                                },
                                {
                                    "Title": "The Return of the Native  ",
                                    "authors": "Thomas Hardy, Alexander Theroux"
                                },
                                {
                                    "Title": "The Mayor of Casterbridge",
                                    "authors": "Thomas Hardy, Keith Wilson"
                                },
                                {
                                    "Title": "The Woodlanders",
                                    "authors": "Thomas Hardy, Patricia Ingham"
                                },
                                {
                                    "Title": "Far from the Madding Crowd",
                                    "authors": "Thomas Hardy, Rosemarie Morgan, Shannon Russell"
                                },
                                {
                                    "Title": "Tess of the D'Urbervilles",
                                    "authors": "Thomas Hardy, Tim Dolin, Margaret R. Higonnet"
                                },
                                {
                                    "Title": "Leviathan",
                                    "authors": "Thomas Hobbes, C.B. Macpherson"
                                },
                                {
                                    "Title": "The Millionaire Next Door: The Surprising Secrets of Americas Wealthy",
                                    "authors": "Thomas J. Stanley, William D. Danko"
                                },
                                {
                                    "Title": "King Arthur and His Knights: Selected Tales",
                                    "authors": "Thomas Malory, Eugène Vinaver"
                                },
                                {
                                    "Title": "Le Morte d'Arthur: King Arthur and the Legends of the Round Table",
                                    "authors": "Thomas Malory, Keith Baines, Robert Graves"
                                },
                                {
                                    "Title": "Death in Venice and Other Tales",
                                    "authors": "Thomas Mann, Joachim Neugroschel"
                                },
                                {
                                    "Title": "The Magic Mountain",
                                    "authors": "Thomas Mann, John E. Woods"
                                },
                                {
                                    "Title": "Buddenbrooks: The Decline of a Family",
                                    "authors": "Thomas Mann, John E. Woods, T.J. Reed"
                                },
                                {
                                    "Title": "Death in Venice",
                                    "authors": "Thomas Mann, Michael Henry Heim, Michael Cunningham"
                                },
                                {
                                    "Title": "The Seven Storey Mountain",
                                    "authors": "Thomas Merton, Robert Giroux, William H. Shannon"
                                },
                                {
                                    "Title": "Utopia",
                                    "authors": "Thomas More, Paul Turner"
                                },
                                {
                                    "Title": "Common Sense, The Rights of Man and Other Essential Writings",
                                    "authors": "Thomas Paine, Sidney Hook, Jack Fruchtman Jr."
                                },
                                {
                                    "Title": "Capital in the Twenty-First Century",
                                    "authors": "Thomas Piketty, Arthur Goldhammer"
                                },
                                {
                                    "Title": "Our Town",
                                    "authors": "Thornton Wilder, Donald Margulies, Tappan Wilder"
                                },
                                {
                                    "Title": "History of the Peloponnesian War",
                                    "authors": "Thucydides, Rex Warner, Moses I. Finley"
                                },
                                {
                                    "Title": "Fahrenheit 451: The Authorized Adaptation",
                                    "authors": "Tim Hamilton, Ray Bradbury"
                                },
                                {
                                    "Title": "Armageddon: The Cosmic Battle of the Ages (Left Behind, #11)",
                                    "authors": "Tim LaHaye, Jerry B. Jenkins"
                                },
                                {
                                    "Title": "The Rising: Antichrist is Born  (Before They Were Left Behind, #1)",
                                    "authors": "Tim LaHaye, Jerry B. Jenkins"
                                },
                                {
                                    "Title": "Glorious Appearing: The End of Days (Left Behind, #12)",
                                    "authors": "Tim LaHaye, Jerry B. Jenkins"
                                },
                                {
                                    "Title": "Apollyon (Left Behind, #5)",
                                    "authors": "Tim LaHaye, Jerry B. Jenkins"
                                },
                                {
                                    "Title": "The Mark (Left Behind, #8)",
                                    "authors": "Tim LaHaye, Jerry B. Jenkins"
                                },
                                {
                                    "Title": "Assassins (Left Behind, #6)",
                                    "authors": "Tim LaHaye, Jerry B. Jenkins"
                                },
                                {
                                    "Title": "The Indwelling (Left Behind, #7)",
                                    "authors": "Tim LaHaye, Jerry B. Jenkins"
                                },
                                {
                                    "Title": "The Remnant (Left Behind, #10)",
                                    "authors": "Tim LaHaye, Jerry B. Jenkins"
                                },
                                {
                                    "Title": "Desecration (Left Behind, #9)",
                                    "authors": "Tim LaHaye, Jerry B. Jenkins"
                                },
                                {
                                    "Title": "Tribulation Force (Left Behind, #2)",
                                    "authors": "Tim LaHaye, Jerry B. Jenkins"
                                },
                                {
                                    "Title": "Nicolae (Left Behind, #3)",
                                    "authors": "Tim LaHaye, Jerry B. Jenkins"
                                },
                                {
                                    "Title": "Soul Harvest: The World Takes Sides (Left Behind, #4)",
                                    "authors": "Tim LaHaye, Jerry B. Jenkins"
                                },
                                {
                                    "Title": "Left Behind (Left Behind, #1)",
                                    "authors": "Tim LaHaye, Jerry B. Jenkins"
                                },
                                {
                                    "Title": "Through My Eyes",
                                    "authors": "Tim Tebow, Nathan Whitaker"
                                },
                                {
                                    "Title": "The Meaning of Marriage: Facing the Complexities of Commitment with the Wisdom of God",
                                    "authors": "Timothy J. Keller, Kathy  Keller"
                                },
                                {
                                    "Title": "Heaven is for Real: A Little Boy's Astounding Story of His Trip to Heaven and Back",
                                    "authors": "Todd Burpo, Lynn Vincent"
                                },
                                {
                                    "Title": "Dead or Alive (Jack Ryan Universe, #13)",
                                    "authors": "Tom Clancy, Grant Blackwood"
                                },
                                {
                                    "Title": "Threat Vector (Jack Ryan Universe, #15)",
                                    "authors": "Tom Clancy, Mark Greaney"
                                },
                                {
                                    "Title": "Command Authority (Jack Ryan Universe, #16)",
                                    "authors": "Tom Clancy, Mark Greaney"
                                },
                                {
                                    "Title": "Locked On (Jack Ryan Universe, #14)",
                                    "authors": "Tom Clancy, Mark Greaney"
                                },
                                {
                                    "Title": "Against All Enemies (Max Moore, #1)",
                                    "authors": "Tom Clancy, Peter Telep"
                                },
                                {
                                    "Title": "In Search of Excellence: Lessons from America's Best-Run Companies",
                                    "authors": "Tom Peters, Robert H. Waterman Jr."
                                },
                                {
                                    "Title": "Bone: Quest for the Spark, Vol. 1",
                                    "authors": "Tom Sniegoski, Jeff Smith, Thomas E. Sniegoski, Steve Hamaker"
                                },
                                {
                                    "Title": "Rosencrantz and Guildenstern Are Dead",
                                    "authors": "Tom Stoppard, Henry Popkin"
                                },
                                {
                                    "Title": "The Dirt: Confessions of the World's Most Notorious Rock Band",
                                    "authors": "Tommy Lee, Vince Neil, Nikki Sixx, Neil Strauss, Mick Mars, Tommy Lee"
                                },
                                {
                                    "Title": "The Wallflower, Vol. 1 (The Wallflower, #1)",
                                    "authors": "Tomoko Hayakawa, David Ury"
                                },
                                {
                                    "Title": "Emotional Intelligence 2.0",
                                    "authors": "Travis Bradberry, Jean Greaves, Patrick Lencioni"
                                },
                                {
                                    "Title": "The Mysterious Benedict Society (The Mysterious Benedict Society, #1)",
                                    "authors": "Trenton Lee Stewart, Carson Ellis"
                                },
                                {
                                    "Title": "The Mysterious Benedict Society and the Prisoner's Dilemma (The Mysterious Benedict Society, #3)",
                                    "authors": "Trenton Lee Stewart, Del Roy"
                                },
                                {
                                    "Title": "The Mysterious Benedict Society and the Perilous Journey (The Mysterious Benedict Society, #2)",
                                    "authors": "Trenton Lee Stewart, Diana Sudyka"
                                },
                                {
                                    "Title": "Little Red Riding Hood",
                                    "authors": "Trina Schart Hyman, Johann Grimm, Wilhelm Grimm"
                                },
                                {
                                    "Title": "The Day Jimmy's Boa Ate the Wash",
                                    "authors": "Trinka Hakes Noble, Steven Kellogg"
                                },
                                {
                                    "Title": "When Rabbit Howls",
                                    "authors": "Truddi Chase, Robert A. Phillips Jr."
                                },
                                {
                                    "Title": "Death Note, Vol. 2: Confluence (Death Note, #2)",
                                    "authors": "Tsugumi Ohba, Takeshi Obata"
                                },
                                {
                                    "Title": "Death Note, Vol. 3: Hard Run (Death Note, #3)",
                                    "authors": "Tsugumi Ohba, Takeshi Obata"
                                },
                                {
                                    "Title": "Death Note, Vol. 8: Target (Death Note, #8)",
                                    "authors": "Tsugumi Ohba, Takeshi Obata"
                                },
                                {
                                    "Title": "Death Note, Vol. 4: Love (Death Note, #4)",
                                    "authors": "Tsugumi Ohba, Takeshi Obata"
                                },
                                {
                                    "Title": "Death Note, Vol. 7: Zero (Death Note, #7)",
                                    "authors": "Tsugumi Ohba, Takeshi Obata"
                                },
                                {
                                    "Title": "Death Note, Vol. 5: Whiteout (Death Note, #5)",
                                    "authors": "Tsugumi Ohba, Takeshi Obata"
                                },
                                {
                                    "Title": "Death Note, Vol. 6: Give-and-Take (Death Note, #6)",
                                    "authors": "Tsugumi Ohba, Takeshi Obata"
                                },
                                {
                                    "Title": "Death Note, Vol. 1: Boredom (Death Note, #1)",
                                    "authors": "Tsugumi Ohba, Takeshi Obata"
                                },
                                {
                                    "Title": "Bakuman, Band 1: Traum und Realität",
                                    "authors": "Tsugumi Ohba, Takeshi Obata, Diana Hammermeister"
                                },
                                {
                                    "Title": "The Secret Race: Inside the Hidden World of the Tour de France: Doping, Cover-ups, and Winning at All Costs",
                                    "authors": "Tyler Hamilton, Daniel Coyle"
                                },
                                {
                                    "Title": "History of Beauty",
                                    "authors": "Umberto Eco, Girolamo De Michele, Alastair McEwen"
                                },
                                {
                                    "Title": "The Prague Cemetery",
                                    "authors": "Umberto Eco, Richard Dixon"
                                },
                                {
                                    "Title": "Foucault's Pendulum",
                                    "authors": "Umberto Eco, William Weaver"
                                },
                                {
                                    "Title": "Baudolino",
                                    "authors": "Umberto Eco, William Weaver, R.C.S. Libri"
                                },
                                {
                                    "Title": "The Name of the Rose",
                                    "authors": "Umberto Eco, William Weaver, Seán Barrett"
                                },
                                {
                                    "Title": "Sir Gawain and the Green Knight ",
                                    "authors": "Unknown, Burton Raffel, Neil D. Isaacs"
                                },
                                {
                                    "Title": "Beowulf",
                                    "authors": "Unknown, Seamus Heaney"
                                },
                                {
                                    "Title": "The Jungle",
                                    "authors": "Upton Sinclair, Earl Lee, Kathleen DeGrave"
                                },
                                {
                                    "Title": "The Left Hand of Darkness",
                                    "authors": "Ursula K. Le Guin, Lech Jęczmyk"
                                },
                                {
                                    "Title": "A Darker Shade of Magic (Shades of Magic, #1)",
                                    "authors": "V.E. Schwab, Victoria Schwab"
                                },
                                {
                                    "Title": "A Gathering of Shadows (Shades of Magic, #2)",
                                    "authors": "V.E. Schwab, Victoria Schwab"
                                },
                                {
                                    "Title": "Vicious (Villains, #1)",
                                    "authors": "V.E. Schwab, Victoria Schwab"
                                },
                                {
                                    "Title": "Phantoms in the Brain: Probing the Mysteries of the Human Mind",
                                    "authors": "V.S. Ramachandran, Sandra Blakeslee, Oliver Sacks"
                                },
                                {
                                    "Title": "Why Mosquitoes Buzz in People's Ears",
                                    "authors": "Verna Aardema, Leo Dillon, Diane Dillon"
                                },
                                {
                                    "Title": "Stuck-Up Suit",
                                    "authors": "Vi Keeland, Penelope Ward"
                                },
                                {
                                    "Title": "Dewey: The Small-Town Library Cat Who Touched the World",
                                    "authors": "Vicki Myron, Bret Witter"
                                },
                                {
                                    "Title": "Les Misérables",
                                    "authors": "Victor Hugo, Lee Fahnestock, Norman MacAfee"
                                },
                                {
                                    "Title": "The Hunchback of Notre-Dame",
                                    "authors": "Victor Hugo, Walter J. Cobb"
                                },
                                {
                                    "Title": "Pinkalicious",
                                    "authors": "Victoria Kann, Elizabeth Kann"
                                },
                                {
                                    "Title": "The Survivor (Mitch Rapp, #14)",
                                    "authors": "Vince Flynn, Kyle Mills, Armand Schultz"
                                },
                                {
                                    "Title": "Helter Skelter: The True Story of the Manson Murders",
                                    "authors": "Vincent Bugliosi, Curt Gentry"
                                },
                                {
                                    "Title": "Dear Theo",
                                    "authors": "Vincent van Gogh, Irving Stone, Jean   Stone"
                                },
                                {
                                    "Title": "The Letters of Vincent van Gogh",
                                    "authors": "Vincent van Gogh, Ronald de Leeuw, Mark Roskill, Arnold J. Pomerans"
                                },
                                {
                                    "Title": "The Aeneid",
                                    "authors": "Virgil, Robert Fitzgerald"
                                },
                                {
                                    "Title": "Mrs. Dalloway",
                                    "authors": "Virginia Woolf, Maureen Howard"
                                },
                                {
                                    "Title": "Lolita",
                                    "authors": "Vladimir Nabokov, Craig Raine"
                                },
                                {
                                    "Title": "Pnin",
                                    "authors": "Vladimir Nabokov, David Lodge"
                                },
                                {
                                    "Title": "Blue Ocean Strategy: How To Create Uncontested Market Space And Make The Competition Irrelevant",
                                    "authors": "W. Chan Kim, Renée Mauborgne"
                                },
                                {
                                    "Title": "Of Human Bondage",
                                    "authors": "W. Somerset Maugham, Benjamin DeMott, Maeve Binchy"
                                },
                                {
                                    "Title": "The Collected Poems of W.B. Yeats",
                                    "authors": "W.B. Yeats, Richard J. Finneran"
                                },
                                {
                                    "Title": "The Souls of Black Folk",
                                    "authors": "W.E.B. Du Bois, Donald B. Gibson, Monica W. Elbert"
                                },
                                {
                                    "Title": "Austerlitz",
                                    "authors": "W.G. Sebald, Anthea Bell"
                                },
                                {
                                    "Title": "Beauty and the Beast",
                                    "authors": "Walt Disney Company, Ellen Titlebaum"
                                },
                                {
                                    "Title": "The Work of Art in the Age of Its Technological Reproducibility, and Other Writings on Media",
                                    "authors": "Walter Benjamin, Michael W. Jennings, Brigid Doherty, Edmund F.N. Jephcott, Rodney Livingstone, Howard Eiland, Thomas Y. Levin"
                                },
                                {
                                    "Title": "The Black Stallion (The Black Stallion, #1)",
                                    "authors": "Walter Farley, Keith Ward"
                                },
                                {
                                    "Title": "A Night to Remember",
                                    "authors": "Walter Lord, Nathaniel Philbrick"
                                },
                                {
                                    "Title": "The 13½ Lives of Captain Bluebear (Zamonia, #1)",
                                    "authors": "Walter Moers, John Brownjohn"
                                },
                                {
                                    "Title": "Desert Flower",
                                    "authors": "Waris Dirie, Cathleen Miller"
                                },
                                {
                                    "Title": "Iron Man: Extremis",
                                    "authors": "Warren Ellis, Adi Granov"
                                },
                                {
                                    "Title": "Transmetropolitan, Vol. 2: Lust for Life (Transmetropolitan, #2)",
                                    "authors": "Warren Ellis, Darick Robertson"
                                },
                                {
                                    "Title": "Transmetropolitan, Vol. 3: Year of the Bastard (Transmetropolitan, #3)",
                                    "authors": "Warren Ellis, Darick Robertson, Rodney Ramos"
                                },
                                {
                                    "Title": "Transmetropolitan, Vol. 4: The New Scum (Transmetropolitan, #4)",
                                    "authors": "Warren Ellis, Darick Robertson, Rodney Ramos, Keith Akin"
                                },
                                {
                                    "Title": "Transmetropolitan, Vol. 5: Lonely City (Transmetropolitan, #5)",
                                    "authors": "Warren Ellis, Darick Robertson, Rodney Ramos, Patrick Stewart"
                                },
                                {
                                    "Title": "Transmetropolitan, Vol. 1: Back on the Street (Transmetropolitan, #1)",
                                    "authors": "Warren Ellis, Darick Robertston, Garth Ennis"
                                },
                                {
                                    "Title": "Planetary, Volume 1: All Over the World and Other Stories",
                                    "authors": "Warren Ellis, John Cassaday"
                                },
                                {
                                    "Title": "The Little Engine That Could",
                                    "authors": "Watty Piper, Doris Hauman, George Hauman"
                                },
                                {
                                    "Title": "The Other Wes Moore: One Name, Two Fates",
                                    "authors": "Wes  Moore, Tavis Smiley"
                                },
                                {
                                    "Title": "The Moonstone",
                                    "authors": "Wilkie Collins, Carolyn G. Heilbrun"
                                },
                                {
                                    "Title": "The Woman in White",
                                    "authors": "Wilkie Collins, Matthew Sweet"
                                },
                                {
                                    "Title": "What the Bleep Do We Know!?: Discovering the Endless Possibilities for Altering Your Everyday Reality",
                                    "authors": "William Arntz, Betsy Chasse, Mark Vicente"
                                },
                                {
                                    "Title": "The Complete Poetry and Prose",
                                    "authors": "William Blake, David V. Erdman, Harold Bloom"
                                },
                                {
                                    "Title": "Selected Poems",
                                    "authors": "William Carlos Williams, Charles Tomlinson"
                                },
                                {
                                    "Title": "The Difference Engine ",
                                    "authors": "William Gibson, Bruce Sterling"
                                },
                                {
                                    "Title": "Burning Chrome (Sprawl, #0)",
                                    "authors": "William Gibson, Bruce Sterling"
                                },
                                {
                                    "Title": "Johnny Mnemonic",
                                    "authors": "William Gibson, Terry Bisson"
                                },
                                {
                                    "Title": "Sounder",
                                    "authors": "William H. Armstrong, James Barkley"
                                },
                                {
                                    "Title": "The Boy Who Harnessed the Wind: Creating Currents of Electricity and Hope",
                                    "authors": "William Kamkwamba, Bryan Mealer"
                                },
                                {
                                    "Title": "Vanity Fair",
                                    "authors": "William Makepeace Thackeray, John Carey"
                                },
                                {
                                    "Title": "The Bad Seed",
                                    "authors": "William March, Elaine Showalter"
                                },
                                {
                                    "Title": "Cradle to Cradle: Remaking the Way We Make Things",
                                    "authors": "William McDonough, Michael Braungart"
                                },
                                {
                                    "Title": "The Wind Singer (Wind on Fire, #1)",
                                    "authors": "William Nicholson, Peter Sís"
                                },
                                {
                                    "Title": "Naked Lunch",
                                    "authors": "William S. Burroughs, James Grauerholz, Barry  Miles"
                                },
                                {
                                    "Title": "Junky",
                                    "authors": "William S. Burroughs, Oliver  Harris, Allen Ginsberg"
                                },
                                {
                                    "Title": "Henry V",
                                    "authors": "William Shakespeare, Barbara A. Mowat, Paul Werstine"
                                },
                                {
                                    "Title": "Measure for Measure",
                                    "authors": "William Shakespeare, Barbara A. Mowat, Paul Werstine"
                                },
                                {
                                    "Title": "A Midsummer Night's Dream",
                                    "authors": "William Shakespeare, Barbara A. Mowat, Paul Werstine, Catherine Belsey"
                                },
                                {
                                    "Title": "Much Ado About Nothing",
                                    "authors": "William Shakespeare, Barbara A. Mowat, Paul Werstine, Gail Kern Paster, Robert          Jackson"
                                },
                                {
                                    "Title": "Antony and Cleopatra",
                                    "authors": "William Shakespeare, Cynthia Marshall, Barbara A. Mowat, Paul Werstine"
                                },
                                {
                                    "Title": "King Henry IV, Part 1 (Wars of the Roses, #2)",
                                    "authors": "William Shakespeare, David Scott Kastan"
                                },
                                {
                                    "Title": "Richard III",
                                    "authors": "William Shakespeare, John Jowett"
                                },
                                {
                                    "Title": "Shakespeare's Sonnets",
                                    "authors": "William Shakespeare, Katherine Duncan-Jones"
                                },
                                {
                                    "Title": "Hamlet",
                                    "authors": "William Shakespeare, Richard Andrews, Rex Gibson"
                                },
                                {
                                    "Title": "Romeo and Juliet",
                                    "authors": "William Shakespeare, Robert           Jackson"
                                },
                                {
                                    "Title": "The Merchant of Venice",
                                    "authors": "William Shakespeare, Robert          Jackson, Barbara A. Mowat, Paul Werstine"
                                },
                                {
                                    "Title": "Julius Caesar",
                                    "authors": "William Shakespeare, Roma Gill"
                                },
                                {
                                    "Title": "Richard II",
                                    "authors": "William Shakespeare, Roma Gill, Robert          Jackson"
                                },
                                {
                                    "Title": "Four Great Tragedies: Hamlet / Othello / King Lear / Macbeth",
                                    "authors": "William Shakespeare, Sylvan Barnet, Alvin Kernan, Russell Fraser"
                                },
                                {
                                    "Title": "The Elements of Style",
                                    "authors": "William Strunk Jr., E.B. White"
                                },
                                {
                                    "Title": "The Pianist: The Extraordinary Story of One Man's Survival in Warsaw, 1939–45",
                                    "authors": "Władysław Szpilman, Anthea Bell"
                                },
                                {
                                    "Title": "Black Butler, Vol. 1 (Black Butler, #1)",
                                    "authors": "Yana Toboso, Tomo Kimura"
                                },
                                {
                                    "Title": "Black Butler, Vol. 2 (Black Butler, #2)",
                                    "authors": "Yana Toboso, Tomo Kimura"
                                },
                                {
                                    "Title": "Snow Country",
                                    "authors": "Yasunari Kawabata, Edward G. Seidensticker"
                                },
                                {
                                    "Title": "We",
                                    "authors": "Yevgeny Zamyatin, Clarence Brown"
                                },
                                {
                                    "Title": "Boys Over Flowers: Hana Yori Dango, Vol. 1 (Boys Over Flowers, #1)",
                                    "authors": "Yoko Kamio, 神尾葉子"
                                },
                                {
                                    "Title": "The Housekeeper and the Professor",
                                    "authors": "Yōko Ogawa, Stephen Snyder"
                                },
                                {
                                    "Title": "Hunter x Hunter, Vol. 01 (Hunter x Hunter, #1)",
                                    "authors": "Yoshihiro Togashi, 冨樫 義博"
                                },
                                {
                                    "Title": "Skip Beat!, Vol. 01",
                                    "authors": "Yoshiki Nakamura, Tomo Kimura"
                                },
                                {
                                    "Title": "Twilight: The Graphic Novel, Vol. 1 (Twilight: The Graphic Novel, #1)",
                                    "authors": "Young Kim, Stephenie Meyer"
                                },
                                {
                                    "Title": "The Sailor Who Fell from Grace with the Sea",
                                    "authors": "Yukio Mishima, John Nathan"
                                },
                                {
                                    "Title": "Fushigi Yûgi: The Mysterious Play, Vol. 1: Priestess",
                                    "authors": "Yuu Watase, Yuji Oniki"
                                },
                                {
                                    "Title": "See You at the Top",
                                    "authors": "Zig Ziglar, Al Mayton"
                                },
                                {
                                    "Title": "Girl Online (Girl Online, #1)",
                                    "authors": "Zoe Sugg, Siobhan Curham"
                                },
                                {
                                    "Title": "com نسيان",
                                    "authors": "أحلام مستغانمي, Ahlam Mosteghanemi"
                                },
                                {
                                    "Title": "فوضى الحواس",
                                    "authors": "أحلام مستغانمي, Ahlam Mosteghanemi"
                                },
                                {
                                    "Title": "ذاكرة الجسد",
                                    "authors": "أحلام مستغانمي, Ahlam Mosteghanemi"
                                },
                                {
                                    "Title": "الأسود يليق بك",
                                    "authors": "أحلام مستغانمي, Ahlam Mosteghanemi"
                                },
                                {
                                    "Title": "عابر سرير",
                                    "authors": "أحلام مستغانمي, Ahlam Mosteghanemi"
                                },
                                {
                                    "Title": "تاكسي: حواديت المشاوير",
                                    "authors": "خالد الخميسي, Khaled Al Khamissi"
                                },
                                {
                                    "Title": "ساق البامبو",
                                    "authors": "سعود السنعوسي, Saud Alsanousi"
                                },
                                {
                                    "Title": "رباعيات صلاح جاهين",
                                    "authors": "صلاح جاهين, يحيى حقي"
                                },
                                {
                                    "Title": "قمر على سمرقند",
                                    "authors": "محمد المنسي قنديل, Mohamed Mansi Qandil"
                                },
                                {
                                    "Title": "محال",
                                    "authors": "يوسف زيدان, Youssef Ziedan"
                                },
                                {
                                    "Title": "النبطي",
                                    "authors": "يوسف زيدان, Youssef Ziedan"
                                }
                            ]
                        },
                        "text/html": [
                            "<table>",
                            "<tr><th>Title</th><th>authors</th></tr>",
                            "<tr><td>Winnie-the-Pooh (Winnie-the-Pooh, #1)</td><td>A.A. Milne, Ernest H. Shepard</td></tr>",
                            "<tr><td>The House at Pooh Corner (Winnie-the-Pooh, #2)</td><td>A.A. Milne, Ernest H. Shepard</td></tr>",
                            "<tr><td>The World of Winnie-the-Pooh (Winnie-the-Pooh, #1-2)</td><td>A.A. Milne, Ernest H. Shepard</td></tr>",
                            "<tr><td>The Complete Tales and Poems of Winnie-the-Pooh (Winnie-the-Pooh, #1-4)</td><td>A.A. Milne, Ernest H. Shepard</td></tr>",
                            "<tr><td>When We Were Very Young (Winnie-the-Pooh, #3)</td><td>A.A. Milne, Ernest H. Shepard</td></tr>",
                            "<tr><td>Now We Are Six (Winnie-the-Pooh, #4)</td><td>A.A. Milne, Ernest H. Shepard</td></tr>",
                            "<tr><td>Sleeping Beauty (Disney Princess, 5)</td><td>A.L. Singer, Walt Disney Company</td></tr>",
                            "<tr><td>The Claiming of Sleeping Beauty (Sleeping Beauty, #1)</td><td>A.N. Roquelaure, Anne Rice</td></tr>",
                            "<tr><td>Beauty&#39;s Release (Sleeping Beauty, #3)</td><td>A.N. Roquelaure, Anne Rice</td></tr>",
                            "<tr><td>Beauty&#39;s Punishment (Sleeping Beauty, #2)</td><td>A.N. Roquelaure, Anne Rice</td></tr>",
                            "<tr><td>Sleeping Beauty Box Set</td><td>A.N. Roquelaure, Anne Rice</td></tr>",
                            "<tr><td>Wings of Fire: An Autobiography</td><td>A.P.J. Abdul Kalam, Arun Tiwari</td></tr>",
                            "<tr><td>Dangerous Girls</td><td>Abigail Haas, Abby McDonald</td></tr>",
                            "<tr><td>A Higher Call: An Incredible True Story of Combat and Chivalry in the War-Torn Skies of World War II</td><td>Adam Makos, Larry Alexander</td></tr>",
                            "<tr><td>Go the Fuck to Sleep</td><td>Adam Mansbach, Ricardo Cortés</td></tr>",
                            "<tr><td>How to Talk So Kids Will Listen &amp; Listen So Kids Will Talk</td><td>Adele Faber, Elaine Mazlish, Kimberly Ann Coe</td></tr>",
                            "<tr><td>The Invention of Morel</td><td>Adolfo Bioy Casares, Suzanne Jill Levine, Jorge Luis Borges, Ruth L.C. Simms, Norah Borges de Torre</td></tr>",
                            "<tr><td>The Exploits of Sherlock Holmes</td><td>Adrian Conan Doyle, John Dickson Carr</td></tr>",
                            "<tr><td>Agamemnon (Oresteia, #1)</td><td>Aeschylus, Judith Affleck, Philip de May, Patricia E. Easterling, John     Harrison</td></tr>",
                            "<tr><td>The Oresteia  (Ορέστεια, #1-3)</td><td>Aeschylus, Robert Fagles, William Bedell Stanford</td></tr>",
                            "<tr><td>Aesop&#39;s Fables</td><td>Aesop, Laura Harris, Laura Gibbs</td></tr>",
                            "<tr><td>One, Two, Buckle My Shoe (Hercule Poirot, #22)</td><td>Agatha Christie, Hugh Fraser</td></tr>",
                            "<tr><td>The Clocks (Hercule Poirot, #34)</td><td>Agatha Christie, Robin Bailey</td></tr>",
                            "<tr><td>The Mysterious Affair at Styles (Hercule Poirot, #1)</td><td>Agatha Christie, Ροζίτα Σώκου</td></tr>",
                            "<tr><td>Reborn! Vol. 01: Reborn Arrives! (Reborn!, #1)</td><td>Akira Amano, JN Productions, Frances E. Wall</td></tr>",
                            "<tr><td>The Three Little Pigs (Disney Classic)</td><td>Al Dempster, Milt Banta, Golden Books, Walt Disney Company</td></tr>",
                            "<tr><td>Hand, Hand, Fingers, Thumb</td><td>Al Perkins, Eric Gurney</td></tr>",
                            "<tr><td>The 22 Immutable Laws of Marketing: Violate Them at Your Own Risk</td><td>Al Ries, Jack Trout</td></tr>",
                            "<tr><td>Positioning: The Battle for Your Mind: How to Be Seen and Heard in the Overcrowded Marketplace</td><td>Al Ries, Jack Trout</td></tr>",
                            "<tr><td>نادي السيارات</td><td>Alaa Al Aswany, علاء الأسواني</td></tr>",
                            "<tr><td>The Yacoubian Building</td><td>Alaa Al Aswany, علاء الأسواني</td></tr>",
                            "<tr><td>شيكاجو</td><td>Alaa Al Aswany, علاء الأسواني</td></tr>",
                            "<tr><td>Hello, Cupcake</td><td>Alan    Richardson, Karen Tack</td></tr>",
                            "<tr><td>A New Hope  (Star Wars: Novelizations #4)</td><td>Alan Dean Foster, George Lucas</td></tr>",
                            "<tr><td>The Force Awakens (Star Wars)</td><td>Alan Dean Foster, Lawrence Kasdan, J.J. Abrams, Michael Arndt</td></tr>",
                            "<tr><td>The Lord of the Rings Sketchbook</td><td>Alan Lee, Ian McKellen</td></tr>",
                            "<tr><td>Batman: The Killing Joke</td><td>Alan Moore, Brian Bolland, Tim Sale</td></tr>",
                            "<tr><td>Superman: Whatever Happened to the Man of Tomorrow?</td><td>Alan Moore, Curt Swan, George Pérez, Kurt Schaffenberger</td></tr>",
                            "<tr><td>Watchmen</td><td>Alan Moore, Dave Gibbons, John Higgins</td></tr>",
                            "<tr><td>V for Vendetta</td><td>Alan Moore, David   Lloyd</td></tr>",
                            "<tr><td>From Hell</td><td>Alan Moore, Eddie Campbell, Pete Mullins</td></tr>",
                            "<tr><td>The League of Extraordinary Gentlemen, Vol. 1</td><td>Alan Moore, Kevin O&#39;Neill</td></tr>",
                            "<tr><td>The League of Extraordinary Gentlemen, Vol. 2</td><td>Alan Moore, Kevin O&#39;Neill</td></tr>",
                            "<tr><td>Swamp Thing, Vol. 1: Saga of the Swamp Thing</td><td>Alan Moore, Stephen R. Bissette, John Totleben, Rick Veitch, Ramsey Campbell</td></tr>",
                            "<tr><td>The Myth of Sisyphus and Other Essays</td><td>Albert Camus, Justin O&#39;Brien</td></tr>",
                            "<tr><td>The Fall</td><td>Albert Camus, Justin O&#39;Brien</td></tr>",
                            "<tr><td>The Stranger</td><td>Albert Camus, Matthew    Ward</td></tr>",
                            "<tr><td>The Plague</td><td>Albert Camus, Stuart Gilbert</td></tr>",
                            "<tr><td>Relativity: The Special and the General Theory</td><td>Albert Einstein, Nigel Calder, Robert W. Lawson</td></tr>",
                            "<tr><td>Brave New World / Brave New World Revisited</td><td>Aldous Huxley, Christopher Hitchens</td></tr>",
                            "<tr><td>Горе от ума</td><td>Aleksandr Griboyedov, Александр Сергеевич Грибоедов</td></tr>",
                            "<tr><td>The Gulag Archipelago 1918-1956</td><td>Aleksandr Solzhenitsyn, Edward E. Ericson Jr.</td></tr>",
                            "<tr><td>One Day in the Life of Ivan Denisovich</td><td>Aleksandr Solzhenitsyn, H.T. Willetts</td></tr>",
                            "<tr><td>The Federalist Papers</td><td>Alexander Hamilton, James Madison, John Jay, Philo-Publius, Clinton Rossiter, Charles R. Kessler</td></tr>",
                            "<tr><td>Business Model Generation</td><td>Alexander Osterwalder, Yves Pigneur</td></tr>",
                            "<tr><td>Eugene Onegin</td><td>Alexander Pushkin, James E. Falen</td></tr>",
                            "<tr><td>La Dame aux Camélias</td><td>Alexandre Dumas fils, David Coward</td></tr>",
                            "<tr><td>Twenty Years After (The D&#39;Artagnan Romances, #2)</td><td>Alexandre Dumas, David Coward, Auguste Maquet</td></tr>",
                            "<tr><td>The Man in the Iron Mask (The D&#39;Artagnan Romances, #3.3)</td><td>Alexandre Dumas, Francine du Plessix Gray, Joachim Neugroschel</td></tr>",
                            "<tr><td>The Count of Monte Cristo</td><td>Alexandre Dumas, Robin Buss</td></tr>",
                            "<tr><td>Democracy in America </td><td>Alexis de Tocqueville, Isaac Kramnick, Gerald Bevan</td></tr>",
                            "<tr><td>The Stars My Destination</td><td>Alfred Bester, Neil Gaiman</td></tr>",
                            "<tr><td>The Lady of Shalott</td><td>Alfred Tennyson, Charles Keeping</td></tr>",
                            "<tr><td>My Life with the Walter Boys (My Life with the Walter Boys #1)</td><td>Ali Novak, Fallzswimmer</td></tr>",
                            "<tr><td>The Drama of the Gifted Child: The Search for the True Self</td><td>Alice  Miller, Ruth Ward</td></tr>",
                            "<tr><td>The Sandman: King of Dreams</td><td>Alisa Kwitney, Neil Gaiman</td></tr>",
                            "<tr><td>The Dirty Girls Social Club (Dirty Girls, #1)</td><td>Alisa Valdes, Alisa Valdes-Rodriguez</td></tr>",
                            "<tr><td>Where Eagles Dare </td><td>Alistair MacLean, Clint Willis</td></tr>",
                            "<tr><td>The Definitive Book of Body Language</td><td>Allan Pease, Barbara Pease</td></tr>",
                            "<tr><td>Howl and Other Poems</td><td>Allen Ginsberg, William Carlos Williams</td></tr>",
                            "<tr><td>Scary Stories to Tell in the Dark (Scary Stories, #1)</td><td>Alvin Schwartz, Stephen Gammell</td></tr>",
                            "<tr><td>Hope: A Memoir of Survival in Cleveland</td><td>Amanda Berry, Gina DeJesus, Mary Jordan, Kevin Sullivan</td></tr>",
                            "<tr><td>A House in the Sky</td><td>Amanda Lindhout, Sara Corbett</td></tr>",
                            "<tr><td>The America&#39;s Test Kitchen Family Cookbook</td><td>America&#39;s Test Kitchen, Carl Tremblay, Daniel J. Van Ackere</td></tr>",
                            "<tr><td>Illuminae (The Illuminae Files, #1)</td><td>Amie Kaufman, Jay Kristoff</td></tr>",
                            "<tr><td>Gemina (The Illuminae Files, #2)</td><td>Amie Kaufman, Jay Kristoff, Marie Lu</td></tr>",
                            "<tr><td>These Broken Stars (Starbound, #1)</td><td>Amie Kaufman, Meagan Spooner</td></tr>",
                            "<tr><td>Samarkand</td><td>Amin Maalouf, Russell Harris</td></tr>",
                            "<tr><td>The Art of Amy Brown</td><td>Amy Brown, Charles  de Lint</td></tr>",
                            "<tr><td>Take This Regret (Take This Regret, #1)</td><td>Amy Lichtenhan, A.L. Jackson</td></tr>",
                            "<tr><td>The Climb: Tragic Ambitions on Everest</td><td>Anatoli Boukreev, G. Weston DeWalt</td></tr>",
                            "<tr><td>The Rainbow Comes and Goes: A Mother and Son On Life, Love, and Loss</td><td>Anderson Cooper, Gloria Vanderbilt</td></tr>",
                            "<tr><td>Open</td><td>Andre Agassi, J.R. Moehringer</td></tr>",
                            "<tr><td>The Elvenbane (Halfblood Chronicles, #1)</td><td>Andre Norton, Mercedes Lackey</td></tr>",
                            "<tr><td>Frindle</td><td>Andrew Clements, Brian Selznick</td></tr>",
                            "<tr><td>The Pragmatic Programmer: From Journeyman to Master</td><td>Andrew Hunt, Dave Thomas</td></tr>",
                            "<tr><td>Finding Nemo</td><td>Andrew Stanton, Walt Disney Company</td></tr>",
                            "<tr><td>Harry Potter: A Pop-Up Book: Based on the Film Phenomenon</td><td>Andrew Williamson, Andrew Williamson</td></tr>",
                            "<tr><td>The Tale of Three Trees</td><td>Angela Elwell Hunt, Tim Jonke</td></tr>",
                            "<tr><td>Darke (Septimus Heap, #6)</td><td>Angie Sage, Mark Zug</td></tr>",
                            "<tr><td>Queste (Septimus Heap, #4)</td><td>Angie Sage, Mark Zug</td></tr>",
                            "<tr><td>Flyte (Septimus Heap, #2)</td><td>Angie Sage, Mark Zug</td></tr>",
                            "<tr><td>Physik (Septimus Heap, #3)</td><td>Angie Sage, Mark Zug</td></tr>",
                            "<tr><td>Stone Soup</td><td>Ann McGovern, Winslow Pinney Pels, Winslow Pinn, Ey Pels</td></tr>",
                            "<tr><td>Hunting and Gathering</td><td>Anna Gavalda, Alison Anderson</td></tr>",
                            "<tr><td>Agnes Grey</td><td>Anne Brontë, Angeline Goreau</td></tr>",
                            "<tr><td>The Tenant of Wildfell Hall</td><td>Anne Brontë, Stevie Davies</td></tr>",
                            "<tr><td>The Cake Mix Doctor</td><td>Anne Byrn, Anthony Loew</td></tr>",
                            "<tr><td>The Diary of a Young Girl</td><td>Anne Frank, Eleanor Roosevelt, B.M. Mooyaart-Doubleday</td></tr>",
                            "<tr><td>Anne Frank&#39;s Tales from the Secret Annex</td><td>Anne Frank, Susan Massotty</td></tr>",
                            "<tr><td>Some Assembly Required: A Journal of My Son&#39;s First Son</td><td>Anne Lamott, Sam Lamott</td></tr>",
                            "<tr><td>Dragonflight (Dragonriders of Pern, #1)</td><td>Anne McCaffrey, Teodor Panasiński</td></tr>",
                            "<tr><td>Exit to Eden</td><td>Anne Rampling, Anne Rice</td></tr>",
                            "<tr><td>Belinda</td><td>Anne Rice, Anne Rampling</td></tr>",
                            "<tr><td>Vampire Chronicles: Interview with the Vampire, The Vampire Lestat, The Queen of the Damned (Anne Rice)</td><td>Anne Rice, Robert O&#39;Keefe, F. Murray Abraham, Michael York, Kate Nelligan, David Purdham</td></tr>",
                            "<tr><td>Taltos (Lives of the Mayfair Witches, #3)</td><td>Anne Rice, Tim Curry</td></tr>",
                            "<tr><td>The Complete Poems</td><td>Anne Sexton, Maxine Kumin</td></tr>",
                            "<tr><td>The Accidental Tourist</td><td>Anne Tyler, Jennifer Bassett</td></tr>",
                            "<tr><td>Night World: The Ultimate Fan Guide</td><td>Annette Pollert, L.J. Smith</td></tr>",
                            "<tr><td>The Dhammapada</td><td>Anonymous, Ananda Maitreya, Thich Nhat Hanh, Balangoda Ananda Maitreya Maitreya</td></tr>",
                            "<tr><td>The Book of Mormon: Another Testament of Jesus Christ</td><td>Anonymous, Joseph Smith Jr.</td></tr>",
                            "<tr><td>The Upanishads: Translations from the Sanskrit</td><td>Anonymous, Juan Mascaró</td></tr>",
                            "<tr><td>ESV Study Bible</td><td>Anonymous, Lane T. Dennis, Wayne A. Grudem</td></tr>",
                            "<tr><td>The Epic of Gilgamesh</td><td>Anonymous, N.K. Sandars</td></tr>",
                            "<tr><td>The Arabian Nights</td><td>Anonymous, Richard Francis Burton, A.S. Byatt</td></tr>",
                            "<tr><td>The I Ching or Book of Changes</td><td>Anonymous, Richard Wilhelm, Cary F. Baynes, C.G. Jung</td></tr>",
                            "<tr><td>Life Application Study Bible: NIV</td><td>Anonymous, Ronald A. Beers, Ronald A. Beers</td></tr>",
                            "<tr><td>Scar Tissue</td><td>Anthony Kiedis, Larry Sloman</td></tr>",
                            "<tr><td>Unlimited Power : The New Science Of Personal Achievement</td><td>Anthony Robbins, Kenneth H. Blanchard, Jason Winters</td></tr>",
                            "<tr><td>Awaken the Giant Within: How to Take Immediate Control of Your Mental, Emotional, Physical and Financial Destiny!</td><td>Anthony Robbins, Tony Robbins, Frederick L. Covan</td></tr>",
                            "<tr><td>The Little Prince</td><td>Antoine de Saint-Exupéry, Richard Howard, Dom Marcos Barbosa, Melina Karakosta</td></tr>",
                            "<tr><td>The Seagull</td><td>Anton Chekhov, Michael Frayn</td></tr>",
                            "<tr><td>The Complete Short Novels</td><td>Anton Chekhov, Richard Pevear, Larissa Volokhonsky</td></tr>",
                            "<tr><td>Selected Stories</td><td>Anton Chekhov, Richard Pevear, Larissa Volokhonsky</td></tr>",
                            "<tr><td>The Cherry Orchard</td><td>Anton Chekhov, Tom    Murphy</td></tr>",
                            "<tr><td>Katherine</td><td>Anya Seton, Philippa Gregory</td></tr>",
                            "<tr><td>Logicomix: An epic search for truth</td><td>Apostolos Doxiadis, Christos H. Papadimitriou, Alecos Papadatos, Annie Di Donna</td></tr>",
                            "<tr><td>Full Moon o Sagashite, Vol. 1</td><td>Arina Tanemura, Tomo Kimura</td></tr>",
                            "<tr><td>Lysistrata</td><td>Aristophanes, Sarah Ruden</td></tr>",
                            "<tr><td>The Nicomachean Ethics</td><td>Aristotle, J.A.K. Thomson, Jonathan Barnes, Hugh Tredennick</td></tr>",
                            "<tr><td>Metaphysics</td><td>Aristotle, Joe Sachs</td></tr>",
                            "<tr><td>Poetics</td><td>Aristotle, Malcolm Heath</td></tr>",
                            "<tr><td>Roadside Picnic</td><td>Arkady Strugatsky, Boris Strugatsky, Antonina W. Bouis, Antonina W. Bouis, Theodore Sturgeon</td></tr>",
                            "<tr><td>Tikki Tikki Tembo</td><td>Arlene Mosel, Blair Lent</td></tr>",
                            "<tr><td>Silence of the Grave (Inspector Erlendur #4)</td><td>Arnaldur Indriðason, Bernard Scudder</td></tr>",
                            "<tr><td>Jar City (Inspector Erlendur, #3)</td><td>Arnaldur Indriðason, Bernard Scudder</td></tr>",
                            "<tr><td>Rama II (Rama, #2)</td><td>Arthur C. Clarke, Gentry Lee</td></tr>",
                            "<tr><td>The Garden of Rama (Rama, #3)</td><td>Arthur C. Clarke, Gentry Lee</td></tr>",
                            "<tr><td>Rama Revealed (Rama, #4)</td><td>Arthur C. Clarke, Gentry Lee</td></tr>",
                            "<tr><td>The Hound of the Baskervilles</td><td>Arthur Conan Doyle, Anne Perry</td></tr>",
                            "<tr><td>The Valley of Fear</td><td>Arthur Conan Doyle, David Timson</td></tr>",
                            "<tr><td>The Complete Sherlock Holmes, Vol 2</td><td>Arthur Conan Doyle, Kyle Freeman</td></tr>",
                            "<tr><td>The Sign of Four</td><td>Arthur Conan Doyle, Peter Ackroyd, Ed Glinert</td></tr>",
                            "<tr><td>The Annotated Sherlock Holmes: The Four Novels and the Fifty-Six Short Stories Complete (2 Volume Set)</td><td>Arthur Conan Doyle, William S. Baring-Gould</td></tr>",
                            "<tr><td>Darkness at Noon</td><td>Arthur Koestler, Daphne Hardy</td></tr>",
                            "<tr><td>All My Sons</td><td>Arthur Miller, Christopher Bigsby</td></tr>",
                            "<tr><td>The Crucible</td><td>Arthur Miller, Christopher Bigsby</td></tr>",
                            "<tr><td>The Flanders Panel</td><td>Arturo Pérez-Reverte, Margaret Jull Costa</td></tr>",
                            "<tr><td>The Club Dumas</td><td>Arturo Pérez-Reverte, Sonia Soto</td></tr>",
                            "<tr><td>The Bookseller of Kabul</td><td>Åsne Seierstad, Ingrid Christopherson</td></tr>",
                            "<tr><td>Assata: An Autobiography</td><td>Assata Shakur, Angela Y. Davis, Lennox S. Hinds</td></tr>",
                            "<tr><td>Pippi in the South Seas</td><td>Astrid Lindgren, Gerry Bothmer</td></tr>",
                            "<tr><td>The Brothers Lionheart</td><td>Astrid Lindgren, Ilon Wikland, Jill M. Morgan</td></tr>",
                            "<tr><td>Pippi Longstocking</td><td>Astrid Lindgren, Lauren Child, Florence Lamborn, Nancy Seligsohn</td></tr>",
                            "<tr><td>Ronia, the Robber&#39;s Daughter</td><td>Astrid Lindgren, Patricia Crampton, Trina Schart Hyman</td></tr>",
                            "<tr><td>Complications: A Surgeon&#39;s Notes on an Imperfect Science</td><td>Atul Gawande, Susanne Kuhlmann-Krieg</td></tr>",
                            "<tr><td>The Kissing Hand</td><td>Audrey Penn, Ruth E. Harper, Nancy M. Leak</td></tr>",
                            "<tr><td>The Napping House</td><td>Audrey Wood, Don    Wood</td></tr>",
                            "<tr><td>Confessions</td><td>Augustine of Hippo, Henry Chadwick, Albert Cook Outler</td></tr>",
                            "<tr><td>All My Friends Are Dead</td><td>Avery Monsen, Jory John</td></tr>",
                            "<tr><td>Love★Com, Vol. 1</td><td>Aya Nakahara, Pookie Rolf</td></tr>",
                            "<tr><td>We the Living</td><td>Ayn Rand, Leonard Peikoff</td></tr>",
                            "<tr><td>Atlas Shrugged</td><td>Ayn Rand, Leonard Peikoff</td></tr>",
                            "<tr><td>The Fountainhead</td><td>Ayn Rand, Leonard Peikoff</td></tr>",
                            "<tr><td>The Virtue of Selfishness: A New Concept of Egoism</td><td>Ayn Rand, Nathaniel Branden</td></tr>",
                            "<tr><td>Last Train to Istanbul</td><td>Ayşe Kulin, John W. Baker</td></tr>",
                            "<tr><td>Modern Romance</td><td>Aziz Ansari, Eric Klinenberg</td></tr>",
                            "<tr><td>Kitchen</td><td>Banana Yoshimoto, Megan Backus</td></tr>",
                            "<tr><td>Hands Of Light</td><td>Barbara Ann Brennan, Jos. A. Smith</td></tr>",
                            "<tr><td>Animal, Vegetable, Miracle: A Year of Food Life</td><td>Barbara Kingsolver, Steven L. Hopp, Camille Kingsolver, Richard A. Houser</td></tr>",
                            "<tr><td>Junie B. Jones and the  Stupid Smelly Bus (Junie B. Jones, #1)</td><td>Barbara Park, Denise Brunkus</td></tr>",
                            "<tr><td>Rudolph the Red-Nosed Reindeer</td><td>Barbara Shook Hazen, Robert Lewis May, Richard Scarry</td></tr>",
                            "<tr><td>The Guns of August</td><td>Barbara W. Tuchman, Robert K. Massie</td></tr>",
                            "<tr><td>Ethics</td><td>Baruch Spinoza, Edwin M. Curley, Stuart Hampshire, Edwin Curley</td></tr>",
                            "<tr><td>Go Ask Alice</td><td>Beatrice Sparks, Anonymous</td></tr>",
                            "<tr><td>The Hedge Knight (The Hedge Knight Graphic Novels, #1)</td><td>Ben Avery, Mike S. Miller, George R.R. Martin</td></tr>",
                            "<tr><td>Gifted Hands: The Ben Carson Story</td><td>Ben Carson, Cecil Murphey</td></tr>",
                            "<tr><td>Mrs. Mike (Mrs. Mike, #1)</td><td>Benedict Freedman, Nancy Freedman</td></tr>",
                            "<tr><td>The Autobiography of Benjamin Franklin</td><td>Benjamin Franklin, Lewis Leary</td></tr>",
                            "<tr><td>The Intelligent Investor (Collins Business Essentials)</td><td>Benjamin Graham, Jason Zweig, Warren Buffett</td></tr>",
                            "<tr><td>The Tao of Pooh</td><td>Benjamin Hoff, Ernest H. Shepard</td></tr>",
                            "<tr><td>I Love You Through and Through</td><td>Bernadette Rossetti-Shustak, Caroline Jayne Church</td></tr>",
                            "<tr><td>The Reader</td><td>Bernhard Schlink, Carol Brown Janeway</td></tr>",
                            "<tr><td>Mother Courage and Her Children</td><td>Bertolt Brecht, David Hare</td></tr>",
                            "<tr><td>Why I Am Not a Christian and Other Essays on Religion and Related Subjects</td><td>Bertrand Russell, Paul  Edwards</td></tr>",
                            "<tr><td>Saving CeeCee Honeycutt</td><td>Beth Hoffman, Jenna Lamia</td></tr>",
                            "<tr><td>The Smartest Guys in the Room: The Amazing Rise and Scandalous Fall of Enron</td><td>Bethany McLean, Peter Elkind</td></tr>",
                            "<tr><td>The Feminine Mystique</td><td>Betty Friedan, Anna Quindlen</td></tr>",
                            "<tr><td>Mrs. Piggle-Wiggle&#39;s Magic (Mrs. Piggle Wiggle, #2)</td><td>Betty MacDonald, Alexandra Boiger</td></tr>",
                            "<tr><td>Hello, Mrs. Piggle-Wiggle (Mrs. Piggle Wiggle, #4)</td><td>Betty MacDonald, Alexandra Boiger</td></tr>",
                            "<tr><td>Mrs. Piggle-Wiggle (Mrs. Piggle Wiggle, #1)</td><td>Betty MacDonald, Alexandra Boiger</td></tr>",
                            "<tr><td>Ramona the Brave (Ramona, #3)</td><td>Beverly Cleary, Alan Tiegreen</td></tr>",
                            "<tr><td>Ramona and Her Father (Ramona, #4)</td><td>Beverly Cleary, Alan Tiegreen</td></tr>",
                            "<tr><td>The Mouse and the Motorcycle (Ralph S. Mouse, #1)</td><td>Beverly Cleary, Louis Darling, Tracy Dockray</td></tr>",
                            "<tr><td>Dear Mr. Henshaw (Leigh Botts, #1)</td><td>Beverly Cleary, Paul O. Zelinsky</td></tr>",
                            "<tr><td>Henry Huggins (Henry Huggins, #1)</td><td>Beverly Cleary, Tracy Dockray</td></tr>",
                            "<tr><td>Empty Mansions: The Mysterious Life of Huguette Clark and the Spending of a Great American Fortune</td><td>Bill Dedman, Paul Clark Newell Jr.</td></tr>",
                            "<tr><td>The Batman Chronicles, Vol. 1</td><td>Bill Finger, Gardner F. Fox, Bob Kane, Jerry Robinson, Sheldon Moldoff</td></tr>",
                            "<tr><td>Too Busy Not to Pray: Slowing Down to Be With God</td><td>Bill Hybels, Lavonne Neff</td></tr>",
                            "<tr><td>Panda Bear, Panda Bear, What Do You See?</td><td>Bill Martin Jr., Eric Carle</td></tr>",
                            "<tr><td>Polar Bear, Polar Bear, What Do You Hear?</td><td>Bill Martin Jr., Eric Carle</td></tr>",
                            "<tr><td>Brown Bear, Brown Bear, What Do You See?</td><td>Bill Martin Jr., Eric Carle</td></tr>",
                            "<tr><td>Chicka Chicka Boom Boom</td><td>Bill Martin Jr., John Archambault, Lois Ehlert</td></tr>",
                            "<tr><td>Killing Kennedy: The End of Camelot</td><td>Bill O&#39;Reilly, Martin Dugard</td></tr>",
                            "<tr><td>Killing Lincoln: The Shocking Assassination that Changed America Forever</td><td>Bill O&#39;Reilly, Martin Dugard</td></tr>",
                            "<tr><td>Killing Jesus: A History</td><td>Bill O&#39;Reilly, Martin Dugard</td></tr>",
                            "<tr><td>Killing Reagan: The Violent Assault That Changed a Presidency</td><td>Bill O&#39;Reilly, Martin Dugard</td></tr>",
                            "<tr><td>Killing Patton: The Strange Death of World War II&#39;s Most Audacious General</td><td>Bill O&#39;Reilly, Martin Dugard</td></tr>",
                            "<tr><td>Calvin and Hobbes</td><td>Bill Watterson, G.B. Trudeau</td></tr>",
                            "<tr><td>Fables, Vol. 1: Legends in Exile</td><td>Bill Willingham, Lan Medina, Steve Leialoha, Craig Hamilton, James Jean</td></tr>",
                            "<tr><td>Fables, Vol. 4: March of the Wooden Soldiers</td><td>Bill Willingham, Mark Buckingham, Craig Hamilton, Steve Leialoha, P. Craig Russell</td></tr>",
                            "<tr><td>Fables, Vol. 6: Homelands</td><td>Bill Willingham, Mark Buckingham, David Hahn, Steve Leialoha</td></tr>",
                            "<tr><td>Fables, Vol. 10: The Good Prince</td><td>Bill Willingham, Mark Buckingham, Steve Leialoha, Aaron Alexovich, Andrew Pepoy</td></tr>",
                            "<tr><td>Fables, Vol. 9: Sons of Empire</td><td>Bill Willingham, Mark Buckingham, Steve Leialoha, Andrew Pepoy, Gene Ha, Joshua Middleton, Iñaki Miranda, Mike Allred</td></tr>",
                            "<tr><td>Fables, Vol. 2: Animal Farm</td><td>Bill Willingham, Mark Buckingham, Steve Leialoha, James Jean</td></tr>",
                            "<tr><td>Fables, Vol. 3: Storybook Love</td><td>Bill Willingham, Mark Buckingham, Steve Leialoha, James Jean</td></tr>",
                            "<tr><td>Fables, Vol. 7: Arabian Nights [and Days] (Fables, #7)</td><td>Bill Willingham, Mark Buckingham, Steve Leialoha, Jim Fern, Jimmy Palmiotti, Andrew Pepoy</td></tr>",
                            "<tr><td>Fables, Vol. 8: Wolves</td><td>Bill Willingham, Mark Buckingham, Steve Leialoha, Shawn McManus, Andrew Pepoy</td></tr>",
                            "<tr><td>Fables, Vol. 5: The Mean Seasons</td><td>Bill Willingham, Mark Buckingham, Steve Leialoha, Tony Akins, Jimmy Palmiotti</td></tr>",
                            "<tr><td>Black Elk Speaks: Being the Life Story of a Holy Man of the Oglala Sioux</td><td>Black Elk, John G. Neihardt</td></tr>",
                            "<tr><td>Chasing Vermeer (Chasing Vermeer, #1)</td><td>Blue Balliett, Brett Helquist</td></tr>",
                            "<tr><td>The Legend of Sleepy Hollow (Graphic Novel)</td><td>Bo Hampton, Tracey Hampton, Washington Irving</td></tr>",
                            "<tr><td>Batman: No Man&#39;s Land, Vol. 1</td><td>Bob Gale, Devin Grayson, Alex Maleev, Dale Eaglesham</td></tr>",
                            "<tr><td>Up from Slavery</td><td>Booker T. Washington, Ishmael Reed</td></tr>",
                            "<tr><td>Doctor Zhivago</td><td>Boris Pasternak, Max Hayward, Manya Harari, John Bayley</td></tr>",
                            "<tr><td>Identity Crisis</td><td>Brad Meltzer, Rags Morales, Michael Bair, Joss Whedon</td></tr>",
                            "<tr><td>Dracula</td><td>Bram Stoker, Nina Auerbach, David J. Skal</td></tr>",
                            "<tr><td>Skin Deep (Legion, #2)</td><td>Brandon Sanderson, Jon Foster</td></tr>",
                            "<tr><td>The Ragamuffin Gospel: Good News for the Bedraggled, Beat-Up, and Burnt Out</td><td>Brennan Manning, Michael W. Smith, Rich Mullins</td></tr>",
                            "<tr><td>Wonder Woman, Volume 1: Blood</td><td>Brian Azzarello, Cliff Chiang, Tony Akins, Dan Green, Matthew Wilson, Jared K. Fletcher</td></tr>",
                            "<tr><td>100 Bullets, Vol. 1: First Shot, Last Call</td><td>Brian Azzarello, Eduardo Risso</td></tr>",
                            "<tr><td>The Joker</td><td>Brian Azzarello, Lee Bermejo</td></tr>",
                            "<tr><td>The Face of Fear</td><td>Brian Coffey, Dean Koontz</td></tr>",
                            "<tr><td>The Voice of the Night</td><td>Brian Coffey, Dean Koontz</td></tr>",
                            "<tr><td>Faeries</td><td>Brian Froud, Alan Lee</td></tr>",
                            "<tr><td>Good Faeries/Bad Faeries</td><td>Brian Froud, Terry Windling</td></tr>",
                            "<tr><td>The Machine Crusade (Legends of Dune, #2)</td><td>Brian Herbert, Kevin J. Anderson</td></tr>",
                            "<tr><td>House Corrino (Prelude to Dune #3)</td><td>Brian Herbert, Kevin J. Anderson</td></tr>",
                            "<tr><td>Hunters of Dune (Dune Chronicles #7)</td><td>Brian Herbert, Kevin J. Anderson</td></tr>",
                            "<tr><td>House Harkonnen (Prelude to Dune #2)</td><td>Brian Herbert, Kevin J. Anderson</td></tr>",
                            "<tr><td>The Butlerian Jihad (Legends of Dune, #1)</td><td>Brian Herbert, Kevin J. Anderson</td></tr>",
                            "<tr><td>House Atreides (Prelude to Dune #1)</td><td>Brian Herbert, Kevin J. Anderson</td></tr>",
                            "<tr><td>The Long Patrol (Redwall, #10)</td><td>Brian Jacques, Allan Curless</td></tr>",
                            "<tr><td>Mariel of Redwall (Redwall, #4)</td><td>Brian Jacques, Gary Chalk</td></tr>",
                            "<tr><td>Salamandastron (Redwall, #5)</td><td>Brian Jacques, Gary Chalk</td></tr>",
                            "<tr><td>Runaways, Vol. 1: Pride and Joy (Runaways, #1)</td><td>Brian K. Vaughan, Adrian Alphona</td></tr>",
                            "<tr><td>Paper Girls, Vol. 1 (Paper Girls, #1)</td><td>Brian K. Vaughan, Cliff Chiang, Matthew Wilson</td></tr>",
                            "<tr><td>Saga, Vol. 6 (Saga, #6)</td><td>Brian K. Vaughan, Fiona Staples</td></tr>",
                            "<tr><td>Saga, Vol. 5 (Saga, #5)</td><td>Brian K. Vaughan, Fiona Staples</td></tr>",
                            "<tr><td>Saga, Vol. 4 (Saga, #4)</td><td>Brian K. Vaughan, Fiona Staples</td></tr>",
                            "<tr><td>Saga, Vol. 3 (Saga, #3)</td><td>Brian K. Vaughan, Fiona Staples</td></tr>",
                            "<tr><td>Saga, Vol. 2 (Saga, #2)</td><td>Brian K. Vaughan, Fiona Staples</td></tr>",
                            "<tr><td>Saga #1</td><td>Brian K. Vaughan, Fiona Staples</td></tr>",
                            "<tr><td>Saga, Vol. 1 (Saga, #1)</td><td>Brian K. Vaughan, Fiona Staples</td></tr>",
                            "<tr><td>Pride of Baghdad</td><td>Brian K. Vaughan, Niko Henrichon</td></tr>",
                            "<tr><td>Y: The Last Man, Vol. 4: Safeword (Y: The Last Man, #4)</td><td>Brian K. Vaughan, Pia Guerra, Goran Parlov, José Marzán Jr.</td></tr>",
                            "<tr><td>Y: The Last Man, Vol. 7: Paper Dolls (Y: The Last Man, #7)</td><td>Brian K. Vaughan, Pia Guerra, Goran Sudžuka, José Marzán Jr.</td></tr>",
                            "<tr><td>Y: The Last Man, Vol. 9: Motherland (Y: The Last Man, #9)</td><td>Brian K. Vaughan, Pia Guerra, Goran Sudžuka, José Marzán Jr.</td></tr>",
                            "<tr><td>Y: The Last Man, Vol. 8: Kimono Dragons (Y: The Last Man, #8)</td><td>Brian K. Vaughan, Pia Guerra, Goran Sudžuka, José Marzán Jr.</td></tr>",
                            "<tr><td>Y: The Last Man, Vol. 6: Girl on Girl (Y: The Last Man, #6)</td><td>Brian K. Vaughan, Pia Guerra, Goran Sudžuka, José Marzán Jr.</td></tr>",
                            "<tr><td>Y: The Last Man, Vol. 5: Ring of Truth (Y: The Last Man, #5)</td><td>Brian K. Vaughan, Pia Guerra, José Marzán Jr.</td></tr>",
                            "<tr><td>Y: The Last Man, Vol. 10: Whys and Wherefores (Y: The Last Man, #10)</td><td>Brian K. Vaughan, Pia Guerra, José Marzán Jr.</td></tr>",
                            "<tr><td>Y: The Last Man, Vol. 2: Cycles (Y: The Last Man, #2)</td><td>Brian K. Vaughan, Pia Guerra, José Marzán Jr.</td></tr>",
                            "<tr><td>Y: The Last Man, Vol. 1: Unmanned</td><td>Brian K. Vaughan, Pia Guerra, José Marzán Jr.</td></tr>",
                            "<tr><td>Y: The Last Man - The Deluxe Edition Book One</td><td>Brian K. Vaughan, Pia Guerra, José Marzán Jr., Pamela Rambo, Clem Robins, J.G. Jones</td></tr>",
                            "<tr><td>Y: The Last Man, Vol. 3: One Small Step (Y: The Last Man, #3)</td><td>Brian K. Vaughan, Pia Guerra, José Marzán Jr., Paul Chadwick</td></tr>",
                            "<tr><td>George Washington&#39;s Secret Six: The Spy Ring That Saved the American Revolution</td><td>Brian Kilmeade, Don Yaeger</td></tr>",
                            "<tr><td>Ultimate Spider-Man, Volume 1: Power and Responsibility</td><td>Brian Michael Bendis, Mark Bagley</td></tr>",
                            "<tr><td>House of M</td><td>Brian Michael Bendis, Olivier Coipel, Tim Townsend, Rick Magyar, John Dell, Scott Hanna, Frank D&#39;Armata, Chris Eliopoulos, James Taveras, Omar Otieku, Tom Valente, Esad Ribic</td></tr>",
                            "<tr><td>God&#39;s Smuggler</td><td>Brother Andrew, Elizabeth Sherrill, John Sherrill</td></tr>",
                            "<tr><td>Secrets of the Vine: Breaking Through to Abundance</td><td>Bruce H. Wilkinson, David Kopp</td></tr>",
                            "<tr><td>The Magic Mirror of M.C. Escher</td><td>Bruno Ernst, M.C. Escher, John E. Brigham</td></tr>",
                            "<tr><td>Barbarians at the Gate: The Fall of RJR Nabisco</td><td>Bryan Burrough, John Helyar</td></tr>",
                            "<tr><td>Raymond E. Feist&#39;s Magician Master</td><td>Bryan J.L. Glass, Tim Seeley, Hugo Petrus, Raymond E. Feist</td></tr>",
                            "<tr><td>Avatar: The Last Airbender: The Lost Adventures</td><td>Bryan Konietzko, Michael Dante DiMartino, Aaron Ehasz, Alison Wilgus, Amy Kim Ganter, Brian Ralph, Corey Lewis, Dave Roman, Elsa Garagarza, Ethan Spaulding, Frank Pittarese, Gurihiru, J. Torres, Joaquim Dos Santos, Johane Matte, John O&#39;Bryan, Joshua Hamilton, Justin Ridge, Kaite Mattila, May Chan, Rawles Marie Lumumba, Reagan Lodge, Tim Hedrick, Tom McWeeney</td></tr>",
                            "<tr><td>Seconds</td><td>Bryan Lee O&#39;Malley, Nathan Fairbairn</td></tr>",
                            "<tr><td>Scott Pilgrim, Volume 4: Scott Pilgrim Gets It Together</td><td>Bryan Lee O&#39;Malley, Steve Buccellato</td></tr>",
                            "<tr><td>Anne McCaffrey&#39;s Dragonflight #1</td><td>Brynne Stephens, Lela Dowling, Cynthia Martin, Anne McCaffrey</td></tr>",
                            "<tr><td>Loving What Is: Four Questions That Can Change Your Life</td><td>Byron Katie, Stephen Mitchell</td></tr>",
                            "<tr><td>Memories, Dreams, Reflections</td><td>C.G. Jung, Aniela Jaffé, Richard Winston, Clara Winston</td></tr>",
                            "<tr><td>Man and His Symbols</td><td>C.G. Jung, Joseph L. Henderson, Aniela Jaffé, Jolande Jacobi, John Freeman, Marie-Louise von Franz</td></tr>",
                            "<tr><td>The Voyage of the Dawn Treader (Chronicles of Narnia, #3)</td><td>C.S. Lewis, Pauline Baynes</td></tr>",
                            "<tr><td>The Chronicles of Narnia (Chronicles of Narnia, #1-7)</td><td>C.S. Lewis, Pauline Baynes</td></tr>",
                            "<tr><td>The Silver Chair (Chronicles of Narnia, #4)</td><td>C.S. Lewis, Pauline Baynes</td></tr>",
                            "<tr><td>The Preacher (Patrik Hedström, #2)</td><td>Camilla Läckberg, Steven T. Murray</td></tr>",
                            "<tr><td>The Ice Princess (Patrik Hedström, #1)</td><td>Camilla Läckberg, Steven T. Murray</td></tr>",
                            "<tr><td>The Hidden Child (Patrik Hedström, #5)</td><td>Camilla Läckberg, Tiina Nunnally</td></tr>",
                            "<tr><td>One Fifth Avenue</td><td>Candace Bushnell, Donna Murphy</td></tr>",
                            "<tr><td>Snowmen at Night</td><td>Caralyn Buehner, Mark Buehner</td></tr>",
                            "<tr><td>All the President&#39;s Men</td><td>Carl Bernstein, Bob Woodward</td></tr>",
                            "<tr><td>On Becoming a Person: A Therapist&#39;s View of Psychotherapy</td><td>Carl R. Rogers, Peter D. Kramer</td></tr>",
                            "<tr><td>Billions &amp; Billions: Thoughts on Life and Death at the Brink of the Millennium</td><td>Carl Sagan, Ann Druyan</td></tr>",
                            "<tr><td>Pale Blue Dot: A Vision of the Human Future in Space</td><td>Carl Sagan, Ann Druyan</td></tr>",
                            "<tr><td>The Demon-Haunted World: Science as a Candle in the Dark</td><td>Carl Sagan, Ann Druyan</td></tr>",
                            "<tr><td>Pinocchio</td><td>Carlo Collodi, John Boyne, Monteiro Lobato, Unknown</td></tr>",
                            "<tr><td>The Angel&#39;s Game (The Cemetery of Forgotten Books, #2)</td><td>Carlos Ruiz Zafón, Lucia Graves</td></tr>",
                            "<tr><td>The Shadow of the Wind (The Cemetery of Forgotten Books,  #1)</td><td>Carlos Ruiz Zafón, Lucia Graves</td></tr>",
                            "<tr><td>The Midnight Palace (Niebla, #2)</td><td>Carlos Ruiz Zafón, Lucia Graves</td></tr>",
                            "<tr><td>The Prince of Mist (Niebla, #1)</td><td>Carlos Ruiz Zafón, Lucia Graves</td></tr>",
                            "<tr><td>Mistakes Were Made (But Not by Me): Why We Justify Foolish Beliefs, Bad Decisions, and Hurtful Acts</td><td>Carol Tavris, Elliot Aronson</td></tr>",
                            "<tr><td>Escape</td><td>Carolyn Jessop, Laura Palmer</td></tr>",
                            "<tr><td>The Hidden Staircase (Nancy Drew #2)</td><td>Carolyn Keene, Mildred Benson</td></tr>",
                            "<tr><td>The Secret of the Old Clock (Nancy Drew, #1)</td><td>Carolyn Keene, Russell H. Tandy, Sara Paretsky</td></tr>",
                            "<tr><td>As You Wish: Inconceivable Tales from the Making of The Princess Bride</td><td>Cary Elwes, Joe Layden, Various, Rob Reiner</td></tr>",
                            "<tr><td>The Infernal Devices: Clockwork Angel (The Infernal Devices: Manga, #1)</td><td>Cassandra Clare, Hye-Kyung Baek</td></tr>",
                            "<tr><td>The Shadowhunter&#39;s Codex</td><td>Cassandra Clare, Joshua Lewis</td></tr>",
                            "<tr><td>What Really Happened in Peru (The Bane Chronicles, #1)</td><td>Cassandra Clare, Sarah Rees Brennan</td></tr>",
                            "<tr><td>Welcome to Shadowhunter Academy (Tales from the Shadowhunter Academy, #1)</td><td>Cassandra Clare, Sarah Rees Brennan</td></tr>",
                            "<tr><td>The Bane Chronicles</td><td>Cassandra Clare, Sarah Rees Brennan, Maureen Johnson, Cassandra Jean</td></tr>",
                            "<tr><td>The Girl Who Circumnavigated Fairyland in a Ship of Her Own Making (Fairyland, #1)</td><td>Catherynne M. Valente, Ana Juan</td></tr>",
                            "<tr><td>El Deafo</td><td>Cece Bell, David Lasky</td></tr>",
                            "<tr><td>Les Fleurs du Mal</td><td>Charles Baudelaire, Richard Howard</td></tr>",
                            "<tr><td>Mutiny on the Bounty (The Bounty Trilogy, #1)</td><td>Charles Bernard Nordhoff, James Norman Hall</td></tr>",
                            "<tr><td>Oliver Twist</td><td>Charles Dickens, George Cruikshank, Philip Horne</td></tr>",
                            "<tr><td>Little Dorrit</td><td>Charles Dickens, Helen Small, Stephen Wall</td></tr>",
                            "<tr><td>David Copperfield</td><td>Charles Dickens, Jeremy Tambling</td></tr>",
                            "<tr><td>A Christmas Carol, The Chimes and The Cricket on the Hearth</td><td>Charles Dickens, Katharine Kroeber Wiley</td></tr>",
                            "<tr><td>Nicholas Nickleby</td><td>Charles Dickens, Mark Ford</td></tr>",
                            "<tr><td>A Christmas Carol and Other Christmas Writings</td><td>Charles Dickens, Michael Slater</td></tr>",
                            "<tr><td>Bleak House</td><td>Charles Dickens, Nicola Bradbury, Hablot Knight Browne</td></tr>",
                            "<tr><td>The Old Curiosity Shop</td><td>Charles Dickens, Norman Page</td></tr>",
                            "<tr><td>Martin Chuzzlewit</td><td>Charles Dickens, Patricia Ingham, Hablot Knight Browne</td></tr>",
                            "<tr><td>A Tale of Two Cities</td><td>Charles Dickens, Richard Maxwell, Hablot Knight Browne</td></tr>",
                            "<tr><td>Art in Theory 1900 - 2000: An Anthology of Changing Ideas</td><td>Charles Harrison, Paul Wood</td></tr>",
                            "<tr><td>Villette</td><td>Charlotte Brontë, A.S. Byatt, Μαρία Λαϊνά, Ignes Sodre</td></tr>",
                            "<tr><td>Shirley</td><td>Charlotte Brontë, Lucasta Miller, collaborative, Jessica Cox</td></tr>",
                            "<tr><td>Jane Eyre</td><td>Charlotte Brontë, Michael Mason</td></tr>",
                            "<tr><td>The Yellow Wall-Paper</td><td>Charlotte Perkins Gilman, Elaine Hedges</td></tr>",
                            "<tr><td>Lies That Chelsea Handler Told Me</td><td>Chelsea Handler, Johnny Kansas, Stephanie Stehling, Heather McDonald, Roy Handler, Brad Wollack, Amber Mazzola, Josh Wolf, Shoshanna Handler, Eva Magdalenski, Amy Meyer, Glen Handler, Dave Mallow, Sarah Colonna</td></tr>",
                            "<tr><td>Made to Stick: Why Some Ideas Survive and Others Die</td><td>Chip Heath, Dan Heath</td></tr>",
                            "<tr><td>Switch: How to Change Things When Change Is Hard</td><td>Chip Heath, Dan Heath</td></tr>",
                            "<tr><td>The Lord of the Rings: Weapons and Warfare</td><td>Chris   Smith, Christopher Lee, Richard Taylor</td></tr>",
                            "<tr><td>X-Men: The Dark Phoenix Saga</td><td>Chris Claremont, John Byrne</td></tr>",
                            "<tr><td>The Enchantress Returns (The Land of Stories, #2)</td><td>Chris Colfer, Brandon Dorman</td></tr>",
                            "<tr><td>A Grimm Warning (The Land of Stories, #3)</td><td>Chris Colfer, Brandon Dorman</td></tr>",
                            "<tr><td>The Wishing Spell (The Land of Stories, #1)</td><td>Chris Colfer, Brandon Dorman</td></tr>",
                            "<tr><td>American Sniper: The Autobiography of the Most Lethal Sniper in U.S. Military History</td><td>Chris Kyle, Scott McEwen, Jim DeFelice</td></tr>",
                            "<tr><td>The Complete Clive Barker&#39;s The Great And Secret Show</td><td>Chris Ryall, Gabriel Rodríguez, Clive Barker</td></tr>",
                            "<tr><td>The Chronicles of Harris Burdick: 14 Amazing Authors Tell the Tales</td><td>Chris Van Allsburg, Lois Lowry, Kate DiCamillo, M.T. Anderson, Louis Sachar, Stephen King, Tabitha King, Jon Scieszka, Sherman Alexie, Gregory Maguire, Cory Doctorow, Jules Feiffer, Linda Sue Park, Walter Dean Myers, Lemony Snicket</td></tr>",
                            "<tr><td>Wir Kinder vom Bahnhof Zoo</td><td>Christiane F., Kai Hermann, Horst Rieck</td></tr>",
                            "<tr><td>Sex at Dawn: The Prehistoric Origins of Modern Sexuality</td><td>Christopher  Ryan, Cacilda Jethá</td></tr>",
                            "<tr><td>The Invisible Gorilla: And Other Ways Our Intuitions Deceive Us</td><td>Christopher Chabris, Daniel Simons</td></tr>",
                            "<tr><td>The Portable Atheist: Essential Readings for the Nonbeliever</td><td>Christopher Hitchens, Titus Lucretius Carus, Omar Khayyám, Thomas Hobbes, Baruch Spinoza, David Hume, James Boswell, Percy Bysshe Shelley, George Eliot, Charles Darwin, Leslie Stephen, Anatole France, Mark Twain, Joseph Conrad, Thomas Hardy, Emma Goldman, H.P. Lovecraft, Carl Van Doren, H.L. Mencken, Sigmund Freud, Albert Einstein, George Orwell, John Betjeman, Chapman Cohen, Bertrand Russell, Philip Larkin, Martin Gardner, Carl Sagan, John Updike, John Leslie Mackie, Michael Shermer, A.J. Ayer, Daniel C. Dennett, Charles Templeton, Richard Dawkins, Victor J. Stenger, Elizabeth S.  Anderson, Penn Jillette, Ian McEwan, Steven Weinberg, Salman Rushdie, Ibn Warraq, Sam Harris, A.C. Grayling, Ayaan Hirsi Ali, John Stuart Mill, Karl Marx</td></tr>",
                            "<tr><td>Island of the Sequined Love Nun</td><td>Christopher Moore, Oliver Wyman</td></tr>",
                            "<tr><td>Ender&#39;s Game, Volume 1: Battle School (Ender&#39;s Saga)</td><td>Christopher Yost, Orson Scott Card, Pasqual Ferry, Frank D&#39;Armata</td></tr>",
                            "<tr><td>Ender&#39;s Game, Volume 2: Command School</td><td>Christopher Yost, Pasqual Ferry, Orson Scott Card</td></tr>",
                            "<tr><td>The Hobbit: Graphic Novel</td><td>Chuck Dixon, J.R.R. Tolkien, David Wenzel, Sean Deming</td></tr>",
                            "<tr><td>The Five Chinese Brothers</td><td>Claire Huchet Bishop, Kurt Wiese</td></tr>",
                            "<tr><td>Cardcaptor Sakura: Master of the Clow, Vol. 1 (Cardcaptor Sakura, #7)</td><td>CLAMP, Anita Sengupta</td></tr>",
                            "<tr><td>Tsubasa: RESERVoir CHRoNiCLE, Vol. 01</td><td>CLAMP, Anthony Gerard</td></tr>",
                            "<tr><td>Cardcaptor Sakura, Vol. 1 (Cardcaptor Sakura, #1)</td><td>CLAMP, Maria Simpson</td></tr>",
                            "<tr><td>Chobits, Vol. 1</td><td>CLAMP, Shirley Kubo</td></tr>",
                            "<tr><td>xxxHolic, Vol. 1 (xxxHOLiC, #1)</td><td>CLAMP, William Flanagan</td></tr>",
                            "<tr><td>The Second Assistant: A Tale from the Bottom of the Hollywood Ladder</td><td>Clare Naylor, Mimi Hare</td></tr>",
                            "<tr><td>How Will You Measure Your Life?</td><td>Clayton M. Christensen, James Allworth, Karen Dillon</td></tr>",
                            "<tr><td>The Night Before Christmas</td><td>Clement C. Moore, Jan Brett</td></tr>",
                            "<tr><td>Mrs. Kennedy and Me: An Intimate Memoir</td><td>Clint Hill, Lisa McCubbin</td></tr>",
                            "<tr><td>Pacific Vortex! (Dirk Pitt, #1)</td><td>Clive Cussler, Michael Pritchard</td></tr>",
                            "<tr><td>Wildwood (Wildwood Chronicles, #1)</td><td>Colin Meloy, Carson Ellis</td></tr>",
                            "<tr><td>Never Never (Never Never, #1)</td><td>Colleen Hoover, Tarryn Fisher</td></tr>",
                            "<tr><td>Never Never: Part Three (Never Never, #3)</td><td>Colleen Hoover, Tarryn Fisher</td></tr>",
                            "<tr><td>Never Never: Part Two (Never Never, #2)</td><td>Colleen Hoover, Tarryn Fisher</td></tr>",
                            "<tr><td>The Analects</td><td>Confucius, D.C. Lau</td></tr>",
                            "<tr><td>The New Best Recipe</td><td>Cook&#39;s Illustrated Magazine, John Burgoyne, Carl Tremblay</td></tr>",
                            "<tr><td>The Moonlit Garden</td><td>Corina Bomann, Alison Layland</td></tr>",
                            "<tr><td>Inkspell (Inkworld, #2)</td><td>Cornelia Funke, Anthea Bell</td></tr>",
                            "<tr><td>Inkheart (Inkworld, #1)</td><td>Cornelia Funke, Anthea Bell</td></tr>",
                            "<tr><td>The Hiding Place: The Triumphant True Story of Corrie Ten Boom</td><td>Corrie ten Boom, John Sherrill, Elizabeth Sherrill</td></tr>",
                            "<tr><td>In Real Life</td><td>Cory Doctorow, Jen Wang</td></tr>",
                            "<tr><td>My Lady Jane (The Lady Janies, #1)</td><td>Cynthia Hand, Brodi Ashton, Jodi Meadows</td></tr>",
                            "<tr><td>The Relatives Came</td><td>Cynthia Rylant, Stephen Gammell</td></tr>",
                            "<tr><td>Jesus Freaks: Stories of Those Who Stood for Jesus, the Ultimate Jesus Freaks (Jesus Freaks, #1)</td><td>D.C. Talk, The Voice of the Martyrs</td></tr>",
                            "<tr><td>The Rainbow</td><td>D.H. Lawrence, Daphne Merkin</td></tr>",
                            "<tr><td>Lady Chatterley&#39;s Lover</td><td>D.H. Lawrence, Doris Lessing, Chester Brown</td></tr>",
                            "<tr><td>Sons and Lovers</td><td>D.H. Lawrence, Geoff Dyer</td></tr>",
                            "<tr><td>Balzac and the Little Chinese Seamstress</td><td>Dai Sijie, Ina Rilke</td></tr>",
                            "<tr><td>The Art of Happiness</td><td>Dalai Lama XIV, Howard C. Cutler</td></tr>",
                            "<tr><td>It Starts with Food: Discover the Whole30 and Change Your Life in Unexpected Ways</td><td>Dallas Hartwig, Melissa Hartwig</td></tr>",
                            "<tr><td>The Death of Superman</td><td>Dan Jurgens, Jerry Ordway, Louise Simonson, Roger Stern, Jon Bogdanove, Tom Grummett, Jackson Butch Guice, Brett Breeding, Rick Burchett, Doug Hazlewood, Dennis Janke, Denis Rodier</td></tr>",
                            "<tr><td>A Game of Thrones: The Graphic Novel, Vol. 1</td><td>Daniel Abraham, George R.R. Martin, Tommy Patterson</td></tr>",
                            "<tr><td>A Game of Thrones: Comic Book, Issue 1</td><td>Daniel Abraham, George R.R. Martin, Tommy Patterson</td></tr>",
                            "<tr><td>The Talent Code: Unlocking the Secret of Skill in Sports, Art, Music, Math, and Just About Everything Else</td><td>Daniel Coyle, John Farrell</td></tr>",
                            "<tr><td>Robinson Crusoe</td><td>Daniel Defoe, Gerald McCann, Virginia Woolf</td></tr>",
                            "<tr><td>Why We Broke Up</td><td>Daniel Handler, Maira Kalman</td></tr>",
                            "<tr><td>No One Here Gets Out Alive</td><td>Danny Sugerman, Jerry Hopkins</td></tr>",
                            "<tr><td>The Divine Comedy</td><td>Dante Alighieri, Allen Mandelbaum, Eugenio Montale</td></tr>",
                            "<tr><td>Inferno (The Divine Comedy #1)</td><td>Dante Alighieri, Anthony M. Esolen</td></tr>",
                            "<tr><td>Paradiso (The Divine Comedy, #3)</td><td>Dante Alighieri, Dorothy L. Sayers, Barbara Reynolds</td></tr>",
                            "<tr><td>Purgatorio (The Divine Comedy, #2)</td><td>Dante Alighieri, Robert M. Durling</td></tr>",
                            "<tr><td>Rebecca</td><td>Daphne du Maurier, Sally Beauman</td></tr>",
                            "<tr><td>Why Nations Fail: The Origins of Power, Prosperity, and Poverty</td><td>Daron Acemoğlu, James A. Robinson</td></tr>",
                            "<tr><td>DC: The New Frontier, Volume 1</td><td>Darwyn Cooke, Dave Stewart, Jared K. Fletcher</td></tr>",
                            "<tr><td>The Adventures of Ook and Gluk, Kung-Fu Cavemen from the Future</td><td>Dav Pilkey, George Beard, Harold Hutchins</td></tr>",
                            "<tr><td>Longitude: The True Story of a Lone Genius Who Solved the Greatest Scientific Problem of His Time</td><td>Dava Sobel, Neil Armstrong</td></tr>",
                            "<tr><td>Peter and the Starcatchers (Peter and the Starcatchers, #1)</td><td>Dave Barry, Ridley Pearson, Greg Call</td></tr>",
                            "<tr><td>Peter and the Shadow Thieves (Peter and the Starcatchers, #2)</td><td>Dave Barry, Ridley Pearson, Greg Call</td></tr>",
                            "<tr><td>Peter and the Secret of Rundoon (Peter and the Starcatchers, #3)</td><td>Dave Barry, Ridley Pearson, Greg Call</td></tr>",
                            "<tr><td>Grain Brain: The Surprising Truth about Wheat, Carbs,  and Sugar--Your Brain&#39;s Silent Killers</td><td>David  Perlmutter, Kristin Loberg</td></tr>",
                            "<tr><td>Icebound</td><td>David Axton, Dean Koontz</td></tr>",
                            "<tr><td>Harry Potter and Philosophy: If Aristotle Ran Hogwarts</td><td>David Baggett, Shawn E. Klein</td></tr>",
                            "<tr><td>Art and Fear: Observations on the Perils (and Rewards) of Artmaking</td><td>David Bayles, Ted Orland</td></tr>",
                            "<tr><td>Wicked: The Grimmerie</td><td>David Cote, Stephen Schwartz, Joan Marcus, Winnie Holzman</td></tr>",
                            "<tr><td>Belgarath the Sorcerer</td><td>David Eddings, Leigh Eddings</td></tr>",
                            "<tr><td>Polgara the Sorceress (Malloreon)</td><td>David Eddings, Leigh Eddings</td></tr>",
                            "<tr><td>The Redemption of Althalus</td><td>David Eddings, Leigh Eddings</td></tr>",
                            "<tr><td>Franz Kafka&#39;s The Castle (Dramatization)</td><td>David Fishelson, Aaron Leichter, Max Brod, Franz Kafka</td></tr>",
                            "<tr><td>The Pale King</td><td>David Foster Wallace, Michael Pietsch</td></tr>",
                            "<tr><td>The Girl in the Spider&#39;s Web (Millennium, #4)</td><td>David Lagercrantz, Stieg Larsson, George Goulding</td></tr>",
                            "<tr><td>Squirrel Seeks Chipmunk: A Modest Bestiary</td><td>David Sedaris, Ian Falconer</td></tr>",
                            "<tr><td>The Cross and the Switchblade</td><td>David Wilkerson, John Sherrill, Elizabeth Sherrill</td></tr>",
                            "<tr><td>Fix-It and Forget-It Cookbook: Feasting with Your Slow Cooker</td><td>Dawn J. Ranck, Phyllis Pellman Good</td></tr>",
                            "<tr><td>City of Night (Dean Koontz&#39;s Frankenstein, #2)</td><td>Dean Koontz, Ed Gorman, John Bedford Lloyd</td></tr>",
                            "<tr><td>Seize the Night (Moonlight Bay, #2)</td><td>Dean Koontz, Keith Szarabajka</td></tr>",
                            "<tr><td>Dean Koontz&#39;s Frankenstein, Volume 1: Prodigal Son</td><td>Dean Koontz, Kevin J. Anderson, Chuck Dixon, Brett Booth</td></tr>",
                            "<tr><td>Prodigal Son (Dean Koontz&#39;s Frankenstein, #1)</td><td>Dean Koontz, Kevin J. Anderson, Scott Brick</td></tr>",
                            "<tr><td>Cold Fire / Hideaway / The Key to Midnight</td><td>Dean Koontz, Leigh Nichols</td></tr>",
                            "<tr><td>Is Your Mama a Llama?</td><td>Deborah Guarino, Steven Kellogg</td></tr>",
                            "<tr><td>Train Dreams</td><td>Denis Johnson, Bettina Abarbanell</td></tr>",
                            "<tr><td>Skulduggery Pleasant (Skulduggery Pleasant, #1)</td><td>Derek Landy, Tom Percival</td></tr>",
                            "<tr><td>Ancestors of Avalon (Avalon, #5)</td><td>Diana L. Paxson, Marion Zimmer Bradley</td></tr>",
                            "<tr><td>Diane Arbus: Monograph</td><td>Diane Arbus, Stan Grossfeld, Doon Arbus, Marvin Israel</td></tr>",
                            "<tr><td>The Monkey&#39;s Paw (Oxford Bookworms)</td><td>Diane Mowat, W.W. Jacobs</td></tr>",
                            "<tr><td>The Little Red Hen (Little Golden Book)</td><td>Diane Muldrow, J.P. Miller</td></tr>",
                            "<tr><td>Babe: The Gallant Pig</td><td>Dick King-Smith, Maggie Kneen</td></tr>",
                            "<tr><td>The New Bedside, Bathtub and Armchair Companion to Agatha Christie</td><td>Dick Riley, Pam McAllister, Bruce Cassiday</td></tr>",
                            "<tr><td>Beyond Band of Brothers: The War Memoirs of Major Dick Winters</td><td>Dick Winters, Cole C. Kingseed</td></tr>",
                            "<tr><td>Metro 2033 (METRO, #1)</td><td>Dmitry Glukhovsky, M. David Drevs</td></tr>",
                            "<tr><td>The 101 Dalmatians (The Hundred and One Dalmatians, #1)</td><td>Dodie Smith, Michael Dooling</td></tr>",
                            "<tr><td>The Little Mouse, the Red Ripe Strawberry, and the Big Hungry Bear</td><td>Don    Wood, Audrey Wood</td></tr>",
                            "<tr><td>Falling Man</td><td>Don DeLillo, محمدصادق رئیسی</td></tr>",
                            "<tr><td>90 Minutes in Heaven: A True Story of Death and Life</td><td>Don Piper, Cecil Murphey</td></tr>",
                            "<tr><td>Ox-Cart Man (Picture Puffin)</td><td>Donald Hall, Barbara Cooney</td></tr>",
                            "<tr><td>Trump: The Art of the Deal</td><td>Donald J. Trump, Tony Schwartz</td></tr>",
                            "<tr><td>Click, Clack, Moo: Cows That Type</td><td>Doreen Cronin, Betsy Lewin</td></tr>",
                            "<tr><td>Giggle, Giggle, Quack</td><td>Doreen Cronin, Betsy Lewin</td></tr>",
                            "<tr><td>Diary of a Worm</td><td>Doreen Cronin, Harry Bliss</td></tr>",
                            "<tr><td>Baking: From My Home to Yours</td><td>Dorie Greenspan, Alan    Richardson</td></tr>",
                            "<tr><td>Team of Rivals: The Political Genius of Abraham Lincoln</td><td>Doris Kearns Goodwin, Suzanne Toren</td></tr>",
                            "<tr><td>Batman: Knightfall, Vol. 1: Broken Bat</td><td>Doug Moench, Chuck Dixon, Jim Aparo, Norm Breyfogle, Graham Nolan, Jim Balent</td></tr>",
                            "<tr><td>Last Chance to See</td><td>Douglas Adams, Mark Carwardine</td></tr>",
                            "<tr><td>The Ice Limit (Ice Limit #1)</td><td>Douglas Preston, Lincoln Child</td></tr>",
                            "<tr><td>Cold Vengeance (Pendergast, #11)</td><td>Douglas Preston, Lincoln Child</td></tr>",
                            "<tr><td>Two Graves (Pendergast, #12)</td><td>Douglas Preston, Lincoln Child</td></tr>",
                            "<tr><td>Riptide</td><td>Douglas Preston, Lincoln Child</td></tr>",
                            "<tr><td>Mount Dragon</td><td>Douglas Preston, Lincoln Child</td></tr>",
                            "<tr><td>Thunderhead</td><td>Douglas Preston, Lincoln Child</td></tr>",
                            "<tr><td>The Wheel of Darkness (Pendergast, #8)</td><td>Douglas Preston, Lincoln Child</td></tr>",
                            "<tr><td>Cemetery Dance (Pendergast, #9)</td><td>Douglas Preston, Lincoln Child</td></tr>",
                            "<tr><td>White Fire (Pendergast, #13)</td><td>Douglas Preston, Lincoln Child</td></tr>",
                            "<tr><td>Crimson Shore (Pendergast, #15)</td><td>Douglas Preston, Lincoln Child</td></tr>",
                            "<tr><td>Gideon&#39;s Sword (Gideon Crew, #1)</td><td>Douglas Preston, Lincoln Child</td></tr>",
                            "<tr><td>Blue Labyrinth (Pendergast, #14)</td><td>Douglas Preston, Lincoln Child</td></tr>",
                            "<tr><td>The Book of the Dead (Pendergast, #7; Diogenes, #3)</td><td>Douglas Preston, Lincoln Child</td></tr>",
                            "<tr><td>Brimstone (Pendergast, #5; Diogenes, #1)</td><td>Douglas Preston, Lincoln Child</td></tr>",
                            "<tr><td>Fever Dream (Pendergast, #10)</td><td>Douglas Preston, Lincoln Child</td></tr>",
                            "<tr><td>Still Life With Crows (Pendergast, #4)</td><td>Douglas Preston, Lincoln Child</td></tr>",
                            "<tr><td>Dance of Death (Pendergast, #6; Diogenes, #2)</td><td>Douglas Preston, Lincoln Child</td></tr>",
                            "<tr><td>The Cabinet of Curiosities (Pendergast, #3)</td><td>Douglas Preston, Lincoln Child</td></tr>",
                            "<tr><td>Reliquary (Pendergast, #2)</td><td>Douglas Preston, Lincoln Child</td></tr>",
                            "<tr><td>Relic (Pendergast, #1)</td><td>Douglas Preston, Lincoln Child</td></tr>",
                            "<tr><td>The Monster of Florence</td><td>Douglas Preston, Mario Spezi</td></tr>",
                            "<tr><td>The Secret Art of Dr. Seuss</td><td>Dr. Seuss, Maurice Sendak, Audrey Geisel</td></tr>",
                            "<tr><td>In a People House</td><td>Dr. Seuss, Theo LeSieg, Roy McKie</td></tr>",
                            "<tr><td>The Cat in the Hat and Other Dr. Seuss Favorites</td><td>Dr. Seuss, Various</td></tr>",
                            "<tr><td>Green Eggs and Ham</td><td>Dr. Seuss, לאה נאור</td></tr>",
                            "<tr><td>The Day the Crayons Quit</td><td>Drew Daywalt, Oliver Jeffers</td></tr>",
                            "<tr><td>Of Course I Love You...! Till I Find Someone Better...</td><td>Durjoy Datta, Maanvi Ahuja</td></tr>",
                            "<tr><td>The Trumpet of the Swan</td><td>E.B. White, Fred Marcellino</td></tr>",
                            "<tr><td>Stuart Little</td><td>E.B. White, Garth Williams</td></tr>",
                            "<tr><td>Charlotte&#39;s Web</td><td>E.B. White, Garth Williams, Rosemary Wells</td></tr>",
                            "<tr><td>Selected Poems</td><td>E.E. Cummings, Richard S. Kennedy</td></tr>",
                            "<tr><td>A Little History of the World</td><td>E.H. Gombrich, Caroline Mustill, Clifford Harper</td></tr>",
                            "<tr><td>A Passage to India</td><td>E.M. Forster, Oliver Stallybrass, Pankaj Mishra</td></tr>",
                            "<tr><td>Batman: The Man Who Laughs</td><td>Ed Brubaker, Doug Mahnke, Patrick Zircher, Aaron Sowd, Steve Bird</td></tr>",
                            "<tr><td>Creativity, Inc.: Overcoming the Unseen Forces That Stand in the Way of True Inspiration</td><td>Ed Catmull, Amy Wallace</td></tr>",
                            "<tr><td>Essential Tales and Poems</td><td>Edgar Allan Poe, Benjamin F. Fisher</td></tr>",
                            "<tr><td>The Tell-Tale Heart</td><td>Edgar Allan Poe, Byron Glaser, Bill D. Fountain</td></tr>",
                            "<tr><td>The Raven</td><td>Edgar Allan Poe, Gustave Doré</td></tr>",
                            "<tr><td>The Raven and other poems</td><td>Edgar Allan Poe, Philip Pullman</td></tr>",
                            "<tr><td>The Fall of the House of Usher and Other Tales </td><td>Edgar Allan Poe, Stephen Marlowe</td></tr>",
                            "<tr><td>A Princess of Mars (Barsoom, #1)</td><td>Edgar Rice Burroughs, John Seelye</td></tr>",
                            "<tr><td>The Nazi Officer&#39;s Wife: How One Jewish Woman Survived the Holocaust</td><td>Edith Hahn Beer, Susan Dworkin, Susan Sarandon, Julia Ormond, Rory Kennedy</td></tr>",
                            "<tr><td>Mythology: Timeless Tales of Gods and Heroes</td><td>Edith Hamilton, Steele Savage</td></tr>",
                            "<tr><td>Ethan Frome and Other Short Fiction</td><td>Edith Wharton, Mary Gordon</td></tr>",
                            "<tr><td>The Age of Innocence</td><td>Edith Wharton, Maureen Howard</td></tr>",
                            "<tr><td>The House of Mirth</td><td>Edith Wharton, Nina Bawden</td></tr>",
                            "<tr><td>Cyrano de Bergerac</td><td>Edmond Rostand, Eteel Lawson, Lowell Bair</td></tr>",
                            "<tr><td>The Faerie Queene </td><td>Edmund Spenser, Thomas P. Roche, C. Patrick O&#39;Donnell</td></tr>",
                            "<tr><td>Tangerine</td><td>Edward Bloor, Danny De Vito</td></tr>",
                            "<tr><td>Half Magic (Tales of Magic, #1)</td><td>Edward Eager, N.M. Bodecker</td></tr>",
                            "<tr><td>The Decline and Fall of the Roman Empire</td><td>Edward Gibbon, Daniel J. Boorstin, Gian Battista Piranesi, Hans-Friedrich Mueller</td></tr>",
                            "<tr><td>Flatland: A Romance of Many Dimensions</td><td>Edwin A. Abbott, Banesh Hoffmann</td></tr>",
                            "<tr><td>One Piece, Volume 01: Romance Dawn (One Piece, #1)</td><td>Eiichirō Oda, Andy Nakatani</td></tr>",
                            "<tr><td>Musashi</td><td>Eiji Yoshikawa, Charles Terry, Edwin O. Reischauer</td></tr>",
                            "<tr><td>Sadako and the Thousand Paper Cranes</td><td>Eleanor Coerr, Ronald Himler</td></tr>",
                            "<tr><td>The Hundred Dresses</td><td>Eleanor Estes, Louis Slobodkin</td></tr>",
                            "<tr><td>Those Who Leave and Those Who Stay (The Neapolitan Novels #3)</td><td>Elena Ferrante, Ann Goldstein</td></tr>",
                            "<tr><td>The Story of the Lost Child (The Neapolitan Novels, #4)</td><td>Elena Ferrante, Ann Goldstein</td></tr>",
                            "<tr><td>My Brilliant Friend (The Neapolitan Novels #1)</td><td>Elena Ferrante, Ann Goldstein</td></tr>",
                            "<tr><td>The Story of a New Name (The Neapolitan Novels #2)</td><td>Elena Ferrante, Ann Goldstein</td></tr>",
                            "<tr><td>Night (The Night Trilogy #1)</td><td>Elie Wiesel, Marion Wiesel</td></tr>",
                            "<tr><td>The Forty Rules of Love</td><td>Elif Shafak, إليف شافاق, ارسلان فصیحی, محمد درويش</td></tr>",
                            "<tr><td>Stolen Innocence: My Story of Growing Up in a Polygamous Sect, Becoming a Teenage Bride, and Breaking Free of Warren Jeffs</td><td>Elissa Wall, Lisa Pulitzer</td></tr>",
                            "<tr><td>The Goal: A Process of Ongoing Improvement</td><td>Eliyahu M. Goldratt, Jeff Cox</td></tr>",
                            "<tr><td>My Story</td><td>Elizabeth  Smart, Chris Stewart</td></tr>",
                            "<tr><td>North and South</td><td>Elizabeth Gaskell, Alan Shelston</td></tr>",
                            "<tr><td>Wives and Daughters</td><td>Elizabeth Gaskell, Pam Morris</td></tr>",
                            "<tr><td>Mary Barton</td><td>Elizabeth Gaskell, Shirley Foster</td></tr>",
                            "<tr><td>The Three Little Pigs</td><td>Elizabeth Ross, ROFry</td></tr>",
                            "<tr><td>My Name Is Lucy Barton</td><td>Elizabeth Strout, Goran Skrobonja</td></tr>",
                            "<tr><td>Henry&#39;s Freedom Box: A True Story from the Underground Railroad</td><td>Ellen Levine, Kadir Nelson</td></tr>",
                            "<tr><td>A Kiss for Little Bear (An I Can Read Book) by Minarik, Else Holmelund [1984]</td><td>Else Holmelund Minarik, Maurice Sendak</td></tr>",
                            "<tr><td>Little Bear&#39;s Friend</td><td>Else Holmelund Minarik, Maurice Sendak</td></tr>",
                            "<tr><td>Little Bear</td><td>Else Holmelund Minarik, Maurice Sendak</td></tr>",
                            "<tr><td>Thérèse Raquin</td><td>Émile Zola, Robin Buss</td></tr>",
                            "<tr><td>Germinal (Les Rougon-Macquart, #13)</td><td>Émile Zola, Roger Pearson</td></tr>",
                            "<tr><td>When I&#39;m Gone</td><td>Emily Bleeker, Dan John Miller</td></tr>",
                            "<tr><td>Wuthering Heights</td><td>Emily Brontë, Richard J. Dunn</td></tr>",
                            "<tr><td>The Complete Poems of Emily Dickinson</td><td>Emily Dickinson, Thomas H. Johnson</td></tr>",
                            "<tr><td>The Nanny Diaries (Nanny, #1)</td><td>Emma McLaughlin, Nicola Kraus</td></tr>",
                            "<tr><td>Lassie Come-Home</td><td>Eric Knight, Marguerite Kirmse</td></tr>",
                            "<tr><td>Pete the Cat: I Love My White Shoes</td><td>Eric Litwin, James Dean</td></tr>",
                            "<tr><td>How Google Works</td><td>Eric Schmidt, Jonathan Rosenberg</td></tr>",
                            "<tr><td>Oz: The Wonderful Wizard of Oz</td><td>Eric Shanower, Skottie Young, L. Frank Baum</td></tr>",
                            "<tr><td>The Bourne Objective (Jason Bourne, #8)</td><td>Eric Van Lustbader, Robert Ludlum</td></tr>",
                            "<tr><td>The Art of Loving</td><td>Erich Fromm, Peter D. Kramer, Rainer Funk</td></tr>",
                            "<tr><td>All Quiet on the Western Front</td><td>Erich Maria Remarque, A.W. Wheen</td></tr>",
                            "<tr><td>The Devil in the White City: Murder, Magic, and Madness at the Fair That Changed America</td><td>Erik Larson, Tony Goldwyn</td></tr>",
                            "<tr><td>The Freedom Writers Diary</td><td>Erin Gruwell, Zlata Filipović, The Freedom Writers</td></tr>",
                            "<tr><td>Paper Princess (The Royals, #1)</td><td>Erin Watt, Elle Kennedy, Jen Frederick</td></tr>",
                            "<tr><td>Naïve. Super</td><td>Erlend Loe, Tor Ketil Solberg</td></tr>",
                            "<tr><td>The Motorcycle Diaries: Notes on a Latin American Journey</td><td>Ernesto Che Guevara, Aleida Guevara March</td></tr>",
                            "<tr><td>Tobacco Road (Brown Thrasher Books)</td><td>Erskine Caldwell, Lewis Nordan</td></tr>",
                            "<tr><td>This Star Won&#39;t Go Out: The Life and Words of Esther Grace Earl</td><td>Esther Earl, Lori Earl, Wayne Earl, John Green</td></tr>",
                            "<tr><td>Johnny Tremain</td><td>Esther Forbes, Lynd Ward</td></tr>",
                            "<tr><td>The Law of Attraction: The Basics of the Teachings of Abraham</td><td>Esther Hicks, Jerry Hicks</td></tr>",
                            "<tr><td>Money, and the Law of Attraction: Learning to Attract Wealth, Health, and Happiness</td><td>Esther Hicks, Jerry Hicks</td></tr>",
                            "<tr><td>Ask and It Is Given: Learning to Manifest Your Desires</td><td>Esther Hicks, Jerry Hicks, Wayne W. Dyer</td></tr>",
                            "<tr><td>With the Old Breed: At Peleliu and Okinawa</td><td>Eugene B. Sledge, Paul Fussell</td></tr>",
                            "<tr><td>Pinocchio</td><td>Eugene Bradley Coco, Ron Dias</td></tr>",
                            "<tr><td>Peter Pan (A Little Golden Book)</td><td>Eugene Bradley Coco, Ron Dias, Walt Disney Company</td></tr>",
                            "<tr><td>Medea</td><td>Euripides, Rex Warner</td></tr>",
                            "<tr><td>The Vagina Monologues</td><td>Eve Ensler, Gloria Steinem</td></tr>",
                            "<tr><td>The Short Stories</td><td>F. Scott Fitzgerald, Matthew J. Bruccoli</td></tr>",
                            "<tr><td>Daytripper</td><td>Fábio Moon, Gabriel Bá, Craig Thompson, Dave Stewart, Sean Konot</td></tr>",
                            "<tr><td>Anne Rice&#39;s The Vampire Lestat: A Graphic Novel</td><td>Faye Perozich, Anne Rice, John Bolton, Daerick Gröss</td></tr>",
                            "<tr><td>Anne Rice&#39;s The Tale of the Body Thief (A Graphic Novel)</td><td>Faye Perozich, Travis Moore, Michael Halbleib, Daerick Gröss, Anne Rice</td></tr>",
                            "<tr><td>La casa de Bernarda Alba</td><td>Federico García Lorca, Antonio Sobejano-Moran, Paola Bianco</td></tr>",
                            "<tr><td>You&#39;re Never Weird on the Internet (Almost)</td><td>Felicia Day, Joss Whedon</td></tr>",
                            "<tr><td>Bambi</td><td>Felix Salten, Barbara Cooney</td></tr>",
                            "<tr><td>The Book of Disquiet</td><td>Fernando Pessoa, Richard Zenith</td></tr>",
                            "<tr><td>Everything That Rises Must Converge: Stories</td><td>Flannery O&#39;Connor, Robert Fitzgerald</td></tr>",
                            "<tr><td>The Good Soldier</td><td>Ford Madox Ford, Kenneth Womack, William Baker</td></tr>",
                            "<tr><td>A Little Princess</td><td>Frances Hodgson Burnett, Nancy Bond</td></tr>",
                            "<tr><td>A Voice in the Wind (Mark of the Lion, #1)</td><td>Francine Rivers, Richard Ferrone</td></tr>",
                            "<tr><td>Forgotten God: Reversing Our Tragic Neglect of the Holy Spirit</td><td>Francis Chan, Danae Yankoski</td></tr>",
                            "<tr><td>Crazy Love: Overwhelmed by a Relentless God</td><td>Francis Chan, Danae Yankoski, Chris Tomlin</td></tr>",
                            "<tr><td>Hector and the Search for Happiness</td><td>François Lelord, Lorenza García</td></tr>",
                            "<tr><td>Gargantua and Pantagruel</td><td>François Rabelais, M.A. Screech</td></tr>",
                            "<tr><td>Cheaper by the Dozen</td><td>Frank B. Gilbreth Jr., Ernestine Gilbreth Carey</td></tr>",
                            "<tr><td>House</td><td>Frank E. Peretti, Ted Dekker</td></tr>",
                            "<tr><td>Batman: Year One</td><td>Frank Miller, David Mazzucchelli, Richmond Lewis, Dennis O&#39;Neil</td></tr>",
                            "<tr><td>Batman: The Dark Knight Returns (The Dark Knight Saga, #1)</td><td>Frank Miller, Klaus Janson, Lynn Varley</td></tr>",
                            "<tr><td>300</td><td>Frank Miller, Lynn Varley</td></tr>",
                            "<tr><td>Batman: The Dark Knight Strikes Again (The Dark Knight Saga, #2)</td><td>Frank Miller, Lynn Varley</td></tr>",
                            "<tr><td>Catch Me If You Can: The True Story of a Real Fake</td><td>Frank W. Abagnale, Stan Redding</td></tr>",
                            "<tr><td>The Wretched of the Earth</td><td>Frantz Fanon, Jean-Paul Sartre, Richard Philcox, Homi K. Bhabha</td></tr>",
                            "<tr><td>The Trial</td><td>Franz Kafka, Edwin Muir, Willa Muir, Max Brod</td></tr>",
                            "<tr><td>The Metamorphosis and Other Stories</td><td>Franz Kafka, Jason Baker, Donna Freed</td></tr>",
                            "<tr><td>The Castle</td><td>Franz Kafka, Mark Harman, Regaip Minareci, Şerif Yeşilbucak</td></tr>",
                            "<tr><td>The Complete Stories</td><td>Franz Kafka, Nahum N. Glatzer, John Updike, Willa Muir, Edwin Muir, Tania Stern, James Stern, Ernst Kaiser, Eithne Wilkins</td></tr>",
                            "<tr><td>The Metamorphosis</td><td>Franz Kafka, Stanley Corngold</td></tr>",
                            "<tr><td>Amerika</td><td>Franz Kafka, بهرام مقدادی</td></tr>",
                            "<tr><td>A Man Called Ove</td><td>Fredrik Backman, Henning Koch</td></tr>",
                            "<tr><td>My Grandmother Asked Me to Tell You She&#39;s Sorry</td><td>Fredrik Backman, Henning Koch</td></tr>",
                            "<tr><td>Britt-Marie Was Here</td><td>Fredrik Backman, Henning Koch, سمانه پرهیزکاری</td></tr>",
                            "<tr><td>The Diary of Frida Kahlo: An Intimate Self-Portrait</td><td>Frida Kahlo, Carlos Fuentes, Sarah M. Lowe</td></tr>",
                            "<tr><td>On the Genealogy of Morals</td><td>Friedrich Nietzsche, Douglas Smith</td></tr>",
                            "<tr><td>The Anti-Christ</td><td>Friedrich Nietzsche, H.L. Mencken</td></tr>",
                            "<tr><td>Beyond Good and Evil</td><td>Friedrich Nietzsche, R.J. Hollingdale, Michael Tanner</td></tr>",
                            "<tr><td>Thus Spoke Zarathustra</td><td>Friedrich Nietzsche, Walter Kaufmann</td></tr>",
                            "<tr><td>The Gay Science</td><td>Friedrich Nietzsche, Walter Kaufmann</td></tr>",
                            "<tr><td>On the Genealogy of Morals/Ecce Homo</td><td>Friedrich Nietzsche, Walter Kaufmann, R.J. Hollingdale</td></tr>",
                            "<tr><td>Notes from Underground, White Nights, The Dream of a Ridiculous Man, and Selections from The House of the Dead</td><td>Fyodor Dostoyevsky, Andrew R. MacAndrew, Ben Marcus</td></tr>",
                            "<tr><td>Notes from Underground</td><td>Fyodor Dostoyevsky, Christian Redl, Philip Dossick, Emanuela Guercetti, Michelle-Irène Brudny, Richard Pevear, Norman Dietz, Donald Fanger, coderati, Boris de Schlœzer, Larissa Volokhonsky</td></tr>",
                            "<tr><td>The Idiot</td><td>Fyodor Dostoyevsky, Constance Garnett, Alan Myers, Joseph Frank, Anna Brailovsky</td></tr>",
                            "<tr><td>The Gambler</td><td>Fyodor Dostoyevsky, Constance Garnett, Gary Saul Morson</td></tr>",
                            "<tr><td>Crime and Punishment</td><td>Fyodor Dostoyevsky, David McDuff</td></tr>",
                            "<tr><td>The House of the Dead</td><td>Fyodor Dostoyevsky, Ergin Altay</td></tr>",
                            "<tr><td>The Brothers Karamazov</td><td>Fyodor Dostoyevsky, Richard Pevear, Larissa Volokhonsky</td></tr>",
                            "<tr><td>Demons</td><td>Fyodor Dostoyevsky, Richard Pevear, Larissa Volokhonsky</td></tr>",
                            "<tr><td>Ms. Marvel, Vol. 1: No Normal</td><td>G. Willow Wilson, Adrian Alphona</td></tr>",
                            "<tr><td>Ms. Marvel, Vol. 2: Generation Why</td><td>G. Willow Wilson, Adrian Alphona, Jacob Wyatt</td></tr>",
                            "<tr><td>The Man Who Was Thursday: A Nightmare</td><td>G.K. Chesterton, Jonathan Lethem</td></tr>",
                            "<tr><td>Love in the Time of Cholera</td><td>Gabriel García Márquez, Edith Grossman</td></tr>",
                            "<tr><td>Memories of My Melancholy Whores</td><td>Gabriel García Márquez, Edith Grossman</td></tr>",
                            "<tr><td>The General in His Labyrinth</td><td>Gabriel García Márquez, Edith Grossman</td></tr>",
                            "<tr><td>The Autumn of the Patriarch</td><td>Gabriel García Márquez, Gregory Rabassa</td></tr>",
                            "<tr><td>Innocent Erendira and Other Stories</td><td>Gabriel García Márquez, Gregory Rabassa</td></tr>",
                            "<tr><td>One Hundred Years of Solitude</td><td>Gabriel García Márquez, Gregory Rabassa</td></tr>",
                            "<tr><td>Chronicle of a Death Foretold</td><td>Gabriel García Márquez, Gregory Rabassa</td></tr>",
                            "<tr><td>No One Writes to the Colonel and Other Stories</td><td>Gabriel García Márquez, J.S. Bernstein</td></tr>",
                            "<tr><td>The Story of a Shipwrecked Sailor</td><td>Gabriel García Márquez, Randolph Hogan</td></tr>",
                            "<tr><td>Preacher, Volume 7: Salvation</td><td>Garth Ennis, Steve Dillon</td></tr>",
                            "<tr><td>Preacher, Volume 5: Dixie Fried</td><td>Garth Ennis, Steve Dillon</td></tr>",
                            "<tr><td>Preacher, Volume 9: Alamo</td><td>Garth Ennis, Steve Dillon</td></tr>",
                            "<tr><td>Preacher, Volume 2: Until the End of the World</td><td>Garth Ennis, Steve Dillon</td></tr>",
                            "<tr><td>Preacher, Volume 1: Gone to Texas</td><td>Garth Ennis, Steve Dillon, Joe R. Lansdale</td></tr>",
                            "<tr><td>Preacher, Volume 8: All Hell&#39;s a-Coming</td><td>Garth Ennis, Steve Dillon, John McCrea</td></tr>",
                            "<tr><td>Preacher, Volume 3: Proud Americans</td><td>Garth Ennis, Steve Dillon, Penn Jillette</td></tr>",
                            "<tr><td>Preacher, Volume 6: War in the Sun</td><td>Garth Ennis, Steve Dillon, Peter Snejbjerg</td></tr>",
                            "<tr><td>Preacher, Volume 4: Ancient History</td><td>Garth Ennis, Steve Dillon, Steve Pugh, Matt Hollingsworth, Carlos Ezquerra, Richard Case</td></tr>",
                            "<tr><td>The Five Love Languages of Children</td><td>Gary Chapman, D. Ross Campbell</td></tr>",
                            "<tr><td>The One Thing: The Surprisingly Simple Truth Behind Extraordinary Results</td><td>Gary Keller, Jay Papasan</td></tr>",
                            "<tr><td>The Phantom of the Opera</td><td>Gaston Leroux, Alexander Teixeira de Mattos</td></tr>",
                            "<tr><td>The Phoenix Project: A Novel About IT, DevOps, and Helping Your Business Win</td><td>Gene Kim, Kevin Behr, George Spafford</td></tr>",
                            "<tr><td>Avatar: The Last Airbender (The Search, #1)</td><td>Gene Luen Yang, Bryan Konietzko, Michael Dante DiMartino, Dave Marshall, Gurihiru</td></tr>",
                            "<tr><td>Avatar: The Last Airbender (The Promise, #1)</td><td>Gene Luen Yang, Bryan Konietzko, Michael Dante DiMartino, Gurihiru</td></tr>",
                            "<tr><td>Avatar: The Last Airbender (The Rift, #1)</td><td>Gene Luen Yang, Michael Dante DiMartino, Bryan Konietzko, Gurihiru</td></tr>",
                            "<tr><td>Avatar: The Last Airbender (The Promise, #2)</td><td>Gene Luen Yang, Michael Dante DiMartino, Gurihiru, Bryan Konietzko</td></tr>",
                            "<tr><td>Harry the Dirty Dog</td><td>Gene Zion, Margaret Bloy Graham</td></tr>",
                            "<tr><td>Batman: Earth One, Volume 1</td><td>Geoff Johns, Gary Frank, Jon Sibal, Brad Anderson, Rob Leigh</td></tr>",
                            "<tr><td>Crossing the Chasm: Marketing and Selling High-Tech Products to Mainstream Customers</td><td>Geoffrey A. Moore, Regis McKenna</td></tr>",
                            "<tr><td>The Canterbury Tales</td><td>Geoffrey Chaucer, Nevill Coghill</td></tr>",
                            "<tr><td>The Legend of Sleepy Hollow and Other Stories</td><td>Geoffrey Crayon, Washington Irving, William L. Hedges</td></tr>",
                            "<tr><td>Phenomenology of Spirit</td><td>Georg Wilhelm Friedrich Hegel, A.V. Miller, John Niemeyer Findlay</td></tr>",
                            "<tr><td>Pygmalion &amp; My Fair Lady</td><td>George Bernard Shaw, Alan Jay Lerner</td></tr>",
                            "<tr><td>Pygmalion and Three Other Plays</td><td>George Bernard Shaw, John A. Bertolini</td></tr>",
                            "<tr><td>The Complete Phantom of the Opera</td><td>George C. Perry, Clive Barda, Jane Rice, Andrew Lloyd Webber</td></tr>",
                            "<tr><td>Last Words</td><td>George Carlin, Tony Hendra</td></tr>",
                            "<tr><td>The Mill on the Floss</td><td>George Eliot, A.S. Byatt</td></tr>",
                            "<tr><td>Daniel Deronda</td><td>George Eliot, Edmund White</td></tr>",
                            "<tr><td>Adam Bede</td><td>George Eliot, Joanna Trollope, Hugh Osborne</td></tr>",
                            "<tr><td>Middlemarch</td><td>George Eliot, Michel Faber</td></tr>",
                            "<tr><td>Selected Poems</td><td>George Gordon Byron, Peter J. Manning, Susan J. Wolfson</td></tr>",
                            "<tr><td>The Princess and the Goblin  (Princess Irene and Curdie, #1)</td><td>George MacDonald, Arthur Hughes</td></tr>",
                            "<tr><td>Animal Farm / 1984</td><td>George Orwell, Christopher Hitchens</td></tr>",
                            "<tr><td>1984</td><td>George Orwell, Erich Fromm, Celâl Üster</td></tr>",
                            "<tr><td>Homage to Catalonia</td><td>George Orwell, Lionel Trilling</td></tr>",
                            "<tr><td>The World of Ice &amp; Fire: The Untold History of Westeros and the Game of Thrones</td><td>George R.R. Martin, Elio M. García Jr., Linda Antonsson</td></tr>",
                            "<tr><td>Rogues</td><td>George R.R. Martin, Gardner R. Dozois, Joe Abercrombie, Gillian Flynn, Matthew Hughes, Joe R. Lansdale, Michael Swanwick, David  Ball, Carrie Vaughn, Scott Lynch, Bradley Denton, Cherie Priest, Daniel Abraham, Paul Cornell, Steven Saylor, Garth Nix, Walter Jon Williams, Phyllis Eisenstein, Lisa Tuttle, Neil Gaiman, Connie Willis, Patrick Rothfuss</td></tr>",
                            "<tr><td>A Knight of the Seven Kingdoms (The Tales of Dunk and Egg, #1-3)</td><td>George R.R. Martin, Gary Gianni</td></tr>",
                            "<tr><td>The Cricket in Times Square</td><td>George Selden, Garth Williams</td></tr>",
                            "<tr><td>Story of the Eye</td><td>Georges Bataille, Joachim Neugroschel, Dovid Bergelson</td></tr>",
                            "<tr><td>My Family and Other Animals (Corfu Trilogy, #1)</td><td>Gerald Durrell, Helma Lapiņa</td></tr>",
                            "<tr><td>The Umbrella Academy, Vol. 1: The Apocalypse Suite</td><td>Gerard Way, Gabriel Bá, Dave Stewart, Nate Piekos, Tony Ong</td></tr>",
                            "<tr><td>The Boxcar Children (The Boxcar Children, #1)</td><td>Gertrude Chandler Warner, L. Kate Deal</td></tr>",
                            "<tr><td>Giada&#39;s Family Dinners</td><td>Giada De Laurentiis, Victoria Pearson</td></tr>",
                            "<tr><td>Giraffes Can&#39;t Dance</td><td>Giles Andreae, Guy Parker-Rees</td></tr>",
                            "<tr><td>Just Me in the Tub (Mercer Mayer&#39;s Little Critter)</td><td>Gina Mayer, Mercer Mayer</td></tr>",
                            "<tr><td>The Lives of the Artists</td><td>Giorgio Vasari, Julia Conway Bondanella, Peter Bondanella</td></tr>",
                            "<tr><td>The Decameron</td><td>Giovanni Boccaccio, G.H. McWilliam</td></tr>",
                            "<tr><td>Gut: The Inside Story of Our Body’s Most Underrated Organ</td><td>Giulia Enders, Jill Enders</td></tr>",
                            "<tr><td>The Leopard</td><td>Giuseppe Tomasi di Lampedusa, Archibald Colquhoun</td></tr>",
                            "<tr><td>Horrorstör</td><td>Grady Hendrix, Michael Rogalski</td></tr>",
                            "<tr><td>Brighton Rock</td><td>Graham Greene, J.M. Coetzee</td></tr>",
                            "<tr><td>The Power and the Glory</td><td>Graham Greene, John Updike</td></tr>",
                            "<tr><td>The End of the Affair</td><td>Graham Greene, Monica Ali</td></tr>",
                            "<tr><td>The Quiet American</td><td>Graham Greene, Robert  Stone</td></tr>",
                            "<tr><td>Batman and Son</td><td>Grant Morrison, Andy Kubert, John Van Fleet, Jesse Delperdang</td></tr>",
                            "<tr><td>Batman: Arkham Asylum - A Serious House on Serious Earth</td><td>Grant Morrison, Dave McKean</td></tr>",
                            "<tr><td>All-Star Superman, Vol. 1</td><td>Grant Morrison, Frank Quitely</td></tr>",
                            "<tr><td>All-Star Superman, Vol. 2</td><td>Grant Morrison, Frank Quitely</td></tr>",
                            "<tr><td>We3</td><td>Grant Morrison, Frank Quitely</td></tr>",
                            "<tr><td>Batman &amp; Robin: Batman Reborn</td><td>Grant Morrison, Frank Quitely, Philip Tan, Jonathan Glapion, Alex Sinclair</td></tr>",
                            "<tr><td>He&#39;s Just Not That Into You: The No-Excuses Truth to Understanding Guys</td><td>Greg Behrendt, Liz Tuccillo</td></tr>",
                            "<tr><td>Three Cups of Tea: One Man&#39;s Mission to Promote Peace ... One School at a Time</td><td>Greg Mortenson, David Oliver Relin</td></tr>",
                            "<tr><td>Stones Into Schools: Promoting Peace With Books, Not Bombs, in Afghanistan and Pakistan</td><td>Greg Mortenson, Khaled Hosseini</td></tr>",
                            "<tr><td>The Incredible Hulk: Planet Hulk</td><td>Greg Pak, Aaron Lopresti, Carlo Pagulayan, Juan Santacruz, Gary Frank, Takeshi Miyazawa</td></tr>",
                            "<tr><td>Batwoman: Elegy</td><td>Greg Rucka, J.H. Williams III, Rachel Maddow</td></tr>",
                            "<tr><td>Lost</td><td>Gregory Maguire, Douglas Smith</td></tr>",
                            "<tr><td>Out of Oz (The Wicked Years, #4)</td><td>Gregory Maguire, Douglas Smith</td></tr>",
                            "<tr><td>Wicked: The Life and Times of the Wicked Witch of the West (The Wicked Years, #1)</td><td>Gregory Maguire, Douglas Smith</td></tr>",
                            "<tr><td>Son of a Witch (The Wicked Years, #2)</td><td>Gregory Maguire, Douglas Smith</td></tr>",
                            "<tr><td>A Lion Among Men (The Wicked Years, #3)</td><td>Gregory Maguire, Douglas Smith</td></tr>",
                            "<tr><td>Happier at Home: Kiss More, Jump More, Abandon a Project, Read Samuel Johnson, and My Other Experiments in the Practice of Everyday Life</td><td>Gretchen Rubin, Käthe Mazur</td></tr>",
                            "<tr><td>The Night Eternal (The Strain Trilogy, #3)</td><td>Guillermo del Toro, Chuck Hogan</td></tr>",
                            "<tr><td>The Fall (The Strain Trilogy, #2)</td><td>Guillermo del Toro, Chuck Hogan</td></tr>",
                            "<tr><td>The Strain (The Strain Trilogy, #1)</td><td>Guillermo del Toro, Chuck Hogan</td></tr>",
                            "<tr><td>Madame Bovary</td><td>Gustave Flaubert, Margaret Mauldon, Malcolm Bowie, Mark Overstall</td></tr>",
                            "<tr><td>Sentimental Education</td><td>Gustave Flaubert, Robert Baldick, Geoffrey Wall</td></tr>",
                            "<tr><td>Bel-Ami</td><td>Guy de Maupassant, Douglas Parmée</td></tr>",
                            "<tr><td>The Society of the Spectacle</td><td>Guy Debord, Donald Nicholson-Smith</td></tr>",
                            "<tr><td>The Time Machine/The Invisible Man</td><td>H.G. Wells, Alfred MacAdam</td></tr>",
                            "<tr><td>The War of the Worlds</td><td>H.G. Wells, Arthur C. Clarke</td></tr>",
                            "<tr><td>The Time Machine</td><td>H.G. Wells, Greg Bear, Carlo Pagetti</td></tr>",
                            "<tr><td>The Best of H.P. Lovecraft: Bloodcurdling Tales of Horror and the Macabre</td><td>H.P. Lovecraft, August Derleth, Robert Bloch</td></tr>",
                            "<tr><td>At the Mountains of Madness</td><td>H.P. Lovecraft, China Miéville, S.T. Joshi</td></tr>",
                            "<tr><td>Necronomicon: The Best Weird Tales</td><td>H.P. Lovecraft, Les Edwards, Stephen Jones</td></tr>",
                            "<tr><td>The Call of Cthulhu and Other Weird Stories</td><td>H.P. Lovecraft, S.T. Joshi</td></tr>",
                            "<tr><td>History of Art</td><td>H.W. Janson, Anthony F. Janson</td></tr>",
                            "<tr><td>Attack on Titan: No Regrets, Volume 01</td><td>Hajime Isayama, Hikaru Suruga, Gan Sunaaku</td></tr>",
                            "<tr><td>Attack on Titan, Vol. 1 (Attack on Titan, #1)</td><td>Hajime Isayama, Sheldon Drzka</td></tr>",
                            "<tr><td>The Vegetarian</td><td>Han Kang, Deborah     Smith</td></tr>",
                            "<tr><td>I Never Promised You a Rose Garden</td><td>Hannah  Green, Joanne Greenberg</td></tr>",
                            "<tr><td>The Ugly Duckling</td><td>Hans Christian Andersen, Jerry Pinkney</td></tr>",
                            "<tr><td>The Complete Fairy Tales</td><td>Hans Christian Andersen, Lily Owens, Arthur Rackham, Hans Richter</td></tr>",
                            "<tr><td>The Little Mermaid</td><td>Hans Christian Andersen, Lisbeth Zwerger, Anthea Bell</td></tr>",
                            "<tr><td>The Little Match Girl</td><td>Hans Christian Andersen, Rachel Isadora</td></tr>",
                            "<tr><td>Every Man Dies Alone</td><td>Hans Fallada, Michael Hofmann, Geoff Wilkes</td></tr>",
                            "<tr><td>Kurt Vonnegut&#39;s Cat&#39;s Cradle (Modern Critical Interpretations)</td><td>Harold Bloom, Terry Southern, David H. Goldsmith, James Lundquist, Lawrence R. Broer, Peter J. Reed, Loree Rackstraw, William S. Doxey, Jerome Klinkowitz, Richard Giannone, John L. Simons, Leonard Mustazza, Zoltan Ab di-Nagy, Peter Freese, Wendy B. Faris</td></tr>",
                            "<tr><td>We Were Soldiers Once... and Young: Ia Drang - The Battle that Changed the War in Vietnam</td><td>Harold G. Moore, Joseph L. Galloway</td></tr>",
                            "<tr><td>Miss Nelson Is Back (Miss Nelson, #2)</td><td>Harry Allard, James  Marshall</td></tr>",
                            "<tr><td>Miss Nelson Is Missing! (Miss Nelson, #1)</td><td>Harry Allard, James  Marshall</td></tr>",
                            "<tr><td>A Wild Sheep Chase (The Rat, #3)</td><td>Haruki Murakami, Alfred Birnbaum</td></tr>",
                            "<tr><td>Hard-Boiled Wonderland and the End of the World</td><td>Haruki Murakami, Alfred Birnbaum</td></tr>",
                            "<tr><td>Underground: The Tokyo Gas Attack and the Japanese Psyche</td><td>Haruki Murakami, Alfred Birnbaum, Philip Gabriel</td></tr>",
                            "<tr><td>1Q84 #1-2 (1Q84, #1-2)</td><td>Haruki Murakami, Jay Rubin</td></tr>",
                            "<tr><td>The Wind-Up Bird Chronicle</td><td>Haruki Murakami, Jay Rubin</td></tr>",
                            "<tr><td>Norwegian Wood</td><td>Haruki Murakami, Jay Rubin</td></tr>",
                            "<tr><td>After Dark</td><td>Haruki Murakami, Jay Rubin</td></tr>",
                            "<tr><td>After the Quake</td><td>Haruki Murakami, Jay Rubin</td></tr>",
                            "<tr><td>The Elephant Vanishes</td><td>Haruki Murakami, Jay Rubin, Alfred Birnbaum</td></tr>",
                            "<tr><td>1Q84</td><td>Haruki Murakami, Jay Rubin, Philip Gabriel</td></tr>",
                            "<tr><td>Colorless Tsukuru Tazaki and His Years of Pilgrimage</td><td>Haruki Murakami, Philip Gabriel</td></tr>",
                            "<tr><td>Kafka on the Shore</td><td>Haruki Murakami, Philip Gabriel</td></tr>",
                            "<tr><td>Sputnik Sweetheart</td><td>Haruki Murakami, Philip Gabriel</td></tr>",
                            "<tr><td>South of the Border, West of the Sun</td><td>Haruki Murakami, Philip Gabriel</td></tr>",
                            "<tr><td>What I Talk About When I Talk About Running</td><td>Haruki Murakami, Philip Gabriel</td></tr>",
                            "<tr><td>Blind Willow, Sleeping Woman</td><td>Haruki Murakami, Philip Gabriel, Jay Rubin</td></tr>",
                            "<tr><td>The Strange Library</td><td>Haruki Murakami, Ted Goossen</td></tr>",
                            "<tr><td>1Q84 BOOK 1 (1Q84, #1)</td><td>Haruki Murakami, 村上 春樹</td></tr>",
                            "<tr><td>1Q84 BOOK 3 (1Q84, #3)</td><td>Haruki Murakami, 村上 春樹</td></tr>",
                            "<tr><td>Diary ng Panget</td><td>HaveYouSeenThisGirL, Jan Irene Villar</td></tr>",
                            "<tr><td>The Royal We</td><td>Heather Cocks, Jessica  Morgan</td></tr>",
                            "<tr><td>What to Expect When You&#39;re Expecting</td><td>Heidi Murkoff, Arlene Eisenberg, Sandee Hathaway</td></tr>",
                            "<tr><td>What to Expect the First Year (What to Expect)</td><td>Heidi Murkoff, Sharon Mazel, Heidi Murkoff, Arlene Eisenberg, Sandee Hathaway, Mark D. Widome</td></tr>",
                            "<tr><td>عقاید یک دلقک</td><td>Heinrich Böll, محمد اسماعیل‌زاده</td></tr>",
                            "<tr><td>Art Through the Ages </td><td>Helen Gardner, Fred S. Kleiner, Christin J. Mamiya</td></tr>",
                            "<tr><td>A Fish Out of Water</td><td>Helen Marion Palmer, P.D. Eastman</td></tr>",
                            "<tr><td>One Step Behind  (Kurt Wallander, #7)</td><td>Henning Mankell, Ebba Segerberg</td></tr>",
                            "<tr><td>Firewall (Wallander, #8)</td><td>Henning Mankell, Ebba Segerberg</td></tr>",
                            "<tr><td>The White Lioness (Kurt Wallander, #3)</td><td>Henning Mankell, Laurie Thompson</td></tr>",
                            "<tr><td>The Troubled Man (Kurt Wallander, #10)</td><td>Henning Mankell, Laurie Thompson</td></tr>",
                            "<tr><td>The Man from Beijing</td><td>Henning Mankell, Laurie Thompson</td></tr>",
                            "<tr><td>The Dogs of Riga (Kurt Wallander, #2)</td><td>Henning Mankell, Laurie Thompson</td></tr>",
                            "<tr><td>The Man Who Smiled (Kurt Wallander, #4)</td><td>Henning Mankell, Laurie Thompson</td></tr>",
                            "<tr><td>Sidetracked (Kurt Wallander, #5)</td><td>Henning Mankell, Steven T. Murray</td></tr>",
                            "<tr><td>The Fifth Woman (Kurt Wallander, #6)</td><td>Henning Mankell, Steven T. Murray</td></tr>",
                            "<tr><td>Faceless Killers (Kurt Wallander, #1)</td><td>Henning Mankell, Steven T. Murray</td></tr>",
                            "<tr><td>A Doll&#39;s House</td><td>Henrik Ibsen, Michael   Meyer</td></tr>",
                            "<tr><td>Hedda Gabler</td><td>Henrik Ibsen, William Archer</td></tr>",
                            "<tr><td>Boundaries: When to Say Yes, How to Say No to Take Control of Your Life</td><td>Henry Cloud, John Townsend</td></tr>",
                            "<tr><td>Walden &amp; Civil Disobedience</td><td>Henry David Thoreau, W.S. Merwin</td></tr>",
                            "<tr><td>The History of Tom Jones, a Foundling</td><td>Henry Fielding, Thomas Keymer, Alice Wakely</td></tr>",
                            "<tr><td>The Wings of the Dove</td><td>Henry James, Amy Bloom, Pierre A. Walker</td></tr>",
                            "<tr><td>Washington Square</td><td>Henry James, Michael Cunningham</td></tr>",
                            "<tr><td>The Portrait of a Lady</td><td>Henry James, Patricia Crick</td></tr>",
                            "<tr><td>Experiencing God: Knowing and Doing the Will of God, Workbook</td><td>Henry T. Blackaby, Claude V. King, Richard Blackaby</td></tr>",
                            "<tr><td>Quo Vadis</td><td>Henryk Sienkiewicz, W.S. Kuniczak</td></tr>",
                            "<tr><td>Tintin in the Land of the Soviets (Tintin #1)</td><td>Hergé, Leslie Lonsdale-Cooper, Michael Turner</td></tr>",
                            "<tr><td>Tintin in Tibet (Tintin, #20)</td><td>Hergé, Leslie Lonsdale-Cooper, Michael Turner</td></tr>",
                            "<tr><td>The Dinner</td><td>Herman Koch, Sam Garrett</td></tr>",
                            "<tr><td>Moby-Dick or, The Whale</td><td>Herman Melville, Andrew Delbanco, Tom Quirk</td></tr>",
                            "<tr><td>Calling Doctor Amelia Bedelia</td><td>Herman Parish, Lynn Sweat</td></tr>",
                            "<tr><td>Steppenwolf</td><td>Hermann Hesse, Basil Creighton</td></tr>",
                            "<tr><td>Siddhartha</td><td>Hermann Hesse, Hilda Rosner</td></tr>",
                            "<tr><td>The Glass Bead Game</td><td>Hermann Hesse, Richard Winston, Clara Winston, Theodore Ziolkowski</td></tr>",
                            "<tr><td>Narcissus and Goldmund</td><td>Hermann Hesse, Ursule Molinaro</td></tr>",
                            "<tr><td>The Histories</td><td>Herodotus, Aubrey de Sélincourt, John M. Marincola</td></tr>",
                            "<tr><td>Press Here</td><td>Hervé Tullet, Christopher Franceschelli</td></tr>",
                            "<tr><td>Fairy Tail, Vol. 1 (Fairy Tail, #1)</td><td>Hiro Mashima, William Flanagan</td></tr>",
                            "<tr><td>Fullmetal Alchemist, Vol. 1 (Fullmetal Alchemist, #1)</td><td>Hiromu Arakawa, Akira Watanabe</td></tr>",
                            "<tr><td>All You Need Is Kill</td><td>Hiroshi Sakurazaka, 桜坂洋, Alexander O. Smith, Joseph Reeder</td></tr>",
                            "<tr><td>Hana-Kimi, Vol. 1 (Hana-Kimi, #1)</td><td>Hisaya Nakajo, David Ury</td></tr>",
                            "<tr><td>The Iron Trial (Magisterium, #1)</td><td>Holly Black, Cassandra Clare</td></tr>",
                            "<tr><td>Doll Bones</td><td>Holly Black, Eliza Wheeler</td></tr>",
                            "<tr><td>Lucinda&#39;s Secret (The Spiderwick Chronicles, #3)</td><td>Holly Black, Tony DiTerlizzi</td></tr>",
                            "<tr><td>The Wrath of Mulgarath (The Spiderwick Chronicles, #5)</td><td>Holly Black, Tony DiTerlizzi</td></tr>",
                            "<tr><td>The Seeing Stone (The Spiderwick Chronicles, #2)</td><td>Holly Black, Tony DiTerlizzi</td></tr>",
                            "<tr><td>The Ironwood Tree (The Spiderwick Chronicles, #4)</td><td>Holly Black, Tony DiTerlizzi</td></tr>",
                            "<tr><td>The Field Guide (The Spiderwick Chronicles, #1)</td><td>Holly Black, Tony DiTerlizzi</td></tr>",
                            "<tr><td>The Iliad/The Odyssey</td><td>Homer, Robert Fagles, Bernard Knox</td></tr>",
                            "<tr><td>The Odyssey</td><td>Homer, Robert Fagles, E.V. Rieu, Frédéric Mugler, Bernard Knox</td></tr>",
                            "<tr><td>The Iliad</td><td>Homer, Robert Fagles, Frédéric Mugler, Bernard Knox</td></tr>",
                            "<tr><td>Eugénie Grandet</td><td>Honoré de Balzac, Sylvia Raphael, Christopher Prendergast</td></tr>",
                            "<tr><td>A Wrinkle in Time: The Graphic Novel</td><td>Hope Larson, Madeleine L&#39;Engle</td></tr>",
                            "<tr><td>My Lobotomy</td><td>Howard Dully, Charles Fleming</td></tr>",
                            "<tr><td>SEAL Team Six: Memoirs of an Elite Navy SEAL Sniper</td><td>Howard E. Wasdin, Stephen Templin</td></tr>",
                            "<tr><td>Onward: How Starbucks Fought for Its Life without Losing Its Soul</td><td>Howard Schultz, Joanne Gordon</td></tr>",
                            "<tr><td>Requiem for a Dream</td><td>Hubert Selby Jr., Darren Aronofsky, Richard Price</td></tr>",
                            "<tr><td>Last Exit to Brooklyn</td><td>Hubert Selby Jr., Gilbert Sorrentino</td></tr>",
                            "<tr><td>The Voyages of Doctor Dolittle (Doctor Dolittle, #2)</td><td>Hugh Lofting, Michael Hague</td></tr>",
                            "<tr><td>The Story of Doctor Dolittle (Doctor Dolittle, #1)</td><td>Hugh Lofting, Michael Hague</td></tr>",
                            "<tr><td>Fear and Loathing in Las Vegas</td><td>Hunter S. Thompson, Ralph Steadman</td></tr>",
                            "<tr><td>The Rule of Four</td><td>Ian Caldwell, Dustin Thomason</td></tr>",
                            "<tr><td>The Picture of Dorian Gray: A Graphic Novel</td><td>Ian Edginton, Oscar Wilde, I.N.J. Culbard</td></tr>",
                            "<tr><td>Knots and Crosses (Inspector Rebus, #1)</td><td>Ian Rankin, Mircea Pricăjan</td></tr>",
                            "<tr><td>حوجن [Ḥawjan]</td><td>Ibraheem Abbas, إبراهيم عباس, Yasser Bahjatt</td></tr>",
                            "<tr><td>The Twelve Chairs</td><td>Ilya Ilf, Eugene Petrov, Maurice Friedberg, John H.C. Richardson</td></tr>",
                            "<tr><td>Left to Tell: Discovering God Amidst the Rwandan Holocaust</td><td>Immaculée Ilibagiza, Steve Erwin</td></tr>",
                            "<tr><td>Groundwork of the Metaphysics of Morals</td><td>Immanuel Kant, Mary J. Gregor, Christine M. Korsgaard</td></tr>",
                            "<tr><td>Critique of Pure Reason</td><td>Immanuel Kant, Paul Guyer, Allen W. Wood</td></tr>",
                            "<tr><td>Barefoot Contessa Family Style: Easy Ideas and Recipes That Make Everyone Feel Like Family</td><td>Ina Garten, Maura McEvoy</td></tr>",
                            "<tr><td>The Barefoot Contessa Cookbook</td><td>Ina Garten, Melanie Acevedo</td></tr>",
                            "<tr><td>Barefoot Contessa at Home: Everyday Recipes You&#39;ll Make Over and Over Again</td><td>Ina Garten, Quentin Bacon</td></tr>",
                            "<tr><td>Barefoot Contessa Back to Basics</td><td>Ina Garten, Quentin Bacon</td></tr>",
                            "<tr><td>Barefoot in Paris</td><td>Ina Garten, Quentin Bacon</td></tr>",
                            "<tr><td>Cunt: A Declaration of Independence</td><td>Inga Muscio, Betty Dodson</td></tr>",
                            "<tr><td>Suite Française</td><td>Irène Némirovsky, Sandra Smith</td></tr>",
                            "<tr><td>Notorious RBG: The Life and Times of Ruth Bader Ginsburg</td><td>Irin Carmon, Shana Knizhnik</td></tr>",
                            "<tr><td>The Sea, the Sea</td><td>Iris Murdoch, Mary Kinzie</td></tr>",
                            "<tr><td>The Joy of Cooking</td><td>Irma S. Rombauer, Marion Rombauer Becker, Ethan Becker</td></tr>",
                            "<tr><td>The Gift of Therapy: An Open Letter to a New Generation of Therapists and Their Patients</td><td>Irvin D. Yalom, Nicola Ferguson</td></tr>",
                            "<tr><td>Trainspotting</td><td>Irvine Welsh, Eric Lindor Fall</td></tr>",
                            "<tr><td>The Agony and the Ecstasy</td><td>Irving Stone, שמואל שניצר</td></tr>",
                            "<tr><td>Veganomicon: The Ultimate Vegan Cookbook</td><td>Isa Chandra Moskowitz, Terry Hope Romero</td></tr>",
                            "<tr><td>Vegan Cupcakes Take Over the World: 75 Dairy-Free Recipes for Cupcakes that Rule</td><td>Isa Chandra Moskowitz, Terry Hope Romero, Sara Quin</td></tr>",
                            "<tr><td>The Last Question</td><td>Isaac Asimov, Bob E. Flick, Jim Gallant</td></tr>",
                            "<tr><td>Nightfall</td><td>Isaac Asimov, Robert Silverberg</td></tr>",
                            "<tr><td>Maya&#39;s Notebook</td><td>Isabel Allende, Anne McLean</td></tr>",
                            "<tr><td>The House of the Spirits</td><td>Isabel Allende, Magda Bogin</td></tr>",
                            "<tr><td>Daughter of Fortune</td><td>Isabel Allende, Margaret Sayers Peden</td></tr>",
                            "<tr><td>City of the Beasts (Eagle and Jaguar, #1)</td><td>Isabel Allende, Margaret Sayers Peden</td></tr>",
                            "<tr><td>Of Love and Shadows</td><td>Isabel Allende, Margaret Sayers Peden</td></tr>",
                            "<tr><td>Island Beneath the Sea</td><td>Isabel Allende, Margaret Sayers Peden</td></tr>",
                            "<tr><td>Portrait in Sepia</td><td>Isabel Allende, Margaret Sayers Peden</td></tr>",
                            "<tr><td>Eva Luna</td><td>Isabel Allende, Margaret Sayers Peden</td></tr>",
                            "<tr><td>Inés of My Soul</td><td>Isabel Allende, Margaret Sayers Peden</td></tr>",
                            "<tr><td>Zorro</td><td>Isabel Allende, Margaret Sayers Peden</td></tr>",
                            "<tr><td>The Japanese Lover</td><td>Isabel Allende, Nick Caistor, Amanda Hopkinson</td></tr>",
                            "<tr><td>Ripper</td><td>Isabel Allende, Oliver Brock, Frank Wynne</td></tr>",
                            "<tr><td>Out of Africa</td><td>Isak Dinesen, Karen Blixen</td></tr>",
                            "<tr><td>The Baron in the Trees</td><td>Italo Calvino, Archibald Colquhoun</td></tr>",
                            "<tr><td>Invisible Cities</td><td>Italo Calvino, William Weaver</td></tr>",
                            "<tr><td>If on a Winter&#39;s Night a Traveler</td><td>Italo Calvino, William Weaver</td></tr>",
                            "<tr><td>Cosmicomics</td><td>Italo Calvino, William Weaver, Ανταίος Χρυσοστομίδης, Ελευθερία Κοψιδά</td></tr>",
                            "<tr><td>Oblomov</td><td>Ivan Goncharov, Stephen Pearl, Galya Diment</td></tr>",
                            "<tr><td>Fathers and Sons</td><td>Ivan Turgenev, George Reavy, Jane Costlow</td></tr>",
                            "<tr><td>Wait for You (Wait for You, #1)</td><td>J. Lynn, Jennifer L. Armentrout</td></tr>",
                            "<tr><td>Frigid (Frigid, #1)</td><td>J. Lynn, Jennifer L. Armentrout</td></tr>",
                            "<tr><td>Stay with Me (Wait for You, #3)</td><td>J. Lynn, Jennifer L. Armentrout</td></tr>",
                            "<tr><td>Tempting the Best Man (Gamble Brothers, #1)</td><td>J. Lynn, Jennifer L. Armentrout</td></tr>",
                            "<tr><td>Be with Me (Wait for You, #2)</td><td>J. Lynn, Jennifer L. Armentrout</td></tr>",
                            "<tr><td>Trust in Me (Wait for You, #1.5)</td><td>J. Lynn, Jennifer L. Armentrout</td></tr>",
                            "<tr><td>Tempting the Player (Gamble Brothers, #2)</td><td>J. Lynn, Jennifer L. Armentrout</td></tr>",
                            "<tr><td>Superman: Earth One, Volume 1</td><td>J. Michael Straczynski, Shane Davis, Sandra Hope, Barbara Ciardo, Rob Leigh</td></tr>",
                            "<tr><td>Betrayal in Death (In Death, #12)</td><td>J.D. Robb, Nora Roberts</td></tr>",
                            "<tr><td>Treachery in Death (In Death, #32)</td><td>J.D. Robb, Nora Roberts</td></tr>",
                            "<tr><td>Judgment in Death (In Death, #11)</td><td>J.D. Robb, Nora Roberts</td></tr>",
                            "<tr><td>New York to Dallas (In Death, #33)</td><td>J.D. Robb, Susan Ericksen</td></tr>",
                            "<tr><td>Witness in Death (In Death, #10)</td><td>J.D. Robb, Susan Ericksen</td></tr>",
                            "<tr><td>Loyalty in Death (In Death, #9)</td><td>J.D. Robb, Susan Ericksen</td></tr>",
                            "<tr><td>Born in Death (In Death, #23)</td><td>J.D. Robb, Susan Ericksen</td></tr>",
                            "<tr><td>Rapture in Death (In Death, #4)</td><td>J.D. Robb, Susan Ericksen</td></tr>",
                            "<tr><td>S.</td><td>J.J. Abrams, Doug Dorst</td></tr>",
                            "<tr><td>Very Good Lives: The Fringe Benefits of Failure and the Importance of Imagination</td><td>J.K. Rowling, Joel Holland</td></tr>",
                            "<tr><td>Harry Potter Boxed Set, Books 1-5 (Harry Potter, #1-5)</td><td>J.K. Rowling, Mary GrandPré</td></tr>",
                            "<tr><td>Harry Potter and the Sorcerer&#39;s Stone (Harry Potter, #1)</td><td>J.K. Rowling, Mary GrandPré</td></tr>",
                            "<tr><td>Harry Potter and the Order of the Phoenix (Harry Potter, #5)</td><td>J.K. Rowling, Mary GrandPré</td></tr>",
                            "<tr><td>Harry Potter and the Chamber of Secrets (Harry Potter, #2)</td><td>J.K. Rowling, Mary GrandPré</td></tr>",
                            "<tr><td>Harry Potter and the Goblet of Fire (Harry Potter, #4)</td><td>J.K. Rowling, Mary GrandPré</td></tr>",
                            "<tr><td>Harry Potter and the Deathly Hallows (Harry Potter, #7)</td><td>J.K. Rowling, Mary GrandPré</td></tr>",
                            "<tr><td>Harry Potter and the Half-Blood Prince (Harry Potter, #6)</td><td>J.K. Rowling, Mary GrandPré</td></tr>",
                            "<tr><td>The Harry Potter Collection 1-4 (Harry Potter, #1-4)</td><td>J.K. Rowling, Mary GrandPré</td></tr>",
                            "<tr><td>Harry Potter and the Prisoner of Azkaban (Harry Potter, #3)</td><td>J.K. Rowling, Mary GrandPré, Rufus Beck</td></tr>",
                            "<tr><td>Short Stories from Hogwarts of Power, Politics and Pesky Poltergeists (Pottermore Presents, #2)</td><td>J.K. Rowling, MinaLima</td></tr>",
                            "<tr><td>Short Stories from Hogwarts of Heroism, Hardship and Dangerous Hobbies (Pottermore Presents, #1)</td><td>J.K. Rowling, MinaLima</td></tr>",
                            "<tr><td>Peter Pan</td><td>J.M. Barrie, Michael Hague</td></tr>",
                            "<tr><td>Unfinished Tales of Númenor and Middle-Earth</td><td>J.R.R. Tolkien, Christopher Tolkien</td></tr>",
                            "<tr><td>The Children of Húrin</td><td>J.R.R. Tolkien, Christopher Tolkien, Alan Lee</td></tr>",
                            "<tr><td>The Silmarillion (Middle-Earth Universe)</td><td>J.R.R. Tolkien, Christopher Tolkien, Ted Nasmith</td></tr>",
                            "<tr><td>The Success Principles: How to Get from Where You Are to Where You Want to Be</td><td>Jack Canfield, Janet Switzer</td></tr>",
                            "<tr><td>Chicken Soup for the Soul</td><td>Jack Canfield, Mark Victor Hansen</td></tr>",
                            "<tr><td>Chicken Soup for the Teenage Soul: 101 Stories of Life, Love and Learning (Chicken Soup for the Soul)</td><td>Jack Canfield, Mark Victor Hansen, Kimberly Kirberger</td></tr>",
                            "<tr><td>Big Sur</td><td>Jack Kerouac, Aram Saroyan</td></tr>",
                            "<tr><td>Desolation Angels</td><td>Jack Kerouac, Joyce Johnson</td></tr>",
                            "<tr><td>Martin Eden</td><td>Jack London, Andrew Sinclair</td></tr>",
                            "<tr><td>Jack: Straight from the Gut</td><td>Jack Welch, John A. Byrne, Mike Barnicle</td></tr>",
                            "<tr><td>Winning</td><td>Jack Welch, Suzy Welch</td></tr>",
                            "<tr><td>The Complete Grimm&#39;s Fairy Tales</td><td>Jacob Grimm, Wilhelm Grimm, Josef Scharl, Padraic Colum, Joseph Campbell, Margaret Raine Hunt, James Stern</td></tr>",
                            "<tr><td>Grimm&#39;s Fairy Tales</td><td>Jacob Grimm, Wilhelm Grimm, منى الخميسي</td></tr>",
                            "<tr><td>Snowflake Bentley</td><td>Jacqueline Briggs Martin, Mary Azarian</td></tr>",
                            "<tr><td>The Illustrated Mum</td><td>Jacqueline Wilson, Nick Sharratt</td></tr>",
                            "<tr><td>The Story of Tracy Beaker</td><td>Jacqueline Wilson, Nick Sharratt</td></tr>",
                            "<tr><td>Double Act</td><td>Jacqueline Wilson, Nick Sharratt, Sue Heap</td></tr>",
                            "<tr><td>Among the Mad (Maisie Dobbs, #6)</td><td>Jacqueline Winspear, Orlagh Cassidy</td></tr>",
                            "<tr><td>The Essential Rumi</td><td>Jalaluddin Rumi, Coleman Barks</td></tr>",
                            "<tr><td>The Fire Next Time</td><td>James     Baldwin, Kıvanç Güney</td></tr>",
                            "<tr><td>Live from New York: An Uncensored History of Saturday Night Live</td><td>James Andrew Miller, Tom Shales</td></tr>",
                            "<tr><td>Those Guys Have All the Fun: Inside the World of ESPN</td><td>James Andrew Miller, Tom Shales</td></tr>",
                            "<tr><td>Built to Last: Successful Habits of Visionary Companies</td><td>James C. Collins, Jerry I. Porras</td></tr>",
                            "<tr><td>Great by Choice: Uncertainty, Chaos, and Luck--Why Some Thrive Despite Them All</td><td>James C. Collins, Morten T. Hansen</td></tr>",
                            "<tr><td>Flags of Our Fathers</td><td>James D. Bradley, Ron Powers</td></tr>",
                            "<tr><td>The Calling (Endgame, #1)</td><td>James Frey, Nils Johnson-Shelton</td></tr>",
                            "<tr><td>Bunnicula (Bunnicula, #1)</td><td>James Howe, Deborah Howe, Alan Daniel</td></tr>",
                            "<tr><td>Dubliners</td><td>James Joyce, Jeri Johnson</td></tr>",
                            "<tr><td>A Portrait of the Artist as a Young Man</td><td>James Joyce, Seamus Deane</td></tr>",
                            "<tr><td>My Brother Sam Is Dead</td><td>James Lincoln Collier, Christopher Collier</td></tr>",
                            "<tr><td>The Jester</td><td>James Patterson, Andrew Gross</td></tr>",
                            "<tr><td>Judge &amp; Jury</td><td>James Patterson, Andrew Gross</td></tr>",
                            "<tr><td>2nd Chance (Women&#39;s Murder Club, #2)</td><td>James Patterson, Andrew Gross</td></tr>",
                            "<tr><td>3rd Degree (Women&#39;s Murder Club, #3)</td><td>James Patterson, Andrew Gross</td></tr>",
                            "<tr><td>Lifeguard</td><td>James Patterson, Andrew Gross</td></tr>",
                            "<tr><td>Middle School: The Worst Years of My Life (Midde School, #1)</td><td>James Patterson, Chris Tebbetts, Laura Park</td></tr>",
                            "<tr><td>Mistress</td><td>James Patterson, David Ellis</td></tr>",
                            "<tr><td>Invisible</td><td>James Patterson, David Ellis</td></tr>",
                            "<tr><td>The Murder House</td><td>James Patterson, David Ellis</td></tr>",
                            "<tr><td>Guilty Wives</td><td>James Patterson, David Ellis</td></tr>",
                            "<tr><td>First Love</td><td>James Patterson, Emily Raymond</td></tr>",
                            "<tr><td>Witch &amp; Wizard (Witch &amp; Wizard, #1)</td><td>James Patterson, Gabrielle Charbonnet</td></tr>",
                            "<tr><td>Sundays at Tiffany&#39;s</td><td>James Patterson, Gabrielle Charbonnet</td></tr>",
                            "<tr><td>Honeymoon (Honeymoon, #1)</td><td>James Patterson, Howard Roughan</td></tr>",
                            "<tr><td>Sail</td><td>James Patterson, Howard Roughan</td></tr>",
                            "<tr><td>Second Honeymoon (Honeymoon, #2)</td><td>James Patterson, Howard Roughan</td></tr>",
                            "<tr><td>You&#39;ve Been Warned</td><td>James Patterson, Howard Roughan</td></tr>",
                            "<tr><td>Don&#39;t Blink</td><td>James Patterson, Howard Roughan</td></tr>",
                            "<tr><td>The Fire (Witch &amp; Wizard, #3)</td><td>James Patterson, Jill Dembowski, Elijah Wood, Spencer Locke</td></tr>",
                            "<tr><td>Cat and Mouse (Alex Cross, #4)</td><td>James Patterson, Keith David, Anthony Heald</td></tr>",
                            "<tr><td>The Postcard Killers</td><td>James Patterson, Liza Marklund</td></tr>",
                            "<tr><td>Private London (Private #4)</td><td>James Patterson, Mark Pearson</td></tr>",
                            "<tr><td>Private Berlin (Private #5)</td><td>James Patterson, Mark T. Sullivan</td></tr>",
                            "<tr><td>Private Games (Private #3)</td><td>James Patterson, Mark T. Sullivan</td></tr>",
                            "<tr><td>Kill Me If You Can</td><td>James Patterson, Marshall Karp</td></tr>",
                            "<tr><td>NYPD Red 2 (NYPD Red, #2)</td><td>James Patterson, Marshall Karp</td></tr>",
                            "<tr><td>NYPD Red 3 (NYPD Red, #3)</td><td>James Patterson, Marshall Karp</td></tr>",
                            "<tr><td>NYPD Red (NYPD Red, #1)</td><td>James Patterson, Marshall Karp</td></tr>",
                            "<tr><td>11th Hour (Women&#39;s Murder Club, #11)</td><td>James Patterson, Maxine Paetro</td></tr>",
                            "<tr><td>12th of Never (Women&#39;s Murder Club, #12)</td><td>James Patterson, Maxine Paetro</td></tr>",
                            "<tr><td>Unlucky 13 (Women’s Murder Club, #13)</td><td>James Patterson, Maxine Paetro</td></tr>",
                            "<tr><td>14th Deadly Sin (Women’s Murder Club, #14)</td><td>James Patterson, Maxine Paetro</td></tr>",
                            "<tr><td>Private (Private, #1)</td><td>James Patterson, Maxine Paetro</td></tr>",
                            "<tr><td>7th Heaven (Women&#39;s Murder Club, #7)</td><td>James Patterson, Maxine Paetro</td></tr>",
                            "<tr><td>10th Anniversary (Women&#39;s Murder Club, #10)</td><td>James Patterson, Maxine Paetro</td></tr>",
                            "<tr><td>The 8th Confession (Women&#39;s Murder Club, #8)</td><td>James Patterson, Maxine Paetro</td></tr>",
                            "<tr><td>The 9th Judgment  (Women&#39;s Murder Club, #9)</td><td>James Patterson, Maxine Paetro</td></tr>",
                            "<tr><td>The 5th Horseman (Women&#39;s Murder Club, #5)</td><td>James Patterson, Maxine Paetro</td></tr>",
                            "<tr><td>The 6th Target (Women&#39;s Murder Club, #6)</td><td>James Patterson, Maxine Paetro</td></tr>",
                            "<tr><td>4th of July (Women&#39;s Murder Club, #4)</td><td>James Patterson, Maxine Paetro</td></tr>",
                            "<tr><td>Private #1 Suspect (Private, #2)</td><td>James Patterson, Maxine Paetro</td></tr>",
                            "<tr><td>Confessions of a Murder Suspect (Confessions, #1)</td><td>James Patterson, Maxine Paetro</td></tr>",
                            "<tr><td>Swimsuit</td><td>James Patterson, Maxine Paetro</td></tr>",
                            "<tr><td>15th Affair (Women&#39;s Murder Club #15)</td><td>James Patterson, Maxine Paetro</td></tr>",
                            "<tr><td>Worst Case (Michael Bennett, #3)</td><td>James Patterson, Michael Ledwidge</td></tr>",
                            "<tr><td>Tick Tock (Michael Bennett, #4)</td><td>James Patterson, Michael Ledwidge</td></tr>",
                            "<tr><td>I, Michael Bennett (Michael Bennett, #5)</td><td>James Patterson, Michael Ledwidge</td></tr>",
                            "<tr><td>Gone (Michael Bennett, #6)</td><td>James Patterson, Michael Ledwidge</td></tr>",
                            "<tr><td>Alert (Michael Bennett, #8)</td><td>James Patterson, Michael Ledwidge</td></tr>",
                            "<tr><td>Burn (Michael Bennett, #7)</td><td>James Patterson, Michael Ledwidge</td></tr>",
                            "<tr><td>The Dangerous Days of Daniel X (Daniel X, #1)</td><td>James Patterson, Michael Ledwidge</td></tr>",
                            "<tr><td>Zoo</td><td>James Patterson, Michael Ledwidge</td></tr>",
                            "<tr><td>Now You See Her</td><td>James Patterson, Michael Ledwidge</td></tr>",
                            "<tr><td>The Quickie</td><td>James Patterson, Michael Ledwidge</td></tr>",
                            "<tr><td>Step on a Crack (Michael Bennett, #1)</td><td>James Patterson, Michael Ledwidge</td></tr>",
                            "<tr><td>Run for Your Life (Michael Bennett, #2)</td><td>James Patterson, Michael Ledwidge</td></tr>",
                            "<tr><td>Maximum Ride, Vol. 1 (Maximum Ride: The Manga, #1)</td><td>James Patterson, NaRae Lee</td></tr>",
                            "<tr><td>The Gift (Witch &amp; Wizard, #2)</td><td>James Patterson, Ned Rust</td></tr>",
                            "<tr><td>Beach Road</td><td>James Patterson, Peter de Jonge</td></tr>",
                            "<tr><td>The Beach House</td><td>James Patterson, Peter de Jonge</td></tr>",
                            "<tr><td>The Christmas Wedding</td><td>James Patterson, Richard DiLallo</td></tr>",
                            "<tr><td>Alex Cross&#39;s Trial (Alex Cross, #15)</td><td>James Patterson, Richard DiLallo</td></tr>",
                            "<tr><td>The Blood Gospel (The Order of the Sanguines, #1)</td><td>James Rollins, Rebecca Cantrell</td></tr>",
                            "<tr><td>Hellblazer: Original Sins</td><td>Jamie Delano, John Ridgway, Alfredo Alcalá</td></tr>",
                            "<tr><td>Northanger Abbey</td><td>Jane Austen, Alfred MacAdam</td></tr>",
                            "<tr><td>Emma</td><td>Jane Austen, Fiona Stafford</td></tr>",
                            "<tr><td>Persuasion</td><td>Jane Austen, James Kinsley, Deidre Shauna Lynch</td></tr>",
                            "<tr><td>Mansfield Park</td><td>Jane Austen, Kathryn Sutherland, Tony Tanner, Claire Lamont</td></tr>",
                            "<tr><td>Lady Susan</td><td>Jane Austen, Robert William Chapman</td></tr>",
                            "<tr><td>Sense and Sensibility</td><td>Jane Austen, Tony Tanner, Ros Ballaster</td></tr>",
                            "<tr><td>Alice in Wonderland</td><td>Jane Carruth, Lewis Carroll, Rene Cloke</td></tr>",
                            "<tr><td>A Map of the World</td><td>Jane Hamilton, Frank  Muller, C.J. Critt</td></tr>",
                            "<tr><td>Happy Accidents: A Memoir</td><td>Jane Lynch, Lisa Dickey</td></tr>",
                            "<tr><td>Fancy Nancy</td><td>Jane O&#39;Connor, Robin Preiss Glasser</td></tr>",
                            "<tr><td>Frosty the Snow Man</td><td>Jane Werner Watson, Corinne Malvern</td></tr>",
                            "<tr><td>Owl Moon</td><td>Jane Yolen, John Schoenherr</td></tr>",
                            "<tr><td>How Do Dinosaurs Say Good Night?</td><td>Jane Yolen, Mark Teague</td></tr>",
                            "<tr><td>Each Peach Pear Plum</td><td>Janet Ahlberg, Allan Ahlberg</td></tr>",
                            "<tr><td>The Taste of Home Cookbook</td><td>Janet Briggs, Beth Wittlinger</td></tr>",
                            "<tr><td>Full House (Full #1)</td><td>Janet Evanovich, Charlotte Hughes</td></tr>",
                            "<tr><td>Full Tilt (Full #2)</td><td>Janet Evanovich, Charlotte Hughes</td></tr>",
                            "<tr><td>The Job (Fox and O&#39;Hare, #3)</td><td>Janet Evanovich, Lee Goldberg</td></tr>",
                            "<tr><td>The Chase (Fox and O&#39;Hare, #2)</td><td>Janet Evanovich, Lee Goldberg</td></tr>",
                            "<tr><td>The Heist (Fox and O&#39;Hare, #1)</td><td>Janet Evanovich, Lee Goldberg</td></tr>",
                            "<tr><td>Smokin&#39; Seventeen (Stephanie Plum, #17)</td><td>Janet Evanovich, Lorelei King</td></tr>",
                            "<tr><td>Hard Eight (Stephanie Plum, #8)</td><td>Janet Evanovich, Lorelei King</td></tr>",
                            "<tr><td>The Princess and the Pea</td><td>Janet Stevens, Hans Christian Andersen</td></tr>",
                            "<tr><td>The Poky Little Puppy (A Little Golden Book)</td><td>Janette Sebring Lowrey, Gustaf Tenggren</td></tr>",
                            "<tr><td>Gonzo: The Life of Hunter S. Thompson</td><td>Jann S. Wenner, Corey Seymour</td></tr>",
                            "<tr><td>Nothing</td><td>Janne Teller, Martin Aitken</td></tr>",
                            "<tr><td>The Art of Hearing Heartbeats</td><td>Jan-Philipp Sendker, Kevin Wiliarty</td></tr>",
                            "<tr><td>Rework</td><td>Jason Fried, David Heinemeier Hansson</td></tr>",
                            "<tr><td>The Future of Us</td><td>Jay Asher, Carolyn Mackler</td></tr>",
                            "<tr><td>Rule (Marked Men, #1)</td><td>Jay Crownover, Charlotte Connan de vries</td></tr>",
                            "<tr><td>Rome (Marked Men, #3)</td><td>Jay Crownover, Charlotte Connan de vries</td></tr>",
                            "<tr><td>Julie of the Wolves (Julie of the Wolves, #1)</td><td>Jean Craighead George, John Schoenherr</td></tr>",
                            "<tr><td>The Story of Babar</td><td>Jean de Brunhoff, Merle S. Haas</td></tr>",
                            "<tr><td>The Diving Bell and the Butterfly</td><td>Jean-Dominique Bauby, Jeremy Leggatt</td></tr>",
                            "<tr><td>The Social Contract</td><td>Jean-Jacques Rousseau, Maurice Cranston</td></tr>",
                            "<tr><td>Existentialism Is a Humanism</td><td>Jean-Paul Sartre, Arlette Elkaïm-Sartre, Annie Cohen-Solal, Carol Macomber</td></tr>",
                            "<tr><td>Being and Nothingness</td><td>Jean-Paul Sartre, Hazel E. Barnes, Mary Warnock, Richard Eyre</td></tr>",
                            "<tr><td>Nausea</td><td>Jean-Paul Sartre, Lloyd Alexander, Hayden Carruth</td></tr>",
                            "<tr><td>No Exit and Three Other Plays</td><td>Jean-Paul Sartre, Stuart Gilbert, Lionel Abel</td></tr>",
                            "<tr><td>Flat Stanley (Flat Stanley, #1)</td><td>Jeff Brown, Scott Nash, Macky Pamintuan</td></tr>",
                            "<tr><td>Artisan Bread in Five Minutes a Day: The Discovery That Revolutionizes Home Baking</td><td>Jeff Hertzberg, Zoë François, Mark Luinenburg</td></tr>",
                            "<tr><td>Sweet Tooth, Volume 1: Out of the Deep Woods</td><td>Jeff Lemire, José Villarrubia, Carlos M. Mangual</td></tr>",
                            "<tr><td>The Dragonslayer (Bone, #4)</td><td>Jeff Smith, Steve Hamaker</td></tr>",
                            "<tr><td>Out from Boneville (Bone, #1)</td><td>Jeff Smith, Steve Hamaker</td></tr>",
                            "<tr><td>Bone: Tall Tales</td><td>Jeff Smith, Thomas E. Sniegoski, Steve Hamaker</td></tr>",
                            "<tr><td>A Case of Need</td><td>Jeffery Hudson, Michael Crichton</td></tr>",
                            "<tr><td>The End of Poverty</td><td>Jeffrey D. Sachs, Bono</td></tr>",
                            "<tr><td>How to Make Love Like a Porn Star: A Cautionary Tale</td><td>Jenna Jameson, Neil Strauss</td></tr>",
                            "<tr><td>Beyond Belief: My Secret Life Inside Scientology and My Harrowing Escape</td><td>Jenna Miscavige Hill, Lisa Pulitzer</td></tr>",
                            "<tr><td>Agnes and the Hitman</td><td>Jennifer Crusie, Bob Mayer</td></tr>",
                            "<tr><td>The Fourteenth Goldfish</td><td>Jennifer L. Holm, Tad Carpenter</td></tr>",
                            "<tr><td>All the Bright Places</td><td>Jennifer Niven, فرانک معنوی</td></tr>",
                            "<tr><td>Burn for Burn (Burn for Burn, #1)</td><td>Jenny Han, Siobhan Vivian</td></tr>",
                            "<tr><td>Batman: Hush, Vol. 2</td><td>Jeph Loeb, Jim Lee, Scott Williams</td></tr>",
                            "<tr><td>Batman: Hush, Vol. 1</td><td>Jeph Loeb, Jim Lee, Scott Williams</td></tr>",
                            "<tr><td>Batman: Hush</td><td>Jeph Loeb, Jim Lee, Scott Williams, Alex Sinclair, Richard Starkings</td></tr>",
                            "<tr><td>Batman: Dark Victory</td><td>Jeph Loeb, Tim Sale</td></tr>",
                            "<tr><td>Superman for All Seasons</td><td>Jeph Loeb, Tim Sale, Bjarne Hansen</td></tr>",
                            "<tr><td>Batman: The Long Halloween</td><td>Jeph Loeb, Tim Sale, Gregory Wright, Richard Starkings</td></tr>",
                            "<tr><td>Inherit the Wind</td><td>Jerome Lawrence, Robert E.  Lee</td></tr>",
                            "<tr><td>The Pursuit of Holiness</td><td>Jerry Bridges, Foster W. Cline, Jim Fay</td></tr>",
                            "<tr><td>Chopsticks</td><td>Jessica Anthony, Rodrigo Corral</td></tr>",
                            "<tr><td>The Dresden Files:  Storm Front, Volume 1-  The Gathering Storm</td><td>Jim Butcher, Mark Powers, Ardian Syaf</td></tr>",
                            "<tr><td>Fresh Wind, Fresh Fire: What Happens When God&#39;s Spirit Invades the Heart of His People</td><td>Jim Cymbala, Dean Merrill</td></tr>",
                            "<tr><td>Big Red (Big Red, #1)</td><td>Jim Kjelgaard, Carl Pfeuffer</td></tr>",
                            "<tr><td>Justice, Volume 1</td><td>Jim Krueger, Alex Ross, Doug Braithwaite</td></tr>",
                            "<tr><td>The Power of Full Engagement: Managing Energy, Not Time, Is the Key to High Performance and Personal Renewal</td><td>Jim Loehr, Tony Schwartz</td></tr>",
                            "<tr><td>Batman: A Death in the Family</td><td>Jim Starlin, Jim Aparo, Mike DeCarlo</td></tr>",
                            "<tr><td>Deadman Wonderland, Volume 1 (Deadman Wonderland, #1)</td><td>Jinsei Kataoka, Kazuma Kondou</td></tr>",
                            "<tr><td>The Son</td><td>Jo Nesbø, Charlotte Barslund</td></tr>",
                            "<tr><td>Phantom (Harry Hole, #9)</td><td>Jo Nesbø, Don Bartlett</td></tr>",
                            "<tr><td>Cockroaches (Harry Hole, #2)</td><td>Jo Nesbø, Don Bartlett</td></tr>",
                            "<tr><td>Headhunters</td><td>Jo Nesbø, Don Bartlett</td></tr>",
                            "<tr><td>Police (Harry Hole, #10)</td><td>Jo Nesbø, Don Bartlett</td></tr>",
                            "<tr><td>Nemesis (Harry Hole, #4)</td><td>Jo Nesbø, Don Bartlett</td></tr>",
                            "<tr><td>The Redbreast (Harry Hole, #3)</td><td>Jo Nesbø, Don Bartlett</td></tr>",
                            "<tr><td>The Snowman (Harry Hole, #7)</td><td>Jo Nesbø, Don Bartlett</td></tr>",
                            "<tr><td>Flaggermusmannen (Harry Hole, #1)</td><td>Jo Nesbø, Don Bartlett</td></tr>",
                            "<tr><td>Blood on Snow (Blood on Snow, #1)</td><td>Jo Nesbø, Neil Smith</td></tr>",
                            "<tr><td>The Wolves of Willoughby Chase (The Wolves Chronicles, #1)</td><td>Joan Aiken, Pat Marriott</td></tr>",
                            "<tr><td>Play It as It Lays</td><td>Joan Didion, David Thomson</td></tr>",
                            "<tr><td>Inside the Human Body (The Magic School Bus, #3)</td><td>Joanna Cole, Bruce Degen</td></tr>",
                            "<tr><td>Between the Lines (Between the Lines, #1)</td><td>Jodi Picoult, Samantha van Leer</td></tr>",
                            "<tr><td>20th Century Ghosts</td><td>Joe Hill, Christopher Golden</td></tr>",
                            "<tr><td>Locke &amp; Key, Vol. 2: Head Games</td><td>Joe Hill, Gabriel Rodríguez</td></tr>",
                            "<tr><td>Locke &amp; Key, Vol. 1: Welcome to Lovecraft</td><td>Joe Hill, Gabriel Rodríguez</td></tr>",
                            "<tr><td>Locke &amp; Key, Vol. 6: Alpha &amp; Omega</td><td>Joe Hill, Gabriel Rodríguez</td></tr>",
                            "<tr><td>Locke &amp; Key, Vol. 5: Clockworks</td><td>Joe Hill, Gabriel Rodríguez</td></tr>",
                            "<tr><td>Locke &amp; Key, Vol. 4: Keys to the Kingdom</td><td>Joe Hill, Gabriel Rodríguez</td></tr>",
                            "<tr><td>Locke &amp; Key, Vol. 3: Crown of Shadows</td><td>Joe Hill, Gabriel Rodríguez</td></tr>",
                            "<tr><td>What Every Body is Saying: An Ex-FBI Agent&#39;s Guide to Speed-Reading People</td><td>Joe Navarro, Marvin Karlins</td></tr>",
                            "<tr><td>Palestine</td><td>Joe Sacco, Edward Said</td></tr>",
                            "<tr><td>The Swiss Family Robinson  </td><td>Johann David Wyss, Scott McKowen, Arthur Pober</td></tr>",
                            "<tr><td>The Sorrows of Young Werther</td><td>Johann Wolfgang von Goethe, Burton Pike</td></tr>",
                            "<tr><td>Faust: First Part</td><td>Johann Wolfgang von Goethe, Peter Salm</td></tr>",
                            "<tr><td>Faust</td><td>Johann Wolfgang von Goethe, Walter Kaufmann</td></tr>",
                            "<tr><td>Heidi</td><td>Johanna Spyri, Angelo  Rinaldi, Beverly Cleary</td></tr>",
                            "<tr><td>March: Book One (March, #1)</td><td>John             Lewis, Andrew Aydin, Nate Powell</td></tr>",
                            "<tr><td>Stoner</td><td>John  Williams, John McGahern</td></tr>",
                            "<tr><td>The 21 Irrefutable Laws of Leadership: Follow Them and People Will Follow You</td><td>John C. Maxwell, Zig Ziglar</td></tr>",
                            "<tr><td>The Great Brain (Great Brain #1)</td><td>John D. Fitzgerald, Mercer Mayer</td></tr>",
                            "<tr><td>The History of the Hobbit, Part One: Mr. Baggins</td><td>John D. Rateliff, J.R.R. Tolkien</td></tr>",
                            "<tr><td>The Sacred Romance Drawing Closer To The Heart Of God</td><td>John Eldredge, Brent Curtis</td></tr>",
                            "<tr><td>Captivating: Unveiling the Mystery of a Woman&#39;s Soul</td><td>John Eldredge, Stasi Eldredge</td></tr>",
                            "<tr><td>Ask the Dust (Arturo Bandini, #3)</td><td>John Fante, Charles Bukowski</td></tr>",
                            "<tr><td>Foxe&#39;s Book of Martyrs</td><td>John Foxe, W. Grinton Berry</td></tr>",
                            "<tr><td>Will Grayson, Will Grayson</td><td>John Green, David Levithan</td></tr>",
                            "<tr><td>Let It Snow: Three Holiday Romances</td><td>John Green, Maureen Johnson, Lauren Myracle</td></tr>",
                            "<tr><td>Theodore Boone: Kid Lawyer (Theodore Boone, #1)</td><td>John Grisham, Richard Thomas</td></tr>",
                            "<tr><td>Game Change: Obama and the Clintons, McCain and Palin, and the Race of a Lifetime</td><td>John Heilemann, Mark Halperin</td></tr>",
                            "<tr><td>The Improbable Adventures of Sherlock Holmes</td><td>John Joseph Adams, Robert J. Sawyer, Stephen King, Michael Moorcock, Sharyn McCrumb, Stephen Baxter, Anne Perry, Barbara Hambly, Tanith Lee, Neil Gaiman, Rob Rogers, Naomi Novik, Anthony Burgess, Dominic Green, Laurie R. King, Barbara Roden, Peter Tremayne, Tim Lebbon, Bradley H. Sinor, Edward D. Hoch, Vonda N. McIntyre, Darrell Schweitzer, Mary Robinette Kowal, H.Paul Jeffers, Geoffrey A. Landis, Amy Myers, Tony Pi, Chris Roberson, Mark Valentine</td></tr>",
                            "<tr><td>A Confederacy of Dunces</td><td>John Kennedy Toole, Walker Percy</td></tr>",
                            "<tr><td>The Littles</td><td>John Lawrence Peterson, Roberta Carter Clark</td></tr>",
                            "<tr><td>Chew, Vol. 2: International Flavor</td><td>John Layman, Rob Guillory</td></tr>",
                            "<tr><td>Chew, Vol. 1: Taster&#39;s Choice</td><td>John Layman, Rob Guillory</td></tr>",
                            "<tr><td>Second Treatise of Government</td><td>John Locke, C.B. Macpherson</td></tr>",
                            "<tr><td>Two Treatises of Government</td><td>John Locke, Peter Laslett, Raymond Geuss</td></tr>",
                            "<tr><td>The Seven Principles for Making Marriage Work: A Practical Guide from the Country&#39;s Foremost Relationship Expert</td><td>John M. Gottman, Nan Silver</td></tr>",
                            "<tr><td>Paradise Lost</td><td>John Milton, John      Leonard</td></tr>",
                            "<tr><td>The Winter of Our Discontent</td><td>John Steinbeck, Susan Shillinglaw</td></tr>",
                            "<tr><td>Utilitarianism</td><td>John Stuart Mill, George Sher</td></tr>",
                            "<tr><td>Harry Potter and the Cursed Child - Parts One and Two (Harry Potter, #8)</td><td>John Tiffany, Jack Thorne, J.K. Rowling</td></tr>",
                            "<tr><td>Cash</td><td>Johnny Cash, Patrick   Carr</td></tr>",
                            "<tr><td>The True Story of the 3 Little Pigs</td><td>Jon Scieszka, Lane Smith</td></tr>",
                            "<tr><td>The Stinky Cheese Man and Other Fairly Stupid Tales</td><td>Jon Scieszka, Lane Smith</td></tr>",
                            "<tr><td>America (The Book): A Citizen&#39;s Guide to Democracy Inaction</td><td>Jon Stewart, Ben Karlin, David Javerbaum, Rich Bloomquist, Steve Bodow, Tim Carvell, Eric Drysdale, J.R. Havlan, Scott Jacobson, Tom Johnson, Rob Kutner, Chris Regan, Jason Reich, Jason Ross, Stephen Colbert, Samantha Bee, Rob Corddry, Brendan Hay, Ed Helms</td></tr>",
                            "<tr><td>Earth (The Book): A Visitor&#39;s Guide to the Human Race</td><td>Jon Stewart, Rory Albanese, Kevin Bleyer, Rich Bloomquist, Steve Bodow, Tim Carvell, Wyatt Cenac, Hallie Haglund, J.R. Havlan, David Javerbaum, Elliott Kalan, Josh Lieb, Sam Means, Jo Miller, John Oliver, Daniel Radosh, Jason Ross</td></tr>",
                            "<tr><td>The Monster at the End of this Book</td><td>Jon Stone, Michael J. Smollin</td></tr>",
                            "<tr><td>The Girl Who Saved the King of Sweden</td><td>Jonas Jonasson, Rachel Willson-Broyles</td></tr>",
                            "<tr><td>The Hundred-Year-Old Man Who Climbed Out of the Window and Disappeared</td><td>Jonas Jonasson, Rod Bradbury</td></tr>",
                            "<tr><td>The Ring of Solomon (Bartimaeus, #0.5)</td><td>Jonathan Stroud, Simon  Jones</td></tr>",
                            "<tr><td>Gulliver&#39;s Travels</td><td>Jonathan Swift, Robert DeMaria Jr.</td></tr>",
                            "<tr><td>Joni: An Unforgettable Story</td><td>Joni Eareckson Tada, Joe Musser</td></tr>",
                            "<tr><td>The Aleph and Other Stories </td><td>Jorge Luis Borges, Andrew Hurley</td></tr>",
                            "<tr><td>Collected Fictions</td><td>Jorge Luis Borges, Andrew Hurley</td></tr>",
                            "<tr><td>Ficciones</td><td>Jorge Luis Borges, Anthony Kerrigan, Anthony Bonner</td></tr>",
                            "<tr><td>Labyrinths:  Selected Stories and Other Writings</td><td>Jorge Luis Borges, Donald A. Yates, James E. Irby, André Maurois</td></tr>",
                            "<tr><td>Os Maias</td><td>José Maria de Eça de Queirós, Ester de Lemos</td></tr>",
                            "<tr><td>درخت زیبای من</td><td>José Mauro de Vasconcelos, قاسم صنعوی</td></tr>",
                            "<tr><td>Baltasar and Blimunda</td><td>José Saramago, Giovanni Pontiero</td></tr>",
                            "<tr><td>Blindness</td><td>José Saramago, Giovanni Pontiero</td></tr>",
                            "<tr><td>Death With Interruptions</td><td>José Saramago, Margaret Jull Costa</td></tr>",
                            "<tr><td>The Double</td><td>José Saramago, Margaret Jull Costa</td></tr>",
                            "<tr><td>All the Names</td><td>José Saramago, Margaret Jull Costa</td></tr>",
                            "<tr><td>Seeing</td><td>José Saramago, Margaret Jull Costa</td></tr>",
                            "<tr><td>The Power of Myth</td><td>Joseph Campbell, Bill Moyers</td></tr>",
                            "<tr><td>Heart of Darkness and Selected Short Fiction</td><td>Joseph Conrad, A. Michael Matin</td></tr>",
                            "<tr><td>Attack of the Fiend (The Last Apprentice / Wardstone Chronicles, #4)</td><td>Joseph Delaney, Patrick  Arrasmith</td></tr>",
                            "<tr><td>Night of the Soul Stealer (The Last Apprentice / Wardstone Chronicles, #3)</td><td>Joseph Delaney, Patrick  Arrasmith</td></tr>",
                            "<tr><td>Revenge of the Witch (The Last Apprentice / Wardstone Chronicles, #1)</td><td>Joseph Delaney, Patrick  Arrasmith</td></tr>",
                            "<tr><td>Curse of the Bane (The Last Apprentice / Wardstone Chronicles, #2)</td><td>Joseph Delaney, Patrick  Arrasmith</td></tr>",
                            "<tr><td>Welcome to Night Vale</td><td>Joseph Fink, Jeffrey Cranor</td></tr>",
                            "<tr><td>The Power of Your Subconscious Mind</td><td>Joseph Murphy, Ian McMahan</td></tr>",
                            "<tr><td>Fiddler on the Roof</td><td>Joseph Stein, Jerry Bock, Sheldon Harnick</td></tr>",
                            "<tr><td>Those Left Behind (Serenity, #1)</td><td>Joss Whedon, Brett Matthews, Will Conrad</td></tr>",
                            "<tr><td>Buffy the Vampire Slayer: The Long Way Home (Season 8, #1)</td><td>Joss Whedon, Georges Jeanty</td></tr>",
                            "<tr><td>Astonishing X-Men, Volume 1: Gifted</td><td>Joss Whedon, John Cassaday</td></tr>",
                            "<tr><td>Astonishing X-Men, Volume 2: Dangerous</td><td>Joss Whedon, John Cassaday</td></tr>",
                            "<tr><td>The Orange Girl</td><td>Jostein Gaarder, James Anderson</td></tr>",
                            "<tr><td>Sophie&#39;s World</td><td>Jostein Gaarder, Paulette Møller</td></tr>",
                            "<tr><td>The Solitaire Mystery: A Novel About Family and Destiny</td><td>Jostein Gaarder, Sarah Jane Hails</td></tr>",
                            "<tr><td>The Sound of Things Falling</td><td>Juan Gabriel Vásquez, Anne McLean</td></tr>",
                            "<tr><td>Pedro Páramo</td><td>Juan Rulfo, Margaret Sayers Peden, Susan Sontag</td></tr>",
                            "<tr><td>Cloudy With a Chance of Meatballs</td><td>Judi Barrett, Ron Barrett</td></tr>",
                            "<tr><td>Alexander and the Terrible, Horrible, No Good, Very Bad Day</td><td>Judith Viorst, Ray Cruz</td></tr>",
                            "<tr><td>The Silver Palate Cookbook</td><td>Julee Rosso, Sheila Lukins, Michael McLaughlin</td></tr>",
                            "<tr><td>Twenty Thousand Leagues Under the Sea</td><td>Jules Verne, Anthony Bonner</td></tr>",
                            "<tr><td>The Mysterious Island (Extraordinary Voyages, #12)</td><td>Jules Verne, Caleb Carr, Jordan Stump</td></tr>",
                            "<tr><td>Around the World in Eighty Days</td><td>Jules Verne, Michael Glencross, Brian W. Aldiss</td></tr>",
                            "<tr><td>My Life in France</td><td>Julia Child, Alex Prud&#39;Homme</td></tr>",
                            "<tr><td>Mastering the Art of French Cooking</td><td>Julia Child, Simone Beck, Louisette Bertholle</td></tr>",
                            "<tr><td>The Gruffalo</td><td>Julia Donaldson, Axel Scheffler</td></tr>",
                            "<tr><td>By the Time You Read This, I&#39;ll Be Dead</td><td>Julie Anne Peters, C.J. Bott</td></tr>",
                            "<tr><td>The Invisible Bridge</td><td>Julie Orringer, Arthur Morey</td></tr>",
                            "<tr><td>Kamisama Kiss, Vol. 1</td><td>Julietta Suzuki, Tomo Kimura</td></tr>",
                            "<tr><td>Hopscotch</td><td>Julio Cortázar, Gregory Rabassa</td></tr>",
                            "<tr><td>Pandora Hearts 1巻</td><td>Jun Mochizuki, 望月淳</td></tr>",
                            "<tr><td>The Absent One (Department Q, #2)</td><td>Jussi Adler-Olsen, K.E. Semmel</td></tr>",
                            "<tr><td>The Keeper of Lost Causes (Department Q, #1)</td><td>Jussi Adler-Olsen, Lisa Hartford</td></tr>",
                            "<tr><td>The Lion King: A little Golden Book</td><td>Justine Korman Fontes, Don Williams, Walt Disney Company</td></tr>",
                            "<tr><td>Shattered</td><td>K.R. Dwyer, Dean Koontz</td></tr>",
                            "<tr><td>The Broken Wings</td><td>Kahlil Gibran, Anthony R. Ferris</td></tr>",
                            "<tr><td>Dream Dark (Caster Chronicles, #2.5)</td><td>Kami Garcia, Margaret Stohl</td></tr>",
                            "<tr><td>Beautiful Redemption (Caster Chronicles, #4)</td><td>Kami Garcia, Margaret Stohl</td></tr>",
                            "<tr><td>Beautiful Darkness (Caster Chronicles, #2)</td><td>Kami Garcia, Margaret Stohl</td></tr>",
                            "<tr><td>Beautiful Creatures (Caster Chronicles, #1)</td><td>Kami Garcia, Margaret Stohl</td></tr>",
                            "<tr><td>Beautiful Chaos (Caster Chronicles, #3)</td><td>Kami Garcia, Margaret Stohl, Paz Pruneda</td></tr>",
                            "<tr><td>Black Bird, Vol. 01 (Black Bird, #1)</td><td>Kanoko Sakurakouji, JN Productions, Pancha Diaz</td></tr>",
                            "<tr><td>Redemption (Redemption, #1)</td><td>Karen Kingsbury, Gary Smalley</td></tr>",
                            "<tr><td>Rejoice (Redemption, #4)</td><td>Karen Kingsbury, Gary Smalley</td></tr>",
                            "<tr><td>Reunion (Redemption, #5)</td><td>Karen Kingsbury, Gary Smalley</td></tr>",
                            "<tr><td>Return (Redemption, #3)</td><td>Karen Kingsbury, Gary Smalley</td></tr>",
                            "<tr><td>Remember (Redemption, #2)</td><td>Karen Kingsbury, Gary Smalley</td></tr>",
                            "<tr><td>The Communist Manifesto</td><td>Karl Marx, Friedrich Engels, Gareth Stedman Jones</td></tr>",
                            "<tr><td>Bear Snores On</td><td>Karma Wilson, Jane Chapman</td></tr>",
                            "<tr><td>Kimi ni Todoke: From Me to You, Vol. 1</td><td>Karuho Shiina, Tomo Kimura</td></tr>",
                            "<tr><td>The Readers of Broken Wheel Recommend</td><td>Katarina Bivald, Alice Menzies</td></tr>",
                            "<tr><td>The Awakening and Selected Stories</td><td>Kate Chopin, Cynthia Brantley Johnson, Alyssa  Harad</td></tr>",
                            "<tr><td>The Miraculous Journey of Edward Tulane</td><td>Kate DiCamillo, Bagram Ibatoulline</td></tr>",
                            "<tr><td>Because of Winn-Dixie</td><td>Kate DiCamillo, Chris Sheban</td></tr>",
                            "<tr><td>Flora and Ulysses: The Illuminated Adventures</td><td>Kate DiCamillo, K.G. Campbell</td></tr>",
                            "<tr><td>The Tale of Despereaux</td><td>Kate DiCamillo, Timothy Basil Ering</td></tr>",
                            "<tr><td>The Magician&#39;s Elephant</td><td>Kate DiCamillo, Yoko Tanaka</td></tr>",
                            "<tr><td>The One and Only Ivan</td><td>Katherine Applegate, Patricia Castelao</td></tr>",
                            "<tr><td>The Saggy Baggy Elephant (A Little Golden Book)</td><td>Kathryn Jackson, Byron Jackson, Gustav Tenggren</td></tr>",
                            "<tr><td>Tawny Scrawny Lion</td><td>Kathryn Jackson, Gustav Tenggren</td></tr>",
                            "<tr><td>Virals (Virals, #1)</td><td>Kathy Reichs, Brendan Reichs</td></tr>",
                            "<tr><td>Kisses from Katie: A Story of Relentless Love and Redemption</td><td>Katie J. Davis, Beth Clark</td></tr>",
                            "<tr><td>Akira, Vol. 1</td><td>Katsuhiro Otomo, Yoko Umezawa, Linda M. York, Jo Duffy</td></tr>",
                            "<tr><td>D.Gray-man, Volume 01</td><td>Katsura Hoshino, Mayumi Kobayashi</td></tr>",
                            "<tr><td>Eloise </td><td>Kay Thompson, Hilary Knight</td></tr>",
                            "<tr><td>Blue Exorcist, Vol. 1  (Blue Exorcist, #1)</td><td>Kazue Kato, John Werry</td></tr>",
                            "<tr><td>The Devotion of Suspect X</td><td>Keigo Higashino, Alexander O. Smith</td></tr>",
                            "<tr><td>The Element: How Finding Your Passion Changes Everything</td><td>Ken Robinson, Lou Aronica</td></tr>",
                            "<tr><td>Hamlet: Screenplay, Introduction And Film Diary</td><td>Kenneth Branagh, William Shakespeare</td></tr>",
                            "<tr><td>The Wind in the Willows</td><td>Kenneth Grahame, Gillian Avery</td></tr>",
                            "<tr><td>The One Minute Manager</td><td>Kenneth H. Blanchard, Spencer Johnson</td></tr>",
                            "<tr><td>Quidditch Through the Ages</td><td>Kennilworthy Whisp, J.K. Rowling</td></tr>",
                            "<tr><td>Berserk, Vol. 1 (Berserk, #1)</td><td>Kentaro Miura, Jason DeAngelis</td></tr>",
                            "<tr><td>Influencer: The Power to Change Anything</td><td>Kerry Patterson, Joseph Grenny, David Maxfield, Ron McMillan, Al Switzler</td></tr>",
                            "<tr><td>Crucial Conversations: Tools for Talking When Stakes Are High</td><td>Kerry Patterson, Joseph Grenny, Ron McMillan, Al Switzler, Stephen R. Covey</td></tr>",
                            "<tr><td>Ruby Red (Precious Stone Trilogy, #1)</td><td>Kerstin Gier, Anthea Bell</td></tr>",
                            "<tr><td>Ghost in the Wires: My Adventures as the World&#39;s Most Wanted Hacker</td><td>Kevin D. Mitnick, William L. Simon, Steve Wozniak</td></tr>",
                            "<tr><td>The Boy Who Came Back from Heaven: A Remarkable Account of Miracles, Angels, and Life beyond This World</td><td>Kevin Malarkey, Alex Malarkey</td></tr>",
                            "<tr><td>The Wicked + The Divine, Vol. 1: The Faust Act</td><td>Kieron Gillen, Jamie McKelvie, Matt Wilson, Clayton Cowles</td></tr>",
                            "<tr><td>The Vow: The Kim &amp; Krickitt Carpenter Story</td><td>Kim Carpenter, John R. Perry, Krickitt Carpenter</td></tr>",
                            "<tr><td>The War that Saved My Life (The War That Saved My Life #1)</td><td>Kimberly Brubaker Bradley, مرضیه ورشوساز</td></tr>",
                            "<tr><td>The Natural Way to Draw</td><td>Kimon Nicolaides, Mamie Harmon</td></tr>",
                            "<tr><td>Lucky Jim</td><td>Kingsley Amis, David Lodge</td></tr>",
                            "<tr><td>Yotsuba&amp;!, Vol. 01 (Yotsuba&amp;! #1)</td><td>Kiyohiko Azuma, あずま きよひこ</td></tr>",
                            "<tr><td>Hunger</td><td>Knut Hamsun, George Egerton</td></tr>",
                            "<tr><td>The Woman in the Dunes</td><td>Kōbō Abe, E. Dale Saunders</td></tr>",
                            "<tr><td>Hellsing, Vol. 01 (Hellsing, #1)</td><td>Kohta Hirano, Duane Johnson</td></tr>",
                            "<tr><td>Battle Royale</td><td>Koushun Takami, Yuji Oniki</td></tr>",
                            "<tr><td>Deep Kiss of Winter (Includes: Immortals After Dark, #8; Alien Huntress, #3.5)</td><td>Kresley Cole, Gena Showalter</td></tr>",
                            "<tr><td>The Bhagavad Gita</td><td>Krishna-Dwaipayana Vyasa, Simon Brodbeck, Juan Mascaró</td></tr>",
                            "<tr><td>Addicted to You (Addicted, #1)</td><td>Krista Ritchie, Becca Ritchie</td></tr>",
                            "<tr><td>Marvels</td><td>Kurt Busiek, Alex Ross</td></tr>",
                            "<tr><td>Rat Queens, Vol. 1: Sass &amp; Sorcery</td><td>Kurtis J. Wiebe, Roc Upchurch</td></tr>",
                            "<tr><td>Please Look After Mom</td><td>Kyung-Sook Shin, 신경숙, Chi-Young Kim</td></tr>",
                            "<tr><td>The Marvelous Land of Oz (Oz, #2)</td><td>L. Frank Baum, David McKee</td></tr>",
                            "<tr><td>The Wonderful Wizard of Oz (Oz, #1)</td><td>L. Frank Baum, W.W. Denslow</td></tr>",
                            "<tr><td>Origins (The Vampire Diaries: Stefan&#39;s Diaries, #1)</td><td>L.J. Smith, Kevin Williamson, Julie Plec</td></tr>",
                            "<tr><td>The Ripper (The Vampire Diaries: Stefan&#39;s Diaries, #4)</td><td>L.J. Smith, Kevin Williamson, Julie Plec</td></tr>",
                            "<tr><td>Bloodlust (The Vampire Diaries: Stefan&#39;s Diaries, #2)</td><td>L.J. Smith, Kevin Williamson, Julie Plec</td></tr>",
                            "<tr><td>It&#39;s Not About the Bike: My Journey Back to Life</td><td>Lance Armstrong, Sally Jenkins</td></tr>",
                            "<tr><td>Tao Te Ching</td><td>Lao Tzu, Gia-Fu Feng, Jane English, Chungliang Al Huang, Rowena Pattee Kryder, Toinette Lippe</td></tr>",
                            "<tr><td>When the Game Was Ours</td><td>Larry Bird, Earvin Johnson, Jackie MacMullan</td></tr>",
                            "<tr><td>Red Phoenix (Red Phoenix #1)</td><td>Larry Bond, Patrick Larkin</td></tr>",
                            "<tr><td>Execution: The Discipline of Getting Things Done</td><td>Larry Bossidy, Ram Charan, Charles Burck</td></tr>",
                            "<tr><td>Lucifer&#39;s Hammer</td><td>Larry Niven, Jerry Pournelle</td></tr>",
                            "<tr><td>The Mote in God&#39;s Eye</td><td>Larry Niven, Jerry Pournelle</td></tr>",
                            "<tr><td>Footfall</td><td>Larry Niven, Jerry Pournelle</td></tr>",
                            "<tr><td>The Hypnotist (Joona Linna, #1)</td><td>Lars Kepler, Ann Long</td></tr>",
                            "<tr><td>The Nightmare (Joona Linna, #2)</td><td>Lars Kepler, Laura A. Wideburg</td></tr>",
                            "<tr><td>Like Water for Chocolate</td><td>Laura Esquivel, Thomas  Christensen, Carol Christensen</td></tr>",
                            "<tr><td>Little House on the Prairie (Little House, #2)</td><td>Laura Ingalls Wilder, Garth Williams</td></tr>",
                            "<tr><td>The Little House Collection (Little House, #1-9)</td><td>Laura Ingalls Wilder, Garth Williams</td></tr>",
                            "<tr><td>Little House in the Big Woods (Little House, #1)</td><td>Laura Ingalls Wilder, Garth Williams</td></tr>",
                            "<tr><td>On the Banks of Plum Creek  (Little House, #4)</td><td>Laura Ingalls Wilder, Garth Williams</td></tr>",
                            "<tr><td>By the Shores of Silver Lake  (Little House, #5)</td><td>Laura Ingalls Wilder, Garth Williams</td></tr>",
                            "<tr><td>These Happy Golden Years (Little House, #8)</td><td>Laura Ingalls Wilder, Garth Williams</td></tr>",
                            "<tr><td>The Long Winter (Little House, #6)</td><td>Laura Ingalls Wilder, Garth Williams</td></tr>",
                            "<tr><td>Little Town on the Prairie  (Little House, #7)</td><td>Laura Ingalls Wilder, Garth Williams</td></tr>",
                            "<tr><td>Farmer Boy (Little House, #3)</td><td>Laura Ingalls Wilder, Garth Williams</td></tr>",
                            "<tr><td>The First Four Years  (Little House, #9)</td><td>Laura Ingalls Wilder, Garth Williams</td></tr>",
                            "<tr><td>If You Take a Mouse to the Movies</td><td>Laura Joffe Numeroff, Felicia Bond</td></tr>",
                            "<tr><td>If You Give a Pig a Party</td><td>Laura Joffe Numeroff, Felicia Bond</td></tr>",
                            "<tr><td>If You Give a Cat a Cupcake</td><td>Laura Joffe Numeroff, Felicia Bond</td></tr>",
                            "<tr><td>If You Take a Mouse to School</td><td>Laura Joffe Numeroff, Felicia Bond</td></tr>",
                            "<tr><td>If You Give a Pig a Pancake </td><td>Laura Joffe Numeroff, Felicia Bond</td></tr>",
                            "<tr><td>If You Give a Moose a Muffin</td><td>Laura Joffe Numeroff, Felicia Bond</td></tr>",
                            "<tr><td>If You Give a Mouse a Cookie</td><td>Laura Joffe Numeroff, Felicia Bond</td></tr>",
                            "<tr><td>An Invisible Thread: The True Story of an 11-Year-Old Panhandler, a Busy Sales Executive, and an Unlikely Meeting with Destiny</td><td>Laura Schroff, Alex Tresniowski, Valerie Salembier</td></tr>",
                            "<tr><td>A Lick of Frost (Merry Gentry, #6)</td><td>Laurell K. Hamilton, Laural Merlington</td></tr>",
                            "<tr><td>Girls&#39; Night In</td><td>Lauren Henderson, Chris Manby, Sarah Mlynowski, Jill A. Davis, Stella Duffy, Lisa Jewell, Marian Keyes, Sophie Kinsella, Adèle Lang, Carole Matthews, Anna Maxted, Megan McCafferty, Alisa Valdes, Isabel Wolff, Meg Cabot, Jessica Adams, Louise Bagshawe, Emily Barr, Jenny Colgan, Lynda Curnyn, Jennifer Weiner</td></tr>",
                            "<tr><td>The Life and Opinions of Tristram Shandy, Gentleman</td><td>Laurence Sterne, Melvyn New</td></tr>",
                            "<tr><td>A Universe from Nothing: Why There Is Something Rather Than Nothing</td><td>Lawrence M. Krauss, Richard Dawkins</td></tr>",
                            "<tr><td>Troublemaker: Surviving Hollywood and Scientology</td><td>Leah Remini, Rebecca Paley</td></tr>",
                            "<tr><td>The Girl Who Was on Fire: Your Favorite Authors on Suzanne Collins&#39; Hunger Games Trilogy</td><td>Leah Wilson, Jennifer Lynn Barnes, Mary Borsellino, Sarah Rees Brennan, Terri  Clark, Bree Despain, Adrienne Kress, Sarah Darer Littman, Cara Lockwood, Elizabeth M. Rees, Carrie Ryan, Ned Vizzini, Lili Wilkinson, Blythe Woolston</td></tr>",
                            "<tr><td>Night School</td><td>Lee Child, Dick Hill</td></tr>",
                            "<tr><td>Without Fail (Jack Reacher, #6)</td><td>Lee Child, Dick Hill</td></tr>",
                            "<tr><td>A Wanted Man (Jack Reacher, #17)</td><td>Lee Child, Dick Hill</td></tr>",
                            "<tr><td>Please Kill Me: The Uncensored Oral History of Punk</td><td>Legs McNeil, Gillian McCain</td></tr>",
                            "<tr><td>The Key to Midnight</td><td>Leigh Nichols, Dean Koontz</td></tr>",
                            "<tr><td>Shadow Fires</td><td>Leigh Nichols, Dean Koontz</td></tr>",
                            "<tr><td>The House of Thunder</td><td>Leigh Nichols, Dean Koontz</td></tr>",
                            "<tr><td>The Servants of Twilight</td><td>Leigh Nichols, Dean Koontz</td></tr>",
                            "<tr><td>The Eyes of Darkness</td><td>Leigh Nichols, Dean Koontz</td></tr>",
                            "<tr><td>A Series of Unfortunate Events Box: The Complete Wreck (Books 1-13)</td><td>Lemony Snicket, Brett Helquist</td></tr>",
                            "<tr><td>The Penultimate Peril (A Series of Unfortunate Events, #12)</td><td>Lemony Snicket, Brett Helquist</td></tr>",
                            "<tr><td>The End (A Series of Unfortunate Events, #13)</td><td>Lemony Snicket, Brett Helquist</td></tr>",
                            "<tr><td>The Grim Grotto (A Series of Unfortunate Events, #11)</td><td>Lemony Snicket, Brett Helquist</td></tr>",
                            "<tr><td>The Hostile Hospital (A Series of Unfortunate Events, #8)</td><td>Lemony Snicket, Brett Helquist</td></tr>",
                            "<tr><td>The Slippery Slope (A Series of Unfortunate Events, #10)</td><td>Lemony Snicket, Brett Helquist</td></tr>",
                            "<tr><td>The Carnivorous Carnival (A Series of Unfortunate Events, #9)</td><td>Lemony Snicket, Brett Helquist</td></tr>",
                            "<tr><td>The Ersatz Elevator (A Series of Unfortunate Events, #6)</td><td>Lemony Snicket, Brett Helquist</td></tr>",
                            "<tr><td>The Bad Beginning (A Series of Unfortunate Events, #1)</td><td>Lemony Snicket, Brett Helquist</td></tr>",
                            "<tr><td>The Reptile Room (A Series of Unfortunate Events, #2)</td><td>Lemony Snicket, Brett Helquist</td></tr>",
                            "<tr><td>The Miserable Mill (A Series of Unfortunate Events, #4)</td><td>Lemony Snicket, Brett Helquist</td></tr>",
                            "<tr><td>The Austere Academy (A Series of Unfortunate Events, #5)</td><td>Lemony Snicket, Brett Helquist</td></tr>",
                            "<tr><td>The Vile Village (A Series of Unfortunate Events, #7)</td><td>Lemony Snicket, Brett Helquist</td></tr>",
                            "<tr><td>The Wide Window (A Series of Unfortunate Events, #3)</td><td>Lemony Snicket, Brett Helquist</td></tr>",
                            "<tr><td>Who Could That Be at This Hour? (All the Wrong Questions, #1)</td><td>Lemony Snicket, Seth</td></tr>",
                            "<tr><td>Not That Kind of Girl: A Young Woman Tells You What She&#39;s &quot;Learned&quot;</td><td>Lena Dunham, Joana Avillez</td></tr>",
                            "<tr><td>The Boy in the Suitcase (Nina Borg, #1)</td><td>Lene Kaaberbøl, Agnete Friis</td></tr>",
                            "<tr><td>The Death of Ivan Ilych</td><td>Leo Tolstoy, Aylmer Maude</td></tr>",
                            "<tr><td>War and Peace</td><td>Leo Tolstoy, Henry Gifford, Aylmer Maude, Louise Maude</td></tr>",
                            "<tr><td>The Kreutzer Sonata</td><td>Leo Tolstoy, Isai Kamen, Doris Lessing</td></tr>",
                            "<tr><td>Resurrection</td><td>Leo Tolstoy, Louise Maude, Aylmer Maude</td></tr>",
                            "<tr><td>Anna Karenina</td><td>Leo Tolstoy, Louise Maude, Leo Tolstoj, Aylmer Maude</td></tr>",
                            "<tr><td>Leonardo&#39;s Notebooks</td><td>Leonardo da Vinci, H. Anna Suh</td></tr>",
                            "<tr><td>Streams in the Desert</td><td>Lettie B. Cowman, James Reimann</td></tr>",
                            "<tr><td>Alice&#39;s Adventures in Wonderland &amp; Other Stories</td><td>Lewis Carroll, John Tenniel</td></tr>",
                            "<tr><td>Alice&#39;s Adventures in Wonderland</td><td>Lewis Carroll, John Tenniel</td></tr>",
                            "<tr><td>Alice&#39;s Adventures in Wonderland &amp; Through the Looking-Glass</td><td>Lewis Carroll, John Tenniel, Martin Gardner</td></tr>",
                            "<tr><td>Through the Looking-Glass, and What Alice Found There</td><td>Lewis Carroll, John Tenniel, Peter Glassman</td></tr>",
                            "<tr><td>Strange Angels (Strange Angels, #1)</td><td>Lili St. Crow, Lilith Saintcrow</td></tr>",
                            "<tr><td>Defiance (Strange Angels, #4)</td><td>Lili St. Crow, Lilith Saintcrow</td></tr>",
                            "<tr><td>Betrayals (Strange Angels, #2)</td><td>Lili St. Crow, Lilith Saintcrow</td></tr>",
                            "<tr><td>Jealousy (Strange Angels, #3)</td><td>Lili St. Crow, Lilith Saintcrow</td></tr>",
                            "<tr><td>The Little Old Lady Who Was Not Afraid of Anything</td><td>Linda Williams, Megan Lloyd</td></tr>",
                            "<tr><td>Hamilton: The Revolution</td><td>Lin-Manuel Miranda, Jeremy McCarter</td></tr>",
                            "<tr><td>Tempt Me at Twilight (The Hathaways, #3)</td><td>Lisa Kleypas, Rosalyn Landor</td></tr>",
                            "<tr><td>The Dark Forest (Remembrance of Earth’s Past, #2)</td><td>Liu Cixin, Joel Martinsen</td></tr>",
                            "<tr><td>The Three-Body Problem (Remembrance of Earth’s Past, #1)</td><td>Liu Cixin, Ken Liu</td></tr>",
                            "<tr><td>The Tail of Emily Windsnap (Emily Windsnap, #1)</td><td>Liz Kessler, Sarah Gibb</td></tr>",
                            "<tr><td>Cinderella</td><td>Loek Koopmans, Charles Perrault, Anthea Bell</td></tr>",
                            "<tr><td>Sideways Stories from Wayside School (Wayside School #1)</td><td>Louis Sachar, Adam McCauley</td></tr>",
                            "<tr><td>Wayside School Is Falling Down (Wayside School #2)</td><td>Louis Sachar, Joel Schick</td></tr>",
                            "<tr><td>Holes (Holes, #1)</td><td>Louis Sachar, Louis Sachar</td></tr>",
                            "<tr><td>Journey to the End of the Night</td><td>Louis-Ferdinand Céline, Ralph Manheim, William T. Vollmann</td></tr>",
                            "<tr><td>The Knockoff</td><td>Lucy Sykes, Jo Piazza</td></tr>",
                            "<tr><td>Philosophical Investigations</td><td>Ludwig Wittgenstein, G.E.M. Anscombe</td></tr>",
                            "<tr><td>The Bite Before Christmas (Argeneau, #15.5; Night Huntress, #6.5)</td><td>Lynsay Sands, Jeaniene Frost</td></tr>",
                            "<tr><td>M.C. Escher: The Graphic Work</td><td>M.C. Escher, Bruce Brooks Pfeiffer</td></tr>",
                            "<tr><td>Extra Yarn (E. B. White Read-Aloud Award. Picture Books)</td><td>Mac Barnett, Jon Klassen</td></tr>",
                            "<tr><td>I Am Malala: The Story of the Girl Who Stood Up for Education and Was Shot by the Taliban</td><td>Malala Yousafzai, Christina Lamb</td></tr>",
                            "<tr><td>The Autobiography of Malcolm X</td><td>Malcolm X, Alex Haley</td></tr>",
                            "<tr><td>Stolen Lives: Twenty Years in a Desert Jail</td><td>Malika Oufkir, Michèle Fitoussi</td></tr>",
                            "<tr><td>Sherlock Holmes and the Case of the Hound of the Baskervilles (Illustrated Classic Editions)</td><td>Malvina G. Vogel, Arthur Conan Doyle</td></tr>",
                            "<tr><td>Stephen King&#39;s N.</td><td>Marc Guggenheim, Alex Maleev, Stephen King</td></tr>",
                            "<tr><td>Swann&#39;s Way (In Search of Lost Time, #1)</td><td>Marcel Proust, Simon Vance, Lydia Davis</td></tr>",
                            "<tr><td>Essentials of Classic Italian Cooking</td><td>Marcella Hazan, Karin Kretschmann</td></tr>",
                            "<tr><td>Meditations</td><td>Marcus Aurelius, Martin Hammond, Diskin Clay</td></tr>",
                            "<tr><td>First, Break All the Rules: What the World&#39;s Greatest Managers Do Differently</td><td>Marcus Buckingham, Curt Coffman</td></tr>",
                            "<tr><td>Now, Discover Your Strengths</td><td>Marcus Buckingham, Donald O. Clifton</td></tr>",
                            "<tr><td>Lone Survivor: The Eyewitness Account of Operation Redwing and the Lost Heroes of SEAL Team 10</td><td>Marcus Luttrell, Patrick Robinson</td></tr>",
                            "<tr><td>The Rainbow Fish</td><td>Marcus Pfister, J. Alison James</td></tr>",
                            "<tr><td>Alias Grace</td><td>Margaret Atwood, Brigitte Walitzek</td></tr>",
                            "<tr><td>Dragons of Autumn Twilight  (Dragonlance: Chronicles, #1)</td><td>Margaret Weis, Tracy Hickman</td></tr>",
                            "<tr><td>Dragons of Spring Dawning (Dragonlance: Chronicles, #3)</td><td>Margaret Weis, Tracy Hickman</td></tr>",
                            "<tr><td>Time of the Twins (Dragonlance: Legends, #1)</td><td>Margaret Weis, Tracy Hickman</td></tr>",
                            "<tr><td>War of the Twins (Dragonlance: Legends, #2)</td><td>Margaret Weis, Tracy Hickman</td></tr>",
                            "<tr><td>Test of the Twins (Dragonlance: Legends, #3)</td><td>Margaret Weis, Tracy Hickman</td></tr>",
                            "<tr><td>Dragon Wing (The Death Gate Cycle, #1)</td><td>Margaret Weis, Tracy Hickman</td></tr>",
                            "<tr><td>Dragons of Winter Night (Dragonlance: Chronicles, #2)</td><td>Margaret Weis, Tracy Hickman</td></tr>",
                            "<tr><td>Elven Star (The Death Gate Cycle, #2)</td><td>Margaret Weis, Tracy Hickman</td></tr>",
                            "<tr><td>Dragons of Summer Flame (Dragonlance: The Second Generation, #2)</td><td>Margaret Weis, Tracy Hickman</td></tr>",
                            "<tr><td>The Hand of Chaos (The Death Gate Cycle, #5)</td><td>Margaret Weis, Tracy Hickman</td></tr>",
                            "<tr><td>Fire Sea (The Death Gate Cycle, #3)</td><td>Margaret Weis, Tracy Hickman</td></tr>",
                            "<tr><td>The Seventh Gate (The Death Gate Cycle, #7)</td><td>Margaret Weis, Tracy Hickman</td></tr>",
                            "<tr><td>Into the Labyrinth (The Death Gate Cycle, #6)</td><td>Margaret Weis, Tracy Hickman</td></tr>",
                            "<tr><td>Dragonlance Chronicles (Dragonlance #1-3)</td><td>Margaret Weis, Tracy Hickman</td></tr>",
                            "<tr><td>Serpent Mage (The Death Gate Cycle, #4)</td><td>Margaret Weis, Tracy Hickman</td></tr>",
                            "<tr><td>The Runaway Bunny</td><td>Margaret Wise Brown, Clement Hurd</td></tr>",
                            "<tr><td>Goodnight Moon</td><td>Margaret Wise Brown, Clement Hurd</td></tr>",
                            "<tr><td>The Velveteen Rabbit</td><td>Margery Williams Bianco, William   Nicholson</td></tr>",
                            "<tr><td>The Complete Adventures of Curious George</td><td>Margret Rey, H.A. Rey</td></tr>",
                            "<tr><td>Curious George Goes to the Hospital</td><td>Margret Rey, H.A. Rey</td></tr>",
                            "<tr><td>Curious George Visits the Library</td><td>Margret Rey, H.A. Rey, Martha Weston</td></tr>",
                            "<tr><td>The Lover</td><td>Marguerite Duras, Barbara Bray, Maxine Hong Kingston</td></tr>",
                            "<tr><td>Misty of Chincoteague (Misty, #1)</td><td>Marguerite Henry, Wesley Dennis</td></tr>",
                            "<tr><td>King of the Wind: The Story of the Godolphin Arabian</td><td>Marguerite Henry, Wesley Dennis</td></tr>",
                            "<tr><td>The Time in Between</td><td>María Dueñas, Daniel Hahn</td></tr>",
                            "<tr><td>The Life-Changing Magic of Tidying Up: The Japanese Art of Decluttering and Organizing</td><td>Marie Kondō, Cathy Hirano</td></tr>",
                            "<tr><td>This One Summer</td><td>Mariko Tamaki, Jillian Tamaki</td></tr>",
                            "<tr><td>The Long Hard Road Out of Hell</td><td>Marilyn Manson, Neil Strauss</td></tr>",
                            "<tr><td>The Godfather</td><td>Mario Puzo, Robert Thompson, Peter Bart</td></tr>",
                            "<tr><td>The Feast of the Goat</td><td>Mario Vargas Llosa, Edith Grossman</td></tr>",
                            "<tr><td>Aunt Julia and the Scriptwriter</td><td>Mario Vargas Llosa, Helen R. Lane</td></tr>",
                            "<tr><td>The Fannie Farmer Cookbook: Anniversary</td><td>Marion Cunningham, Fannie Merritt Farmer, Archibald Candy Corporation</td></tr>",
                            "<tr><td>Lady of Avalon (Avalon, #3)</td><td>Marion Zimmer Bradley, Diana L. Paxson</td></tr>",
                            "<tr><td>The Forest House (Avalon, #2)</td><td>Marion Zimmer Bradley, Diana L. Paxson</td></tr>",
                            "<tr><td>Priestess of Avalon (Avalon, #4)</td><td>Marion Zimmer Bradley, Diana L. Paxson</td></tr>",
                            "<tr><td>Embroideries</td><td>Marjane Satrapi, Anjali Singh</td></tr>",
                            "<tr><td>Persepolis 2: The Story of a Return (Persepolis, #2)</td><td>Marjane Satrapi, Anjali Singh</td></tr>",
                            "<tr><td>Persepolis: The Story of a Childhood (Persepolis, #1)</td><td>Marjane Satrapi, Mattias Ripa</td></tr>",
                            "<tr><td>The Complete Persepolis</td><td>Marjane Satrapi, Mattias Ripa, Blake Ferris, Anjali Singh</td></tr>",
                            "<tr><td>The Story About Ping</td><td>Marjorie Flack, Kurt Wiese</td></tr>",
                            "<tr><td>Wanted</td><td>Mark Millar, J.G. Jones, Brian K. Vaughan</td></tr>",
                            "<tr><td>Kick-Ass (Kick-Ass, #1)</td><td>Mark Millar, John Romita Jr., Rob Liefeld</td></tr>",
                            "<tr><td>Superman: Red Son</td><td>Mark Millar, Kilian Plunkett, Andrew Robinson, Walden Wong, Dave Johnson</td></tr>",
                            "<tr><td>Civil War: A Marvel Comics Event</td><td>Mark Millar, Steve McNiven, Dexter Vines, Morry Hollowell</td></tr>",
                            "<tr><td>No Easy Day: The Firsthand Account of the Mission That Killed Osama Bin Laden</td><td>Mark Owen, Kevin Maurer</td></tr>",
                            "<tr><td>The Prince and the Pauper</td><td>Mark Twain, Everett H. Emerson</td></tr>",
                            "<tr><td>The Adventures of Tom Sawyer</td><td>Mark Twain, Guy Cardwell, John Seelye</td></tr>",
                            "<tr><td>The Adventures of Huckleberry Finn</td><td>Mark Twain, John Seelye, Guy Cardwell</td></tr>",
                            "<tr><td>Kingdom Come</td><td>Mark Waid, Alex Ross, Elliot S. Maggin</td></tr>",
                            "<tr><td>Superman: Birthright</td><td>Mark Waid, Alfred Gough, Miles Millar, Dave McCaig, Gerry Alanguilan, Leinil Francis Yu</td></tr>",
                            "<tr><td>What Got You Here Won&#39;t Get You There: How Successful People Become Even More Successful</td><td>Marshall Goldsmith, Mark Reiter</td></tr>",
                            "<tr><td>The Medium is the Massage</td><td>Marshall McLuhan, Quentin Fiore, Jerome Agel</td></tr>",
                            "<tr><td>Martha Stewart&#39;s Cookies: The Very Best Treats to Bake and to Share</td><td>Martha Stewart, Victor Schrager</td></tr>",
                            "<tr><td>The Autobiography of Martin Luther King, Jr.</td><td>Martin Luther King Jr., Clayborne Carson</td></tr>",
                            "<tr><td>Ghost Boy</td><td>Martin Pistorius, Megan Lloyd Davies</td></tr>",
                            "<tr><td>Owl Babies</td><td>Martin Waddell, Patrick Benson</td></tr>",
                            "<tr><td>Crisis on Infinite Earths</td><td>Marv Wolfman, George Pérez</td></tr>",
                            "<tr><td>The Guernsey Literary and Potato Peel Pie Society</td><td>Mary Ann Shaffer, Annie Barrows</td></tr>",
                            "<tr><td>Choosing to SEE</td><td>Mary Beth Chapman, Steven Curtis Chapman</td></tr>",
                            "<tr><td>The Cinderella Murder (Under Suspicion, #2)</td><td>Mary Higgins Clark, Alafair Burke</td></tr>",
                            "<tr><td>I&#39;ve Got You Under My Skin (Under Suspicion, #1)</td><td>Mary Higgins Clark, Alafair Burke</td></tr>",
                            "<tr><td>Amazing Grace</td><td>Mary Hoffman, Caroline Binch</td></tr>",
                            "<tr><td>The Borrowers (The Borrowers, #1)</td><td>Mary Norton, Beth Krush, Joe Krush</td></tr>",
                            "<tr><td>My Friend Flicka (Flicka, #1)</td><td>Mary O&#39;Hara, Dave Blossom</td></tr>",
                            "<tr><td>Dinosaurs Before Dark (Magic Tree House, #1)</td><td>Mary Pope Osborne, Salvatore Murdocca</td></tr>",
                            "<tr><td>The Knight at Dawn (Magic Tree House, #2)</td><td>Mary Pope Osborne, Salvatore Murdocca</td></tr>",
                            "<tr><td>Mummies in the Morning (Magic Tree House, #3)</td><td>Mary Pope Osborne, Salvatore Murdocca</td></tr>",
                            "<tr><td>Absent In The Spring</td><td>Mary Westmacott, Agatha Christie</td></tr>",
                            "<tr><td>Frankenstein</td><td>Mary Wollstonecraft Shelley, Percy Bysshe Shelley, Maurice Hindle</td></tr>",
                            "<tr><td>Percy Jackson &amp; the Olympians:  The Ultimate Guide</td><td>Mary-Jane Knight, Rick Riordan</td></tr>",
                            "<tr><td>Kare Kano: His and Her Circumstances, Vol. 1</td><td>Masami Tsuda, Darcy Lockman, Jack Niida</td></tr>",
                            "<tr><td>The Hidden Messages in Water</td><td>Masaru Emoto, David A. Thayne</td></tr>",
                            "<tr><td>Naruto, Vol. 11: Impassioned Efforts (Naruto, #11)</td><td>Masashi Kishimoto, Frances Wall</td></tr>",
                            "<tr><td>Naruto, Vol. 01: The Tests of the Ninja (Naruto, #1)</td><td>Masashi Kishimoto, Katy Bridges</td></tr>",
                            "<tr><td>Three Little Kittens</td><td>Masha, Marie Simchow Stern</td></tr>",
                            "<tr><td>Vampire Knight, Vol. 9</td><td>Matsuri Hino, Tomo Kimura</td></tr>",
                            "<tr><td>Vampire Knight, Vol. 4 (Vampire Knight, #4)</td><td>Matsuri Hino, Tomo Kimura</td></tr>",
                            "<tr><td>Vampire Knight, Vol. 2 (Vampire Knight, #2)</td><td>Matsuri Hino, Tomo Kimura</td></tr>",
                            "<tr><td>Vampire Knight, Vol. 3 (Vampire Knight, #3)</td><td>Matsuri Hino, Tomo Kimura</td></tr>",
                            "<tr><td>Vampire Knight, Vol. 1 (Vampire Knight, #1)</td><td>Matsuri Hino, Tomo Kimura</td></tr>",
                            "<tr><td>Sex Criminals, Vol. 1: One Weird Trick</td><td>Matt Fraction, Chip Zdarsky</td></tr>",
                            "<tr><td>Hawkeye, Volume 2: Little Hits</td><td>Matt Fraction, David Aja, Francesco Francavilla, Steve Lieber, Jesse Hamm, Annie Wu, Matt Hollingsworth, Chris Eliopoulos</td></tr>",
                            "<tr><td>Hawkeye, Volume 1: My Life as a Weapon</td><td>Matt Fraction, David Aja, Javier Pulido, Matt Hollingsworth, Chris Eliopoulos, Alan Davis</td></tr>",
                            "<tr><td>How to Tell If Your Cat Is Plotting to Kill You</td><td>Matthew Inman, The Oatmeal</td></tr>",
                            "<tr><td>Betsy-Tacy (Betsy-Tacy, #1)</td><td>Maud Hart Lovelace, Lois Lenski</td></tr>",
                            "<tr><td>キスよりも早く1 [Kisu Yorimo Hayaku 1] (Faster than a Kiss #1)</td><td>Meca Tanaka, 田中メカ</td></tr>",
                            "<tr><td>Judy Moody (Judy Moody, # 1)</td><td>Megan McDonald, Peter H. Reynolds</td></tr>",
                            "<tr><td>How I Became a Pirate</td><td>Melinda Long, David Shannon</td></tr>",
                            "<tr><td>Harry, a History: The True Story of a Boy Wizard, His Fans, and Life Inside the Harry Potter Phenomenon</td><td>Melissa Anelli, J.K. Rowling</td></tr>",
                            "<tr><td>Anne Frank : The Biography</td><td>Melissa Müller, Rita Kimber, Robert Kimber</td></tr>",
                            "<tr><td>Time for Bed</td><td>Mem Fox, Jane Dyer</td></tr>",
                            "<tr><td>Tokyo Mew Mew, Vol. 1 (Tokyo Mew Mew, #1)</td><td>Mia Ikumi, Reiko Yoshida</td></tr>",
                            "<tr><td>Holy Blood, Holy Grail</td><td>Michael Baigent, Richard Leigh, Henry Lincoln</td></tr>",
                            "<tr><td>A Bear Called Paddington (Paddington, #1)</td><td>Michael Bond, Peggy Fortnum</td></tr>",
                            "<tr><td>The Fairy-Tale Detectives (The Sisters Grimm, #1)</td><td>Michael Buckley, Peter Ferguson</td></tr>",
                            "<tr><td>The Everafter War (The Sisters Grimm, #7)</td><td>Michael Buckley, Peter Ferguson</td></tr>",
                            "<tr><td>Magic and Other Misdemeanors (The Sisters Grimm, #5)</td><td>Michael Buckley, Peter Ferguson</td></tr>",
                            "<tr><td>Once Upon a Crime (The Sisters Grimm, #4)</td><td>Michael Buckley, Peter Ferguson</td></tr>",
                            "<tr><td>Tales From the Hood (The Sisters Grimm, #6)</td><td>Michael Buckley, Peter Ferguson</td></tr>",
                            "<tr><td>The Unusual Suspects (The Sisters Grimm, #2)</td><td>Michael Buckley, Peter Ferguson</td></tr>",
                            "<tr><td>The Problem Child (The Sisters Grimm, #3)</td><td>Michael Buckley, Peter Ferguson</td></tr>",
                            "<tr><td>Gentlemen of the Road</td><td>Michael Chabon, Gary Gianni</td></tr>",
                            "<tr><td>Wonder Boys</td><td>Michael Chabon, Hans Hermann</td></tr>",
                            "<tr><td>The Final Solution</td><td>Michael Chabon, Jay Ryan</td></tr>",
                            "<tr><td>Micro</td><td>Michael Crichton, Richard   Preston</td></tr>",
                            "<tr><td>Avatar Volume 1: The Last Airbender (Avatar #1)</td><td>Michael Dante DiMartino, Bryan Konietzko</td></tr>",
                            "<tr><td>The Neverending Story</td><td>Michael Ende, Ralph Manheim, Roswitha Quadflieg</td></tr>",
                            "<tr><td>We&#39;re Going on a Bear Hunt</td><td>Michael Rosen, Helen Oxenbury</td></tr>",
                            "<tr><td>Shakespeare&#39;s Romeo and Juliet</td><td>Michael Rosen, Jane Ray</td></tr>",
                            "<tr><td>The Little Mermaid</td><td>Michael Teitelbaum, Sue DiCicco</td></tr>",
                            "<tr><td>Sleeping Beauty: a Little Golden Book (Disney Princess)</td><td>Michael Teitelbaum, Walt Disney Company</td></tr>",
                            "<tr><td>Discipline and Punish: The Birth of the Prison</td><td>Michel Foucault, Alan Sheridan, Thomas Mathiesen, Walter Seitter, Drago Braco Rotar</td></tr>",
                            "<tr><td>The History of Sexuality, Volume 1: An Introduction</td><td>Michel Foucault, Robert Hurley</td></tr>",
                            "<tr><td>The Elementary Particles</td><td>Michel Houellebecq, Frank Wynne</td></tr>",
                            "<tr><td>Finding Me: A Decade of Darkness, a Life Reclaimed - A Memoir of the Cleveland Kidnappings</td><td>Michelle Knight, Michelle Burford</td></tr>",
                            "<tr><td>Wolf Brother (Chronicles of Ancient Darkness, #1)</td><td>Michelle Paver, Geoff Taylor</td></tr>",
                            "<tr><td>Vampire Academy: The Ultimate Guide (Vampire Academy)</td><td>Michelle Rowen, Richelle Mead</td></tr>",
                            "<tr><td>Anne Frank Remembered: The Story of the Woman Who Helped to Hide the Frank Family</td><td>Miep Gies, Alison Leslie Gold</td></tr>",
                            "<tr><td>Don Quixote</td><td>Miguel de Cervantes Saavedra, Roberto González Echevarría, John Rutherford</td></tr>",
                            "<tr><td>سینوهه</td><td>Mika Waltari, ذبیح‌الله منصوری</td></tr>",
                            "<tr><td>The Unwritten, Vol. 1: Tommy Taylor and the Bogus Identity</td><td>Mike Carey, Bill Willingham, Peter Gross</td></tr>",
                            "<tr><td>Neil Gaiman&#39;s Neverwhere</td><td>Mike Carey, Glenn Fabry, Neil Gaiman</td></tr>",
                            "<tr><td>Hellboy, Vol. 1: Seed of Destruction (Hellboy, #1)</td><td>Mike Mignola, John Byrne</td></tr>",
                            "<tr><td>The Master and Margarita</td><td>Mikhail Bulgakov, Katherine Tiernan O&#39;Connor, Diana Burgin, Ellendea Proffer</td></tr>",
                            "<tr><td>Heart of a Dog</td><td>Mikhail Bulgakov, Mirra Ginsburg, Mikhail Bulgakov</td></tr>",
                            "<tr><td>A Hero of Our Time</td><td>Mikhail Lermontov, Paul Foote</td></tr>",
                            "<tr><td>Auschwitz: A Doctor&#39;s Eyewitness Account</td><td>Miklós Nyiszli, Tibère Kremer, Bruno Bettelheim, Richard Seaver</td></tr>",
                            "<tr><td>Life is Elsewhere</td><td>Milan Kundera, Aaron Asher</td></tr>",
                            "<tr><td>The Book of Laughter and Forgetting</td><td>Milan Kundera, Aaron Asher</td></tr>",
                            "<tr><td>Slowness</td><td>Milan Kundera, Linda Asher</td></tr>",
                            "<tr><td>Ignorance</td><td>Milan Kundera, Linda Asher</td></tr>",
                            "<tr><td>Identity</td><td>Milan Kundera, Linda Asher</td></tr>",
                            "<tr><td>The Unbearable Lightness of Being</td><td>Milan Kundera, Michael Henry Heim</td></tr>",
                            "<tr><td>Laughable Loves</td><td>Milan Kundera, Suzanne Rappaport</td></tr>",
                            "<tr><td>Miles: The Autobiography</td><td>Miles Davis, Quincy Troupe</td></tr>",
                            "<tr><td>Geisha, a Life</td><td>Mineko Iwasaki, Rande Brown</td></tr>",
                            "<tr><td>It Chooses You</td><td>Miranda July, Brigitte Sire</td></tr>",
                            "<tr><td>Tuesdays with Morrie</td><td>Mitch Albom, Saulius Dagys</td></tr>",
                            "<tr><td>A Book of Five Rings: The Classic Guide to Strategy</td><td>Miyamoto Musashi, Victor Harris</td></tr>",
                            "<tr><td>Tartuffe</td><td>Molière, Martin Sorrell</td></tr>",
                            "<tr><td>The Man Who Listens to Horses</td><td>Monty Roberts, Lucy Grealy, Lawrence Scanlan</td></tr>",
                            "<tr><td>Gathering Darkness (Falling Kingdoms, #3)</td><td>Morgan Rhodes, Michelle Rowen</td></tr>",
                            "<tr><td>Rebel Spring (Falling Kingdoms, #2)</td><td>Morgan Rhodes, Michelle Rowen</td></tr>",
                            "<tr><td>Falling Kingdoms (Falling Kingdoms, #1)</td><td>Morgan Rhodes, Michelle Rowen</td></tr>",
                            "<tr><td>The Wave</td><td>Morton Rhue, Todd Strasser</td></tr>",
                            "<tr><td>رأيت رام الله</td><td>Mourid Barghouti, مريد البرغوثي</td></tr>",
                            "<tr><td>The Story of Ferdinand</td><td>Munro Leaf, Robert Lawson</td></tr>",
                            "<tr><td>The Elegance of the Hedgehog</td><td>Muriel Barbery, Alison Anderson</td></tr>",
                            "<tr><td>Palace Walk (The Cairo Trilogy #1)</td><td>Naguib Mahfouz, William M. Hutchins, Olive E. Kenny</td></tr>",
                            "<tr><td>الحرافيش</td><td>Naguib Mahfouz, نجيب محفوظ</td></tr>",
                            "<tr><td>أولاد حارتنا</td><td>Naguib Mahfouz, نجيب محفوظ</td></tr>",
                            "<tr><td>Sheep in a Jeep</td><td>Nancy E. Shaw, Margot Apple</td></tr>",
                            "<tr><td>Lies Women Believe: And the Truth that Sets Them Free</td><td>Nancy Leigh DeMoss, Elisabeth Elliot</td></tr>",
                            "<tr><td>Miracle in the Andes</td><td>Nando Parrado, Vince Rause</td></tr>",
                            "<tr><td>The Reason I Jump: The Inner Voice of a Thirteen-Year-Old Boy with Autism</td><td>Naoki Higashida, K.A. Yoshida, David Mitchell</td></tr>",
                            "<tr><td>美少女戦士セーラームーン新装版 1 [Bishōjo Senshi Sailor Moon Shinsōban 1]</td><td>Naoko Takeuchi, 武内 直子</td></tr>",
                            "<tr><td>The Day of the Locust</td><td>Nathanael West, Alfred Kazin</td></tr>",
                            "<tr><td>The House of the Seven Gables</td><td>Nathaniel Hawthorne, Robert S. Levine</td></tr>",
                            "<tr><td>The Scarlet Letter</td><td>Nathaniel Hawthorne, Thomas E. Connolly, Nina Baym</td></tr>",
                            "<tr><td>Fruits Basket, Vol. 1</td><td>Natsuki Takaya, Alethea Nibley, Athena Nibley</td></tr>",
                            "<tr><td>Fruits Basket, Vol. 7</td><td>Natsuki Takaya, Alethea Nibley, Athena Nibley</td></tr>",
                            "<tr><td>Fruits Basket, Vol. 4</td><td>Natsuki Takaya, Alethea Nibley, Athena Nibley</td></tr>",
                            "<tr><td>Fruits Basket, Vol. 14</td><td>Natsuki Takaya, Alethea Nibley, Athena Nibley</td></tr>",
                            "<tr><td>Fruits Basket, Vol. 15</td><td>Natsuki Takaya, Alethea Nibley, Athena Nibley</td></tr>",
                            "<tr><td>Fruits Basket, Vol. 2</td><td>Natsuki Takaya, Alethea Nibley, Athena Nibley</td></tr>",
                            "<tr><td>Fruits Basket, Vol. 3</td><td>Natsuki Takaya, Alethea Nibley, Athena Nibley</td></tr>",
                            "<tr><td>Kitchen Princess, Vol. 01 (Kitchen Princess, #1)</td><td>Natsumi Ando, Miyuki Kobayashi</td></tr>",
                            "<tr><td>Out</td><td>Natsuo Kirino, Stephen Snyder</td></tr>",
                            "<tr><td>Batman: Whatever Happened to the Caped Crusader?</td><td>Neil Gaiman, Andy Kubert, Matt Wagner, Simon Bisley, Bernie Mireault, Mark Buckingham</td></tr>",
                            "<tr><td>Marvel 1602</td><td>Neil Gaiman, Andy Kubert, Richard Isanove, Peter Sanderson</td></tr>",
                            "<tr><td>The Sandman: Endless Nights</td><td>Neil Gaiman, Barron Storey, Bill Sienkiewicz, Glenn Fabry, Dave McKean, P. Craig Russell, Milo Manara, Miguelanxo Prado, Frank Quitely, Todd Klein</td></tr>",
                            "<tr><td>Fables and Reflections (The Sandman #6)</td><td>Neil Gaiman, Bryan Talbot, Stan Woch, P. Craig Russell, Shawn McManus, John Watkiss, Jill Thompson, Duncan Eagleson, Kent Williams, Todd Klein</td></tr>",
                            "<tr><td>Death: The High Cost of Living Collected</td><td>Neil Gaiman, Chris Bachalo, Mark Buckingham, Tori Amos</td></tr>",
                            "<tr><td>The Sleeper and the Spindle</td><td>Neil Gaiman, Chris Riddell</td></tr>",
                            "<tr><td>The Graveyard Book</td><td>Neil Gaiman, Dave McKean</td></tr>",
                            "<tr><td>The Sandman: Overture</td><td>Neil Gaiman, J.H. Williams III, Dave Stewart, Todd Klein</td></tr>",
                            "<tr><td>Brief Lives (The Sandman #7)</td><td>Neil Gaiman, Jill Thompson, Vince Locke, Peter Straub</td></tr>",
                            "<tr><td>Dream Country (The Sandman #3)</td><td>Neil Gaiman, Kelley Jones, Charles Vess, Colleen Doran, Malcolm Jones III, Steve Erickson</td></tr>",
                            "<tr><td>The Kindly Ones (The Sandman #9)</td><td>Neil Gaiman, Marc Hempel, Richard Case, D&#39;Israeli, Teddy Kristiansen, Glyn Dillon, Charles Vess, Dean Ormston, Kevin Nowlan, Todd Klein, Frank McConnell</td></tr>",
                            "<tr><td>Odd and the Frost Giants</td><td>Neil Gaiman, Mark Buckingham</td></tr>",
                            "<tr><td>Season of Mists (The Sandman #4)</td><td>Neil Gaiman, Matt Wagner, George Pratt, Dick Giordano, Kelley Jones, P. Craig Russell, Mike Dringenberg, Malcolm Jones III, Todd Klein, Harlan Ellison</td></tr>",
                            "<tr><td>InterWorld (InterWorld, #1)</td><td>Neil Gaiman, Michael Reaves</td></tr>",
                            "<tr><td>The Wake (The Sandman #10)</td><td>Neil Gaiman, Michael Zulli, Jon J. Muth, Charles Vess, Mikal Gilmore</td></tr>",
                            "<tr><td>Worlds&#39; End (The Sandman #8)</td><td>Neil Gaiman, Mike Allred, Gary Amaro, Mark Buckingham, David Giordano, Tony Harris, Steve Leialoha, Vince Locke, Shea Anton Pensa, Alec Stevens, Bryan Talbot, John Watkiss, Todd Klein, Michael Zulli, Stephen King</td></tr>",
                            "<tr><td>The Absolute Sandman, Volume One</td><td>Neil Gaiman, Mike Dringenberg, Chris Bachalo, Michael Zulli, Kelly Jones, Charles Vess, Colleen Doran, Malcolm Jones III, Steve Parkhouse, Daniel Vozzo, Lee Loughridge, Steve Oliff, Todd Klein, Dave McKean, Sam Kieth</td></tr>",
                            "<tr><td>Coraline (Illustrated/Graphic Novel Edition)</td><td>Neil Gaiman, P. Craig Russell</td></tr>",
                            "<tr><td>Preludes &amp; Nocturnes (The Sandman #1)</td><td>Neil Gaiman, Sam Kieth, Mike Dringenberg, Malcolm Jones III, Todd Klein, Karen  Berger</td></tr>",
                            "<tr><td>A Game of You (The Sandman #5)</td><td>Neil Gaiman, Shawn McManus, Colleen Doran, Bryan Talbot, George Pratt, Stan Woch, Dick Giordano, Todd Klein</td></tr>",
                            "<tr><td>Fortunately, the Milk</td><td>Neil Gaiman, Skottie Young</td></tr>",
                            "<tr><td>The Doll&#39;s House (The Sandman #2)</td><td>Neil Gaiman, Steve Parkhouse, Chris Bachalo, Michael Zulli, Mike Dringenberg, Malcolm Jones III, Todd Klein, Clive Barker</td></tr>",
                            "<tr><td>The Sandman: The Dream Hunters</td><td>Neil Gaiman, Yoshitaka Amano</td></tr>",
                            "<tr><td>Neil Patrick Harris: Choose Your Own Autobiography</td><td>Neil Patrick Harris, David Javerbaum, Antony Hare</td></tr>",
                            "<tr><td>Amusing Ourselves to Death: Public Discourse in the Age of Show Business</td><td>Neil Postman, Andrew Postman</td></tr>",
                            "<tr><td>Passing</td><td>Nella Larsen, Ntozake Shange, Thadious M. Davis</td></tr>",
                            "<tr><td>Fantastic Beasts and Where to Find Them</td><td>Newt Scamander, J.K. Rowling, Albus Dumbledore</td></tr>",
                            "<tr><td>The Prince</td><td>Niccolò Machiavelli, Adolph Caso, Rufus Goodwin, Benjamin Martinez</td></tr>",
                            "<tr><td>Half the Sky: Turning Oppression into Opportunity for Women Worldwide</td><td>Nicholas D. Kristof, Sheryl WuDunn</td></tr>",
                            "<tr><td>Graffiti World: Street Art from Five Continents</td><td>Nicholas Ganz, Tristan Manco</td></tr>",
                            "<tr><td>Three Weeks With My Brother</td><td>Nicholas Sparks, Micah Sparks</td></tr>",
                            "<tr><td>Run Baby Run</td><td>Nicky Cruz, Jamie Buckingham</td></tr>",
                            "<tr><td>Everything, Everything</td><td>Nicola Yoon, David Yoon</td></tr>",
                            "<tr><td>The Nose</td><td>Nikolai Gogol, Kevin Hawkes</td></tr>",
                            "<tr><td>Dead Souls</td><td>Nikolai Gogol, Robert A. Maguire</td></tr>",
                            "<tr><td>Zorba the Greek</td><td>Nikos Kazantzakis, Νίκος Καζαντζάκης</td></tr>",
                            "<tr><td>The Little Paris Bookshop</td><td>Nina George, Simon Pare</td></tr>",
                            "<tr><td>Manufacturing Consent: The Political Economy of the Mass Media</td><td>Noam Chomsky, Edward S. Herman</td></tr>",
                            "<tr><td>Rurouni Kenshin, Vol. 1: Meiji Swordsman Romantic Story (Rurouni Kenshin, #1)</td><td>Nobuhiro Watsuki, Kenichiro Yagi</td></tr>",
                            "<tr><td>Ballet Shoes (Shoes, #1)</td><td>Noel Streatfeild, Diane Goode</td></tr>",
                            "<tr><td>Lumberjanes, Vol. 1: Beware the Kitten Holy</td><td>Noelle Stevenson, Grace Ellis, Shannon Waters, Shannon Watters, Brooke A. Allen, Faith Hicks, Kat Leyh, Brooke Allen, Carolyn Nowak, Various, Carey Pietsch</td></tr>",
                            "<tr><td>Savor the Moment (Bride Quartet, #3)</td><td>Nora Roberts, Angela Dawe</td></tr>",
                            "<tr><td>The Last Boyfriend (Inn BoonsBoro, #2)</td><td>Nora Roberts, MacLeod Andrews</td></tr>",
                            "<tr><td>The Next Always (Inn BoonsBoro, #1)</td><td>Nora Roberts, MacLeod Andrews</td></tr>",
                            "<tr><td>The Phantom Tollbooth</td><td>Norton Juster, Jules Feiffer</td></tr>",
                            "<tr><td>I Am Nujood, Age 10 and Divorced</td><td>Nujood Ali, Delphine Minoui, Linda Coverdale</td></tr>",
                            "<tr><td>The Gift of the Magi</td><td>O. Henry, Lisbeth Zwerger</td></tr>",
                            "<tr><td>Selected Stories</td><td>O. Henry, Victoria Blake</td></tr>",
                            "<tr><td>The Dark Monk (The Hangman&#39;s Daughter, #2)</td><td>Oliver Pötzsch, Lee Chadeayne</td></tr>",
                            "<tr><td>The Beggar King (The Hangman&#39;s Daughter, #3)</td><td>Oliver Pötzsch, Lee Chadeayne</td></tr>",
                            "<tr><td>The Hangman&#39;s Daughter (The Hangman&#39;s Daughter, #1)</td><td>Oliver Pötzsch, Lee Chadeayne</td></tr>",
                            "<tr><td>رباعيات خيام</td><td>Omar Khayyám, محمدعلی فروغی, قاسم غنی</td></tr>",
                            "<tr><td>My Name is Red</td><td>Orhan Pamuk, Erdağ M. Göknar</td></tr>",
                            "<tr><td>Snow</td><td>Orhan Pamuk, Maureen Freely</td></tr>",
                            "<tr><td>The Museum of Innocence</td><td>Orhan Pamuk, Maureen Freely</td></tr>",
                            "<tr><td>Sway: The Irresistible Pull of Irrational Behavior</td><td>Ori Brafman, Rom Brafman</td></tr>",
                            "<tr><td>Earth Unaware (The First Formic War, #1)</td><td>Orson Scott Card, Aaron Johnston</td></tr>",
                            "<tr><td>The Abyss</td><td>Orson Scott Card, James Cameron</td></tr>",
                            "<tr><td>The Canterville Ghost</td><td>Oscar Wilde, Inga Moore</td></tr>",
                            "<tr><td>The Picture of Dorian Gray</td><td>Oscar Wilde, Jeffrey Eugenides</td></tr>",
                            "<tr><td>Complete Works of Oscar Wilde</td><td>Oscar Wilde, Merlin Holland</td></tr>",
                            "<tr><td>The Importance of Being Earnest and Other Plays</td><td>Oscar Wilde, Richard Allen Cave</td></tr>",
                            "<tr><td>Metamorphoses</td><td>Ovid, David Raeburn, Denis Feeney</td></tr>",
                            "<tr><td>The Funhouse</td><td>Owen  West, Dean Koontz</td></tr>",
                            "<tr><td>The Mask</td><td>Owen  West, Dean Koontz</td></tr>",
                            "<tr><td>I Am Ozzy</td><td>Ozzy Osbourne, Chris Ayres</td></tr>",
                            "<tr><td>Marked / Betrayed / Chosen / Untamed / Hunted (House of Night #1-5)</td><td>P.C. Cast, Kristin Cast</td></tr>",
                            "<tr><td>Hidden (House of Night, #10)</td><td>P.C. Cast, Kristin Cast</td></tr>",
                            "<tr><td>Marked / Betrayed / Chosen / Untamed (House of Night, #1-4)</td><td>P.C. Cast, Kristin Cast</td></tr>",
                            "<tr><td>Destined (House of Night, #9)</td><td>P.C. Cast, Kristin Cast</td></tr>",
                            "<tr><td>Marked (House of Night, #1)</td><td>P.C. Cast, Kristin Cast</td></tr>",
                            "<tr><td>Untamed (House of Night, #4)</td><td>P.C. Cast, Kristin Cast</td></tr>",
                            "<tr><td>Betrayed (House of Night, #2)</td><td>P.C. Cast, Kristin Cast</td></tr>",
                            "<tr><td>Hunted (House of Night, #5)</td><td>P.C. Cast, Kristin Cast</td></tr>",
                            "<tr><td>Chosen (House of Night, #3)</td><td>P.C. Cast, Kristin Cast</td></tr>",
                            "<tr><td>Burned (House of Night, #7)</td><td>P.C. Cast, Kristin Cast</td></tr>",
                            "<tr><td>Tempted (House of Night, #6)</td><td>P.C. Cast, Kristin Cast</td></tr>",
                            "<tr><td>Awakened (House of Night, #8)</td><td>P.C. Cast, Kristin Cast</td></tr>",
                            "<tr><td>Dragon&#39;s Oath (House of Night Novellas, #1)</td><td>P.C. Cast, Kristin Cast</td></tr>",
                            "<tr><td>Revealed (House of Night, #11)</td><td>P.C. Cast, Kristin Cast</td></tr>",
                            "<tr><td>Lenobia&#39;s Vow (House of Night Novellas, #2)</td><td>P.C. Cast, Kristin Cast</td></tr>",
                            "<tr><td>Redeemed (House of Night, #12)</td><td>P.C. Cast, Kristin Cast</td></tr>",
                            "<tr><td>Mary Poppins (Mary Poppins, #1)</td><td>P.L. Travers, Mary Shepard</td></tr>",
                            "<tr><td>The Poetry of Pablo Neruda</td><td>Pablo Neruda, Ilan Stavans</td></tr>",
                            "<tr><td>100 Love Sonnets</td><td>Pablo Neruda, Stephen Tapscott</td></tr>",
                            "<tr><td>Twenty Love Poems and a Song of Despair</td><td>Pablo Neruda, W.S. Merwin, Cristina García</td></tr>",
                            "<tr><td>I&#39;m with the Band: Confessions of a Groupie</td><td>Pamela Des Barres, Dave Navarro</td></tr>",
                            "<tr><td>Bringing Up Bébé: One American Mother Discovers the Wisdom of French Parenting</td><td>Pamela Druckerman, Abby Craden</td></tr>",
                            "<tr><td>The Solitude of Prime Numbers</td><td>Paolo Giordano, Shaun Whiteside</td></tr>",
                            "<tr><td>Night Train to Lisbon</td><td>Pascal Mercier, Barbara Harshav</td></tr>",
                            "<tr><td>On the Prowl (Alpha &amp; Omega, #0.5)</td><td>Patricia Briggs, Eileen Wilks, Karen Chance, Sunny</td></tr>",
                            "<tr><td>Searching for Dragons (Enchanted Forest Chronicles, #2)</td><td>Patricia C. Wrede, Peter de Sève</td></tr>",
                            "<tr><td>Calling on Dragons (Enchanted Forest Chronicles, #3)</td><td>Patricia C. Wrede, Peter de Sève</td></tr>",
                            "<tr><td>Talking to Dragons (Enchanted Forest Chronicles, #4)</td><td>Patricia C. Wrede, Peter de Sève</td></tr>",
                            "<tr><td>Dealing with Dragons (Enchanted Forest Chronicles, #1)</td><td>Patricia C. Wrede, Peter de Sève</td></tr>",
                            "<tr><td>The Country Mouse and the City Mouse; The Fox and the Crow; The Dog and His Bone</td><td>Patricia M. Scarry, Richard Scarry</td></tr>",
                            "<tr><td>The Sisters Brothers</td><td>Patrick deWitt, Marcelo Barbão</td></tr>",
                            "<tr><td>A Monster Calls</td><td>Patrick Ness, Jim Kay, Siobhan Dowd</td></tr>",
                            "<tr><td>The Slow Regard of Silent Things (The Kingkiller Chronicle #2.5)</td><td>Patrick Rothfuss, Nate  Taylor</td></tr>",
                            "<tr><td>Perfume: The Story of a Murderer</td><td>Patrick Süskind, John E. Woods</td></tr>",
                            "<tr><td>Wonderful Tonight</td><td>Pattie Boyd, Penny Junor</td></tr>",
                            "<tr><td>Stand Tall, Molly Lou Melon</td><td>Patty Lovell, David Catrow</td></tr>",
                            "<tr><td>The New York Trilogy</td><td>Paul Auster, Art Spiegelman</td></tr>",
                            "<tr><td>The Three Billy Goats Gruff</td><td>Paul Galdone, Peter Christen Asbjørnsen</td></tr>",
                            "<tr><td>The Heavenly Man: The Remarkable True Story of Chinese Christian Brother Yun</td><td>Paul Hattaway, Brother Yun</td></tr>",
                            "<tr><td>Wolverine: Origin</td><td>Paul Jenkins, Andy Kubert, Richard Isanove, Joe Quesada, Bill Jemas</td></tr>",
                            "<tr><td>When Breath Becomes Air</td><td>Paul Kalanithi, Abraham Verghese</td></tr>",
                            "<tr><td>The Light of the Fireflies</td><td>Paul Pen, Simon Bruni</td></tr>",
                            "<tr><td>The Lady &amp; Sons Savannah Country Cookbook</td><td>Paula H. Deen, John Berendt</td></tr>",
                            "<tr><td>Story of O (Story of O #1)</td><td>Pauline Réage, Sabine d&#39;Estree</td></tr>",
                            "<tr><td>By the River Piedra I Sat Down and Wept</td><td>Paulo Coelho, Alan R. Clarke</td></tr>",
                            "<tr><td>The Alchemist</td><td>Paulo Coelho, Alan R. Clarke</td></tr>",
                            "<tr><td>The Pilgrimage</td><td>Paulo Coelho, Alan R. Clarke</td></tr>",
                            "<tr><td>The Valkyries</td><td>Paulo Coelho, Alan R. Clarke</td></tr>",
                            "<tr><td>The Devil and Miss Prym (On the Seventh Day, #3)</td><td>Paulo Coelho, Amanda Hopkinson, Nick Caistor</td></tr>",
                            "<tr><td>The Zahir</td><td>Paulo Coelho, Margaret Jull Costa</td></tr>",
                            "<tr><td>Veronika Decides to Die</td><td>Paulo Coelho, Margaret Jull Costa</td></tr>",
                            "<tr><td>Eleven Minutes</td><td>Paulo Coelho, Margaret Jull Costa</td></tr>",
                            "<tr><td>Manuscript Found in Accra</td><td>Paulo Coelho, Margaret Jull Costa</td></tr>",
                            "<tr><td>Brida</td><td>Paulo Coelho, Montserrat Mira</td></tr>",
                            "<tr><td>Pedagogy of the Oppressed</td><td>Paulo Freire, Myra Bergman Ramos, Donaldo Macedo, Richard Shaull</td></tr>",
                            "<tr><td>Amelia Bedelia and the Surprise Shower</td><td>Peggy Parish, Barbara Siebel Thomas</td></tr>",
                            "<tr><td>Amelia Bedelia  (Amelia Bedelia #1)</td><td>Peggy Parish, Fritz Siebel</td></tr>",
                            "<tr><td>Come Back, Amelia Bedelia</td><td>Peggy Parish, Wallace Tripp</td></tr>",
                            "<tr><td>Rival (Fall Away, #2)</td><td>Penelope Douglas, Abby Craden, Nelson Hobbs</td></tr>",
                            "<tr><td>Corrupt (Devil&#39;s Night, #1)</td><td>Penelope Douglas, Jeremy York, Tatiana Sokolov</td></tr>",
                            "<tr><td>Until You (Fall Away, #1.5)</td><td>Penelope Douglas, Nelson Hobbs</td></tr>",
                            "<tr><td>Cocky Bastard</td><td>Penelope Ward, Vi Keeland</td></tr>",
                            "<tr><td>Out Stealing Horses</td><td>Per Petterson, Anne Born</td></tr>",
                            "<tr><td>The Chronicles of Narnia - The Lion, the Witch, and the Wardrobe Official Illustrated Movie Companion</td><td>Perry Moore, Andrew Adamson, C.S. Lewis</td></tr>",
                            "<tr><td>The Dark Tower: The Gunslinger Born</td><td>Peter David, Robin Furth, Jae Lee, Richard Isanove, Stephen King</td></tr>",
                            "<tr><td>Smilla&#39;s Sense of Snow</td><td>Peter Høeg, Tiina Nunnally</td></tr>",
                            "<tr><td>One Up On Wall Street: How To Use What You Already Know To Make Money In The Market</td><td>Peter Lynch, John Rothchild</td></tr>",
                            "<tr><td>Zero to One: Notes on Startups, or How to Build the Future</td><td>Peter Thiel, Blake  Masters</td></tr>",
                            "<tr><td>The Glassblower</td><td>Petra Durst-Benning, Samuel Willcocks</td></tr>",
                            "<tr><td>Happy, Happy, Happy</td><td>Phil Robertson, Mark Schlabach</td></tr>",
                            "<tr><td>A Sick Day for Amos McGee</td><td>Philip C. Stead, Erin E. Stead</td></tr>",
                            "<tr><td>Ubik</td><td>Philip K. Dick, David Alabort, Manuel Espín</td></tr>",
                            "<tr><td>Do Androids Dream of Electric Sheep?</td><td>Philip K. Dick, Roger Zelazny</td></tr>",
                            "<tr><td>Fairy Tales from the Brothers Grimm: A New English Version</td><td>Philip Pullman, Jacob Grimm, Wilhelm Grimm</td></tr>",
                            "<tr><td>Lyra&#39;s Oxford (His Dark Materials, #3.5)</td><td>Philip Pullman, John Lawrence</td></tr>",
                            "<tr><td>Portnoy&#39;s Complaint</td><td>Philip Roth, Luca Marinelli</td></tr>",
                            "<tr><td>The Kingmaker&#39;s Daughter (The Plantagenet and Tudor Novels, #4)</td><td>Philippa Gregory, Mirjana Valent</td></tr>",
                            "<tr><td>Tom&#39;s Midnight Garden</td><td>Philippa Pearce, Susan Einzig</td></tr>",
                            "<tr><td>Planet of the Apes</td><td>Pierre Boulle, Xan Fielding</td></tr>",
                            "<tr><td>Les Liaisons dangereuses</td><td>Pierre-Ambroise Choderlos de Laclos, Douglas Parmée</td></tr>",
                            "<tr><td>The Symposium</td><td>Plato, Christopher Gill</td></tr>",
                            "<tr><td>The Republic</td><td>Plato, Desmond Lee</td></tr>",
                            "<tr><td>The Trial and Death of Socrates</td><td>Plato, G.M.A. Grube, John M. Cooper</td></tr>",
                            "<tr><td>Five Dialogues: Euthyphro, Apology, Crito, Meno, Phaedo</td><td>Plato, G.M.A. Grube, John M. Cooper</td></tr>",
                            "<tr><td>Apology</td><td>Plato, James J. Helm</td></tr>",
                            "<tr><td>I Wrote This For You</td><td>pleasefindthis, Iain S. Thomas, Jon Ellis</td></tr>",
                            "<tr><td>NurtureShock: New Thinking About Children</td><td>Po Bronson, Ashley Merryman</td></tr>",
                            "<tr><td>Survival in Auschwitz</td><td>Primo Levi, Stuart J. Woolf, Philip Roth</td></tr>",
                            "<tr><td>The Name of This Book Is Secret (Secret, #1)</td><td>Pseudonymous Bosch, Gilbert Ford</td></tr>",
                            "<tr><td>This Book Is Not Good for You (Secret, #3)</td><td>Pseudonymous Bosch, Gilbert Ford</td></tr>",
                            "<tr><td>If You&#39;re Reading This, It&#39;s Too Late (Secret, #2)</td><td>Pseudonymous Bosch, Gilbert Ford</td></tr>",
                            "<tr><td>Alice in the Country of Hearts, Vol. 01 (Alice in the Country of Hearts, #1)</td><td>QuinRose, Soumei Hoshino</td></tr>",
                            "<tr><td>Lorna Doone</td><td>R.D. Blackmore, Michelle Allen</td></tr>",
                            "<tr><td>Malgudi Days</td><td>R.K. Narayan, Jhumpa Lahiri</td></tr>",
                            "<tr><td>Kiss of Death (The Morganville Vampires, #8)</td><td>Rachel Caine, Cynthia Holloway</td></tr>",
                            "<tr><td>Silent Spring</td><td>Rachel Carson, Linda Lear, Edward O. Wilson</td></tr>",
                            "<tr><td>Dash &amp; Lily&#39;s Book of Dares (Dash &amp; Lily, #1)</td><td>Rachel Cohn, David Levithan</td></tr>",
                            "<tr><td>Nick &amp; Norah&#39;s Infinite Playlist</td><td>Rachel Cohn, David Levithan</td></tr>",
                            "<tr><td>ثلاثية غرناطة</td><td>Radwa Ashour, رضوى عاشور</td></tr>",
                            "<tr><td>الطنطورية</td><td>Radwa Ashour, رضوى عاشور</td></tr>",
                            "<tr><td>Drama</td><td>Raina Telgemeier, Gurihiru</td></tr>",
                            "<tr><td>Letters to a Young Poet</td><td>Rainer Maria Rilke, Reginald Snell, Franz Xaver Kappus</td></tr>",
                            "<tr><td>The Selected Poetry of Rainer Maria Rilke</td><td>Rainer Maria Rilke, Stephen Mitchell, Robert Hass</td></tr>",
                            "<tr><td>Vincent Van Gogh: The Complete Paintings</td><td>Rainer Metzger, Ingo F. Walther</td></tr>",
                            "<tr><td>Essays and Poems</td><td>Ralph Waldo Emerson, Peter Norberg</td></tr>",
                            "<tr><td>Be Here Now</td><td>Ram Dass, Richard Alpert</td></tr>",
                            "<tr><td>Courageous</td><td>Randy Alcorn, Alex Kendrick, Stephen Kendrick</td></tr>",
                            "<tr><td>The Last Lecture</td><td>Randy Pausch, Jeffrey Zaslow</td></tr>",
                            "<tr><td>And the Band Played On: Politics, People, and the AIDS Epidemic</td><td>Randy Shilts, William Greider</td></tr>",
                            "<tr><td>Servant of the Empire (The Empire Trilogy, #2)</td><td>Raymond E. Feist, Janny Wurts</td></tr>",
                            "<tr><td>Mistress of the Empire (The Empire Trilogy, #3)</td><td>Raymond E. Feist, Janny Wurts</td></tr>",
                            "<tr><td>Daughter of the Empire (The Empire Trilogy, #1)</td><td>Raymond E. Feist, Janny Wurts</td></tr>",
                            "<tr><td>Magician: Apprentice  (Raymond E. Feist&#39;s Magician: Apprentice #1)</td><td>Raymond E. Feist, Michael Avon Oeming, Bryan J.L. Glass, Ryan Stegman</td></tr>",
                            "<tr><td>Twilight and Philosophy: Vampires, Vegetarians, and the Pursuit of Immortality</td><td>Rebecca Housel, J. Jeremy Wisnewski, William Irwin</td></tr>",
                            "<tr><td>Twelve Angry Men</td><td>Reginald Rose, David Mamet</td></tr>",
                            "<tr><td>Meditations on First Philosophy</td><td>René Descartes, Donald A. Cress</td></tr>",
                            "<tr><td>Discourse on Method</td><td>René Descartes, Donald A. Cress</td></tr>",
                            "<tr><td>Discourse on Method and Meditations on First Philosophy</td><td>René Descartes, Donald A. Cress</td></tr>",
                            "<tr><td>Asterix the Gaul (Asterix, #1)</td><td>René Goscinny, Albert Uderzo, Anthea Bell, Derek Hockridge</td></tr>",
                            "<tr><td>Le Petit Nicolas (Le petit Nicolas, #1)</td><td>René Goscinny, Jean-Jacques Sempé</td></tr>",
                            "<tr><td>Mr. Popper&#39;s Penguins</td><td>Richard Atwater, Florence Atwater, Robert Lawson</td></tr>",
                            "<tr><td>Jonathan Livingston Seagull</td><td>Richard Bach, Russell Munson</td></tr>",
                            "<tr><td>Thinner</td><td>Richard Bachman, Stephen King</td></tr>",
                            "<tr><td>The Regulators</td><td>Richard Bachman, Stephen King</td></tr>",
                            "<tr><td>The Bachman Books</td><td>Richard Bachman, Stephen King</td></tr>",
                            "<tr><td>The Running Man</td><td>Richard Bachman, Stephen King</td></tr>",
                            "<tr><td>The Long Walk</td><td>Richard Bachman, Stephen King</td></tr>",
                            "<tr><td>Rage</td><td>Richard Bachman, Stephen King</td></tr>",
                            "<tr><td>Blaze</td><td>Richard Bachman, Stephen King</td></tr>",
                            "<tr><td>Roadwork</td><td>Richard Bachman, Stephen King</td></tr>",
                            "<tr><td>The Magic of Reality: How We Know What&#39;s Really True</td><td>Richard Dawkins, Dave McKean</td></tr>",
                            "<tr><td>Nudge: Improving Decisions About Health, Wealth, and Happiness</td><td>Richard H. Thaler, Cass R. Sunstein</td></tr>",
                            "<tr><td>The Further Adventures of Sherlock Holmes: After Sir Arthur Conan Doyle (Classic Crime)</td><td>Richard Lancelyn Green, Ronald Knox, Julian Symons, Various</td></tr>",
                            "<tr><td>The Door to December</td><td>Richard Paige, Dean Koontz</td></tr>",
                            "<tr><td>That Old Cape Magic</td><td>Richard Russo, Arthur Morey</td></tr>",
                            "<tr><td>Black Boy</td><td>Richard Wright, Jerry W. Ward Jr.</td></tr>",
                            "<tr><td>Vampire Academy: The Graphic Novel (Vampire Academy: The Graphic Novel, #1)</td><td>Richelle Mead, Emma Vieceli, Leigh Dragoon</td></tr>",
                            "<tr><td>Vespers Rising (The 39 Clues, #11)</td><td>Rick Riordan, Gordon Korman, Peter Lerangis, Jude Watson</td></tr>",
                            "<tr><td>The Demigod Diaries</td><td>Rick Riordan, Haley Riordan</td></tr>",
                            "<tr><td>Percy Jackson&#39;s Greek Gods (A Percy Jackson and the Olympians Guide)</td><td>Rick Riordan, John Rocco</td></tr>",
                            "<tr><td>The Lightning Thief: The Graphic Novel (Percy Jackson and the Olympians, #1)</td><td>Rick Riordan, Robert Venditti, José Villarrubia, Attila Futaki</td></tr>",
                            "<tr><td>Percy Jackson and the Olympians Boxed Set (Percy Jackson and the Olympians, #1-5)</td><td>Rick Riordan, Tk</td></tr>",
                            "<tr><td>Disney after Dark (Kingdom Keepers, #1)</td><td>Ridley Pearson, David Frankland</td></tr>",
                            "<tr><td>Gnomes</td><td>Rien Poortvliet, Wil Huygen</td></tr>",
                            "<tr><td>Esio Trot</td><td>Roald Dahl, Quentin Blake</td></tr>",
                            "<tr><td>Danny the Champion of the World</td><td>Roald Dahl, Quentin Blake</td></tr>",
                            "<tr><td>Boy: Tales of Childhood</td><td>Roald Dahl, Quentin Blake</td></tr>",
                            "<tr><td>Charlie and the Great Glass Elevator (Charlie Bucket, #2)</td><td>Roald Dahl, Quentin Blake</td></tr>",
                            "<tr><td>George&#39;s Marvellous Medicine</td><td>Roald Dahl, Quentin Blake</td></tr>",
                            "<tr><td>The Twits</td><td>Roald Dahl, Quentin Blake</td></tr>",
                            "<tr><td>Fantastic Mr. Fox</td><td>Roald Dahl, Quentin Blake</td></tr>",
                            "<tr><td>James and the Giant Peach</td><td>Roald Dahl, Quentin Blake</td></tr>",
                            "<tr><td>The BFG</td><td>Roald Dahl, Quentin Blake</td></tr>",
                            "<tr><td>The Witches</td><td>Roald Dahl, Quentin Blake</td></tr>",
                            "<tr><td>Charlie and the Chocolate Factory (Charlie Bucket, #1)</td><td>Roald Dahl, Quentin Blake</td></tr>",
                            "<tr><td>Matilda</td><td>Roald Dahl, Quentin Blake</td></tr>",
                            "<tr><td>The Magic Finger (Young Puffin Developing Reader)</td><td>Roald Dahl, Quentin Blake</td></tr>",
                            "<tr><td>The Giraffe and the Pelly and Me</td><td>Roald Dahl, Quentin Blake</td></tr>",
                            "<tr><td>Going Solo</td><td>Roald Dahl, Quentin Blake</td></tr>",
                            "<tr><td>Revolting Rhymes</td><td>Roald Dahl, Quentin Blake</td></tr>",
                            "<tr><td>Mr. Kiss and Tell (Veronica Mars, #2)</td><td>Rob Thomas, Jennifer Graham</td></tr>",
                            "<tr><td>The Thousand-Dollar Tan Line (Veronica Mars, #1)</td><td>Rob Thomas, Jennifer Graham</td></tr>",
                            "<tr><td>The Past Through Tomorrow (Future History, #1-21)</td><td>Robert A. Heinlein, Damon Knight</td></tr>",
                            "<tr><td>The Story of Ruby Bridges</td><td>Robert Coles, George Ford</td></tr>",
                            "<tr><td>Dali: The Paintings</td><td>Robert Descharnes, Gilles Néret</td></tr>",
                            "<tr><td>The Complete Guide to Middle-Earth</td><td>Robert Foster, J.R.R. Tolkien</td></tr>",
                            "<tr><td>The Poetry of Robert Frost (Collected Poems, Complete &amp; Unabridged)</td><td>Robert Frost, Edward Connery Lathem</td></tr>",
                            "<tr><td>The Cuckoo&#39;s Calling (Cormoran Strike, #1)</td><td>Robert Galbraith, J.K. Rowling</td></tr>",
                            "<tr><td>The Silkworm (Cormoran Strike, #2)</td><td>Robert Galbraith, J.K. Rowling</td></tr>",
                            "<tr><td>Career of Evil (Cormoran Strike, #3)</td><td>Robert Galbraith, J.K. Rowling</td></tr>",
                            "<tr><td>The 48 Laws of Power</td><td>Robert Greene, Joost Elffers</td></tr>",
                            "<tr><td>The Art Spirit: Notes, Articles, Fragments of Letters and Talks to Students, Bearing on the Concept and Technique of Picture Making, the Study of Art (Icon Editions)</td><td>Robert Henri, Forbes Watson, Margery A. Ryerson</td></tr>",
                            "<tr><td>A Memory of Light (Wheel of Time, #14)</td><td>Robert Jordan, Brandon Sanderson</td></tr>",
                            "<tr><td>Towers of Midnight (Wheel of Time, #13)</td><td>Robert Jordan, Brandon Sanderson</td></tr>",
                            "<tr><td>The Gathering Storm (Wheel of Time, #12)</td><td>Robert Jordan, Brandon Sanderson</td></tr>",
                            "<tr><td>Dr. Seuss&#39;s Green Eggs and Ham: For Soprano, Boy Soprano, and Orchestra</td><td>Robert Kapilow, Dr. Seuss</td></tr>",
                            "<tr><td>The Walking Dead, Vol. 03: Safety Behind Bars</td><td>Robert Kirkman, Charlie Adlard</td></tr>",
                            "<tr><td>The Walking Dead, Vol. 02: Miles Behind Us</td><td>Robert Kirkman, Charlie Adlard</td></tr>",
                            "<tr><td>The Walking Dead, Vol. 12: Life Among Them</td><td>Robert Kirkman, Charlie Adlard</td></tr>",
                            "<tr><td>The Walking Dead, Book Two (The Walking Dead #13-24)</td><td>Robert Kirkman, Charlie Adlard</td></tr>",
                            "<tr><td>The Walking Dead, Compendium 2</td><td>Robert Kirkman, Charlie Adlard</td></tr>",
                            "<tr><td>The Walking Dead, Vol. 11: Fear the Hunters</td><td>Robert Kirkman, Charlie Adlard, Cliff Rathburn</td></tr>",
                            "<tr><td>The Walking Dead, Vol. 09: Here We Remain</td><td>Robert Kirkman, Charlie Adlard, Cliff Rathburn</td></tr>",
                            "<tr><td>The Walking Dead, Vol. 14: No Way Out</td><td>Robert Kirkman, Charlie Adlard, Cliff Rathburn</td></tr>",
                            "<tr><td>The Walking Dead, Vol. 07: The Calm Before</td><td>Robert Kirkman, Charlie Adlard, Cliff Rathburn</td></tr>",
                            "<tr><td>The Walking Dead, Vol. 06: This Sorrowful Life</td><td>Robert Kirkman, Charlie Adlard, Cliff Rathburn</td></tr>",
                            "<tr><td>The Walking Dead, Vol. 05: The Best Defense</td><td>Robert Kirkman, Charlie Adlard, Cliff Rathburn</td></tr>",
                            "<tr><td>The Walking Dead, Vol. 13: Too Far Gone</td><td>Robert Kirkman, Charlie Adlard, Cliff Rathburn</td></tr>",
                            "<tr><td>The Walking Dead, Vol. 04: The Heart&#39;s Desire</td><td>Robert Kirkman, Charlie Adlard, Cliff Rathburn</td></tr>",
                            "<tr><td>The Walking Dead, Book Three (The Walking Dead #25-36)</td><td>Robert Kirkman, Charlie Adlard, Cliff Rathburn, Rus Wooton</td></tr>",
                            "<tr><td>Rise of the Governor (The Walking Dead #1)</td><td>Robert Kirkman, Jay Bonansinga</td></tr>",
                            "<tr><td>The Walking Dead, Vol. 01: Days Gone Bye</td><td>Robert Kirkman, Tony Moore</td></tr>",
                            "<tr><td>The Walking Dead, Book One (The Walking Dead #1-12)</td><td>Robert Kirkman, Tony Moore, Charlie Adlard, Cliff Rathburn</td></tr>",
                            "<tr><td>The Strange Case of Dr. Jekyll and Mr. Hyde and Other Stories </td><td>Robert Louis Stevenson, Jenny Davidson</td></tr>",
                            "<tr><td>The Strange Case of Dr. Jekyll and Mr. Hyde and Other Tales of Terror</td><td>Robert Louis Stevenson, Robert Mighall</td></tr>",
                            "<tr><td>A Child&#39;s Garden of Verses</td><td>Robert Louis Stevenson, Tasha Tudor</td></tr>",
                            "<tr><td>The Strange Case of Dr. Jekyll and Mr. Hyde</td><td>Robert Louis Stevenson, Vladimir Nabokov, Mervyn Peake, Dan Chaon</td></tr>",
                            "<tr><td>The Monuments Men: Allied Heroes, Nazi Thieves, and the Greatest Treasure Hunt in History</td><td>Robert M. Edsel, Bret Witter</td></tr>",
                            "<tr><td>The Paper Bag Princess</td><td>Robert Munsch, Michael Martchenko</td></tr>",
                            "<tr><td>Love You Forever</td><td>Robert Munsch, Sheila McGraw</td></tr>",
                            "<tr><td>Alice&#39;s Adventures in Wonderland: A Pop-Up Adaptation</td><td>Robert Sabuda, Lewis Carroll</td></tr>",
                            "<tr><td>The Illuminatus! Trilogy</td><td>Robert Shea, Robert Anton Wilson</td></tr>",
                            "<tr><td>Rich Dad&#39;s Guide to Investing: What the Rich Invest in That the Poor and Middle Class Do Not!</td><td>Robert T. Kiyosaki, Sharon L. Lechter</td></tr>",
                            "<tr><td>Rich Dad&#39;s Cashflow Quadrant: Rich Dad&#39;s Guide to Financial Freedom</td><td>Robert T. Kiyosaki, Sharon L. Lechter</td></tr>",
                            "<tr><td>The King in Yellow and Other Horror Stories</td><td>Robert W. Chambers, E.F. Bleiler</td></tr>",
                            "<tr><td>The Stand: Soul Survivors</td><td>Roberto Aguirre-Sacasa, Mike Perkins, Laura       Martin, Stephen King</td></tr>",
                            "<tr><td>The Stand: Captain Trips</td><td>Roberto Aguirre-Sacasa, Stephen King, Mike Perkins, Laura       Martin</td></tr>",
                            "<tr><td>The Savage Detectives</td><td>Roberto Bolaño, Natasha Wimmer</td></tr>",
                            "<tr><td>The Talisman (Volume 1): The Road of Trials</td><td>Robin Furth, Stephen King, Peter Straub, Tony Shasteen, Nei Ruffino</td></tr>",
                            "<tr><td>Tunnels (Tunnels, #1)</td><td>Roderick Gordon, Brian  Williams</td></tr>",
                            "<tr><td>Getting to Yes: Negotiating an Agreement Without Giving In</td><td>Roger Fisher, William Ury, Bruce Patton</td></tr>",
                            "<tr><td>Little House on Rocky Ridge (Little House: The Rocky Ridge Years, #1)</td><td>Roger Lea MacBride, David Gilleece</td></tr>",
                            "<tr><td>Lord of Light</td><td>Roger Zelazny, Sönmez Güven</td></tr>",
                            "<tr><td>Mythologies</td><td>Roland Barthes, Annette Lavers</td></tr>",
                            "<tr><td>Camera Lucida: Reflections on Photography</td><td>Roland Barthes, Richard Howard</td></tr>",
                            "<tr><td>Same Kind of Different as Me</td><td>Ron Hall, Denver Moore, Lynn Vincent</td></tr>",
                            "<tr><td>A Scandal in Bohemia (The Adventures of Sherlock Holmes, #1)</td><td>Ronald Holt, Arthur Conan Doyle</td></tr>",
                            "<tr><td>Skinny Bitch</td><td>Rory Freedman, Kim Barnouin</td></tr>",
                            "<tr><td>The Cake Bible</td><td>Rose Levy Beranbaum, Maria Guarnaschelli, Vincent Lee, Manuela Paul, Dean G. Bornstein</td></tr>",
                            "<tr><td>Willpower: Rediscovering the Greatest Human Strength</td><td>Roy F. Baumeister, John Tierney</td></tr>",
                            "<tr><td>Dracula (Marvel Illustrated)</td><td>Roy Thomas, Dick Giordano, Mark D. Beazley, Bram Stoker</td></tr>",
                            "<tr><td>The Jungle Books</td><td>Rudyard Kipling, Alev Lytle Croutier</td></tr>",
                            "<tr><td>Kim</td><td>Rudyard Kipling, Edward Said</td></tr>",
                            "<tr><td>Rikki-Tikki-Tavi</td><td>Rudyard Kipling, Jerry Pinkney</td></tr>",
                            "<tr><td>Bedtime for Frances</td><td>Russell Hoban, Garth Williams</td></tr>",
                            "<tr><td>A Bargain for Frances</td><td>Russell Hoban, Lillian Hoban</td></tr>",
                            "<tr><td>Bread and Jam for Frances</td><td>Russell Hoban, Lillian Hoban</td></tr>",
                            "<tr><td>Marching Powder: A True Story of Friendship, Cocaine, and South America&#39;s Strangest Jail</td><td>Rusty Young, Thomas McFadden</td></tr>",
                            "<tr><td>The Carrot Seed</td><td>Ruth Krauss, Crockett Johnson</td></tr>",
                            "<tr><td>Anne Frank: Beyond the Diary - A Photographic Remembrance</td><td>Ruud van der Rol, Rian Verhoeven, Anna Quindlen, Anne Frank, Tony Langham, Plym Peters</td></tr>",
                            "<tr><td>In the Miso Soup</td><td>Ryū Murakami, Ralph McCarthy</td></tr>",
                            "<tr><td>The Blind Owl</td><td>Sadegh Hedayat, D.P. Costello</td></tr>",
                            "<tr><td>Haroun and the Sea of Stories (Khalifa Brothers, #1)</td><td>Salman Rushdie, Paul Birkbeck</td></tr>",
                            "<tr><td>Guess How Much I Love You</td><td>Sam McBratney, Anita Jeram</td></tr>",
                            "<tr><td>The Jordan Rules</td><td>Sam Smith, Doug Grud</td></tr>",
                            "<tr><td>The House of God</td><td>Samuel Shem, John Updike</td></tr>",
                            "<tr><td>The Rime of the Ancient Mariner</td><td>Samuel Taylor Coleridge, Gustave Doré</td></tr>",
                            "<tr><td>Low Pressure</td><td>Sandra Brown, Stephen Lang</td></tr>",
                            "<tr><td>Clementine (Clementine, #1)</td><td>Sara Pennypacker, Marla Frazee</td></tr>",
                            "<tr><td>The Postmistress</td><td>Sarah Blake, Orlagh Cassidy</td></tr>",
                            "<tr><td>Red Riding Hood</td><td>Sarah Blakley-Cartwright, David Leslie Johnson, Catherine Hardwicke</td></tr>",
                            "<tr><td>Having Our Say: The Delany Sisters&#39; First 100 Years</td><td>Sarah L. Delany, A. Elizabeth Delany, Amy Hill Hearth</td></tr>",
                            "<tr><td>Going Rogue: An American Life</td><td>Sarah Palin, Lynn Vincent, Dewey Whetsell</td></tr>",
                            "<tr><td>The Magic Thief (Magic Thief, #1)</td><td>Sarah Prineas, Antonio Javier Caparo</td></tr>",
                            "<tr><td>The Partly Cloudy Patriot</td><td>Sarah Vowell, Katherine Streeter</td></tr>",
                            "<tr><td>The Adventures of Augie March</td><td>Saul Bellow, Christopher Hitchens</td></tr>",
                            "<tr><td>Henderson the Rain King</td><td>Saul Bellow, Luciano Bianciardi</td></tr>",
                            "<tr><td>Herzog</td><td>Saul Bellow, Philip Roth</td></tr>",
                            "<tr><td>Our Dumb Century: The Onion Presents 100 Years of Headlines from America&#39;s Finest News Source</td><td>Scott Dikkers, Maria Schneider, John Krewson, Robert Siegel, David Javerbaum, Todd Hanson, Carol Kolb, Mike Loew, Tim Harrod</td></tr>",
                            "<tr><td>Eat and Run: My Unlikely Journey to Ultramarathon Greatness</td><td>Scott Jurek, Steve Friedman</td></tr>",
                            "<tr><td>Batman, Volume 1: The Court of Owls</td><td>Scott Snyder, Greg Capullo, Jonathan Glapion</td></tr>",
                            "<tr><td>Batman, Volume 3: Death of the Family</td><td>Scott Snyder, Greg Capullo, Jonathan Glapion</td></tr>",
                            "<tr><td>Batman, Volume 2: The City of Owls</td><td>Scott Snyder, Greg Capullo, Jonathan Glapion, James Tynion IV, Rafael Albuquerque, Jason Fabok, Becky Cloonan, Andy Clarke, Sandu Florea</td></tr>",
                            "<tr><td>Batman: The Black Mirror</td><td>Scott Snyder, Jock, Francesco Francavilla, Jared K. Fletcher, Sal Cipriano, David   Baron</td></tr>",
                            "<tr><td>American Vampire, Vol. 1</td><td>Scott Snyder, Stephen King, Rafael Albuquerque</td></tr>",
                            "<tr><td>Goliath (Leviathan, #3)</td><td>Scott Westerfeld, Keith Thompson</td></tr>",
                            "<tr><td>Behemoth (Leviathan, #2)</td><td>Scott Westerfeld, Keith Thompson</td></tr>",
                            "<tr><td>Night Watch (Watch #1)</td><td>Sergei Lukyanenko, Andrew Bromfield</td></tr>",
                            "<tr><td>Day Watch (Watch #2)</td><td>Sergei Lukyanenko, Andrew Bromfield</td></tr>",
                            "<tr><td>Twilight Watch (Watch #3)</td><td>Sergei Lukyanenko, Andrew Bromfield</td></tr>",
                            "<tr><td>Pride and Prejudice and Zombies (Pride and Prejudice and Zombies, #1)</td><td>Seth Grahame-Smith, Jane Austen</td></tr>",
                            "<tr><td>Book of a Thousand Days</td><td>Shannon Hale, James Noel Smith</td></tr>",
                            "<tr><td>A Severe Mercy: A Story of Faith, Tragedy and Triumph</td><td>Sheldon Vanauken, C.S. Lewis</td></tr>",
                            "<tr><td>The Absolutely True Diary of a Part-Time Indian</td><td>Sherman Alexie, Ellen Forney</td></tr>",
                            "<tr><td>Lean In: Women, Work, and the Will to Lead</td><td>Sheryl Sandberg, Nell Scovell</td></tr>",
                            "<tr><td>We Have Always Lived in the Castle</td><td>Shirley Jackson, Jonathan Lethem</td></tr>",
                            "<tr><td>The Haunting of Hill House</td><td>Shirley Jackson, Laura   Miller</td></tr>",
                            "<tr><td>FRUiTS</td><td>Shoichi Aoki, Mark Sanders, Shoich Aoki</td></tr>",
                            "<tr><td>Silence</td><td>Shūsaku Endō, William Johnston</td></tr>",
                            "<tr><td>Si-cology 1: Tales and Wisdom from Duck Dynasty’s Favorite Uncle</td><td>Si Robertson, Mark Schlabach</td></tr>",
                            "<tr><td>The Whipping Boy</td><td>Sid Fleischman, Peter Sís</td></tr>",
                            "<tr><td>Civilization and Its Discontents</td><td>Sigmund Freud, James Strachey, Peter Gay</td></tr>",
                            "<tr><td>Soccernomics: Why England Loses, Why Germany and Brazil Win, and Why the U.S., Japan, Australia, Turkey--and Even Iraq--Are Destined to Become the Kings of the World&#39;s Most Popular Sport</td><td>Simon Kuper, Stefan Szymanski</td></tr>",
                            "<tr><td>The Second Sex</td><td>Simone de Beauvoir, H.M. Parshley, Deirdre Bair</td></tr>",
                            "<tr><td>Slash</td><td>Slash, Anthony Bozza</td></tr>",
                            "<tr><td>The Tibetan Book of Living and Dying</td><td>Sogyal Rinpoche, Andrew Harvey</td></tr>",
                            "<tr><td>The Oedipus Cycle: Oedipus Rex/Oedipus at Colonus/Antigone (The Theban Plays, #1–3)</td><td>Sophocles, Dudley Fitts, Elena Bono, Robert Fitzgerald</td></tr>",
                            "<tr><td>Antigone (The Theban Plays, #3)</td><td>Sophocles, J.E. Thomas</td></tr>",
                            "<tr><td>Oedipus Rex  (The Theban Plays, #1)</td><td>Sophocles, J.E. Thomas</td></tr>",
                            "<tr><td>Fear and Trembling</td><td>Søren Kierkegaard, Alastair Hannay</td></tr>",
                            "<tr><td>Who Moved My Cheese?</td><td>Spencer Johnson, Kenneth H. Blanchard</td></tr>",
                            "<tr><td>Manga Classics: Les Misérables</td><td>Stacy King, SunNeko Lee, Crystal S. Chan, Victor Hugo</td></tr>",
                            "<tr><td>The Berenstain Bears Forget Their Manners</td><td>Stan Berenstain, Jan Berenstain</td></tr>",
                            "<tr><td>The Berenstain Bears Go to School</td><td>Stan Berenstain, Jan Berenstain</td></tr>",
                            "<tr><td>The Berenstain Bears and Too Much TV</td><td>Stan Berenstain, Jan Berenstain</td></tr>",
                            "<tr><td>Inside, Outside, Upside Down (Berenstain Bears Bright and Early Board Book)</td><td>Stan Berenstain, Jan Berenstain</td></tr>",
                            "<tr><td>The Berenstain Bears&#39; Trouble at School</td><td>Stan Berenstain, Jan Berenstain</td></tr>",
                            "<tr><td>The Berenstain Bears and the Messy Room</td><td>Stan Berenstain, Jan Berenstain</td></tr>",
                            "<tr><td>Chess Story</td><td>Stefan Zweig, Joel Rotenberg, Hans Hausmann, Dirk Muller, Peter Gay, Willy Trenk-Trebitsch, Mario Adorf, Gert Westphal</td></tr>",
                            "<tr><td>Cold Comfort Farm</td><td>Stella Gibbons, Lynne Truss, Roz Chast</td></tr>",
                            "<tr><td>The Charterhouse of Parma</td><td>Stendhal, Richard Howard, Robert Andrew Parker</td></tr>",
                            "<tr><td>The Red and the Black</td><td>Stendhal, Roger Gard</td></tr>",
                            "<tr><td>America&#39;s First Daughter</td><td>Stephanie Dray, Laura Kamoie</td></tr>",
                            "<tr><td>My True Love Gave to Me: Twelve Holiday Stories</td><td>Stephanie Perkins, Holly Black, Ally Carter, Matt de la Pena, Gayle Forman, Jenny Han, David Levithan, Kelly Link, Myra McEntire, Rainbow Rowell, Laini Taylor, Kiersten White</td></tr>",
                            "<tr><td>Interesting Times: The Play</td><td>Stephen Briggs, Terry Pratchett</td></tr>",
                            "<tr><td>Guards! Guards!: The Play</td><td>Stephen Briggs, Terry Pratchett</td></tr>",
                            "<tr><td>Fish: A Proven Way to Boost Morale and Improve Results</td><td>Stephen C. Lundin, Harry Paul, John Christensen, Kenneth H. Blanchard</td></tr>",
                            "<tr><td>I Am America (And So Can You!)</td><td>Stephen Colbert, Richard Dahm, Paul Dinello, Allison Silverman, Michael Brumm, Eric Drydale, Rob Dubbin, Glenn Eichler, Peter Grosz, Peter Gwinn, Jay Katsir, Laura Krafft, Frank Lesser, Tom Purcell</td></tr>",
                            "<tr><td>The Red Badge of Courage and Selected Short Fiction  </td><td>Stephen Crane, George Stade, Richard Fusco</td></tr>",
                            "<tr><td>A Brief History of Time</td><td>Stephen Hawking, Cao Chi, Phạm Văn Thiều</td></tr>",
                            "<tr><td>The Grand Design</td><td>Stephen Hawking, Leonard Mlodinow</td></tr>",
                            "<tr><td>A Briefer History of Time</td><td>Stephen Hawking, Leonard Mlodinow</td></tr>",
                            "<tr><td>Shadows over Innsmouth</td><td>Stephen Jones, H.P. Lovecraft, Kim Newman, Brian Mooney, Nicholas Royle, David Langford, Michael Marshall Smith, Brian Lumley, Neil Gaiman, Basil Copper, Jack Yeovil, Guy N. Smith, Adrian Cole, D.F. Lewis, Ramsey Campbell, David Sutton, Peter Tremayne</td></tr>",
                            "<tr><td>The Love Dare</td><td>Stephen Kendrick, Alex Kendrick</td></tr>",
                            "<tr><td>The Stand</td><td>Stephen King, Bernie Wrightson</td></tr>",
                            "<tr><td>Wolves of the Calla (The Dark Tower, #5)</td><td>Stephen King, Bernie Wrightson</td></tr>",
                            "<tr><td>Cycle of the Werewolf</td><td>Stephen King, Bernie Wrightson</td></tr>",
                            "<tr><td>Creepshow</td><td>Stephen King, Bernie Wrightson, Michele Wrightson</td></tr>",
                            "<tr><td>Insomnia</td><td>Stephen King, Bettina Blanch Tyroller</td></tr>",
                            "<tr><td>Song of Susannah (The Dark Tower, #6)</td><td>Stephen King, Darrel Anderson</td></tr>",
                            "<tr><td>Wizard and Glass (The Dark Tower, #4)</td><td>Stephen King, Dave McKean</td></tr>",
                            "<tr><td>Dolores Claiborne</td><td>Stephen King, Dominique Dill</td></tr>",
                            "<tr><td>The Wind Through the Keyhole (The Dark Tower, #4.5)</td><td>Stephen King, Jae Lee</td></tr>",
                            "<tr><td>&#39;Salem&#39;s Lot</td><td>Stephen King, Jerry N. Uelsmann</td></tr>",
                            "<tr><td>Night Shift</td><td>Stephen King, John D. MacDonald</td></tr>",
                            "<tr><td>Riding the Bullet</td><td>Stephen King, Josh Hamilton</td></tr>",
                            "<tr><td>Christine</td><td>Stephen King, Marie Milpois</td></tr>",
                            "<tr><td>The Little Sisters of Eluria (The Dark Tower, #0.5)</td><td>Stephen King, Michael Whelan</td></tr>",
                            "<tr><td>The Waste Lands (The Dark Tower, #3)</td><td>Stephen King, Ned Dameron</td></tr>",
                            "<tr><td>The Talisman (The Talisman, #1)</td><td>Stephen King, Peter Straub</td></tr>",
                            "<tr><td>Black House (The Talisman, #2)</td><td>Stephen King, Peter Straub</td></tr>",
                            "<tr><td>The Body</td><td>Stephen King, Robin A.H. Waterfield</td></tr>",
                            "<tr><td>One Past Midnight: The Langoliers</td><td>Stephen King, Willem Dafoe</td></tr>",
                            "<tr><td>Dreamcatcher</td><td>Stephen King, William Olivier Desmond</td></tr>",
                            "<tr><td>First Things First</td><td>Stephen R. Covey, A. Roger Merrill, Rebecca R. Merrill</td></tr>",
                            "<tr><td>Wicked - Piano/Vocal Arrangement</td><td>Stephen Schwartz, Gregory Maguire</td></tr>",
                            "<tr><td>Sweeney Todd: The Demon Barber of Fleet Street</td><td>Stephen Sondheim, Hugh Wheeler, Christopher Godfrey Bond</td></tr>",
                            "<tr><td>The Twilight Saga (Twilight, #1-4)</td><td>Stephenie Meyer, Ilyana Kadushin, Matt Walters</td></tr>",
                            "<tr><td>Twilight: The Graphic Novel, Vol. 2  (Twilight: The Graphic Novel, #2)</td><td>Stephenie Meyer, Young Kim</td></tr>",
                            "<tr><td>The Paris Vendetta (Cotton Malone, #5)</td><td>Steve Berry, Scott Brick</td></tr>",
                            "<tr><td>Dawn of the Dreadfuls (Pride and Prejudice and Zombies, #0.5)</td><td>Steve Hockensmith, Jane Austen, Patrick Arrasmith</td></tr>",
                            "<tr><td>30 Days of Night, Vol. 1</td><td>Steve Niles, Ben Templesmith</td></tr>",
                            "<tr><td>Breaking Point (Tom Clancy&#39;s Net Force, #4)</td><td>Steve Perry, Tom Clancy, Steve Pieczenik</td></tr>",
                            "<tr><td>Think Like a Freak</td><td>Steven D. Levitt, Stephen J. Dubner</td></tr>",
                            "<tr><td>SuperFreakonomics: Global Cooling, Patriotic Prostitutes And Why Suicide Bombers Should Buy Life Insurance</td><td>Steven D. Levitt, Stephen J. Dubner</td></tr>",
                            "<tr><td>Freakonomics: A Rogue Economist Explores the Hidden Side of Everything (Freakonomics, #1)</td><td>Steven D. Levitt, Stephen J. Dubner</td></tr>",
                            "<tr><td>Van Gogh: The Life</td><td>Steven Naifeh, Gregory White Smith</td></tr>",
                            "<tr><td>The War of Art: Break Through the Blocks &amp; Win Your Inner Creative Battles</td><td>Steven Pressfield, Robert McKee</td></tr>",
                            "<tr><td>The Girl Who Played with Fire (Millennium, #2)</td><td>Stieg Larsson, Reg Keeland</td></tr>",
                            "<tr><td>The Girl with the Dragon Tattoo (Millennium, #1)</td><td>Stieg Larsson, Reg Keeland</td></tr>",
                            "<tr><td>The Girl Who Kicked the Hornet&#39;s Nest (Millennium, #3)</td><td>Stieg Larsson, Reg Keeland</td></tr>",
                            "<tr><td>The Millennium Trilogy (Millennium Trilogy, #1-3)</td><td>Stieg Larsson, Reg Keeland</td></tr>",
                            "<tr><td>The Twelve Caesars</td><td>Suetonius, Michael Grant, Robert Graves</td></tr>",
                            "<tr><td>Tokyo Ghoul, tome 1 (Tokyo Ghoul, #1)</td><td>Sui Ishida, 石田 スイ</td></tr>",
                            "<tr><td>The Art of War</td><td>Sun Tzu, Thomas Cleary</td></tr>",
                            "<tr><td>The Woman in Black</td><td>Susan Hill, John Lawrence</td></tr>",
                            "<tr><td>Meet Samantha: An American Girl (American Girls: Samantha, #1)</td><td>Susan S. Adler, Renée Graef, Nancy Niles</td></tr>",
                            "<tr><td>The Ladies of Grace Adieu and Other Stories</td><td>Susanna Clarke, Charles Vess</td></tr>",
                            "<tr><td>The Winter Sea (Slains, #1)</td><td>Susanna Kearsley, Rosalyn Landor</td></tr>",
                            "<tr><td>The Unabridged Journals of Sylvia Plath</td><td>Sylvia Plath, Karen V. Kukil</td></tr>",
                            "<tr><td>The Collected Poems</td><td>Sylvia Plath, Ted Hughes</td></tr>",
                            "<tr><td>The China Study: The Most Comprehensive Study of Nutrition Ever Conducted And the Startling Implications for Diet, Weight Loss, And Long-term Health</td><td>T. Colin Campbell, Thomas M. Campbell II</td></tr>",
                            "<tr><td>Drop City</td><td>T.C. Boyle, Richard Poe</td></tr>",
                            "<tr><td>Old Possum&#39;s Book of Practical Cats</td><td>T.S. Eliot, Edward Gorey</td></tr>",
                            "<tr><td>The Waste Land</td><td>T.S. Eliot, Michael North</td></tr>",
                            "<tr><td>Gakuen Alice, Vol. 01 (Gakuen Alice, #1)</td><td>Tachibana Higuchi, 樋口 橘</td></tr>",
                            "<tr><td>Season of Migration to the North</td><td>Tayeb Salih, Denys Johnson-Davies</td></tr>",
                            "<tr><td>Animal-Speak: The Spiritual &amp; Magical Powers of Creatures Great &amp; Small</td><td>Ted Andrews, Winston Allen, Margaret K. Andrews</td></tr>",
                            "<tr><td>Lady and the Tramp</td><td>Teddy Slater, Bill Langley, Ron Dias, Walt Disney Company</td></tr>",
                            "<tr><td>Beauty and the Beast (Disney)</td><td>Teddy Slater, Ron Dias, Ric González</td></tr>",
                            "<tr><td>Star Wars - Episode I: The Phantom Menace</td><td>Terry Brooks, George Lucas</td></tr>",
                            "<tr><td>Temple of the Winds (Sword of Truth, #4)</td><td>Terry Goodkind, Dick Hill</td></tr>",
                            "<tr><td>Lady Cottington&#39;s Pressed Fairy Book</td><td>Terry Jones, Brian Froud</td></tr>",
                            "<tr><td>Good Omens: The Nice and Accurate Prophecies of Agnes Nutter, Witch</td><td>Terry Pratchett, Neil Gaiman</td></tr>",
                            "<tr><td>The Last Hero (Discworld, #27; Rincewind #7)</td><td>Terry Pratchett, Paul Kidby</td></tr>",
                            "<tr><td>The Long Earth (The Long Earth, #1)</td><td>Terry Pratchett, Stephen Baxter</td></tr>",
                            "<tr><td>The Long War (The Long Earth, #2)</td><td>Terry Pratchett, Stephen Baxter</td></tr>",
                            "<tr><td>Mort: The Play</td><td>Terry Pratchett, Stephen Briggs</td></tr>",
                            "<tr><td>Men at Arms: The Play</td><td>Terry Pratchett, Stephen Briggs</td></tr>",
                            "<tr><td>Totto-chan: The Little Girl at the Window</td><td>Tetsuko Kuroyanagi, Chihiro Iwasaki, Dorothy Britton</td></tr>",
                            "<tr><td>The Beatles Anthology</td><td>The Beatles, Paul McCartney, Ringo Starr, John Lennon, George Harrison</td></tr>",
                            "<tr><td>Waiter Rant: Thanks for the Tip-Confessions of a Cynical Waiter</td><td>The Waiter, Steve Dublanica</td></tr>",
                            "<tr><td>Ten Apples Up On Top!</td><td>Theo LeSieg, Roy McKie</td></tr>",
                            "<tr><td>An American Tragedy</td><td>Theodore Dreiser, Richard R. Lingeman</td></tr>",
                            "<tr><td>Peace Is Every Step: The Path of Mindfulness in Everyday Life</td><td>Thich Nhat Hanh, Arnold Kotler, Dalai Lama XIV</td></tr>",
                            "<tr><td>The Imitation of Christ</td><td>Thomas à Kempis, William Benham</td></tr>",
                            "<tr><td>The Return of the Native  </td><td>Thomas Hardy, Alexander Theroux</td></tr>",
                            "<tr><td>The Mayor of Casterbridge</td><td>Thomas Hardy, Keith Wilson</td></tr>",
                            "<tr><td>The Woodlanders</td><td>Thomas Hardy, Patricia Ingham</td></tr>",
                            "<tr><td>Far from the Madding Crowd</td><td>Thomas Hardy, Rosemarie Morgan, Shannon Russell</td></tr>",
                            "<tr><td>Tess of the D&#39;Urbervilles</td><td>Thomas Hardy, Tim Dolin, Margaret R. Higonnet</td></tr>",
                            "<tr><td>Leviathan</td><td>Thomas Hobbes, C.B. Macpherson</td></tr>",
                            "<tr><td>The Millionaire Next Door: The Surprising Secrets of Americas Wealthy</td><td>Thomas J. Stanley, William D. Danko</td></tr>",
                            "<tr><td>King Arthur and His Knights: Selected Tales</td><td>Thomas Malory, Eugène Vinaver</td></tr>",
                            "<tr><td>Le Morte d&#39;Arthur: King Arthur and the Legends of the Round Table</td><td>Thomas Malory, Keith Baines, Robert Graves</td></tr>",
                            "<tr><td>Death in Venice and Other Tales</td><td>Thomas Mann, Joachim Neugroschel</td></tr>",
                            "<tr><td>The Magic Mountain</td><td>Thomas Mann, John E. Woods</td></tr>",
                            "<tr><td>Buddenbrooks: The Decline of a Family</td><td>Thomas Mann, John E. Woods, T.J. Reed</td></tr>",
                            "<tr><td>Death in Venice</td><td>Thomas Mann, Michael Henry Heim, Michael Cunningham</td></tr>",
                            "<tr><td>The Seven Storey Mountain</td><td>Thomas Merton, Robert Giroux, William H. Shannon</td></tr>",
                            "<tr><td>Utopia</td><td>Thomas More, Paul Turner</td></tr>",
                            "<tr><td>Common Sense, The Rights of Man and Other Essential Writings</td><td>Thomas Paine, Sidney Hook, Jack Fruchtman Jr.</td></tr>",
                            "<tr><td>Capital in the Twenty-First Century</td><td>Thomas Piketty, Arthur Goldhammer</td></tr>",
                            "<tr><td>Our Town</td><td>Thornton Wilder, Donald Margulies, Tappan Wilder</td></tr>",
                            "<tr><td>History of the Peloponnesian War</td><td>Thucydides, Rex Warner, Moses I. Finley</td></tr>",
                            "<tr><td>Fahrenheit 451: The Authorized Adaptation</td><td>Tim Hamilton, Ray Bradbury</td></tr>",
                            "<tr><td>Armageddon: The Cosmic Battle of the Ages (Left Behind, #11)</td><td>Tim LaHaye, Jerry B. Jenkins</td></tr>",
                            "<tr><td>The Rising: Antichrist is Born  (Before They Were Left Behind, #1)</td><td>Tim LaHaye, Jerry B. Jenkins</td></tr>",
                            "<tr><td>Glorious Appearing: The End of Days (Left Behind, #12)</td><td>Tim LaHaye, Jerry B. Jenkins</td></tr>",
                            "<tr><td>Apollyon (Left Behind, #5)</td><td>Tim LaHaye, Jerry B. Jenkins</td></tr>",
                            "<tr><td>The Mark (Left Behind, #8)</td><td>Tim LaHaye, Jerry B. Jenkins</td></tr>",
                            "<tr><td>Assassins (Left Behind, #6)</td><td>Tim LaHaye, Jerry B. Jenkins</td></tr>",
                            "<tr><td>The Indwelling (Left Behind, #7)</td><td>Tim LaHaye, Jerry B. Jenkins</td></tr>",
                            "<tr><td>The Remnant (Left Behind, #10)</td><td>Tim LaHaye, Jerry B. Jenkins</td></tr>",
                            "<tr><td>Desecration (Left Behind, #9)</td><td>Tim LaHaye, Jerry B. Jenkins</td></tr>",
                            "<tr><td>Tribulation Force (Left Behind, #2)</td><td>Tim LaHaye, Jerry B. Jenkins</td></tr>",
                            "<tr><td>Nicolae (Left Behind, #3)</td><td>Tim LaHaye, Jerry B. Jenkins</td></tr>",
                            "<tr><td>Soul Harvest: The World Takes Sides (Left Behind, #4)</td><td>Tim LaHaye, Jerry B. Jenkins</td></tr>",
                            "<tr><td>Left Behind (Left Behind, #1)</td><td>Tim LaHaye, Jerry B. Jenkins</td></tr>",
                            "<tr><td>Through My Eyes</td><td>Tim Tebow, Nathan Whitaker</td></tr>",
                            "<tr><td>The Meaning of Marriage: Facing the Complexities of Commitment with the Wisdom of God</td><td>Timothy J. Keller, Kathy  Keller</td></tr>",
                            "<tr><td>Heaven is for Real: A Little Boy&#39;s Astounding Story of His Trip to Heaven and Back</td><td>Todd Burpo, Lynn Vincent</td></tr>",
                            "<tr><td>Dead or Alive (Jack Ryan Universe, #13)</td><td>Tom Clancy, Grant Blackwood</td></tr>",
                            "<tr><td>Threat Vector (Jack Ryan Universe, #15)</td><td>Tom Clancy, Mark Greaney</td></tr>",
                            "<tr><td>Command Authority (Jack Ryan Universe, #16)</td><td>Tom Clancy, Mark Greaney</td></tr>",
                            "<tr><td>Locked On (Jack Ryan Universe, #14)</td><td>Tom Clancy, Mark Greaney</td></tr>",
                            "<tr><td>Against All Enemies (Max Moore, #1)</td><td>Tom Clancy, Peter Telep</td></tr>",
                            "<tr><td>In Search of Excellence: Lessons from America&#39;s Best-Run Companies</td><td>Tom Peters, Robert H. Waterman Jr.</td></tr>",
                            "<tr><td>Bone: Quest for the Spark, Vol. 1</td><td>Tom Sniegoski, Jeff Smith, Thomas E. Sniegoski, Steve Hamaker</td></tr>",
                            "<tr><td>Rosencrantz and Guildenstern Are Dead</td><td>Tom Stoppard, Henry Popkin</td></tr>",
                            "<tr><td>The Dirt: Confessions of the World&#39;s Most Notorious Rock Band</td><td>Tommy Lee, Vince Neil, Nikki Sixx, Neil Strauss, Mick Mars, Tommy Lee</td></tr>",
                            "<tr><td>The Wallflower, Vol. 1 (The Wallflower, #1)</td><td>Tomoko Hayakawa, David Ury</td></tr>",
                            "<tr><td>Emotional Intelligence 2.0</td><td>Travis Bradberry, Jean Greaves, Patrick Lencioni</td></tr>",
                            "<tr><td>The Mysterious Benedict Society (The Mysterious Benedict Society, #1)</td><td>Trenton Lee Stewart, Carson Ellis</td></tr>",
                            "<tr><td>The Mysterious Benedict Society and the Prisoner&#39;s Dilemma (The Mysterious Benedict Society, #3)</td><td>Trenton Lee Stewart, Del Roy</td></tr>",
                            "<tr><td>The Mysterious Benedict Society and the Perilous Journey (The Mysterious Benedict Society, #2)</td><td>Trenton Lee Stewart, Diana Sudyka</td></tr>",
                            "<tr><td>Little Red Riding Hood</td><td>Trina Schart Hyman, Johann Grimm, Wilhelm Grimm</td></tr>",
                            "<tr><td>The Day Jimmy&#39;s Boa Ate the Wash</td><td>Trinka Hakes Noble, Steven Kellogg</td></tr>",
                            "<tr><td>When Rabbit Howls</td><td>Truddi Chase, Robert A. Phillips Jr.</td></tr>",
                            "<tr><td>Death Note, Vol. 2: Confluence (Death Note, #2)</td><td>Tsugumi Ohba, Takeshi Obata</td></tr>",
                            "<tr><td>Death Note, Vol. 3: Hard Run (Death Note, #3)</td><td>Tsugumi Ohba, Takeshi Obata</td></tr>",
                            "<tr><td>Death Note, Vol. 8: Target (Death Note, #8)</td><td>Tsugumi Ohba, Takeshi Obata</td></tr>",
                            "<tr><td>Death Note, Vol. 4: Love (Death Note, #4)</td><td>Tsugumi Ohba, Takeshi Obata</td></tr>",
                            "<tr><td>Death Note, Vol. 7: Zero (Death Note, #7)</td><td>Tsugumi Ohba, Takeshi Obata</td></tr>",
                            "<tr><td>Death Note, Vol. 5: Whiteout (Death Note, #5)</td><td>Tsugumi Ohba, Takeshi Obata</td></tr>",
                            "<tr><td>Death Note, Vol. 6: Give-and-Take (Death Note, #6)</td><td>Tsugumi Ohba, Takeshi Obata</td></tr>",
                            "<tr><td>Death Note, Vol. 1: Boredom (Death Note, #1)</td><td>Tsugumi Ohba, Takeshi Obata</td></tr>",
                            "<tr><td>Bakuman, Band 1: Traum und Realität</td><td>Tsugumi Ohba, Takeshi Obata, Diana Hammermeister</td></tr>",
                            "<tr><td>The Secret Race: Inside the Hidden World of the Tour de France: Doping, Cover-ups, and Winning at All Costs</td><td>Tyler Hamilton, Daniel Coyle</td></tr>",
                            "<tr><td>History of Beauty</td><td>Umberto Eco, Girolamo De Michele, Alastair McEwen</td></tr>",
                            "<tr><td>The Prague Cemetery</td><td>Umberto Eco, Richard Dixon</td></tr>",
                            "<tr><td>Foucault&#39;s Pendulum</td><td>Umberto Eco, William Weaver</td></tr>",
                            "<tr><td>Baudolino</td><td>Umberto Eco, William Weaver, R.C.S. Libri</td></tr>",
                            "<tr><td>The Name of the Rose</td><td>Umberto Eco, William Weaver, Seán Barrett</td></tr>",
                            "<tr><td>Sir Gawain and the Green Knight </td><td>Unknown, Burton Raffel, Neil D. Isaacs</td></tr>",
                            "<tr><td>Beowulf</td><td>Unknown, Seamus Heaney</td></tr>",
                            "<tr><td>The Jungle</td><td>Upton Sinclair, Earl Lee, Kathleen DeGrave</td></tr>",
                            "<tr><td>The Left Hand of Darkness</td><td>Ursula K. Le Guin, Lech Jęczmyk</td></tr>",
                            "<tr><td>A Darker Shade of Magic (Shades of Magic, #1)</td><td>V.E. Schwab, Victoria Schwab</td></tr>",
                            "<tr><td>A Gathering of Shadows (Shades of Magic, #2)</td><td>V.E. Schwab, Victoria Schwab</td></tr>",
                            "<tr><td>Vicious (Villains, #1)</td><td>V.E. Schwab, Victoria Schwab</td></tr>",
                            "<tr><td>Phantoms in the Brain: Probing the Mysteries of the Human Mind</td><td>V.S. Ramachandran, Sandra Blakeslee, Oliver Sacks</td></tr>",
                            "<tr><td>Why Mosquitoes Buzz in People&#39;s Ears</td><td>Verna Aardema, Leo Dillon, Diane Dillon</td></tr>",
                            "<tr><td>Stuck-Up Suit</td><td>Vi Keeland, Penelope Ward</td></tr>",
                            "<tr><td>Dewey: The Small-Town Library Cat Who Touched the World</td><td>Vicki Myron, Bret Witter</td></tr>",
                            "<tr><td>Les Misérables</td><td>Victor Hugo, Lee Fahnestock, Norman MacAfee</td></tr>",
                            "<tr><td>The Hunchback of Notre-Dame</td><td>Victor Hugo, Walter J. Cobb</td></tr>",
                            "<tr><td>Pinkalicious</td><td>Victoria Kann, Elizabeth Kann</td></tr>",
                            "<tr><td>The Survivor (Mitch Rapp, #14)</td><td>Vince Flynn, Kyle Mills, Armand Schultz</td></tr>",
                            "<tr><td>Helter Skelter: The True Story of the Manson Murders</td><td>Vincent Bugliosi, Curt Gentry</td></tr>",
                            "<tr><td>Dear Theo</td><td>Vincent van Gogh, Irving Stone, Jean   Stone</td></tr>",
                            "<tr><td>The Letters of Vincent van Gogh</td><td>Vincent van Gogh, Ronald de Leeuw, Mark Roskill, Arnold J. Pomerans</td></tr>",
                            "<tr><td>The Aeneid</td><td>Virgil, Robert Fitzgerald</td></tr>",
                            "<tr><td>Mrs. Dalloway</td><td>Virginia Woolf, Maureen Howard</td></tr>",
                            "<tr><td>Lolita</td><td>Vladimir Nabokov, Craig Raine</td></tr>",
                            "<tr><td>Pnin</td><td>Vladimir Nabokov, David Lodge</td></tr>",
                            "<tr><td>Blue Ocean Strategy: How To Create Uncontested Market Space And Make The Competition Irrelevant</td><td>W. Chan Kim, Renée Mauborgne</td></tr>",
                            "<tr><td>Of Human Bondage</td><td>W. Somerset Maugham, Benjamin DeMott, Maeve Binchy</td></tr>",
                            "<tr><td>The Collected Poems of W.B. Yeats</td><td>W.B. Yeats, Richard J. Finneran</td></tr>",
                            "<tr><td>The Souls of Black Folk</td><td>W.E.B. Du Bois, Donald B. Gibson, Monica W. Elbert</td></tr>",
                            "<tr><td>Austerlitz</td><td>W.G. Sebald, Anthea Bell</td></tr>",
                            "<tr><td>Beauty and the Beast</td><td>Walt Disney Company, Ellen Titlebaum</td></tr>",
                            "<tr><td>The Work of Art in the Age of Its Technological Reproducibility, and Other Writings on Media</td><td>Walter Benjamin, Michael W. Jennings, Brigid Doherty, Edmund F.N. Jephcott, Rodney Livingstone, Howard Eiland, Thomas Y. Levin</td></tr>",
                            "<tr><td>The Black Stallion (The Black Stallion, #1)</td><td>Walter Farley, Keith Ward</td></tr>",
                            "<tr><td>A Night to Remember</td><td>Walter Lord, Nathaniel Philbrick</td></tr>",
                            "<tr><td>The 13½ Lives of Captain Bluebear (Zamonia, #1)</td><td>Walter Moers, John Brownjohn</td></tr>",
                            "<tr><td>Desert Flower</td><td>Waris Dirie, Cathleen Miller</td></tr>",
                            "<tr><td>Iron Man: Extremis</td><td>Warren Ellis, Adi Granov</td></tr>",
                            "<tr><td>Transmetropolitan, Vol. 2: Lust for Life (Transmetropolitan, #2)</td><td>Warren Ellis, Darick Robertson</td></tr>",
                            "<tr><td>Transmetropolitan, Vol. 3: Year of the Bastard (Transmetropolitan, #3)</td><td>Warren Ellis, Darick Robertson, Rodney Ramos</td></tr>",
                            "<tr><td>Transmetropolitan, Vol. 4: The New Scum (Transmetropolitan, #4)</td><td>Warren Ellis, Darick Robertson, Rodney Ramos, Keith Akin</td></tr>",
                            "<tr><td>Transmetropolitan, Vol. 5: Lonely City (Transmetropolitan, #5)</td><td>Warren Ellis, Darick Robertson, Rodney Ramos, Patrick Stewart</td></tr>",
                            "<tr><td>Transmetropolitan, Vol. 1: Back on the Street (Transmetropolitan, #1)</td><td>Warren Ellis, Darick Robertston, Garth Ennis</td></tr>",
                            "<tr><td>Planetary, Volume 1: All Over the World and Other Stories</td><td>Warren Ellis, John Cassaday</td></tr>",
                            "<tr><td>The Little Engine That Could</td><td>Watty Piper, Doris Hauman, George Hauman</td></tr>",
                            "<tr><td>The Other Wes Moore: One Name, Two Fates</td><td>Wes  Moore, Tavis Smiley</td></tr>",
                            "<tr><td>The Moonstone</td><td>Wilkie Collins, Carolyn G. Heilbrun</td></tr>",
                            "<tr><td>The Woman in White</td><td>Wilkie Collins, Matthew Sweet</td></tr>",
                            "<tr><td>What the Bleep Do We Know!?: Discovering the Endless Possibilities for Altering Your Everyday Reality</td><td>William Arntz, Betsy Chasse, Mark Vicente</td></tr>",
                            "<tr><td>The Complete Poetry and Prose</td><td>William Blake, David V. Erdman, Harold Bloom</td></tr>",
                            "<tr><td>Selected Poems</td><td>William Carlos Williams, Charles Tomlinson</td></tr>",
                            "<tr><td>The Difference Engine </td><td>William Gibson, Bruce Sterling</td></tr>",
                            "<tr><td>Burning Chrome (Sprawl, #0)</td><td>William Gibson, Bruce Sterling</td></tr>",
                            "<tr><td>Johnny Mnemonic</td><td>William Gibson, Terry Bisson</td></tr>",
                            "<tr><td>Sounder</td><td>William H. Armstrong, James Barkley</td></tr>",
                            "<tr><td>The Boy Who Harnessed the Wind: Creating Currents of Electricity and Hope</td><td>William Kamkwamba, Bryan Mealer</td></tr>",
                            "<tr><td>Vanity Fair</td><td>William Makepeace Thackeray, John Carey</td></tr>",
                            "<tr><td>The Bad Seed</td><td>William March, Elaine Showalter</td></tr>",
                            "<tr><td>Cradle to Cradle: Remaking the Way We Make Things</td><td>William McDonough, Michael Braungart</td></tr>",
                            "<tr><td>The Wind Singer (Wind on Fire, #1)</td><td>William Nicholson, Peter Sís</td></tr>",
                            "<tr><td>Naked Lunch</td><td>William S. Burroughs, James Grauerholz, Barry  Miles</td></tr>",
                            "<tr><td>Junky</td><td>William S. Burroughs, Oliver  Harris, Allen Ginsberg</td></tr>",
                            "<tr><td>Henry V</td><td>William Shakespeare, Barbara A. Mowat, Paul Werstine</td></tr>",
                            "<tr><td>Measure for Measure</td><td>William Shakespeare, Barbara A. Mowat, Paul Werstine</td></tr>",
                            "<tr><td>A Midsummer Night&#39;s Dream</td><td>William Shakespeare, Barbara A. Mowat, Paul Werstine, Catherine Belsey</td></tr>",
                            "<tr><td>Much Ado About Nothing</td><td>William Shakespeare, Barbara A. Mowat, Paul Werstine, Gail Kern Paster, Robert          Jackson</td></tr>",
                            "<tr><td>Antony and Cleopatra</td><td>William Shakespeare, Cynthia Marshall, Barbara A. Mowat, Paul Werstine</td></tr>",
                            "<tr><td>King Henry IV, Part 1 (Wars of the Roses, #2)</td><td>William Shakespeare, David Scott Kastan</td></tr>",
                            "<tr><td>Richard III</td><td>William Shakespeare, John Jowett</td></tr>",
                            "<tr><td>Shakespeare&#39;s Sonnets</td><td>William Shakespeare, Katherine Duncan-Jones</td></tr>",
                            "<tr><td>Hamlet</td><td>William Shakespeare, Richard Andrews, Rex Gibson</td></tr>",
                            "<tr><td>Romeo and Juliet</td><td>William Shakespeare, Robert           Jackson</td></tr>",
                            "<tr><td>The Merchant of Venice</td><td>William Shakespeare, Robert          Jackson, Barbara A. Mowat, Paul Werstine</td></tr>",
                            "<tr><td>Julius Caesar</td><td>William Shakespeare, Roma Gill</td></tr>",
                            "<tr><td>Richard II</td><td>William Shakespeare, Roma Gill, Robert          Jackson</td></tr>",
                            "<tr><td>Four Great Tragedies: Hamlet / Othello / King Lear / Macbeth</td><td>William Shakespeare, Sylvan Barnet, Alvin Kernan, Russell Fraser</td></tr>",
                            "<tr><td>The Elements of Style</td><td>William Strunk Jr., E.B. White</td></tr>",
                            "<tr><td>The Pianist: The Extraordinary Story of One Man&#39;s Survival in Warsaw, 1939–45</td><td>Władysław Szpilman, Anthea Bell</td></tr>",
                            "<tr><td>Black Butler, Vol. 1 (Black Butler, #1)</td><td>Yana Toboso, Tomo Kimura</td></tr>",
                            "<tr><td>Black Butler, Vol. 2 (Black Butler, #2)</td><td>Yana Toboso, Tomo Kimura</td></tr>",
                            "<tr><td>Snow Country</td><td>Yasunari Kawabata, Edward G. Seidensticker</td></tr>",
                            "<tr><td>We</td><td>Yevgeny Zamyatin, Clarence Brown</td></tr>",
                            "<tr><td>Boys Over Flowers: Hana Yori Dango, Vol. 1 (Boys Over Flowers, #1)</td><td>Yoko Kamio, 神尾葉子</td></tr>",
                            "<tr><td>The Housekeeper and the Professor</td><td>Yōko Ogawa, Stephen Snyder</td></tr>",
                            "<tr><td>Hunter x Hunter, Vol. 01 (Hunter x Hunter, #1)</td><td>Yoshihiro Togashi, 冨樫 義博</td></tr>",
                            "<tr><td>Skip Beat!, Vol. 01</td><td>Yoshiki Nakamura, Tomo Kimura</td></tr>",
                            "<tr><td>Twilight: The Graphic Novel, Vol. 1 (Twilight: The Graphic Novel, #1)</td><td>Young Kim, Stephenie Meyer</td></tr>",
                            "<tr><td>The Sailor Who Fell from Grace with the Sea</td><td>Yukio Mishima, John Nathan</td></tr>",
                            "<tr><td>Fushigi Yûgi: The Mysterious Play, Vol. 1: Priestess</td><td>Yuu Watase, Yuji Oniki</td></tr>",
                            "<tr><td>See You at the Top</td><td>Zig Ziglar, Al Mayton</td></tr>",
                            "<tr><td>Girl Online (Girl Online, #1)</td><td>Zoe Sugg, Siobhan Curham</td></tr>",
                            "<tr><td>com نسيان</td><td>أحلام مستغانمي, Ahlam Mosteghanemi</td></tr>",
                            "<tr><td>فوضى الحواس</td><td>أحلام مستغانمي, Ahlam Mosteghanemi</td></tr>",
                            "<tr><td>ذاكرة الجسد</td><td>أحلام مستغانمي, Ahlam Mosteghanemi</td></tr>",
                            "<tr><td>الأسود يليق بك</td><td>أحلام مستغانمي, Ahlam Mosteghanemi</td></tr>",
                            "<tr><td>عابر سرير</td><td>أحلام مستغانمي, Ahlam Mosteghanemi</td></tr>",
                            "<tr><td>تاكسي: حواديت المشاوير</td><td>خالد الخميسي, Khaled Al Khamissi</td></tr>",
                            "<tr><td>ساق البامبو</td><td>سعود السنعوسي, Saud Alsanousi</td></tr>",
                            "<tr><td>رباعيات صلاح جاهين</td><td>صلاح جاهين, يحيى حقي</td></tr>",
                            "<tr><td>قمر على سمرقند</td><td>محمد المنسي قنديل, Mohamed Mansi Qandil</td></tr>",
                            "<tr><td>محال</td><td>يوسف زيدان, Youssef Ziedan</td></tr>",
                            "<tr><td>النبطي</td><td>يوسف زيدان, Youssef Ziedan</td></tr>",
                            "</table>"
                        ]
                    }
                }
            ],
            "execution_count": 56
        },
        {
            "cell_type": "markdown",
            "source": [
                "## QUESTION 2: Ira\n",
                "\n",
                "Ira was asked by a customer for titles that have been tagged \"Meditation\".  As you create a query for Ira, think about how the tables in BooksDB are organized as you write your query."
            ],
            "metadata": {
                "azdata_cell_guid": "06f2a08a-a54e-484e-8053-c74594da9db2"
            },
            "attachments": {}
        },
        {
            "cell_type": "code",
            "source": [
                "-- Code here:\r\n",
                "\r\n",
                "SELECT t.tag_name, b.title, bt.tag_id, b.authors\r\n",
                "FROM BooksDB.dbo.books AS b \r\n",
                "JOIN BooksDB.dbo.book_tags AS bt ON b.best_book_id = bt.goodreads_book_id\r\n",
                "WHERE t.tag_name IN (\r\n",
                "    SELECT t.tag_name\r\n",
                "    FROM BooksDB.dbo.tags AS t\r\n",
                "    WHERE t.tag_name LIKE 'meditation'\r\n",
                ");\r\n",
                "\r\n",
                "\r\n",
                "SELECT t.tag_name, b.title, bt.tag_id, b.authors\r\n",
                "FROM BooksDB.dbo.books AS b \r\n",
                "WHERE t.tag_id =\r\n",
                "    (SELECT ListPrice\r\n",
                "     FROM BooksDB.dbo.tags as t\r\n",
                "     WHERE t.tag_id = bt.tag_id );"
            ],
            "metadata": {
                "azdata_cell_guid": "552924f9-a1cc-4979-8f53-15ba959550c2",
                "tags": [],
                "language": "sql"
            },
            "outputs": [
                {
                    "output_type": "error",
                    "evalue": "Msg 4104, Level 16, State 1, Line 6\r\nThe multi-part identifier \"t.tag_name\" could not be bound.",
                    "ename": "",
                    "traceback": []
                },
                {
                    "output_type": "error",
                    "evalue": "Msg 4104, Level 16, State 1, Line 3\r\nThe multi-part identifier \"t.tag_name\" could not be bound.",
                    "ename": "",
                    "traceback": []
                },
                {
                    "output_type": "error",
                    "evalue": "Msg 4104, Level 16, State 1, Line 15\r\nThe multi-part identifier \"t.tag_id\" could not be bound.",
                    "ename": "",
                    "traceback": []
                },
                {
                    "output_type": "error",
                    "evalue": "Msg 4104, Level 16, State 1, Line 18\r\nThe multi-part identifier \"bt.tag_id\" could not be bound.",
                    "ename": "",
                    "traceback": []
                },
                {
                    "output_type": "error",
                    "evalue": "Msg 207, Level 16, State 1, Line 16\r\nInvalid column name 'ListPrice'.",
                    "ename": "",
                    "traceback": []
                },
                {
                    "output_type": "error",
                    "evalue": "Msg 4104, Level 16, State 1, Line 13\r\nThe multi-part identifier \"t.tag_name\" could not be bound.",
                    "ename": "",
                    "traceback": []
                },
                {
                    "output_type": "error",
                    "evalue": "Msg 4104, Level 16, State 1, Line 13\r\nThe multi-part identifier \"bt.tag_id\" could not be bound.",
                    "ename": "",
                    "traceback": []
                },
                {
                    "output_type": "display_data",
                    "data": {
                        "text/html": "Total execution time: 00:00:00.057"
                    },
                    "metadata": {}
                }
            ],
            "execution_count": 63
        },
        {
            "cell_type": "markdown",
            "source": [
                "## QUESTION 3:  Alyce\n",
                "\n",
                "Alyce wants to create a display of books with an average rating of 4.2 or higher, but she only wants books that share both title and original title.  Write a query that displays both the original title and title for Alyce, in descending order by rating.  Make sure that none of the original titles contain NULL values either."
            ],
            "metadata": {
                "azdata_cell_guid": "1d758d74-b4f0-4836-bdfe-d7280b5b4592"
            },
            "attachments": {}
        },
        {
            "cell_type": "code",
            "source": [
                "-- Code here:"
            ],
            "metadata": {
                "azdata_cell_guid": "2c693b4e-6987-4c49-ba55-61094e677608",
                "tags": [],
                "language": "sql"
            },
            "outputs": [
                {
                    "output_type": "display_data",
                    "data": {
                        "text/html": "Commands completed successfully."
                    },
                    "metadata": {}
                },
                {
                    "output_type": "display_data",
                    "data": {
                        "text/html": "Total execution time: 00:00:00.048"
                    },
                    "metadata": {}
                }
            ],
            "execution_count": 3
        },
        {
            "cell_type": "markdown",
            "source": [
                "## QUESTION 4:  Thisbe\n",
                "\n",
                "Thisbe is planning to make a long-term display of popular books that she will update monthly, reflecting different time periods.  She wants to make it reader-centric by including titles that readers have averagely rated higher than the book's actual average rating. \n",
                "\n",
                "**Part A:**   Write a query that compares the publication time with average reader ratings.\n",
                "\n",
                "**Part B:**  She wants the list ordered by year, then the book title"
            ],
            "metadata": {
                "azdata_cell_guid": "c3cb4fa8-802c-4130-8740-2adf20ec6a15"
            },
            "attachments": {}
        },
        {
            "cell_type": "code",
            "source": [
                "-- Code here:"
            ],
            "metadata": {
                "azdata_cell_guid": "164e0a22-349f-45ed-afe8-0753d5a8c6fc",
                "tags": [],
                "language": "sql"
            },
            "outputs": [
                {
                    "output_type": "display_data",
                    "data": {
                        "text/html": "Commands completed successfully."
                    },
                    "metadata": {}
                },
                {
                    "output_type": "display_data",
                    "data": {
                        "text/html": "Total execution time: 00:00:00.051"
                    },
                    "metadata": {}
                }
            ],
            "execution_count": 4
        }
    ]
}